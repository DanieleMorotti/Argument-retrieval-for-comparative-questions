{
 "cells": [
  {
   "cell_type": "code",
   "execution_count": 15,
   "metadata": {},
   "outputs": [
    {
     "name": "stdout",
     "output_type": "stream",
     "text": [
      "The autoreload extension is already loaded. To reload it, use:\n",
      "  %reload_ext autoreload\n"
     ]
    }
   ],
   "source": [
    "%load_ext autoreload\n",
    "%autoreload 2"
   ]
  },
  {
   "cell_type": "code",
   "execution_count": 39,
   "metadata": {},
   "outputs": [],
   "source": [
    "import xml.etree.ElementTree as ET\n",
    "\n",
    "import utils.manage_files"
   ]
  },
  {
   "cell_type": "code",
   "execution_count": 40,
   "metadata": {},
   "outputs": [
    {
     "name": "stderr",
     "output_type": "stream",
     "text": [
      "Downloading file: 100%|██████████| 17.3k/17.3k [00:00<00:00, 4.49MB/s]"
     ]
    },
    {
     "name": "stdout",
     "output_type": "stream",
     "text": [
      "'/home/valendrew/git/master-nlp-project/downloads/zips/topics-task-2.zip' unzipped in '/home/valendrew/git/master-nlp-project/downloads/topics-task-2'\n"
     ]
    },
    {
     "name": "stderr",
     "output_type": "stream",
     "text": [
      "\n"
     ]
    }
   ],
   "source": [
    "url = \"https://zenodo.org/record/6873559/files/topics-task-2.zip?download=1\"\n",
    "zip_name = \"topics-task-2.zip\"\n",
    "file_name = \"topics-task-2\"\n",
    "\n",
    "download_file = utils.manage_files.DownloadFile(file_name, zip_name, url)\n",
    "download_file()"
   ]
  },
  {
   "cell_type": "code",
   "execution_count": 41,
   "metadata": {},
   "outputs": [],
   "source": [
    "mytree = ET.parse(f\"{download_file.file_name}/topics-task-2.xml\")\n",
    "myroot = mytree.getroot()"
   ]
  },
  {
   "cell_type": "code",
   "execution_count": 43,
   "metadata": {},
   "outputs": [
    {
     "name": "stdout",
     "output_type": "stream",
     "text": [
      "50\n",
      "\n",
      "What is the difference between sex and love?\n",
      "\n"
     ]
    }
   ],
   "source": [
    "# The example below shows how to access the topic title\n",
    "# In the similar way, descriptions and narratives can also be accessed\n",
    "\n",
    "titles = list()\n",
    "for item in myroot:\n",
    "    for x in item:        \n",
    "        if x.tag == \"title\": # Specify the field, e.g., title\n",
    "            titles.append(x.text)\n",
    "\n",
    "print(len(titles))\n",
    "print(titles[0])"
   ]
  }
 ],
 "metadata": {
  "kernelspec": {
   "display_name": "pysci",
   "language": "python",
   "name": "python3"
  },
  "language_info": {
   "codemirror_mode": {
    "name": "ipython",
    "version": 3
   },
   "file_extension": ".py",
   "mimetype": "text/x-python",
   "name": "python",
   "nbconvert_exporter": "python",
   "pygments_lexer": "ipython3",
   "version": "3.10.6 (main, Oct  7 2022, 20:19:58) [GCC 11.2.0]"
  },
  "orig_nbformat": 4,
  "vscode": {
   "interpreter": {
    "hash": "bd4d4dc071430cb7377eda019ca70777a2da1723ff9a3eacefae41ce5c18d4b7"
   }
  }
 },
 "nbformat": 4,
 "nbformat_minor": 2
}
