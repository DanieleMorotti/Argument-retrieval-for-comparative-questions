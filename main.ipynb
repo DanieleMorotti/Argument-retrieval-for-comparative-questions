{
  "cells": [
    {
      "cell_type": "markdown",
      "metadata": {
        "cell_id": "2bcd3306ccfa4c0cb6b01aeda7e3b5a6",
        "deepnote_cell_type": "markdown",
        "tags": [],
        "id": "aLyJm-VD_bik"
      },
      "source": [
        "# Argument retrieval for comparative questions"
      ]
    },
    {
      "cell_type": "markdown",
      "metadata": {
        "cell_id": "cb6b1be6551347d2a2a308c16fafceb0",
        "deepnote_cell_type": "markdown",
        "tags": [],
        "id": "Ugvwow3W_bim"
      },
      "source": [
        "The task has been selected among the ones proposed by Touché at CLEF 2022 and you can find a detailed explanation in the [relative website](https://touche.webis.de/clef22/touche22-web/argument-retrieval-for-comparative-questions.html).   \n",
        "To recap, given a comparative question and a collection of documents we need to retrieve the most relevant text passages for either compared object or for both and to detect their respective stances with respect to the object they talk about. In the first part of the notebook we will explain in detail how we structured the document retrieval part and at the end we will also test the stance detection task (the training and full explanation of which model we used for stance detection can be found in the other notebook 'stance_detection.ipynb' ).\n",
        "\n",
        "In the notebook you will have to use the indexes or some different datasets, in order to speed up the download or the processes that are computationally heavy we created a shared folder on Drive where you can find the files needed to test our proposed system.      \n",
        "Link to Drive shared folder: TODO: add link.\n",
        "\n",
        "To be able to mount the shared files you first need to \"Add shortcut to your Drive\" when accessing the specified link."
      ]
    },
    {
      "cell_type": "code",
      "execution_count": null,
      "metadata": {
        "cell_id": "c011ae992ca84d848aeb7f7bc04ff958",
        "deepnote_cell_type": "code",
        "tags": [],
        "id": "5q-ljLAM_bin",
        "colab": {
          "base_uri": "https://localhost:8080/"
        },
        "outputId": "a8d9cfe9-a8b5-43a8-f22f-e5e4b47906b4"
      },
      "outputs": [
        {
          "output_type": "stream",
          "name": "stdout",
          "text": [
            "Mounted at /content/drive\n"
          ]
        }
      ],
      "source": [
        "from google.colab import drive\n",
        "drive.mount('/content/drive')"
      ]
    },
    {
      "cell_type": "markdown",
      "metadata": {
        "cell_id": "0e7056cd729845fb9c695e7b7ed9195c",
        "deepnote_cell_type": "markdown",
        "tags": [],
        "id": "tPZ2-aSB_bio"
      },
      "source": [
        "## Installation and import of dependencies\n",
        "\n",
        "Some functions written in external Python scripts are essentials to procede with the execution of the network (e.g. creating the retrieval pipeline or download datasets). Mandatory folders, which contains python scripts, are *src* and *utils*. In addition, a *requirements.txt* is provided to install dependencies.\n",
        "\n",
        "The aforementioned folders and files are expected in the current working directory, i.e. in Colab it is the */content/* directory."
      ]
    },
    {
      "cell_type": "code",
      "source": [
        "!git clone --recursive https://github.com/castorini/pygaggle.git"
      ],
      "metadata": {
        "colab": {
          "base_uri": "https://localhost:8080/"
        },
        "id": "O4kC0OS48b2H",
        "outputId": "2952a1e8-8c12-4bf2-9be1-8dd2508a58ed"
      },
      "execution_count": null,
      "outputs": [
        {
          "output_type": "stream",
          "name": "stdout",
          "text": [
            "Cloning into 'pygaggle'...\n",
            "remote: Enumerating objects: 1539, done.\u001b[K\n",
            "remote: Counting objects: 100% (609/609), done.\u001b[K\n",
            "remote: Compressing objects: 100% (207/207), done.\u001b[K\n",
            "remote: Total 1539 (delta 514), reused 430 (delta 402), pack-reused 930\u001b[K\n",
            "Receiving objects: 100% (1539/1539), 505.03 KiB | 3.32 MiB/s, done.\n",
            "Resolving deltas: 100% (988/988), done.\n",
            "Submodule 'tools' (https://github.com/castorini/anserini-tools.git) registered for path 'tools'\n",
            "Cloning into '/content/pygaggle/tools'...\n",
            "remote: Enumerating objects: 718, done.        \n",
            "remote: Counting objects: 100% (475/475), done.        \n",
            "remote: Compressing objects: 100% (411/411), done.        \n",
            "remote: Total 718 (delta 73), reused 456 (delta 63), pack-reused 243        \n",
            "Receiving objects: 100% (718/718), 57.78 MiB | 21.22 MiB/s, done.\n",
            "Resolving deltas: 100% (157/157), done.\n",
            "Submodule path 'tools': checked out '808f48711b5e172da6aec8b1855518c8ea65489f'\n"
          ]
        }
      ]
    },
    {
      "cell_type": "code",
      "execution_count": null,
      "metadata": {
        "cell_id": "fc02c5bde5314278947bee75f7b60814",
        "deepnote_cell_type": "code",
        "tags": [],
        "id": "WsAuTL7W_bip",
        "colab": {
          "base_uri": "https://localhost:8080/"
        },
        "outputId": "4cd3415f-7b80-469a-e16a-1ddf61bdf789"
      },
      "outputs": [
        {
          "output_type": "stream",
          "name": "stdout",
          "text": [
            "\u001b[2K     \u001b[90m━━━━━━━━━━━━━━━━━━━━━━━━━━━━━━━━━━━━━━━\u001b[0m \u001b[32m130.7/130.7 MB\u001b[0m \u001b[31m6.6 MB/s\u001b[0m eta \u001b[36m0:00:00\u001b[0m\n",
            "\u001b[2K     \u001b[90m━━━━━━━━━━━━━━━━━━━━━━━━━━━━━━━━━━━━━━━━\u001b[0m \u001b[32m8.6/8.6 MB\u001b[0m \u001b[31m91.4 MB/s\u001b[0m eta \u001b[36m0:00:00\u001b[0m\n",
            "\u001b[2K     \u001b[90m━━━━━━━━━━━━━━━━━━━━━━━━━━━━━━━━━━━━━━━━\u001b[0m \u001b[32m70.0/70.0 KB\u001b[0m \u001b[31m7.8 MB/s\u001b[0m eta \u001b[36m0:00:00\u001b[0m\n",
            "\u001b[2K     \u001b[90m━━━━━━━━━━━━━━━━━━━━━━━━━━━━━━━━━━━━━━━━\u001b[0m \u001b[32m5.8/5.8 MB\u001b[0m \u001b[31m78.7 MB/s\u001b[0m eta \u001b[36m0:00:00\u001b[0m\n",
            "\u001b[2K     \u001b[90m━━━━━━━━━━━━━━━━━━━━━━━━━━━━━━━━━━━━━━━━\u001b[0m \u001b[32m13.4/13.4 MB\u001b[0m \u001b[31m67.2 MB/s\u001b[0m eta \u001b[36m0:00:00\u001b[0m\n",
            "\u001b[2K     \u001b[90m━━━━━━━━━━━━━━━━━━━━━━━━━━━━━━━━━━━━━━━━\u001b[0m \u001b[32m1.5/1.5 MB\u001b[0m \u001b[31m63.4 MB/s\u001b[0m eta \u001b[36m0:00:00\u001b[0m\n",
            "\u001b[2K     \u001b[90m━━━━━━━━━━━━━━━━━━━━━━━━━━━━━━━━━━━━━━━━\u001b[0m \u001b[32m2.0/2.0 MB\u001b[0m \u001b[31m65.6 MB/s\u001b[0m eta \u001b[36m0:00:00\u001b[0m\n",
            "\u001b[2K     \u001b[90m━━━━━━━━━━━━━━━━━━━━━━━━━━━━━━━━━━━━━━━━\u001b[0m \u001b[32m4.5/4.5 MB\u001b[0m \u001b[31m71.1 MB/s\u001b[0m eta \u001b[36m0:00:00\u001b[0m\n",
            "\u001b[2K     \u001b[90m━━━━━━━━━━━━━━━━━━━━━━━━━━━━━━━━━━━━━━━━\u001b[0m \u001b[32m1.3/1.3 MB\u001b[0m \u001b[31m60.8 MB/s\u001b[0m eta \u001b[36m0:00:00\u001b[0m\n",
            "\u001b[2K     \u001b[90m━━━━━━━━━━━━━━━━━━━━━━━━━━━━━━━━━━━━━━━━\u001b[0m \u001b[32m26.7/26.7 MB\u001b[0m \u001b[31m51.4 MB/s\u001b[0m eta \u001b[36m0:00:00\u001b[0m\n",
            "\u001b[2K     \u001b[90m━━━━━━━━━━━━━━━━━━━━━━━━━━━━━━━━━━━━━━━━\u001b[0m \u001b[32m87.7/87.7 KB\u001b[0m \u001b[31m9.7 MB/s\u001b[0m eta \u001b[36m0:00:00\u001b[0m\n",
            "\u001b[?25h  Preparing metadata (setup.py) ... \u001b[?25l\u001b[?25hdone\n",
            "\u001b[2K     \u001b[90m━━━━━━━━━━━━━━━━━━━━━━━━━━━━━━━━━━━━━━\u001b[0m \u001b[32m182.4/182.4 KB\u001b[0m \u001b[31m18.6 MB/s\u001b[0m eta \u001b[36m0:00:00\u001b[0m\n",
            "\u001b[2K     \u001b[90m━━━━━━━━━━━━━━━━━━━━━━━━━━━━━━━━━━━━━━━━\u001b[0m \u001b[32m7.6/7.6 MB\u001b[0m \u001b[31m18.7 MB/s\u001b[0m eta \u001b[36m0:00:00\u001b[0m\n",
            "\u001b[2K     \u001b[90m━━━━━━━━━━━━━━━━━━━━━━━━━━━━━━━━━━━━━━\u001b[0m \u001b[32m188.5/188.5 KB\u001b[0m \u001b[31m20.1 MB/s\u001b[0m eta \u001b[36m0:00:00\u001b[0m\n",
            "\u001b[2K     \u001b[90m━━━━━━━━━━━━━━━━━━━━━━━━━━━━━━━━━━━━━━━━\u001b[0m \u001b[32m46.0/46.0 KB\u001b[0m \u001b[31m4.1 MB/s\u001b[0m eta \u001b[36m0:00:00\u001b[0m\n",
            "\u001b[2K     \u001b[90m━━━━━━━━━━━━━━━━━━━━━━━━━━━━━━━━━━━━━━\u001b[0m \u001b[32m110.1/110.1 KB\u001b[0m \u001b[31m12.2 MB/s\u001b[0m eta \u001b[36m0:00:00\u001b[0m\n",
            "\u001b[2K     \u001b[90m━━━━━━━━━━━━━━━━━━━━━━━━━━━━━━━━━━━━━━\u001b[0m \u001b[32m287.5/287.5 KB\u001b[0m \u001b[31m23.0 MB/s\u001b[0m eta \u001b[36m0:00:00\u001b[0m\n",
            "\u001b[2K     \u001b[90m━━━━━━━━━━━━━━━━━━━━━━━━━━━━━━━━━━━━━━━━\u001b[0m \u001b[32m86.8/86.8 KB\u001b[0m \u001b[31m8.6 MB/s\u001b[0m eta \u001b[36m0:00:00\u001b[0m\n",
            "\u001b[?25h  Building wheel for fire (setup.py) ... \u001b[?25l\u001b[?25hdone\n"
          ]
        }
      ],
      "source": [
        "!pip install -q -r requirements.txt"
      ]
    },
    {
      "cell_type": "code",
      "source": [
        "!pip -q install pygaggle/"
      ],
      "metadata": {
        "colab": {
          "base_uri": "https://localhost:8080/"
        },
        "id": "vpDWLC_Q8gEK",
        "outputId": "ffef06a7-87c5-41ca-acdb-ddaf740bce29"
      },
      "execution_count": null,
      "outputs": [
        {
          "output_type": "stream",
          "name": "stdout",
          "text": [
            "  Preparing metadata (setup.py) ... \u001b[?25l\u001b[?25hdone\n",
            "\u001b[2K     \u001b[90m━━━━━━━━━━━━━━━━━━━━━━━━━━━━━━━━━━━━━━━━\u001b[0m \u001b[32m43.9/43.9 KB\u001b[0m \u001b[31m2.3 MB/s\u001b[0m eta \u001b[36m0:00:00\u001b[0m\n",
            "\u001b[2K     \u001b[90m━━━━━━━━━━━━━━━━━━━━━━━━━━━━━━━━━━━━━━━━\u001b[0m \u001b[32m12.3/12.3 MB\u001b[0m \u001b[31m39.8 MB/s\u001b[0m eta \u001b[36m0:00:00\u001b[0m\n",
            "\u001b[2K     \u001b[90m━━━━━━━━━━━━━━━━━━━━━━━━━━━━━━━━━━━━━━━━\u001b[0m \u001b[32m24.9/24.9 MB\u001b[0m \u001b[31m45.0 MB/s\u001b[0m eta \u001b[36m0:00:00\u001b[0m\n",
            "\u001b[2K     \u001b[90m━━━━━━━━━━━━━━━━━━━━━━━━━━━━━━━━━━━━━━━━\u001b[0m \u001b[32m25.8/25.8 MB\u001b[0m \u001b[31m49.4 MB/s\u001b[0m eta \u001b[36m0:00:00\u001b[0m\n",
            "\u001b[2K     \u001b[90m━━━━━━━━━━━━━━━━━━━━━━━━━━━━━━━━━━━━━━━━\u001b[0m \u001b[32m6.0/6.0 MB\u001b[0m \u001b[31m76.6 MB/s\u001b[0m eta \u001b[36m0:00:00\u001b[0m\n",
            "\u001b[2K     \u001b[90m━━━━━━━━━━━━━━━━━━━━━━━━━━━━━━━━━━━━━━━\u001b[0m \u001b[32m454.4/454.4 MB\u001b[0m \u001b[31m2.8 MB/s\u001b[0m eta \u001b[36m0:00:00\u001b[0m\n",
            "\u001b[2K     \u001b[90m━━━━━━━━━━━━━━━━━━━━━━━━━━━━━━━━━━━━━━━━\u001b[0m \u001b[32m3.3/3.3 MB\u001b[0m \u001b[31m26.1 MB/s\u001b[0m eta \u001b[36m0:00:00\u001b[0m\n",
            "\u001b[2K     \u001b[90m━━━━━━━━━━━━━━━━━━━━━━━━━━━━━━━━━━━━━━━━\u001b[0m \u001b[32m72.5/72.5 KB\u001b[0m \u001b[31m7.3 MB/s\u001b[0m eta \u001b[36m0:00:00\u001b[0m\n",
            "\u001b[2K     \u001b[90m━━━━━━━━━━━━━━━━━━━━━━━━━━━━━━━━━━━━━━━━\u001b[0m \u001b[32m2.2/2.2 MB\u001b[0m \u001b[31m17.7 MB/s\u001b[0m eta \u001b[36m0:00:00\u001b[0m\n",
            "\u001b[2K     \u001b[90m━━━━━━━━━━━━━━━━━━━━━━━━━━━━━━━━━━━━━━━━\u001b[0m \u001b[32m1.2/1.2 MB\u001b[0m \u001b[31m36.5 MB/s\u001b[0m eta \u001b[36m0:00:00\u001b[0m\n",
            "\u001b[2K     \u001b[90m━━━━━━━━━━━━━━━━━━━━━━━━━━━━━━━━━━━━━━━━\u001b[0m \u001b[32m85.5/85.5 KB\u001b[0m \u001b[31m7.5 MB/s\u001b[0m eta \u001b[36m0:00:00\u001b[0m\n",
            "\u001b[?25h  Preparing metadata (setup.py) ... \u001b[?25l\u001b[?25hdone\n",
            "\u001b[2K     \u001b[90m━━━━━━━━━━━━━━━━━━━━━━━━━━━━━━━━━━━━━━\u001b[0m \u001b[32m152.9/152.9 KB\u001b[0m \u001b[31m14.3 MB/s\u001b[0m eta \u001b[36m0:00:00\u001b[0m\n",
            "\u001b[2K     \u001b[90m━━━━━━━━━━━━━━━━━━━━━━━━━━━━━━━━━━━━━━\u001b[0m \u001b[32m132.0/132.0 KB\u001b[0m \u001b[31m12.1 MB/s\u001b[0m eta \u001b[36m0:00:00\u001b[0m\n",
            "\u001b[2K     \u001b[90m━━━━━━━━━━━━━━━━━━━━━━━━━━━━━━━━━━━━━━━━\u001b[0m \u001b[32m14.9/14.9 MB\u001b[0m \u001b[31m68.7 MB/s\u001b[0m eta \u001b[36m0:00:00\u001b[0m\n",
            "\u001b[2K     \u001b[90m━━━━━━━━━━━━━━━━━━━━━━━━━━━━━━━━━━━━━━━━\u001b[0m \u001b[32m1.2/1.2 MB\u001b[0m \u001b[31m43.9 MB/s\u001b[0m eta \u001b[36m0:00:00\u001b[0m\n",
            "\u001b[?25h  Preparing metadata (setup.py) ... \u001b[?25l\u001b[?25hdone\n",
            "\u001b[2K     \u001b[90m━━━━━━━━━━━━━━━━━━━━━━━━━━━━━━━━━━━━━━\u001b[0m \u001b[32m462.4/462.4 KB\u001b[0m \u001b[31m21.3 MB/s\u001b[0m eta \u001b[36m0:00:00\u001b[0m\n",
            "\u001b[?25h  Preparing metadata (setup.py) ... \u001b[?25l\u001b[?25hdone\n",
            "\u001b[2K     \u001b[90m━━━━━━━━━━━━━━━━━━━━━━━━━━━━━━━━━━━━━━━━\u001b[0m \u001b[32m4.0/4.0 MB\u001b[0m \u001b[31m44.3 MB/s\u001b[0m eta \u001b[36m0:00:00\u001b[0m\n",
            "\u001b[2K     \u001b[90m━━━━━━━━━━━━━━━━━━━━━━━━━━━━━━━━━━━━━━\u001b[0m \u001b[32m880.6/880.6 KB\u001b[0m \u001b[31m23.3 MB/s\u001b[0m eta \u001b[36m0:00:00\u001b[0m\n",
            "\u001b[?25h  Preparing metadata (setup.py) ... \u001b[?25l\u001b[?25hdone\n",
            "\u001b[2K     \u001b[90m━━━━━━━━━━━━━━━━━━━━━━━━━━━━━━━━━━━━━━━━\u001b[0m \u001b[32m4.9/4.9 MB\u001b[0m \u001b[31m52.6 MB/s\u001b[0m eta \u001b[36m0:00:00\u001b[0m\n",
            "\u001b[2K     \u001b[90m━━━━━━━━━━━━━━━━━━━━━━━━━━━━━━━━━━━━━━━━\u001b[0m \u001b[32m4.9/4.9 MB\u001b[0m \u001b[31m13.3 MB/s\u001b[0m eta \u001b[36m0:00:00\u001b[0m\n",
            "\u001b[2K     \u001b[90m━━━━━━━━━━━━━━━━━━━━━━━━━━━━━━━━━━━━━━━━\u001b[0m \u001b[32m5.2/5.2 MB\u001b[0m \u001b[31m75.1 MB/s\u001b[0m eta \u001b[36m0:00:00\u001b[0m\n",
            "\u001b[2K     \u001b[90m━━━━━━━━━━━━━━━━━━━━━━━━━━━━━━━━━━━━━━━━\u001b[0m \u001b[32m5.2/5.2 MB\u001b[0m \u001b[31m65.1 MB/s\u001b[0m eta \u001b[36m0:00:00\u001b[0m\n",
            "\u001b[2K     \u001b[90m━━━━━━━━━━━━━━━━━━━━━━━━━━━━━━━━━━━━━━━━\u001b[0m \u001b[32m4.9/4.9 MB\u001b[0m \u001b[31m20.7 MB/s\u001b[0m eta \u001b[36m0:00:00\u001b[0m\n",
            "\u001b[?25h  Building wheel for pygaggle (setup.py) ... \u001b[?25l\u001b[?25hdone\n",
            "  Building wheel for sentence_transformers (setup.py) ... \u001b[?25l\u001b[?25hdone\n",
            "  Building wheel for termcolor (setup.py) ... \u001b[?25l\u001b[?25hdone\n",
            "  Building wheel for wrapt (setup.py) ... \u001b[?25l\u001b[?25hdone\n",
            "  Building wheel for sacremoses (setup.py) ... \u001b[?25l\u001b[?25hdone\n",
            "\u001b[31mERROR: pip's dependency resolver does not currently take into account all the packages that are installed. This behaviour is the source of the following dependency conflicts.\n",
            "yellowbrick 1.5 requires scikit-learn>=1.0.0, but you have scikit-learn 0.24.2 which is incompatible.\n",
            "xarray 2022.12.0 requires numpy>=1.20, but you have numpy 1.19.5 which is incompatible.\n",
            "xarray-einstats 0.4.0 requires numpy>=1.20, but you have numpy 1.19.5 which is incompatible.\n",
            "xarray-einstats 0.4.0 requires scipy>=1.6, but you have scipy 1.5.4 which is incompatible.\n",
            "jaxlib 0.3.25+cuda11.cudnn805 requires numpy>=1.20, but you have numpy 1.19.5 which is incompatible.\n",
            "jax 0.3.25 requires numpy>=1.20, but you have numpy 1.19.5 which is incompatible.\n",
            "grpcio-status 1.48.2 requires grpcio>=1.48.2, but you have grpcio 1.34.1 which is incompatible.\n",
            "google-cloud-bigquery 3.4.1 requires grpcio<2.0dev,>=1.47.0, but you have grpcio 1.34.1 which is incompatible.\n",
            "google-api-core 2.11.0 requires google-auth<3.0dev,>=2.14.1, but you have google-auth 1.35.0 which is incompatible.\n",
            "embedding-reader 1.5.0 requires tqdm<5,>=4.62.3, but you have tqdm 4.56.0 which is incompatible.\n",
            "cmdstanpy 1.0.8 requires numpy>=1.21, but you have numpy 1.19.5 which is incompatible.\n",
            "autofaiss 2.15.5 requires tqdm<5,>=4.62.3, but you have tqdm 4.56.0 which is incompatible.\u001b[0m\u001b[31m\n",
            "\u001b[0m"
          ]
        }
      ]
    },
    {
      "cell_type": "code",
      "execution_count": null,
      "metadata": {
        "cell_id": "b3c2091753704572815c96a6b40c956e",
        "deepnote_cell_type": "code",
        "tags": [],
        "id": "9SJcP-Ec_bip"
      },
      "outputs": [],
      "source": [
        "# python modules\n",
        "import itertools\n",
        "import os\n",
        "import os.path\n",
        "\n",
        "# 3rd-party modules\n",
        "import numpy as np\n",
        "import matplotlib.pyplot as plt\n",
        "import pandas as pd\n",
        "from tqdm import tqdm\n",
        "\n",
        "# user modules\n",
        "import utils.manage_files"
      ]
    },
    {
      "cell_type": "markdown",
      "source": [
        "## Confirm the remote directory\n",
        "\n",
        "The remote directory (e.g. in Google Drive) contains computed indexes and downloaded files, in order to save time if some tests and computations are needed. For this reason, the correct path is asked to the user in order to retrieve files from the correct directory."
      ],
      "metadata": {
        "id": "Ut9Udvm3CIPc"
      }
    },
    {
      "cell_type": "code",
      "source": [
        "# default path for the remote directory\n",
        "default_remote_path = \"/content/drive/MyDrive/tmp/NLP_project/\"\n",
        "while True:\n",
        "    \"\"\" ask the user if the default path is correct, if so the loop is exited,\n",
        "    otherwise a new path is asked, which is then checked if exists \"\"\"\n",
        "\n",
        "    res = input(f\"Are you sure {default_remote_path} is the right path? y/n \")\n",
        "    if res == \"y\":\n",
        "        remote_path = default_remote_path\n",
        "    else:\n",
        "        remote_path = input(\"Print new path: \")\n",
        "        # check the path if exists\n",
        "    if os.path.isdir(remote_path):\n",
        "        break\n",
        "    else:\n",
        "        print(\"Invalid path\")\n",
        "print(f\"The path of the root folder is {remote_path}\")"
      ],
      "metadata": {
        "colab": {
          "base_uri": "https://localhost:8080/"
        },
        "id": "_XDhEw47C1YK",
        "outputId": "f2290463-69a1-4b21-aaa4-575b3e58d182"
      },
      "execution_count": null,
      "outputs": [
        {
          "output_type": "stream",
          "name": "stdout",
          "text": [
            "Are you sure /content/drive/MyDrive/tmp/NLP_project/ is the right path? y/n y\n",
            "The path of the root folder is /content/drive/MyDrive/tmp/NLP_project/\n"
          ]
        }
      ]
    },
    {
      "cell_type": "markdown",
      "metadata": {
        "cell_id": "d9d5314403d3452f9e1d4f87d00914d4",
        "deepnote_cell_type": "markdown",
        "tags": [],
        "id": "44JGkJAq_biq"
      },
      "source": [
        "## Download datasets"
      ]
    },
    {
      "cell_type": "markdown",
      "metadata": {
        "cell_id": "06afb5d47fb9421995a85469c57f1a8a",
        "deepnote_cell_type": "markdown",
        "tags": [],
        "id": "Y0S9-C5S_biq"
      },
      "source": [
        "In order to simplify importing the different necessary files, we decided to create a .tar.gz that contains all of them.   \n",
        "Otherwise the files will be downloaded from the links that were given by the Touché team."
      ]
    },
    {
      "cell_type": "code",
      "source": [
        "datasets_filename = \"downloads.tar.gz\"\n",
        "datasets_path = os.path.join(remote_path, datasets_filename)"
      ],
      "metadata": {
        "id": "5gFcJlqbE4VG"
      },
      "execution_count": null,
      "outputs": []
    },
    {
      "cell_type": "code",
      "execution_count": null,
      "metadata": {
        "cell_id": "f17bfc28ee03473b8521591ccbd52555",
        "deepnote_cell_type": "code",
        "tags": [],
        "id": "93Sl50id_biq",
        "colab": {
          "base_uri": "https://localhost:8080/"
        },
        "outputId": "e9a2d3fe-f854-41c0-cfcb-cdbae18fb469"
      },
      "outputs": [
        {
          "output_type": "stream",
          "name": "stdout",
          "text": [
            "downloads/\n",
            "downloads/topics-task-2/\n",
            "downloads/topics-task-2/topics-task-2.xml\n",
            "downloads/touche-task2-2022-quality.qrels\n",
            "downloads/touche-task2-passages-version-002.jsonl\n",
            "downloads/touche-task2-passages-version-002-expanded-with-doc-t5-query.jsonl\n",
            "downloads/topics-task-2-2021/\n",
            "downloads/topics-task-2-2021/topics-task2-51-100.xml\n",
            "downloads/touche-task2-2022-stance.qrels\n",
            "downloads/touche-task2-2022-relevance.qrels\n"
          ]
        }
      ],
      "source": [
        "# Run the following cell if you want to import the files from Drive\n",
        "!cp $datasets_path .\n",
        "!tar -xzvf $datasets_filename\n",
        "!rm $datasets_filename"
      ]
    },
    {
      "cell_type": "markdown",
      "metadata": {
        "cell_id": "2ee3ee11650a439390234bd585031b50",
        "deepnote_cell_type": "markdown",
        "tags": [],
        "id": "xmDkRI3l_bir"
      },
      "source": [
        "### ClueWeb12 corpus"
      ]
    },
    {
      "cell_type": "markdown",
      "metadata": {
        "cell_id": "c222aa1da29047f189ae9d45ab569333",
        "deepnote_cell_type": "markdown",
        "tags": [],
        "id": "cLI1etrV_bir"
      },
      "source": [
        "The available documents for the document retrieval task have been selected among the ClueWeb12 dataset. \n",
        "\n",
        "For all tested retrieval methods, the training corpus is the same and it is downloaded from the task website. However, there are two different types of corpus: one with only passage texts, while the other one has passage texts expanded with generated queries.\n",
        "\n",
        "We work with both datasets for two reasons:\n",
        "- Explore how they can be used in distinct types of indexes\n",
        "- The difference in the performance noted in the same index.\n",
        "\n",
        "We load both datasets using a function that you can find in the '*utils*' directory, if the file is not already present then data are downloaded from the provided URLs. Then, the data in the *JSONL* format are loaded in Pandas DataFrames."
      ]
    },
    {
      "cell_type": "markdown",
      "source": [
        "Download and load in a DataFrame the corpus with only passage texts"
      ],
      "metadata": {
        "id": "rqMbvuJkIeRY"
      }
    },
    {
      "cell_type": "code",
      "execution_count": null,
      "metadata": {
        "cell_id": "ac7f6ca3fb224e9c89677f377cc4641f",
        "deepnote_cell_type": "code",
        "tags": [],
        "id": "a1UTvE23_bir",
        "colab": {
          "base_uri": "https://localhost:8080/"
        },
        "outputId": "a35abf67-19c3-4dcf-ce51-64f762ebf516"
      },
      "outputs": [
        {
          "output_type": "stream",
          "name": "stdout",
          "text": [
            "\n",
            "Downloading and extracting files\n",
            "'/content/downloads/touche-task2-passages-version-002.jsonl' already present\n"
          ]
        }
      ],
      "source": [
        "url_corpus = \"https://zenodo.org/record/6802592/files/touche-task2-passages-version-002.jsonl.gz?download=1\"\n",
        "corpus_df = utils.manage_files.open_df(utils.manage_files.download_files(url_corpus))"
      ]
    },
    {
      "cell_type": "markdown",
      "metadata": {
        "cell_id": "aa17fa01e2fe4a5abf98d7a0cc22b0c1",
        "deepnote_cell_type": "markdown",
        "tags": [],
        "id": "yu8O2lOr_bis"
      },
      "source": [
        "Take a look at the corpus"
      ]
    },
    {
      "cell_type": "code",
      "execution_count": null,
      "metadata": {
        "cell_id": "2d607e80b86d4b1694bf4e3e39106a8b",
        "deepnote_cell_type": "code",
        "tags": [],
        "id": "DHnr5OMx_bis",
        "colab": {
          "base_uri": "https://localhost:8080/",
          "height": 206
        },
        "outputId": "ea54a1e1-299b-49b7-8d49-d38798c92e1f"
      },
      "outputs": [
        {
          "output_type": "execute_result",
          "data": {
            "text/plain": [
              "                              id  \\\n",
              "0  clueweb12-0000tw-14-21168___1   \n",
              "1  clueweb12-0000tw-14-21168___2   \n",
              "2  clueweb12-0000tw-14-21168___3   \n",
              "3  clueweb12-0000tw-22-19226___1   \n",
              "4  clueweb12-0000tw-22-19226___2   \n",
              "\n",
              "                                            contents  \\\n",
              "0  Shuga: Love, Sex, Money MTV Shuga Home Swag Bl...   \n",
              "1  We LOVE sending #TeamShuga the exclusives. Ban...   \n",
              "2  Now take note.. because you will be seeing a w...   \n",
              "3  Sex and love: The modern matchmakers | The Eco...   \n",
              "4  But have they? Feb 11th 2012 | from the print ...   \n",
              "\n",
              "                                         chatNoirUrl  \n",
              "0  https://chatnoir.eu/cache?uuid=f338e91e-a3e9-5...  \n",
              "1  https://chatnoir.eu/cache?uuid=f338e91e-a3e9-5...  \n",
              "2  https://chatnoir.eu/cache?uuid=f338e91e-a3e9-5...  \n",
              "3  https://chatnoir.eu/cache?uuid=2bf4b08d-2f65-5...  \n",
              "4  https://chatnoir.eu/cache?uuid=2bf4b08d-2f65-5...  "
            ],
            "text/html": [
              "\n",
              "  <div id=\"df-4e01b2f8-5990-4d3b-99f0-a1ccdaac6c91\">\n",
              "    <div class=\"colab-df-container\">\n",
              "      <div>\n",
              "<style scoped>\n",
              "    .dataframe tbody tr th:only-of-type {\n",
              "        vertical-align: middle;\n",
              "    }\n",
              "\n",
              "    .dataframe tbody tr th {\n",
              "        vertical-align: top;\n",
              "    }\n",
              "\n",
              "    .dataframe thead th {\n",
              "        text-align: right;\n",
              "    }\n",
              "</style>\n",
              "<table border=\"1\" class=\"dataframe\">\n",
              "  <thead>\n",
              "    <tr style=\"text-align: right;\">\n",
              "      <th></th>\n",
              "      <th>id</th>\n",
              "      <th>contents</th>\n",
              "      <th>chatNoirUrl</th>\n",
              "    </tr>\n",
              "  </thead>\n",
              "  <tbody>\n",
              "    <tr>\n",
              "      <th>0</th>\n",
              "      <td>clueweb12-0000tw-14-21168___1</td>\n",
              "      <td>Shuga: Love, Sex, Money MTV Shuga Home Swag Bl...</td>\n",
              "      <td>https://chatnoir.eu/cache?uuid=f338e91e-a3e9-5...</td>\n",
              "    </tr>\n",
              "    <tr>\n",
              "      <th>1</th>\n",
              "      <td>clueweb12-0000tw-14-21168___2</td>\n",
              "      <td>We LOVE sending #TeamShuga the exclusives. Ban...</td>\n",
              "      <td>https://chatnoir.eu/cache?uuid=f338e91e-a3e9-5...</td>\n",
              "    </tr>\n",
              "    <tr>\n",
              "      <th>2</th>\n",
              "      <td>clueweb12-0000tw-14-21168___3</td>\n",
              "      <td>Now take note.. because you will be seeing a w...</td>\n",
              "      <td>https://chatnoir.eu/cache?uuid=f338e91e-a3e9-5...</td>\n",
              "    </tr>\n",
              "    <tr>\n",
              "      <th>3</th>\n",
              "      <td>clueweb12-0000tw-22-19226___1</td>\n",
              "      <td>Sex and love: The modern matchmakers | The Eco...</td>\n",
              "      <td>https://chatnoir.eu/cache?uuid=2bf4b08d-2f65-5...</td>\n",
              "    </tr>\n",
              "    <tr>\n",
              "      <th>4</th>\n",
              "      <td>clueweb12-0000tw-22-19226___2</td>\n",
              "      <td>But have they? Feb 11th 2012 | from the print ...</td>\n",
              "      <td>https://chatnoir.eu/cache?uuid=2bf4b08d-2f65-5...</td>\n",
              "    </tr>\n",
              "  </tbody>\n",
              "</table>\n",
              "</div>\n",
              "      <button class=\"colab-df-convert\" onclick=\"convertToInteractive('df-4e01b2f8-5990-4d3b-99f0-a1ccdaac6c91')\"\n",
              "              title=\"Convert this dataframe to an interactive table.\"\n",
              "              style=\"display:none;\">\n",
              "        \n",
              "  <svg xmlns=\"http://www.w3.org/2000/svg\" height=\"24px\"viewBox=\"0 0 24 24\"\n",
              "       width=\"24px\">\n",
              "    <path d=\"M0 0h24v24H0V0z\" fill=\"none\"/>\n",
              "    <path d=\"M18.56 5.44l.94 2.06.94-2.06 2.06-.94-2.06-.94-.94-2.06-.94 2.06-2.06.94zm-11 1L8.5 8.5l.94-2.06 2.06-.94-2.06-.94L8.5 2.5l-.94 2.06-2.06.94zm10 10l.94 2.06.94-2.06 2.06-.94-2.06-.94-.94-2.06-.94 2.06-2.06.94z\"/><path d=\"M17.41 7.96l-1.37-1.37c-.4-.4-.92-.59-1.43-.59-.52 0-1.04.2-1.43.59L10.3 9.45l-7.72 7.72c-.78.78-.78 2.05 0 2.83L4 21.41c.39.39.9.59 1.41.59.51 0 1.02-.2 1.41-.59l7.78-7.78 2.81-2.81c.8-.78.8-2.07 0-2.86zM5.41 20L4 18.59l7.72-7.72 1.47 1.35L5.41 20z\"/>\n",
              "  </svg>\n",
              "      </button>\n",
              "      \n",
              "  <style>\n",
              "    .colab-df-container {\n",
              "      display:flex;\n",
              "      flex-wrap:wrap;\n",
              "      gap: 12px;\n",
              "    }\n",
              "\n",
              "    .colab-df-convert {\n",
              "      background-color: #E8F0FE;\n",
              "      border: none;\n",
              "      border-radius: 50%;\n",
              "      cursor: pointer;\n",
              "      display: none;\n",
              "      fill: #1967D2;\n",
              "      height: 32px;\n",
              "      padding: 0 0 0 0;\n",
              "      width: 32px;\n",
              "    }\n",
              "\n",
              "    .colab-df-convert:hover {\n",
              "      background-color: #E2EBFA;\n",
              "      box-shadow: 0px 1px 2px rgba(60, 64, 67, 0.3), 0px 1px 3px 1px rgba(60, 64, 67, 0.15);\n",
              "      fill: #174EA6;\n",
              "    }\n",
              "\n",
              "    [theme=dark] .colab-df-convert {\n",
              "      background-color: #3B4455;\n",
              "      fill: #D2E3FC;\n",
              "    }\n",
              "\n",
              "    [theme=dark] .colab-df-convert:hover {\n",
              "      background-color: #434B5C;\n",
              "      box-shadow: 0px 1px 3px 1px rgba(0, 0, 0, 0.15);\n",
              "      filter: drop-shadow(0px 1px 2px rgba(0, 0, 0, 0.3));\n",
              "      fill: #FFFFFF;\n",
              "    }\n",
              "  </style>\n",
              "\n",
              "      <script>\n",
              "        const buttonEl =\n",
              "          document.querySelector('#df-4e01b2f8-5990-4d3b-99f0-a1ccdaac6c91 button.colab-df-convert');\n",
              "        buttonEl.style.display =\n",
              "          google.colab.kernel.accessAllowed ? 'block' : 'none';\n",
              "\n",
              "        async function convertToInteractive(key) {\n",
              "          const element = document.querySelector('#df-4e01b2f8-5990-4d3b-99f0-a1ccdaac6c91');\n",
              "          const dataTable =\n",
              "            await google.colab.kernel.invokeFunction('convertToInteractive',\n",
              "                                                     [key], {});\n",
              "          if (!dataTable) return;\n",
              "\n",
              "          const docLinkHtml = 'Like what you see? Visit the ' +\n",
              "            '<a target=\"_blank\" href=https://colab.research.google.com/notebooks/data_table.ipynb>data table notebook</a>'\n",
              "            + ' to learn more about interactive tables.';\n",
              "          element.innerHTML = '';\n",
              "          dataTable['output_type'] = 'display_data';\n",
              "          await google.colab.output.renderOutput(dataTable, element);\n",
              "          const docLink = document.createElement('div');\n",
              "          docLink.innerHTML = docLinkHtml;\n",
              "          element.appendChild(docLink);\n",
              "        }\n",
              "      </script>\n",
              "    </div>\n",
              "  </div>\n",
              "  "
            ]
          },
          "metadata": {},
          "execution_count": 25
        }
      ],
      "source": [
        "corpus_df.head()"
      ]
    },
    {
      "cell_type": "code",
      "execution_count": null,
      "metadata": {
        "cell_id": "fb156134dda84d6bb663c4f0d6ea9174",
        "deepnote_cell_type": "code",
        "tags": [],
        "id": "a5QccYiY_bis",
        "colab": {
          "base_uri": "https://localhost:8080/"
        },
        "outputId": "b9b8393d-f3a9-4d59-ec3d-5574707687c0"
      },
      "outputs": [
        {
          "output_type": "stream",
          "name": "stdout",
          "text": [
            "The corpus has 868655 elements.\n"
          ]
        }
      ],
      "source": [
        "print(f\"The corpus has {corpus_df.shape[0]} elements.\")"
      ]
    },
    {
      "cell_type": "markdown",
      "source": [
        "Download and load in a DataFrame the corpus with passage texts and expanded queries"
      ],
      "metadata": {
        "id": "24ibZ80SI0tn"
      }
    },
    {
      "cell_type": "code",
      "source": [
        "url_corpus_exp = \"https://zenodo.org/record/6873567/files/touche-task2-passages-version-002-expanded-with-doc-t5-query.jsonl.gz?download=1\"\n",
        "corpus_df_exp = utils.manage_files.open_df(utils.manage_files.download_files(url_corpus_exp))"
      ],
      "metadata": {
        "colab": {
          "base_uri": "https://localhost:8080/"
        },
        "id": "tMc9WIhdI9cH",
        "outputId": "33ea4716-3f6a-4061-e4d7-6c5ce5d204e4"
      },
      "execution_count": null,
      "outputs": [
        {
          "output_type": "stream",
          "name": "stdout",
          "text": [
            "\n",
            "Downloading and extracting files\n",
            "'/content/downloads/touche-task2-passages-version-002-expanded-with-doc-t5-query.jsonl' already present\n"
          ]
        }
      ]
    },
    {
      "cell_type": "markdown",
      "source": [
        "Difference of a passage text between the two corpus"
      ],
      "metadata": {
        "id": "bPAqlhswI5wU"
      }
    },
    {
      "cell_type": "code",
      "source": [
        "print(\"Original text:\", corpus_df.contents.iloc[0])\n",
        "print(\"Original text expanded:\", corpus_df_exp.contents.iloc[0])"
      ],
      "metadata": {
        "colab": {
          "base_uri": "https://localhost:8080/"
        },
        "id": "-Yx_skl7I7iY",
        "outputId": "a0a539df-154c-4221-8e6a-52539ca4279a"
      },
      "execution_count": null,
      "outputs": [
        {
          "output_type": "stream",
          "name": "stdout",
          "text": [
            "Original text: Shuga: Love, Sex, Money MTV Shuga Home Swag Blog Cast Swag Video Team Shuga Partners Shuga Talks (NEW!) Unicef G-PANGE MTV Base MTV Staying Alive Shuga Premiere: Today Is The Day! Today is the day! #ShugaPremiere. We talk Twitter hashtags, competition winners and of course the FREE d/l of the official Shuga: Love, Sex, Money track feat Banky W, WizKid, L-Tido and Bon’eye Download The Official Shuga: Love, Sex, Money Track HERE For Free! Be the first to download the Shuga: Love, Sex, Money track featuring Banky W, WizKid, L-Tido and Bon’eye exclusively here! That Shuga Love Sex Money Premiere The Shuga Track, worldwide Twitter trending and how YOU can win a ticket to the OFFICIAL Shuga: Love, Sex, Money premiere… The Official Shuga: Love, Sex, Money Trailer The Official Shuga: Love, Sex, Money trailer is here!\n",
            "Original text expanded: Do Asian-Americans Face Bias in Admissions at Elite Colleges? - NYTimes.com Home Page Today's Paper Video Most Popular Times Topics Search All NYTimes.com Education World U.S. Politics Education Bay Area Chicago Texas N.Y. / Region Business Technology Science Health Sports Opinion Arts Style Travel Jobs Real Estate Autos February 8, 2012, 1:43 pm Do Asian-Americans Face Bias in Admissions at Elite Colleges? By DANIEL E. SLOTNIK 6:08 p.m. | Updated A statement from Princeton was added to the story. The Department of Education’s Office for Civil Rights is examining complaints thatHarvard and Princeton have discriminated against Asian-American undergraduate applicants, highlighting a concern of many Asian-American parents. The inquiry was first reported by Bloomberg News.<query> do asian americans face bias in admissions</query>\n"
          ]
        }
      ]
    },
    {
      "cell_type": "markdown",
      "metadata": {
        "cell_id": "b610ebfcf3db4cd3b1f86e7495664a09",
        "deepnote_cell_type": "markdown",
        "tags": [],
        "id": "WA5l6UAV_bit"
      },
      "source": [
        "### Topics, quality, relevance and stance"
      ]
    },
    {
      "cell_type": "markdown",
      "metadata": {
        "cell_id": "606be5df1aaa443ea2504590d80e84aa",
        "deepnote_cell_type": "markdown",
        "tags": [],
        "id": "VPPfKotz_bit"
      },
      "source": [
        "In this subsection we download the list of possible topics, that are the actual queries to submit to the model. The available topics for the 2022 task are only 50, so we decided to retrieve also possible queries of the 2021 task. There are two reasons for this choice:\n",
        "- Prove that our model is not biased towards only some topics, but it is rather robust with more queries provided.\n",
        "- The quality and relevance judgements available in the 2022 task are based also on previous year topics, therefore without any additional queries our results would be limited to only a subset of possible scores.\n",
        "\n",
        "As previously mentioned, three types of judgements are provided in the *QRELS* format, which are: **quality**, **relevance** and **stance**. These will be used to evaluate our different pipelines, but only the latter will be used to evaluate the stance classification.\n",
        "\n",
        "The headers to load the judgements in a Pandas DataFrame are: *TOPIC*, *Q0*, *DOC_ID*, *SCORE*.\n",
        "\n",
        "In total, the list of **topics** contains 100 arguments (50 from 2022 and 50 from 2021) but judgements available for this task are 50, distributed among the two lists.\n",
        "\n",
        "Therefore we will perform two types of evaluations:\n",
        "- Quantitative: the *nDCG* score on the join of provided topics and judgements (limited to only 50 topics)\n",
        "- Qualitative: we select some queries and retrieved documents which we'll be judging based on stance, relevance and quality."
      ]
    },
    {
      "cell_type": "markdown",
      "metadata": {
        "cell_id": "4df8ca87aec444baa9b9b7515fc27419",
        "deepnote_cell_type": "markdown",
        "tags": [],
        "id": "HiObBW3J_bit"
      },
      "source": [
        "#### Topics"
      ]
    },
    {
      "cell_type": "code",
      "execution_count": null,
      "metadata": {
        "cell_id": "608eb5aeac694d318d8649b0f6d6ea6f",
        "deepnote_cell_type": "code",
        "tags": [],
        "id": "Dw3YUGFS_bit",
        "colab": {
          "base_uri": "https://localhost:8080/"
        },
        "outputId": "d675d29e-71fd-495e-8698-296d8e89743e"
      },
      "outputs": [
        {
          "output_type": "stream",
          "name": "stdout",
          "text": [
            "\n",
            "Downloading and extracting files\n",
            "'/content/downloads/topics-task-2' already present\n",
            "\n",
            "Downloading and extracting files\n",
            "'/content/downloads/topics-task-2-2021' already present\n"
          ]
        }
      ],
      "source": [
        "# Download and parse the xml file of the 0-50 topics of Touche 2022\n",
        "url_topics_22 = \"https://zenodo.org/record/6873559/files/topics-task-2.zip?download=1\"\n",
        "topics_22_filename = os.path.join(utils.manage_files.download_files(url_topics_22), \"topics-task-2.xml\")\n",
        "topics = utils.manage_files.open_xml(topics_22_filename)\n",
        "\n",
        "# Download and parse the xml file of the 51-100 topics of Touche 2021\n",
        "url_topics_21 = \"https://zenodo.org/record/6873565/files/topics-task-2-2021.zip?download=1\"\n",
        "topics_21_filename = os.path.join(utils.manage_files.download_files(url_topics_21), \"topics-task2-51-100.xml\")\n",
        "topics += utils.manage_files.open_xml(topics_21_filename)"
      ]
    },
    {
      "cell_type": "markdown",
      "metadata": {
        "cell_id": "cbdec9abbb41492b97830d6d81a3a24e",
        "deepnote_cell_type": "markdown",
        "tags": [],
        "id": "r8nQNfJ1_biu"
      },
      "source": [
        "As you can see below we have a list of 100 topics but for the evaluation we will use only the ones selected by the Touchè team."
      ]
    },
    {
      "cell_type": "code",
      "execution_count": null,
      "metadata": {
        "cell_id": "f5a76a4eed554b479f6c6e5079f662c9",
        "deepnote_cell_type": "code",
        "tags": [],
        "id": "LiWJxn6O_biu",
        "colab": {
          "base_uri": "https://localhost:8080/"
        },
        "outputId": "a17f0427-5f81-4940-bdb9-4c127a484ab6"
      },
      "outputs": [
        {
          "output_type": "stream",
          "name": "stdout",
          "text": [
            "There are 100 topics.\n",
            "['What is the difference between sex and love?', 'Which is better, a laptop or a desktop?', 'Which is better, Canon or Nikon?', 'What are the best dish detergents?', 'What are the best cities to live in?', 'What is the longest river in the U.S.?', 'Which is healthiest: coffee, green tea or black tea and why?', 'What are the advantages and disadvantages of PHP over Python and vice versa?', 'Why is Linux better than Windows?', 'How to sleep better?', 'Should I buy an LCD TV or a plasma TV?', 'Train or plane? Which is the better choice?', 'What is the highest mountain on Earth?', 'Should one prefer Chinese medicine or Western medicine?', 'What are the best washing machine brands?', 'Should I buy or rent?', 'Do you prefer cats or dogs, and why?', 'What is the better way to grill outdoors: gas or charcoal?', 'Which is better, MAC or PC?', 'What is better: to use a brush or a sponge?', 'Which is better, Linux or Microsoft?', 'Which is better, Pepsi or Coke?', 'What is better, Google search or Yahoo search?', 'Which one is better, Netflix or Blockbuster?', 'Which browser is better, Internet Explorer or Firefox?', 'Which is a better vehicle: BMW or Audi?', 'Which one is better, an electric stove or a gas stove?', 'What planes are best, Boeing or Airbus?', 'Which is better, Disneyland or Disney World?', 'Should I buy an Xbox or a PlayStation?', 'Which has more caffeine, coffee or tea?', 'Which is better, LED or LCD Reception Displays?', 'What is better: ASP or PHP?', 'What is better for the environment, a real or a fake Christmas tree?', 'Do you prefer tampons or pads?', 'What IDE is better for Java: NetBeans or Eclipse?', 'Is OpenGL better than Direct3D in terms of portability to different platforms?', 'What are the differences between MySQL and PostgreSQL in performance?', 'Is Java code more readable than code written in Scala?', 'Which operating system has better performance: Windows 7 or Windows 8?', 'Which smartphone has a better battery life: Xperia or iPhone?', 'Which four wheel truck is better: Ford or Toyota?', 'Should I prefer a Leica camera over Nikon for portrait photographs?', 'Which company has a larger capitalization: Apple or Microsoft?', 'Which laptop has a better durability: HP or Dell?', 'Which beverage has more calories per glass: beer or cider?', 'Is admission rate in Stanford higher than that of MIT?', 'Is pasta healthier than pizza?', 'Which city is more expensive to live in: San Francisco or New York?', 'Whose salary is higher: basketball or soccer players?', 'What is better at reducing fever in children, Ibuprofen or Aspirin?', 'What are the best rice cookers?', 'Should I buy steel or ceramic knives?', 'Is morning or afternoon sun the best for fruit trees?', 'What is better for back pain, chiropractic therapy or physical therapy?', 'Is Kenya or Tanzania better for a safari?', \"How is a Master's degree different from a Bachelor's degree?\", 'Which is better, Family Guy or The Simpsons?', 'Which is more difficult, skiing or snowboarding?', 'Why is basketball better than football?', 'Who is stronger, Hulk or Superman?', 'Plastic pots or ceramic pots, which is better in terms of plant health?', 'What is the coldest temperature ever recorded on Earth, and where?', 'What is the most popular beer in Australia?', 'Are dogs better than humans?', 'What diet gives the best result to lose weight?', 'Should I take the IELTS or the TOEFL?', 'Are online courses better than physical classrooms?', 'Who was a better boxer, Muhammad Ali or Joe Frazier?', \"Which technology performs better: Apple's or Google's?\", 'Is gold equal to platinum?', 'Who is better at learning a foreign language, kids or adults?', \"What's the difference between coffee, espresso, cappuccino, and latte?\", 'Which city is better, London or Paris?', 'What is better, a conditioner or a moisturizer?', 'Are artificial sweeteners better than white sugar?', 'Is it healthier to bake than to fry food?', 'Which algorithm is better, quicksort or merge sort?', 'What is more interesting, computer science or computer engineering?', 'What is the difference between a vegan and a vegetarian?', 'Does unpasteurized cheese taste better than pasteurized cheese?', 'Which light bulb is better, incandescent or fluorescent?', 'What is the difference between quantum physics and quantum mechanics?', 'What is better, cow milk or goat milk?', 'Psoriasis vs Eczema: What is the difference?', 'I am planning to buy sneakers: Which are better, Adidas or Nike?', 'Is Obamacare really any better than Medicare?', 'Should I major in philosophy or psychology?', 'What are the differences between biodegradable and non-biodegradable wastes?', 'What are good business books to read?', 'When are random forest classifiers better than decision trees?', 'What are the pros and cons of wood vs. stone mulch?', 'Is rain water better than tap water for plants?', 'Suitcases: hard or soft?', 'Which is more environmentally friendly, a hybrid or a diesel?', 'Which is healthier to wear, boxers or briefs?', 'What is the difference between a blender vs a food processor?', 'Which is better, rock or rap?', 'Do you think imagination is better than knowledge?', 'Should I learn Python or R for data analysis?']\n"
          ]
        }
      ],
      "source": [
        "print(f\"There are {len(topics)} topics.\\n{topics}\")"
      ]
    },
    {
      "cell_type": "markdown",
      "metadata": {
        "cell_id": "c352db73b8ae4c5aafcf052b50fa9d25",
        "deepnote_cell_type": "markdown",
        "tags": [],
        "id": "sESL_KKI_biv"
      },
      "source": [
        "#### Relevance judgements"
      ]
    },
    {
      "cell_type": "code",
      "execution_count": null,
      "metadata": {
        "cell_id": "77ab5621271840fb97ceb3376979bac6",
        "deepnote_cell_type": "code",
        "tags": [],
        "id": "WcSu34dj_biv",
        "colab": {
          "base_uri": "https://localhost:8080/"
        },
        "outputId": "54674996-b440-4471-ecba-57cdde76603b"
      },
      "outputs": [
        {
          "output_type": "stream",
          "name": "stdout",
          "text": [
            "\n",
            "Downloading files\n"
          ]
        },
        {
          "output_type": "stream",
          "name": "stderr",
          "text": [
            "Downloading file: 100%|██████████| 78.4k/78.4k [00:00<00:00, 640kB/s]\n"
          ]
        }
      ],
      "source": [
        "# Download 2022 relevance qrels for 50 topics\n",
        "url_relevance = \"https://zenodo.org/record/6873567/files/touche-task2-2022-relevance.qrels?download=1\"\n",
        "\n",
        "rel_names = [\"topic\", \"0\", \"doc_id\", \"relevance\"]\n",
        "\n",
        "relevance_df = utils.manage_files\\\n",
        "        .open_df(utils.manage_files.download_files(url_relevance), names=rel_names, sep=\" \")\\\n",
        "        .drop(\"0\", axis=1)"
      ]
    },
    {
      "cell_type": "code",
      "execution_count": null,
      "metadata": {
        "cell_id": "9639585906744904aa2e119852409dc4",
        "deepnote_cell_type": "code",
        "tags": [],
        "id": "1CT6P5PL_biv",
        "colab": {
          "base_uri": "https://localhost:8080/",
          "height": 206
        },
        "outputId": "5daf8bfc-72ff-46a5-9ce4-8174cd72dcda"
      },
      "outputs": [
        {
          "output_type": "execute_result",
          "data": {
            "text/plain": [
              "   topic                           doc_id  relevance\n",
              "0     12    clueweb12-0002wb-18-34442___2          0\n",
              "1     12  clueweb12-0004wb-69-30215___112          0\n",
              "2     12    clueweb12-0004wb-78-20304___1          1\n",
              "3     12   clueweb12-0004wb-78-20304___11          2\n",
              "4     12    clueweb12-0008wb-62-05967___1          0"
            ],
            "text/html": [
              "\n",
              "  <div id=\"df-6363c33b-84df-447f-a44b-63b031e62870\">\n",
              "    <div class=\"colab-df-container\">\n",
              "      <div>\n",
              "<style scoped>\n",
              "    .dataframe tbody tr th:only-of-type {\n",
              "        vertical-align: middle;\n",
              "    }\n",
              "\n",
              "    .dataframe tbody tr th {\n",
              "        vertical-align: top;\n",
              "    }\n",
              "\n",
              "    .dataframe thead th {\n",
              "        text-align: right;\n",
              "    }\n",
              "</style>\n",
              "<table border=\"1\" class=\"dataframe\">\n",
              "  <thead>\n",
              "    <tr style=\"text-align: right;\">\n",
              "      <th></th>\n",
              "      <th>topic</th>\n",
              "      <th>doc_id</th>\n",
              "      <th>relevance</th>\n",
              "    </tr>\n",
              "  </thead>\n",
              "  <tbody>\n",
              "    <tr>\n",
              "      <th>0</th>\n",
              "      <td>12</td>\n",
              "      <td>clueweb12-0002wb-18-34442___2</td>\n",
              "      <td>0</td>\n",
              "    </tr>\n",
              "    <tr>\n",
              "      <th>1</th>\n",
              "      <td>12</td>\n",
              "      <td>clueweb12-0004wb-69-30215___112</td>\n",
              "      <td>0</td>\n",
              "    </tr>\n",
              "    <tr>\n",
              "      <th>2</th>\n",
              "      <td>12</td>\n",
              "      <td>clueweb12-0004wb-78-20304___1</td>\n",
              "      <td>1</td>\n",
              "    </tr>\n",
              "    <tr>\n",
              "      <th>3</th>\n",
              "      <td>12</td>\n",
              "      <td>clueweb12-0004wb-78-20304___11</td>\n",
              "      <td>2</td>\n",
              "    </tr>\n",
              "    <tr>\n",
              "      <th>4</th>\n",
              "      <td>12</td>\n",
              "      <td>clueweb12-0008wb-62-05967___1</td>\n",
              "      <td>0</td>\n",
              "    </tr>\n",
              "  </tbody>\n",
              "</table>\n",
              "</div>\n",
              "      <button class=\"colab-df-convert\" onclick=\"convertToInteractive('df-6363c33b-84df-447f-a44b-63b031e62870')\"\n",
              "              title=\"Convert this dataframe to an interactive table.\"\n",
              "              style=\"display:none;\">\n",
              "        \n",
              "  <svg xmlns=\"http://www.w3.org/2000/svg\" height=\"24px\"viewBox=\"0 0 24 24\"\n",
              "       width=\"24px\">\n",
              "    <path d=\"M0 0h24v24H0V0z\" fill=\"none\"/>\n",
              "    <path d=\"M18.56 5.44l.94 2.06.94-2.06 2.06-.94-2.06-.94-.94-2.06-.94 2.06-2.06.94zm-11 1L8.5 8.5l.94-2.06 2.06-.94-2.06-.94L8.5 2.5l-.94 2.06-2.06.94zm10 10l.94 2.06.94-2.06 2.06-.94-2.06-.94-.94-2.06-.94 2.06-2.06.94z\"/><path d=\"M17.41 7.96l-1.37-1.37c-.4-.4-.92-.59-1.43-.59-.52 0-1.04.2-1.43.59L10.3 9.45l-7.72 7.72c-.78.78-.78 2.05 0 2.83L4 21.41c.39.39.9.59 1.41.59.51 0 1.02-.2 1.41-.59l7.78-7.78 2.81-2.81c.8-.78.8-2.07 0-2.86zM5.41 20L4 18.59l7.72-7.72 1.47 1.35L5.41 20z\"/>\n",
              "  </svg>\n",
              "      </button>\n",
              "      \n",
              "  <style>\n",
              "    .colab-df-container {\n",
              "      display:flex;\n",
              "      flex-wrap:wrap;\n",
              "      gap: 12px;\n",
              "    }\n",
              "\n",
              "    .colab-df-convert {\n",
              "      background-color: #E8F0FE;\n",
              "      border: none;\n",
              "      border-radius: 50%;\n",
              "      cursor: pointer;\n",
              "      display: none;\n",
              "      fill: #1967D2;\n",
              "      height: 32px;\n",
              "      padding: 0 0 0 0;\n",
              "      width: 32px;\n",
              "    }\n",
              "\n",
              "    .colab-df-convert:hover {\n",
              "      background-color: #E2EBFA;\n",
              "      box-shadow: 0px 1px 2px rgba(60, 64, 67, 0.3), 0px 1px 3px 1px rgba(60, 64, 67, 0.15);\n",
              "      fill: #174EA6;\n",
              "    }\n",
              "\n",
              "    [theme=dark] .colab-df-convert {\n",
              "      background-color: #3B4455;\n",
              "      fill: #D2E3FC;\n",
              "    }\n",
              "\n",
              "    [theme=dark] .colab-df-convert:hover {\n",
              "      background-color: #434B5C;\n",
              "      box-shadow: 0px 1px 3px 1px rgba(0, 0, 0, 0.15);\n",
              "      filter: drop-shadow(0px 1px 2px rgba(0, 0, 0, 0.3));\n",
              "      fill: #FFFFFF;\n",
              "    }\n",
              "  </style>\n",
              "\n",
              "      <script>\n",
              "        const buttonEl =\n",
              "          document.querySelector('#df-6363c33b-84df-447f-a44b-63b031e62870 button.colab-df-convert');\n",
              "        buttonEl.style.display =\n",
              "          google.colab.kernel.accessAllowed ? 'block' : 'none';\n",
              "\n",
              "        async function convertToInteractive(key) {\n",
              "          const element = document.querySelector('#df-6363c33b-84df-447f-a44b-63b031e62870');\n",
              "          const dataTable =\n",
              "            await google.colab.kernel.invokeFunction('convertToInteractive',\n",
              "                                                     [key], {});\n",
              "          if (!dataTable) return;\n",
              "\n",
              "          const docLinkHtml = 'Like what you see? Visit the ' +\n",
              "            '<a target=\"_blank\" href=https://colab.research.google.com/notebooks/data_table.ipynb>data table notebook</a>'\n",
              "            + ' to learn more about interactive tables.';\n",
              "          element.innerHTML = '';\n",
              "          dataTable['output_type'] = 'display_data';\n",
              "          await google.colab.output.renderOutput(dataTable, element);\n",
              "          const docLink = document.createElement('div');\n",
              "          docLink.innerHTML = docLinkHtml;\n",
              "          element.appendChild(docLink);\n",
              "        }\n",
              "      </script>\n",
              "    </div>\n",
              "  </div>\n",
              "  "
            ]
          },
          "metadata": {},
          "execution_count": 39
        }
      ],
      "source": [
        "relevance_df.head()"
      ]
    },
    {
      "cell_type": "markdown",
      "metadata": {
        "cell_id": "624586f8e57e410b85eb9b10733efbb1",
        "deepnote_cell_type": "markdown",
        "tags": [],
        "id": "JRMW5CHI_biw"
      },
      "source": [
        "#### Quality judgements"
      ]
    },
    {
      "cell_type": "code",
      "execution_count": null,
      "metadata": {
        "cell_id": "f8754e3fafa54e5b8ff59630a2b0cd3d",
        "deepnote_cell_type": "code",
        "tags": [],
        "id": "4gYqOciJ_biw",
        "colab": {
          "base_uri": "https://localhost:8080/"
        },
        "outputId": "75f2a82c-24a0-4666-80aa-296259df8728"
      },
      "outputs": [
        {
          "output_type": "stream",
          "name": "stdout",
          "text": [
            "\n",
            "Downloading files\n"
          ]
        },
        {
          "output_type": "stream",
          "name": "stderr",
          "text": [
            "Downloading file: 100%|██████████| 78.4k/78.4k [00:00<00:00, 652kB/s]\n"
          ]
        }
      ],
      "source": [
        "# Download 2022 quality qrels for 50 topics\n",
        "url_quality = \"https://zenodo.org/record/6873567/files/touche-task2-2022-quality.qrels?download=1\"\n",
        "\n",
        "qual_names = [\"topic\", \"0\", \"doc_id\", \"quality\"]\n",
        "\n",
        "quality_df = utils.manage_files\\\n",
        "        .open_df(utils.manage_files.download_files(url_quality), names=qual_names, sep=\" \")\\\n",
        "        .drop(\"0\", axis=1)"
      ]
    },
    {
      "cell_type": "code",
      "execution_count": null,
      "metadata": {
        "cell_id": "732b6e361f7c4dcf8d4df8b9e5774016",
        "deepnote_cell_type": "code",
        "tags": [],
        "id": "OfTZk8cg_biw",
        "colab": {
          "base_uri": "https://localhost:8080/",
          "height": 206
        },
        "outputId": "aa61a4e8-27a6-4e91-a1da-ff2e41b103c2"
      },
      "outputs": [
        {
          "output_type": "execute_result",
          "data": {
            "text/plain": [
              "   topic                           doc_id  quality\n",
              "0     12    clueweb12-0002wb-18-34442___2        2\n",
              "1     12  clueweb12-0004wb-69-30215___112        2\n",
              "2     12    clueweb12-0004wb-78-20304___1        2\n",
              "3     12   clueweb12-0004wb-78-20304___11        2\n",
              "4     12    clueweb12-0008wb-62-05967___1        0"
            ],
            "text/html": [
              "\n",
              "  <div id=\"df-322f67e9-0a19-4836-ab98-bef2d9862bb3\">\n",
              "    <div class=\"colab-df-container\">\n",
              "      <div>\n",
              "<style scoped>\n",
              "    .dataframe tbody tr th:only-of-type {\n",
              "        vertical-align: middle;\n",
              "    }\n",
              "\n",
              "    .dataframe tbody tr th {\n",
              "        vertical-align: top;\n",
              "    }\n",
              "\n",
              "    .dataframe thead th {\n",
              "        text-align: right;\n",
              "    }\n",
              "</style>\n",
              "<table border=\"1\" class=\"dataframe\">\n",
              "  <thead>\n",
              "    <tr style=\"text-align: right;\">\n",
              "      <th></th>\n",
              "      <th>topic</th>\n",
              "      <th>doc_id</th>\n",
              "      <th>quality</th>\n",
              "    </tr>\n",
              "  </thead>\n",
              "  <tbody>\n",
              "    <tr>\n",
              "      <th>0</th>\n",
              "      <td>12</td>\n",
              "      <td>clueweb12-0002wb-18-34442___2</td>\n",
              "      <td>2</td>\n",
              "    </tr>\n",
              "    <tr>\n",
              "      <th>1</th>\n",
              "      <td>12</td>\n",
              "      <td>clueweb12-0004wb-69-30215___112</td>\n",
              "      <td>2</td>\n",
              "    </tr>\n",
              "    <tr>\n",
              "      <th>2</th>\n",
              "      <td>12</td>\n",
              "      <td>clueweb12-0004wb-78-20304___1</td>\n",
              "      <td>2</td>\n",
              "    </tr>\n",
              "    <tr>\n",
              "      <th>3</th>\n",
              "      <td>12</td>\n",
              "      <td>clueweb12-0004wb-78-20304___11</td>\n",
              "      <td>2</td>\n",
              "    </tr>\n",
              "    <tr>\n",
              "      <th>4</th>\n",
              "      <td>12</td>\n",
              "      <td>clueweb12-0008wb-62-05967___1</td>\n",
              "      <td>0</td>\n",
              "    </tr>\n",
              "  </tbody>\n",
              "</table>\n",
              "</div>\n",
              "      <button class=\"colab-df-convert\" onclick=\"convertToInteractive('df-322f67e9-0a19-4836-ab98-bef2d9862bb3')\"\n",
              "              title=\"Convert this dataframe to an interactive table.\"\n",
              "              style=\"display:none;\">\n",
              "        \n",
              "  <svg xmlns=\"http://www.w3.org/2000/svg\" height=\"24px\"viewBox=\"0 0 24 24\"\n",
              "       width=\"24px\">\n",
              "    <path d=\"M0 0h24v24H0V0z\" fill=\"none\"/>\n",
              "    <path d=\"M18.56 5.44l.94 2.06.94-2.06 2.06-.94-2.06-.94-.94-2.06-.94 2.06-2.06.94zm-11 1L8.5 8.5l.94-2.06 2.06-.94-2.06-.94L8.5 2.5l-.94 2.06-2.06.94zm10 10l.94 2.06.94-2.06 2.06-.94-2.06-.94-.94-2.06-.94 2.06-2.06.94z\"/><path d=\"M17.41 7.96l-1.37-1.37c-.4-.4-.92-.59-1.43-.59-.52 0-1.04.2-1.43.59L10.3 9.45l-7.72 7.72c-.78.78-.78 2.05 0 2.83L4 21.41c.39.39.9.59 1.41.59.51 0 1.02-.2 1.41-.59l7.78-7.78 2.81-2.81c.8-.78.8-2.07 0-2.86zM5.41 20L4 18.59l7.72-7.72 1.47 1.35L5.41 20z\"/>\n",
              "  </svg>\n",
              "      </button>\n",
              "      \n",
              "  <style>\n",
              "    .colab-df-container {\n",
              "      display:flex;\n",
              "      flex-wrap:wrap;\n",
              "      gap: 12px;\n",
              "    }\n",
              "\n",
              "    .colab-df-convert {\n",
              "      background-color: #E8F0FE;\n",
              "      border: none;\n",
              "      border-radius: 50%;\n",
              "      cursor: pointer;\n",
              "      display: none;\n",
              "      fill: #1967D2;\n",
              "      height: 32px;\n",
              "      padding: 0 0 0 0;\n",
              "      width: 32px;\n",
              "    }\n",
              "\n",
              "    .colab-df-convert:hover {\n",
              "      background-color: #E2EBFA;\n",
              "      box-shadow: 0px 1px 2px rgba(60, 64, 67, 0.3), 0px 1px 3px 1px rgba(60, 64, 67, 0.15);\n",
              "      fill: #174EA6;\n",
              "    }\n",
              "\n",
              "    [theme=dark] .colab-df-convert {\n",
              "      background-color: #3B4455;\n",
              "      fill: #D2E3FC;\n",
              "    }\n",
              "\n",
              "    [theme=dark] .colab-df-convert:hover {\n",
              "      background-color: #434B5C;\n",
              "      box-shadow: 0px 1px 3px 1px rgba(0, 0, 0, 0.15);\n",
              "      filter: drop-shadow(0px 1px 2px rgba(0, 0, 0, 0.3));\n",
              "      fill: #FFFFFF;\n",
              "    }\n",
              "  </style>\n",
              "\n",
              "      <script>\n",
              "        const buttonEl =\n",
              "          document.querySelector('#df-322f67e9-0a19-4836-ab98-bef2d9862bb3 button.colab-df-convert');\n",
              "        buttonEl.style.display =\n",
              "          google.colab.kernel.accessAllowed ? 'block' : 'none';\n",
              "\n",
              "        async function convertToInteractive(key) {\n",
              "          const element = document.querySelector('#df-322f67e9-0a19-4836-ab98-bef2d9862bb3');\n",
              "          const dataTable =\n",
              "            await google.colab.kernel.invokeFunction('convertToInteractive',\n",
              "                                                     [key], {});\n",
              "          if (!dataTable) return;\n",
              "\n",
              "          const docLinkHtml = 'Like what you see? Visit the ' +\n",
              "            '<a target=\"_blank\" href=https://colab.research.google.com/notebooks/data_table.ipynb>data table notebook</a>'\n",
              "            + ' to learn more about interactive tables.';\n",
              "          element.innerHTML = '';\n",
              "          dataTable['output_type'] = 'display_data';\n",
              "          await google.colab.output.renderOutput(dataTable, element);\n",
              "          const docLink = document.createElement('div');\n",
              "          docLink.innerHTML = docLinkHtml;\n",
              "          element.appendChild(docLink);\n",
              "        }\n",
              "      </script>\n",
              "    </div>\n",
              "  </div>\n",
              "  "
            ]
          },
          "metadata": {},
          "execution_count": 41
        }
      ],
      "source": [
        "quality_df.head()"
      ]
    },
    {
      "cell_type": "markdown",
      "metadata": {
        "cell_id": "d687e7dafd1a47179d355be173bd3b03",
        "deepnote_cell_type": "markdown",
        "tags": [],
        "id": "J2dgIKtQ_biw"
      },
      "source": [
        "#### Stance judgements"
      ]
    },
    {
      "cell_type": "code",
      "execution_count": null,
      "metadata": {
        "cell_id": "4eac04f399d140428735a1637ebb05df",
        "deepnote_cell_type": "code",
        "tags": [],
        "id": "5pUrubGZ_bix",
        "colab": {
          "base_uri": "https://localhost:8080/"
        },
        "outputId": "f24a7608-5198-45cd-da9a-5fd808c4a542"
      },
      "outputs": [
        {
          "output_type": "stream",
          "name": "stdout",
          "text": [
            "\n",
            "Downloading files\n"
          ]
        },
        {
          "output_type": "stream",
          "name": "stderr",
          "text": [
            "Downloading file: 100%|██████████| 84.9k/84.9k [00:00<00:00, 257kB/s] \n"
          ]
        }
      ],
      "source": [
        "# Download 2022 stance qrels for 50 topics\n",
        "url_stance = \"https://zenodo.org/record/6873567/files/touche-task2-2022-stance.qrels?download=1\"\n",
        "\n",
        "stance_names = [\"topic\", \"0\", \"doc_id\", \"stance\"]\n",
        "\n",
        "stance_df = utils.manage_files\\\n",
        "        .open_df(utils.manage_files.download_files(url_stance), names=stance_names, sep=\" \")\\\n",
        "        .drop(\"0\", axis=1)"
      ]
    },
    {
      "cell_type": "code",
      "execution_count": null,
      "metadata": {
        "cell_id": "3264cb92d80e49fa9abd5415a3d15c8d",
        "deepnote_cell_type": "code",
        "tags": [],
        "id": "dMknTdIj_bix",
        "colab": {
          "base_uri": "https://localhost:8080/",
          "height": 206
        },
        "outputId": "bbe76257-547c-4a4f-f728-f08eba474522"
      },
      "outputs": [
        {
          "output_type": "execute_result",
          "data": {
            "text/plain": [
              "   topic                           doc_id   stance\n",
              "0     12    clueweb12-0002wb-18-34442___2       NO\n",
              "1     12  clueweb12-0004wb-69-30215___112       NO\n",
              "2     12    clueweb12-0004wb-78-20304___1   SECOND\n",
              "3     12   clueweb12-0004wb-78-20304___11  NEUTRAL\n",
              "4     12    clueweb12-0008wb-62-05967___1       NO"
            ],
            "text/html": [
              "\n",
              "  <div id=\"df-5677cd07-898d-4aff-86e1-e627af8b7f6c\">\n",
              "    <div class=\"colab-df-container\">\n",
              "      <div>\n",
              "<style scoped>\n",
              "    .dataframe tbody tr th:only-of-type {\n",
              "        vertical-align: middle;\n",
              "    }\n",
              "\n",
              "    .dataframe tbody tr th {\n",
              "        vertical-align: top;\n",
              "    }\n",
              "\n",
              "    .dataframe thead th {\n",
              "        text-align: right;\n",
              "    }\n",
              "</style>\n",
              "<table border=\"1\" class=\"dataframe\">\n",
              "  <thead>\n",
              "    <tr style=\"text-align: right;\">\n",
              "      <th></th>\n",
              "      <th>topic</th>\n",
              "      <th>doc_id</th>\n",
              "      <th>stance</th>\n",
              "    </tr>\n",
              "  </thead>\n",
              "  <tbody>\n",
              "    <tr>\n",
              "      <th>0</th>\n",
              "      <td>12</td>\n",
              "      <td>clueweb12-0002wb-18-34442___2</td>\n",
              "      <td>NO</td>\n",
              "    </tr>\n",
              "    <tr>\n",
              "      <th>1</th>\n",
              "      <td>12</td>\n",
              "      <td>clueweb12-0004wb-69-30215___112</td>\n",
              "      <td>NO</td>\n",
              "    </tr>\n",
              "    <tr>\n",
              "      <th>2</th>\n",
              "      <td>12</td>\n",
              "      <td>clueweb12-0004wb-78-20304___1</td>\n",
              "      <td>SECOND</td>\n",
              "    </tr>\n",
              "    <tr>\n",
              "      <th>3</th>\n",
              "      <td>12</td>\n",
              "      <td>clueweb12-0004wb-78-20304___11</td>\n",
              "      <td>NEUTRAL</td>\n",
              "    </tr>\n",
              "    <tr>\n",
              "      <th>4</th>\n",
              "      <td>12</td>\n",
              "      <td>clueweb12-0008wb-62-05967___1</td>\n",
              "      <td>NO</td>\n",
              "    </tr>\n",
              "  </tbody>\n",
              "</table>\n",
              "</div>\n",
              "      <button class=\"colab-df-convert\" onclick=\"convertToInteractive('df-5677cd07-898d-4aff-86e1-e627af8b7f6c')\"\n",
              "              title=\"Convert this dataframe to an interactive table.\"\n",
              "              style=\"display:none;\">\n",
              "        \n",
              "  <svg xmlns=\"http://www.w3.org/2000/svg\" height=\"24px\"viewBox=\"0 0 24 24\"\n",
              "       width=\"24px\">\n",
              "    <path d=\"M0 0h24v24H0V0z\" fill=\"none\"/>\n",
              "    <path d=\"M18.56 5.44l.94 2.06.94-2.06 2.06-.94-2.06-.94-.94-2.06-.94 2.06-2.06.94zm-11 1L8.5 8.5l.94-2.06 2.06-.94-2.06-.94L8.5 2.5l-.94 2.06-2.06.94zm10 10l.94 2.06.94-2.06 2.06-.94-2.06-.94-.94-2.06-.94 2.06-2.06.94z\"/><path d=\"M17.41 7.96l-1.37-1.37c-.4-.4-.92-.59-1.43-.59-.52 0-1.04.2-1.43.59L10.3 9.45l-7.72 7.72c-.78.78-.78 2.05 0 2.83L4 21.41c.39.39.9.59 1.41.59.51 0 1.02-.2 1.41-.59l7.78-7.78 2.81-2.81c.8-.78.8-2.07 0-2.86zM5.41 20L4 18.59l7.72-7.72 1.47 1.35L5.41 20z\"/>\n",
              "  </svg>\n",
              "      </button>\n",
              "      \n",
              "  <style>\n",
              "    .colab-df-container {\n",
              "      display:flex;\n",
              "      flex-wrap:wrap;\n",
              "      gap: 12px;\n",
              "    }\n",
              "\n",
              "    .colab-df-convert {\n",
              "      background-color: #E8F0FE;\n",
              "      border: none;\n",
              "      border-radius: 50%;\n",
              "      cursor: pointer;\n",
              "      display: none;\n",
              "      fill: #1967D2;\n",
              "      height: 32px;\n",
              "      padding: 0 0 0 0;\n",
              "      width: 32px;\n",
              "    }\n",
              "\n",
              "    .colab-df-convert:hover {\n",
              "      background-color: #E2EBFA;\n",
              "      box-shadow: 0px 1px 2px rgba(60, 64, 67, 0.3), 0px 1px 3px 1px rgba(60, 64, 67, 0.15);\n",
              "      fill: #174EA6;\n",
              "    }\n",
              "\n",
              "    [theme=dark] .colab-df-convert {\n",
              "      background-color: #3B4455;\n",
              "      fill: #D2E3FC;\n",
              "    }\n",
              "\n",
              "    [theme=dark] .colab-df-convert:hover {\n",
              "      background-color: #434B5C;\n",
              "      box-shadow: 0px 1px 3px 1px rgba(0, 0, 0, 0.15);\n",
              "      filter: drop-shadow(0px 1px 2px rgba(0, 0, 0, 0.3));\n",
              "      fill: #FFFFFF;\n",
              "    }\n",
              "  </style>\n",
              "\n",
              "      <script>\n",
              "        const buttonEl =\n",
              "          document.querySelector('#df-5677cd07-898d-4aff-86e1-e627af8b7f6c button.colab-df-convert');\n",
              "        buttonEl.style.display =\n",
              "          google.colab.kernel.accessAllowed ? 'block' : 'none';\n",
              "\n",
              "        async function convertToInteractive(key) {\n",
              "          const element = document.querySelector('#df-5677cd07-898d-4aff-86e1-e627af8b7f6c');\n",
              "          const dataTable =\n",
              "            await google.colab.kernel.invokeFunction('convertToInteractive',\n",
              "                                                     [key], {});\n",
              "          if (!dataTable) return;\n",
              "\n",
              "          const docLinkHtml = 'Like what you see? Visit the ' +\n",
              "            '<a target=\"_blank\" href=https://colab.research.google.com/notebooks/data_table.ipynb>data table notebook</a>'\n",
              "            + ' to learn more about interactive tables.';\n",
              "          element.innerHTML = '';\n",
              "          dataTable['output_type'] = 'display_data';\n",
              "          await google.colab.output.renderOutput(dataTable, element);\n",
              "          const docLink = document.createElement('div');\n",
              "          docLink.innerHTML = docLinkHtml;\n",
              "          element.appendChild(docLink);\n",
              "        }\n",
              "      </script>\n",
              "    </div>\n",
              "  </div>\n",
              "  "
            ]
          },
          "metadata": {},
          "execution_count": 43
        }
      ],
      "source": [
        "stance_df.head()"
      ]
    },
    {
      "cell_type": "markdown",
      "metadata": {
        "cell_id": "52e15bb2800044099f75407fcd39a82d",
        "deepnote_cell_type": "markdown",
        "tags": [],
        "id": "KZfuSdBq_bix"
      },
      "source": [
        "## Document retrieval and indexes explanation"
      ]
    },
    {
      "cell_type": "markdown",
      "metadata": {
        "cell_id": "3669d78c588b46529baf9f1f399731b5",
        "deepnote_cell_type": "markdown",
        "tags": [],
        "id": "2TG2BUbR_bix"
      },
      "source": [
        "During the task all the teams had been provided with an API key for the [ChatNoir](https://www.chatnoir.eu/doc/) system. It is an Elasticsearch-based search engine offering a document retrieval interface for different corpus (including ClueWeb12). The API returns the most relevant documents with respect to a query and further information for each of them, such as the BM25 score, the page rank score and the spam score. Unfortunately we were not able to obtain an API key, therefore we used the provided corpus of almost 900K passage texts to create our own indexes on which to perform document retrieval. \n",
        "\n",
        "There are different types of indexes used in Information Retrieval, the main ones are:\n",
        "- ***sparse indexes***: is a type of index that only stores a subset of the terms that appear in a document collection. This can be useful for optimizing index size and search efficiency when working with large collections.\n",
        "- ***dense indexes***: we store the embeddings of the documents, in our case created by TCT Colbert, therefore we are capturing a semantic meaning into a fixed length vector. In order to retrieve the most similar to a given query the index computes a distance between the embedding of the query and the others, we decided to use the inner product that is a default metric.\n",
        "\n",
        "To improve the robustness and the quality of our retrieval we decided to mix up the two approaches considering a hybrid pipeline and an approach that uses a sparse index and reranking made by MonoT5. \n"
      ]
    },
    {
      "cell_type": "markdown",
      "metadata": {
        "cell_id": "ce8e2320a23f4045990edbc29a02597f",
        "deepnote_cell_type": "markdown",
        "tags": [],
        "id": "wOAiKuJB_biy"
      },
      "source": [
        "\n",
        "We found on the web different valid libraries that allow to create an index given a set of documents.\n",
        "- The first one is [Pyserini](https://github.com/castorini/pyserini), a Python toolkit for reproducible information retrieval research with sparse and dense representations. The sparse index can be created on a custom collection of documents while the creation of a dense index for our own documents is not currently available.\n",
        "- This led us to look for another library that allows building a dense index and we found [autofaiss](https://github.com/criteo/autofaiss). ***autofaiss*** creates [Faiss](https://github.com/facebookresearch/faiss) knn indexes selecting the most optimal similarity search parameters. It only needs the embedding vectors for each document, that we computed using the ***pyserini encode*** module and [TCT-Colbert-v2](https://arxiv.org/abs/2112.01488) pre-trained on [MS MARCO dataset](https://microsoft.github.io/msmarco/).\n"
      ]
    },
    {
      "cell_type": "markdown",
      "metadata": {
        "cell_id": "9cf0e11f56824d8fac3e2a3e98b97594",
        "deepnote_cell_type": "markdown",
        "tags": [],
        "id": "ZZDCYs6q_biy"
      },
      "source": [
        "At this point you can simply ignore the subsections that explain the creation and go to the 'Models' section, where you will find the code to import the saved indexes and to test the models."
      ]
    },
    {
      "cell_type": "code",
      "source": [
        "def create_folder(folder_path: str):\n",
        "    try:\n",
        "        os.makedirs(folder_path, exist_ok=False)\n",
        "        print(\"Folder created\")\n",
        "    except:\n",
        "        print(\"Folder already exists\")"
      ],
      "metadata": {
        "id": "PWs7Zr2fdIaq"
      },
      "execution_count": null,
      "outputs": []
    },
    {
      "cell_type": "code",
      "source": [
        "def save_corpus(df: pd.DataFrame, folder_path: str):\n",
        "    if not os.path.exists(folder_path):\n",
        "        os.makedirs(folder_path)\n",
        "\n",
        "    save_path = os.path.join(folder_path, \"index.jsonl\")\n",
        "    df[[\"id\", \"contents\"]].to_json(save_path, orient=\"records\", lines=True)"
      ],
      "metadata": {
        "id": "mv7nvDtnbe9G"
      },
      "execution_count": null,
      "outputs": []
    },
    {
      "cell_type": "markdown",
      "metadata": {
        "cell_id": "c812c850c342424c822443a14f55fe1e",
        "deepnote_cell_type": "markdown",
        "tags": [],
        "id": "OUzTBA-m_biz"
      },
      "source": [
        "### Creation of a sparse index "
      ]
    },
    {
      "cell_type": "markdown",
      "metadata": {
        "cell_id": "bebb039b5bfe4dcd883d863bd853eed3",
        "deepnote_cell_type": "markdown",
        "tags": [],
        "id": "jKZ5BOWD_biz"
      },
      "source": [
        "In order to create a sparse index given a .jsonl file, Pyserini needs to have only 2 keys, 'id' and 'contents', so we have to remove the other columns from the dataframe and save the new .jsonl file.   \n",
        "First of all we create a 'collections' directory where to put the file and then we save it.\n",
        "\n",
        "Both corpus can be saved, but for the sparse index only the one with expanded queries is used."
      ]
    },
    {
      "cell_type": "code",
      "source": [
        "# save in the collections folder the corpus expanded\n",
        "collection_exp_path = \"collections/corpus_exp\"\n",
        "save_corpus(corpus_df_exp, collection_exp_path)"
      ],
      "metadata": {
        "id": "37hgPoDabaaU"
      },
      "execution_count": null,
      "outputs": []
    },
    {
      "cell_type": "markdown",
      "metadata": {
        "cell_id": "d91a7c06f54d4c9283b6e83c224a70d7",
        "deepnote_cell_type": "markdown",
        "tags": [],
        "id": "pWZPoEIm_biz"
      },
      "source": [
        "To build the sparse index with the Lucene inverted index on our passages corpus a script is invoked, that is `python -m pyserini.index.lucene`. \n",
        "\n",
        "[Available parameters](https://github.com/castorini/anserini/blob/master/src/main/java/io/anserini/index/IndexCollection.java) are:\n",
        "\n",
        "Required:\n",
        "- `--input collections/`: Directory location where to find the json collection.\n",
        "- `--threads int`: Number of indexing threads.\n",
        "- `--collection JsonCollection`: To indicate to the documents ingestor that the documents in input are inside a json file.\n",
        "- `--generator DefaultLuceneGenerator`: Document generator class to create the index.\n",
        "\n",
        "Optional general arguments:\n",
        "- `--verbose bool`: Enables verbose logging for each indexing thread; can be noisy if collection has many small file segments. *Defaults to false*.\n",
        "- `--quiet bool`: Turns off all logging. *Defaults to false*.\n",
        "\n",
        "Optional arguments\n",
        "- `--index indexes/sparse_exp/`: Directory where to save the index files.\n",
        "- `--storePositions bool`: Boolean switch to index store term positions; needed for phrase queries. *Defaults to false*.\n",
        "- `--storeDocvectors bool`: Boolean switch to store document vectors; needed for (pseudo) relevance feedback. *Defaults to false*.\n",
        "- `--storeContents bool`: Boolean switch to store document contents. *Defaults to false*.\n",
        "- `--storeRaw bool`: Boolean switch to store raw source documents. *Defaults to false*.\n",
        "- `--keepStopwords bool`: Boolean switch to keep stopwords. *Defaults to false*.\n",
        "- `--stopwords str`: Path to file with stopwords. *Defaults to null*.\n",
        "- `--stemmer str`: Stemmer: one of the following {porter, krovetz, none}. Defaults to 'porter'.\n",
        "- `--bm25.accurate bool`: Anserini uses an algorithm that is more computationally expensive but more accurate. The \"accurate\" variant of BM25 computes the idf of terms by taking into account accurate document lengths. If not set an approximation for idf will be used. *Defaults to false*.\n",
        "- `--pretokenized bool`: index pre-tokenized collections without any additional stemming, stopword processing. *Defaults to false*."
      ]
    },
    {
      "cell_type": "code",
      "source": [
        "index_exp_path = \"indexes/sparse_exp\"\n",
        "create_folder(index_exp_path)"
      ],
      "metadata": {
        "colab": {
          "base_uri": "https://localhost:8080/"
        },
        "id": "JHOgPi8mdL7x",
        "outputId": "67077241-28fb-40ae-e066-4f2caa4cb1b5"
      },
      "execution_count": null,
      "outputs": [
        {
          "output_type": "stream",
          "name": "stdout",
          "text": [
            "Folder created\n"
          ]
        }
      ]
    },
    {
      "cell_type": "markdown",
      "source": [
        "Create the sparse index "
      ],
      "metadata": {
        "id": "9uUTaRmXdnC4"
      }
    },
    {
      "cell_type": "code",
      "source": [
        "!python -m pyserini.index.lucene --collection JsonCollection --input $collection_exp_path --index $index_exp_path --bm25.accurate --generator DefaultLuceneDocumentGenerator --threads 2 --storePositions --storeDocvectors --storeRaw"
      ],
      "metadata": {
        "id": "zOat-BtzddxC"
      },
      "execution_count": null,
      "outputs": []
    },
    {
      "cell_type": "markdown",
      "metadata": {
        "cell_id": "6a1ca44c7a2d4966ada26d19ec87a3e7",
        "deepnote_cell_type": "markdown",
        "tags": [],
        "id": "hGrJNMIE_bi0"
      },
      "source": [
        "By default Pyserini performs stemming with 'porter' and stopwords removal on the input texts."
      ]
    },
    {
      "cell_type": "markdown",
      "metadata": {
        "cell_id": "72229a882f264ec587dc9b1f42eb22bf",
        "deepnote_cell_type": "markdown",
        "tags": [],
        "id": "u1iW_JDk_bi0"
      },
      "source": [
        "### Creation of a dense index"
      ]
    },
    {
      "cell_type": "markdown",
      "source": [
        "In order to create a dense index given a .jsonl file, Pyserini needs to have only 2 keys, 'id' and 'contents', so we have to remove the other columns from the dataframe and save the new .jsonl file.   \n",
        "First of all we create a 'collections' directory where to put the file and then we save it.\n",
        "\n",
        "Both corpus can be saved, but for the dense index only the one with only passage texts is used."
      ],
      "metadata": {
        "id": "8wl10ONVeGaj"
      }
    },
    {
      "cell_type": "code",
      "source": [
        "# save in the collections folder the corpus\n",
        "collection_path = \"collections/corpus\"\n",
        "save_corpus(corpus_df, collection_path)"
      ],
      "metadata": {
        "id": "AVuiYPLleB_n"
      },
      "execution_count": null,
      "outputs": []
    },
    {
      "cell_type": "markdown",
      "metadata": {
        "cell_id": "8aee81a3a1034d0397eb42b9b3b8c223",
        "deepnote_cell_type": "markdown",
        "tags": [],
        "id": "PdNu7AkT_bi0"
      },
      "source": [
        "As explained before, Pyserini doesn't support yet the creation of a dense index on a custom documents collection. Thus we first created the embedding of the documents with Pyserini and then we created the index with autofaiss.   \n",
        "The parameters passed to the encode module are:\n",
        "\n",
        "Input:\n",
        "- `--corpus`: Directory that contains corpus files to be encoded, in jsonl format.\n",
        "- `--fields`: Keys of the json to consider for the embedding.\n",
        "- `--shard-id 0`: Number of shard in case we want to split the index.\n",
        "- `--shard-num 1`: In our case we have only one shard, but here you can set multiple shard and then you should run the command multiple times changing the shard-id.\n",
        "\n",
        "Output:\n",
        "- `--embeddings`: Directory where to put the embeddings once computed.\n",
        "\n",
        "Encoder:\n",
        "- `--encoder`: Encoder to use in order to compute the embeddings (in our case TCT Colbert pre-trained on the second version of MS MARCO).\n",
        "- `--fields`: Fields to encode, equal to the previous `--fields` parameter.\n",
        "- `--batch-size`: Batch size to use.\n",
        "- `--fp16`: Speed up the computation if PyTorch autocast is used for inference."
      ]
    },
    {
      "cell_type": "code",
      "source": [
        "embeddings_path = \"embeddings/dense\"\n",
        "create_folder(embeddings_path)"
      ],
      "metadata": {
        "colab": {
          "base_uri": "https://localhost:8080/"
        },
        "id": "RuA-dAd3lrKL",
        "outputId": "0a188768-4165-4a69-96dc-84ba09af066e"
      },
      "execution_count": null,
      "outputs": [
        {
          "output_type": "stream",
          "name": "stdout",
          "text": [
            "Folder already exists\n"
          ]
        }
      ]
    },
    {
      "cell_type": "markdown",
      "source": [
        "Create the embeddings"
      ],
      "metadata": {
        "id": "rFOWQzmgnMho"
      }
    },
    {
      "cell_type": "code",
      "execution_count": null,
      "metadata": {
        "cell_id": "75cd70331d1b4ecba9597e1bf3edd61e",
        "deepnote_cell_type": "code",
        "tags": [],
        "id": "llwz8Am5_bi0",
        "colab": {
          "base_uri": "https://localhost:8080/"
        },
        "outputId": "7c8d8d6f-f96c-4c60-d784-9768f80943c6"
      },
      "outputs": [
        {
          "output_type": "stream",
          "name": "stdout",
          "text": [
            "Downloading: 100% 559/559 [00:00<00:00, 532kB/s]\n",
            "Downloading: 100% 438M/438M [00:10<00:00, 42.5MB/s]\n",
            "Downloading: 100% 334/334 [00:00<00:00, 336kB/s]\n",
            "Downloading: 100% 232k/232k [00:00<00:00, 258kB/s]\n",
            "Downloading: 100% 112/112 [00:00<00:00, 92.3kB/s]\n",
            "868655it [00:08, 99616.76it/s]\n",
            "100% 27146/27146 [1:17:09<00:00,  5.86it/s]\n"
          ]
        }
      ],
      "source": [
        "!python -m pyserini.encode input --corpus $collection_path --fields text --shard-id 0 --shard-num 1 output --embeddings $embeddings_path encoder --encoder castorini/tct_colbert-v2-hnp-msmarco --fields text --batch-size 32 --fp16"
      ]
    },
    {
      "cell_type": "markdown",
      "metadata": {
        "cell_id": "b604deb0ad3f4da9862ac9816e165672",
        "deepnote_cell_type": "markdown",
        "tags": [],
        "id": "fBVmB3Sh_bi1"
      },
      "source": [
        "After that we have the embeddings in a .jsonl file, in the 'vector' column, we need to split this very huge file into smaller ones in order to make the size suitable for the RAM. Moreover autofaiss taks as input .npy files therefore we decided to split the embedding vectors in .npy files that contains 70000 vectors each."
      ]
    },
    {
      "cell_type": "markdown",
      "source": [
        "Create the npy_embeddings directory"
      ],
      "metadata": {
        "id": "LapJze3UnK93"
      }
    },
    {
      "cell_type": "code",
      "source": [
        "npy_path = \"npy_embeddings/\"\n",
        "create_folder(npy_path)"
      ],
      "metadata": {
        "colab": {
          "base_uri": "https://localhost:8080/"
        },
        "id": "uy2KMRaZnBdY",
        "outputId": "1b5b908e-8b1b-4d88-d84f-8fff583862fe"
      },
      "execution_count": null,
      "outputs": [
        {
          "output_type": "stream",
          "name": "stdout",
          "text": [
            "Folder already exists\n"
          ]
        }
      ]
    },
    {
      "cell_type": "code",
      "execution_count": null,
      "metadata": {
        "cell_id": "4c0e30787b924034b3d2e809b07fe73d",
        "deepnote_cell_type": "code",
        "tags": [],
        "id": "OnJVW_nv_bi1"
      },
      "outputs": [],
      "source": [
        "def convert_to_npy(path, npy_path, file_len, chunksize=70000):\n",
        "    '''\n",
        "        It takes as input a .jsonl file and it creates some .npy files taking\n",
        "        only the 'vector' key, that is the embedding of the documents. It saves\n",
        "        the results in the npy_embeddings directory.\n",
        "        Parameters:\n",
        "            - path: str \n",
        "                The path of the .jsonl file that contains the embeddings in the 'vector' key.\n",
        "            - file_len: int\n",
        "                The number of elements inside the .jsonl file.\n",
        "            - chunksize: int\n",
        "                The number of lines to read at each step, so the number of vectors for each new\n",
        "                .npy file.\n",
        "    '''\n",
        "    steps = file_len//chunksize\n",
        "    for i, chunk in enumerate(tqdm(pd.read_json(path, lines=True, chunksize=chunksize), total=steps)):\n",
        "        npy_list = []\n",
        "        for vect in chunk['vector'].to_numpy():\n",
        "            npy_list.append(vect)\n",
        "\n",
        "        # Save different files to avoid RAM consumption\n",
        "        idx_filename = os.path.join(npy_path, f\"embeddings_{i+10}.npy\")\n",
        "        np.save(idx_filename, np.array(npy_list))\n",
        "        del npy_list"
      ]
    },
    {
      "cell_type": "code",
      "execution_count": null,
      "metadata": {
        "cell_id": "4ae8de39a391436a9c0f43e4bbb2f4c1",
        "deepnote_cell_type": "code",
        "tags": [],
        "id": "cdwNzkuo_bi1",
        "colab": {
          "base_uri": "https://localhost:8080/"
        },
        "outputId": "c9ec3c15-f3fb-4b24-cfd5-3b1176466662"
      },
      "outputs": [
        {
          "output_type": "stream",
          "name": "stderr",
          "text": [
            "13it [04:28, 20.67s/it]\n"
          ]
        }
      ],
      "source": [
        "# Actually call the function\n",
        "file_len = corpus_df_exp.shape[0]\n",
        "embeddings_filename = os.path.join(embeddings_path, \"embeddings.jsonl\")\n",
        "convert_to_npy(embeddings_filename, npy_path, file_len)"
      ]
    },
    {
      "cell_type": "markdown",
      "metadata": {
        "cell_id": "f14947be136345f892d7174f76b9ab5b",
        "deepnote_cell_type": "markdown",
        "tags": [],
        "id": "2f39t_uJ_bi1"
      },
      "source": [
        "Given the embedding vectors autofaiss automatically creates a dense index executing the following cell:"
      ]
    },
    {
      "cell_type": "code",
      "source": [
        "index_dense_path = \"indexes\"\n",
        "create_folder(index_dense_path)"
      ],
      "metadata": {
        "colab": {
          "base_uri": "https://localhost:8080/"
        },
        "id": "SUsX2GILn4KF",
        "outputId": "520ff64e-e105-40a5-a960-678a3017cdcf"
      },
      "execution_count": null,
      "outputs": [
        {
          "output_type": "stream",
          "name": "stdout",
          "text": [
            "Folder created\n"
          ]
        }
      ]
    },
    {
      "cell_type": "code",
      "execution_count": null,
      "metadata": {
        "cell_id": "030e9454cf1a47c387e92d6d9494f78a",
        "deepnote_cell_type": "code",
        "tags": [],
        "id": "NGWj6Yx4_bi2",
        "colab": {
          "base_uri": "https://localhost:8080/"
        },
        "outputId": "c42dc43c-5bba-448a-908b-3c20a320b47d"
      },
      "outputs": [
        {
          "output_type": "stream",
          "name": "stderr",
          "text": [
            "100%|██████████| 13/13 [00:00<00:00, 663.57it/s]\n",
            " 36%|███▌      | 41/114 [00:29<00:02, 24.65it/s]"
          ]
        }
      ],
      "source": [
        "from autofaiss import build_index\n",
        "\n",
        "knn_filename = os.path.join(index_dense_path, \"dense.index\")\n",
        "dense_filename = os.path.join(index_dense_path, \"dense_index_infos.json\")\n",
        "\n",
        "# Load the .npy files from the \"npy_embeddings\" directory where we saved them\n",
        "build_index(embeddings=npy_path, \n",
        "            index_path=knn_filename,\n",
        "            index_infos_path=dense_filename, \n",
        "            max_index_memory_usage=\"6GB\",\n",
        "            current_memory_available=\"9GB\")"
      ]
    },
    {
      "cell_type": "markdown",
      "metadata": {
        "cell_id": "998dc26410c846a5a75c40d4daa3e5e8",
        "deepnote_cell_type": "markdown",
        "tags": [],
        "id": "ZMQJTWBH_bi2"
      },
      "source": [
        "## Models"
      ]
    },
    {
      "cell_type": "markdown",
      "metadata": {
        "cell_id": "fbb3eee1864d43888f823e1114ffe494",
        "deepnote_cell_type": "markdown",
        "tags": [],
        "id": "0-RBkIJE_bi2"
      },
      "source": [
        "To load the pre-saved indexes from the Drive shared folder run the following cell:"
      ]
    },
    {
      "cell_type": "code",
      "source": [
        "indexes_filename = \"indexes.tar.gz\"\n",
        "indexes_path = os.path.join(remote_path, indexes_filename)"
      ],
      "metadata": {
        "id": "yGVlVSU6HDMO"
      },
      "execution_count": null,
      "outputs": []
    },
    {
      "cell_type": "code",
      "execution_count": null,
      "metadata": {
        "cell_id": "efb2465719d44d6b9314c9877f49ebba",
        "deepnote_cell_type": "code",
        "tags": [],
        "id": "mwOccf-8_bi2"
      },
      "outputs": [],
      "source": [
        "# Load the indexes from Drive\n",
        "!cp $indexes_path .\n",
        "!tar -xzvf $indexes_filename\n",
        "!rm $indexes_filename"
      ]
    },
    {
      "cell_type": "markdown",
      "metadata": {
        "cell_id": "21b760611c9248b38f0a1599e7be841a",
        "deepnote_cell_type": "markdown",
        "tags": [],
        "id": "z2BL4vNd_bi2"
      },
      "source": [
        "We created a ```DocumentsIndex``` class to import the dense and sparse indexes and to set different parameters, you can find it in the ```src``` directory of the project.\n",
        "\n",
        "Before presenting the different pipelines that we implemented for document retrieval, we create the instance for the dense index, since it was quite heavy in memory and we use the same instance for all the pipelines that need it. \n",
        "We also create a directory for saving the results of the search."
      ]
    },
    {
      "cell_type": "code",
      "source": [
        "results_folder = \"results/\"\n",
        "create_folder(results_folder)"
      ],
      "metadata": {
        "colab": {
          "base_uri": "https://localhost:8080/"
        },
        "id": "t0DxHan_VoJL",
        "outputId": "7bed2e02-f1cb-4a03-dae1-625ff0192a56"
      },
      "execution_count": null,
      "outputs": [
        {
          "output_type": "stream",
          "name": "stdout",
          "text": [
            "Folder created\n"
          ]
        }
      ]
    },
    {
      "cell_type": "code",
      "source": [
        "rel_qrels = \"downloads/touche-task2-2022-relevance.qrels\"\n",
        "quality_qrels = \"downloads/touche-task2-2022-quality.qrels\""
      ],
      "metadata": {
        "id": "tfRyVu4rfxEH"
      },
      "execution_count": null,
      "outputs": []
    },
    {
      "cell_type": "code",
      "execution_count": null,
      "metadata": {
        "cell_id": "7243e7c84a1743049135da89a67ff22c",
        "deepnote_cell_type": "code",
        "tags": [],
        "id": "2YMT5Ral_bi3",
        "colab": {
          "base_uri": "https://localhost:8080/"
        },
        "outputId": "e7936cea-6bff-4c97-93b2-74b54b4a4a6b"
      },
      "outputs": [
        {
          "output_type": "stream",
          "name": "stderr",
          "text": [
            "/usr/local/lib/python3.8/dist-packages/torch/cuda/__init__.py:497: UserWarning: Can't initialize NVML\n",
            "  warnings.warn(\"Can't initialize NVML\")\n"
          ]
        }
      ],
      "source": [
        "from src.documents_index import DocumentsIndex\n",
        "from utils.retrieval_util import print_ndcg, retrieve_docs_ranked\n",
        "from src.sparse_pipeline import SparsePipeline\n",
        "from src.dense_pipeline import DensePipeline\n",
        "from src.hybrid_pipeline import HybridPipeline\n",
        "from src.monot5_pipeline import MonoT5Pipeline\n",
        "from src.evaluate_qrels import compute_recall"
      ]
    },
    {
      "cell_type": "code",
      "execution_count": null,
      "metadata": {
        "cell_id": "e2d8337f96274e129e6bbb54c609e30a",
        "deepnote_cell_type": "code",
        "tags": [],
        "id": "9L0niPFh_bi3",
        "colab": {
          "base_uri": "https://localhost:8080/",
          "height": 264,
          "referenced_widgets": [
            "1cb3818677b745f08c6ba62b33e28589",
            "0e1d048db77b40d097bdf4189402b684",
            "c3d8e25e3f3849d1910c7ea389eb042d",
            "6dd95fe50a7b4a6b9404e9b200a196c2",
            "0e5b5c67fc7d4e53a4b5e593b8cc89b3",
            "3484439bf2294a8ea2fa26b944f1fbdf",
            "35b589c8297d4d89b1068cf4a023e3ff",
            "86550c3a6a3044ce9c241c9ca125555e",
            "3ec2dc2354ea45b9a8cc48fdddda03c7",
            "e79447f9ceac47f0b60267aea3f2e62e",
            "1e0cd58598094702937f6f1b5ff8e7f8",
            "8d28f783ac9f41f8882f01649abaa7d2",
            "a09048e9372b4beaab2b3b82bc812e02",
            "94f8daf98bb547b58cfd7f33c11afacd",
            "c1c90e8be9f6450e8db5e70308c01836",
            "20039bd211354d648920d2e585689534",
            "fe2374c4656e40e8bef62bc201fc399c",
            "6f9f38262a824f6a9d97c5363918a8f9",
            "c83961adacac4afd90482e424a5ef652",
            "cb3d717337874680a117a732b955ef4b",
            "68988d49ec2e4f09a5d9465c994065bf",
            "c373aa5e9e0f4d5eb299fb3c686da43e",
            "ed26a5b94f5144c190e0fd2e7aad9e70",
            "699eb38a442f4f658264874f165a6453",
            "1b48d1e6fb784fb487a0b5a0ef8b2198",
            "e87728761b574ea28e3947d6d8decf1f",
            "2765894d9e6e4971bbf430e8e7adaf39",
            "8fea8b18d36b44a2be04b06a6d182c92",
            "226bc81f31e5476891bad74ea73330f8",
            "e7c4e274c15f4659ae36f527aa1cfa8a",
            "3982e5ec68c447b6a385717e2b55f7b0",
            "48b0b8717eb2478f97ac0406ba0cb866",
            "11610db773a8423896c469b8822d8b1d",
            "1036335e66d54428b01fd4ddb41dde63",
            "ff9f54fee50c48e28a1b7d6c3d6abe94",
            "3947acc12f4945089fe2c7bcb09fcabd",
            "7b842d4b675c4651bce02ba5cf31b990",
            "5eec5f889ee04b26810bc1db6491a9df",
            "22b481271b524f579fe2bdb246b47af8",
            "332db40ee8ea4ef48a79fd310e1e5fd9",
            "47f2c7f5ce4c41d7ab9b60f5d28ccb38",
            "7e137f62229a4bc598a21a99b6c2ed33",
            "d1f8f9d5548d4eb29775b68c05302f30",
            "6d7f247039c84f889dc506ca2dc678aa",
            "403c0445d13a4d2d98f91f77ca82febb",
            "fcf3ed6ca2684b71aaccf1c8822026fb",
            "e3f238afeb5f49f9a4ca5ee89d60b2da",
            "105254b0e0a8411bb66d3611911fb66f",
            "f03903e4637e49c6b02ee51819226784",
            "22066148c24b4d74855ad3a0f5947efb",
            "8721828323164823a01c0589f15c21cd",
            "ca7a23dd784e4dd1bcd6c663d6283eaa",
            "145ad2e93bdb431b8404f2bb202e85c4",
            "45d1ae9af920463fb3575e966c5ce9c5",
            "bbf819632cdb440cb0295e5dc13decf8"
          ]
        },
        "outputId": "eac2025a-b367-4fea-f7b7-51ba7df3d168"
      },
      "outputs": [
        {
          "output_type": "stream",
          "name": "stdout",
          "text": [
            "Loading the dense index file ...\n",
            "Loading the encoder castorini/tct_colbert-v2-hnp-msmarco ...\n"
          ]
        },
        {
          "output_type": "display_data",
          "data": {
            "text/plain": [
              "Downloading:   0%|          | 0.00/559 [00:00<?, ?B/s]"
            ],
            "application/vnd.jupyter.widget-view+json": {
              "version_major": 2,
              "version_minor": 0,
              "model_id": "1cb3818677b745f08c6ba62b33e28589"
            }
          },
          "metadata": {}
        },
        {
          "output_type": "display_data",
          "data": {
            "text/plain": [
              "Downloading:   0%|          | 0.00/438M [00:00<?, ?B/s]"
            ],
            "application/vnd.jupyter.widget-view+json": {
              "version_major": 2,
              "version_minor": 0,
              "model_id": "8d28f783ac9f41f8882f01649abaa7d2"
            }
          },
          "metadata": {}
        },
        {
          "output_type": "display_data",
          "data": {
            "text/plain": [
              "Downloading:   0%|          | 0.00/232k [00:00<?, ?B/s]"
            ],
            "application/vnd.jupyter.widget-view+json": {
              "version_major": 2,
              "version_minor": 0,
              "model_id": "ed26a5b94f5144c190e0fd2e7aad9e70"
            }
          },
          "metadata": {}
        },
        {
          "output_type": "display_data",
          "data": {
            "text/plain": [
              "Downloading:   0%|          | 0.00/112 [00:00<?, ?B/s]"
            ],
            "application/vnd.jupyter.widget-view+json": {
              "version_major": 2,
              "version_minor": 0,
              "model_id": "1036335e66d54428b01fd4ddb41dde63"
            }
          },
          "metadata": {}
        },
        {
          "output_type": "display_data",
          "data": {
            "text/plain": [
              "Downloading:   0%|          | 0.00/334 [00:00<?, ?B/s]"
            ],
            "application/vnd.jupyter.widget-view+json": {
              "version_major": 2,
              "version_minor": 0,
              "model_id": "403c0445d13a4d2d98f91f77ca82febb"
            }
          },
          "metadata": {}
        },
        {
          "output_type": "stream",
          "name": "stdout",
          "text": [
            "\n",
            "The process is finished correctly!\n",
            "\n"
          ]
        }
      ],
      "source": [
        "dense_index = DocumentsIndex('indexes/dense.index', 'dense')"
      ]
    },
    {
      "cell_type": "markdown",
      "metadata": {
        "cell_id": "742bc6922b8c4b4d84158c76492bc407",
        "deepnote_cell_type": "markdown",
        "tags": [],
        "id": "1gskRywJ_bi3"
      },
      "source": [
        "The following 2 functions can be used to print the nDCG score that we computed for different files and to return a list of urls given the corpus and the dictionary of the results."
      ]
    },
    {
      "cell_type": "markdown",
      "metadata": {
        "cell_id": "ec2c0bfde4eb4c4a9d94ec56f299f6d9",
        "deepnote_cell_type": "markdown",
        "tags": [],
        "id": "f5-0we2h_bi4"
      },
      "source": [
        "### Sparse index (BM25 score)"
      ]
    },
    {
      "cell_type": "markdown",
      "metadata": {
        "cell_id": "9dce19e089594a5a95007f11660d8ce4",
        "deepnote_cell_type": "markdown",
        "tags": [],
        "id": "iiif4oe2_bi4"
      },
      "source": [
        "It's a probabilistic retrieval model for estimating the relevance of a passage given a query. In this simple pipeline we use the sparse index created before, so considering the accurate BM25 for the ranking and we compute the *nDCG@5* as all the teams did during the task. This pipeline is the ***baseline*** for document retrieval and it's the less effective in terms of *nDCG@5* computed on the quality and relevance. \n",
        "\n",
        "As default value for the parameters of BM25, we leave $k=0.9$ and $b=0.4$ because these are the ones that work better in combination with the dense index in the hybrid pipeline. \n",
        "\n",
        "To get the best possible results in terms of *nDCG@5* using only the sparse index we perform GridSearch over the possible parameters w.r.t to the relevance results. However, in a certain range of parameters we achieve similar scores, thus performing GridSearch allows us only to obtain the best score to reflect other users' results. \n",
        "\n",
        "At the end, we noticed that the best values are $k=1.05$ and $b=0.7$, which allows to score **0.472** in relevance and **0.500** quality.\n",
        "\n",
        "To see how the pipeline is implemented you can check ```src/sparse_pipeline.py``` file that contains the related class. In the following experiments we retrieve the top-100 documents, which we consider a good size for computing the Recall@K and the *nDCG@K* to evaluate both retrieval and ranking."
      ]
    },
    {
      "cell_type": "code",
      "execution_count": null,
      "metadata": {
        "cell_id": "27997e0f91d9461ab77e824325bd99fb",
        "deepnote_cell_type": "code",
        "tags": [],
        "id": "u1TGKuW4_bi4",
        "colab": {
          "base_uri": "https://localhost:8080/"
        },
        "outputId": "05115721-b5a7-4be4-da71-22a9c10f811c"
      },
      "outputs": [
        {
          "output_type": "stream",
          "name": "stdout",
          "text": [
            "Loading the sparse index file ...\n",
            "\n",
            "The process is finished correctly!\n",
            "\n"
          ]
        }
      ],
      "source": [
        "sparse_index = DocumentsIndex(\"indexes/sparse_index\", 'sparse', set_bm25=True, k=1.05, b=0.7)  "
      ]
    },
    {
      "cell_type": "code",
      "execution_count": null,
      "metadata": {
        "cell_id": "bb10409e64814c0bb8558741e4f0164b",
        "deepnote_cell_type": "code",
        "tags": [],
        "id": "_EtphSIn_bi4",
        "colab": {
          "base_uri": "https://localhost:8080/"
        },
        "outputId": "5e3fa900-e717-4e8b-ac94-4496acbb580b"
      },
      "outputs": [
        {
          "output_type": "stream",
          "name": "stdout",
          "text": [
            "The nDCG for touche-task2-2022-relevance qrel is:\n",
            "               Tag    nDCG@5\n",
            "0  sparse_pipeline  0.472967 \n",
            "\n",
            "The nDCG for touche-task2-2022-quality qrel is:\n",
            "               Tag    nDCG@5\n",
            "0  sparse_pipeline  0.500204 \n",
            "\n"
          ]
        }
      ],
      "source": [
        "sparse_pipeline = SparsePipeline(results_folder, \"sparse_pipeline\", sparse_index)\n",
        "\n",
        "# Evaluate the pipeline both on relevance and quality .qrels\n",
        "sparse_scores, ndcg_sparse = sparse_pipeline.compute_results(\n",
        "                                [rel_qrels, quality_qrels],\n",
        "                                topics, k=100, \n",
        "                                evaluate=True,\n",
        "                                clean_query=False\n",
        "                             )\n",
        "\n",
        "print_ndcg(ndcg_sparse)"
      ]
    },
    {
      "cell_type": "code",
      "source": [
        "compute_recall(rel_qrels, \"results/sparse_pipeline_results.qrels\")"
      ],
      "metadata": {
        "colab": {
          "base_uri": "https://localhost:8080/"
        },
        "id": "i3R_JxAlYvGZ",
        "outputId": "c9583000-fd70-4fea-8754-0f1373b9fc6d"
      },
      "execution_count": null,
      "outputs": [
        {
          "output_type": "execute_result",
          "data": {
            "text/plain": [
              "0.6927539674320243"
            ]
          },
          "metadata": {},
          "execution_count": 33
        }
      ]
    },
    {
      "cell_type": "markdown",
      "metadata": {
        "cell_id": "a0d3d74ad60e423090c4934e3f6838f7",
        "deepnote_cell_type": "markdown",
        "tags": [],
        "id": "DqPh8UDe_bi5"
      },
      "source": [
        "### Sparse index using T5 expanded corpus"
      ]
    },
    {
      "cell_type": "markdown",
      "metadata": {
        "cell_id": "666a82fc0fbb41f28ba279db7501853d",
        "deepnote_cell_type": "markdown",
        "tags": [],
        "id": "4wiZwkNC_bi6"
      },
      "source": [
        "The Touchè teams also released a corpus with a DocT5Query expansion at the end of each document. It has been proved that this could lead to [better performances](https://arxiv.org/abs/2103.04831) therefore we think that it was worth to try.  \n",
        "We created a sparse index based on the expanded corpus and the results were quite satisfying and allowed us to break the 0.5 threshold for the nDCG score also with a sparse index. "
      ]
    },
    {
      "cell_type": "code",
      "source": [
        "sparse_exp_index = DocumentsIndex(\"indexes/sparse_exp_index\", 'sparse', set_bm25=True, k=1.55, b=0.8)  "
      ],
      "metadata": {
        "colab": {
          "base_uri": "https://localhost:8080/"
        },
        "id": "JucLAx3tfTl4",
        "outputId": "b6bba5c6-4d66-4bb4-d77a-052de6b44fee"
      },
      "execution_count": null,
      "outputs": [
        {
          "output_type": "stream",
          "name": "stdout",
          "text": [
            "Loading the sparse index file ...\n",
            "\n",
            "The process is finished correctly!\n",
            "\n"
          ]
        }
      ]
    },
    {
      "cell_type": "markdown",
      "source": [
        "Similar to the baseline model, we performs GridSearch over possible parameters. We noticed that an higher value for the *k* parameter is needed to achieve better results, probably this is due to the document expansion performed on the original corpus. \n",
        "\n",
        "At the end, with $k=1.55$ and $b=0.8$ we obtain the *nDCG@5* of **0.508** on relevance and **0.548** on quality."
      ],
      "metadata": {
        "id": "Rp2pn7Yyf0Me"
      }
    },
    {
      "cell_type": "code",
      "source": [
        "sparse_exp_pipeline = SparsePipeline(results_folder, \"sparse_exp_pipeline\", sparse_exp_index)\n",
        "\n",
        "# Evaluate the pipeline both on relevance and quality .qrels\n",
        "sparse_scores, ndcg_sparse = sparse_exp_pipeline.compute_results(\n",
        "                                [rel_qrels, quality_qrels],\n",
        "                                topics, k=100, \n",
        "                                evaluate=True,\n",
        "                                clean_query=False\n",
        "                             )\n",
        "\n",
        "print_ndcg(ndcg_sparse)"
      ],
      "metadata": {
        "colab": {
          "base_uri": "https://localhost:8080/"
        },
        "id": "yL8zeQIyfJMz",
        "outputId": "c2001346-2607-4250-eaff-318bd3c9ad19"
      },
      "execution_count": null,
      "outputs": [
        {
          "output_type": "stream",
          "name": "stdout",
          "text": [
            "The nDCG for touche-task2-2022-relevance qrel is:\n",
            "                   Tag    nDCG@5\n",
            "0  sparse_exp_pipeline  0.508426 \n",
            "\n",
            "The nDCG for touche-task2-2022-quality qrel is:\n",
            "                   Tag    nDCG@5\n",
            "0  sparse_exp_pipeline  0.548904 \n",
            "\n"
          ]
        }
      ]
    },
    {
      "cell_type": "code",
      "source": [
        "compute_recall(rel_qrels, \"results/sparse_exp_pipeline_results.qrels\")"
      ],
      "metadata": {
        "colab": {
          "base_uri": "https://localhost:8080/"
        },
        "id": "TwtFm5Qkf17W",
        "outputId": "30decff0-44b0-4313-a935-2d3f1f6ba908"
      },
      "execution_count": null,
      "outputs": [
        {
          "output_type": "execute_result",
          "data": {
            "text/plain": [
              "0.7364467296259576"
            ]
          },
          "metadata": {},
          "execution_count": 34
        }
      ]
    },
    {
      "cell_type": "markdown",
      "metadata": {
        "cell_id": "d935493b5671482d93f2ab04dabb5c09",
        "deepnote_cell_type": "markdown",
        "tags": [],
        "id": "qfhHVFjP_bi6"
      },
      "source": [
        "### Dense index"
      ]
    },
    {
      "cell_type": "markdown",
      "metadata": {
        "cell_id": "e7673a2642294367b2fa911d990c5ab3",
        "deepnote_cell_type": "markdown",
        "tags": [],
        "id": "WLUEsQ92_bi6"
      },
      "source": [
        "In this case the approach is quite different, as seen before the index computes the knn between the query embedding and the document embeddings. Which type of encoder did we use?\n",
        "\n",
        "We decided to use a version of TCT-Colbert-v2 pre-trained on the second version of MS MARCO dataset. You can find more information about TCT-Colbert in the [paper](https://aclanthology.org/2021.repl4nlp-1.17.pdf). \n",
        "The general idea is that the embeddings capture the semantic meaning of the documents, capturing also a notion of terms importance and then we will explore the similarities between embeddings considering the inner product between the vectors.\n",
        "\n",
        "In this pipeline we need to encode the queries with TCT-Colbert-v2 before giving to the index, the entire process is done within the 'search' function implemented in the ```DocumentsIndex``` class. After that we encoded the queries we can give the vectors to the index, then it will retrieve the top-k documents with the highest inner product with respect to the query embedding.\n",
        "\n",
        "Moreover we used a parameter to clean the queries removing punctuation and in the case of the dense index this led us to the best **nDCG@5**.\n",
        "\n",
        "Our better results are **0.594** on relevance and **0.614** on quality."
      ]
    },
    {
      "cell_type": "code",
      "execution_count": null,
      "metadata": {
        "cell_id": "58450eb7ad534866943d69f30bc58e74",
        "deepnote_cell_type": "code",
        "tags": [],
        "id": "qmgbXMQG_bi6",
        "colab": {
          "base_uri": "https://localhost:8080/"
        },
        "outputId": "5c0858bc-41f9-49df-8b4f-ab7a6fbbda74"
      },
      "outputs": [
        {
          "output_type": "stream",
          "name": "stdout",
          "text": [
            "The nDCG for touche-task2-2022-relevance qrel is:\n",
            "              Tag    nDCG@5\n",
            "0  dense_pipeline  0.594256 \n",
            "\n",
            "The nDCG for touche-task2-2022-quality qrel is:\n",
            "              Tag    nDCG@5\n",
            "0  dense_pipeline  0.614225 \n",
            "\n"
          ]
        }
      ],
      "source": [
        "dense_pipeline = DensePipeline(results_folder, 'dense_pipeline', dense_index)\n",
        "\n",
        "dense_scores, ndcg_dense = dense_pipeline.compute_results(\n",
        "                                [rel_qrels, quality_qrels],\n",
        "                                topics, \n",
        "                                corpus_df, \n",
        "                                k=100, \n",
        "                                clean_query=True,\n",
        "                                evaluate=True\n",
        "                            )\n",
        "\n",
        "print_ndcg(ndcg_dense)"
      ]
    },
    {
      "cell_type": "code",
      "source": [
        "compute_recall(rel_qrels, \"results/dense_pipeline_results.qrels\")"
      ],
      "metadata": {
        "colab": {
          "base_uri": "https://localhost:8080/"
        },
        "id": "JXauErmaMBp5",
        "outputId": "350fd6b5-1d7c-4c48-ec78-66542ef8d074"
      },
      "execution_count": null,
      "outputs": [
        {
          "output_type": "execute_result",
          "data": {
            "text/plain": [
              "0.7068018240091396"
            ]
          },
          "metadata": {},
          "execution_count": 35
        }
      ]
    },
    {
      "cell_type": "markdown",
      "metadata": {
        "cell_id": "0dfedca0ada942bb82c75ad78cfd55ec",
        "deepnote_cell_type": "markdown",
        "tags": [],
        "id": "mESYxkTi_bi7"
      },
      "source": [
        "### Hybrid pipeline (sparse + dense index)"
      ]
    },
    {
      "cell_type": "markdown",
      "metadata": {
        "cell_id": "b375c24c2b154465a13c26296d382bea",
        "deepnote_cell_type": "markdown",
        "tags": [],
        "id": "rNtSrk5o_bi7"
      },
      "source": [
        "We also decided to test a combination of the 2 approaches, retrieving k documents from both indexes and combining in a clever way the obtained scores. We read the main idea behind the following algorithm in the HybridSearcher class of Pyserini.\n",
        "\n",
        "**Algorithm**\n",
        "1. First of all we save the minimum and maximum scores of the retrieved documents for both the sparse and the dense indexes (0 if no documents retrieved).\n",
        "2. Then we iterate over the union of the ids that have been retrieved from the indexes, at this point if a document was found by an index, the relative score will be taken, otherwise the minimum score will be considered.\n",
        "3. If we want we can normalize the scores and at the end we sum the scores multiplying the sparse score for an alpha value (in our case alpha=0.2). \n",
        "4. At the end we return the re-ranked list considering the new computed scores.\n",
        "\n",
        "Multiplying by alpha we are giving more weight to the dense index, this is why we know that it performs better and we don't want that the 2 scores have the same weights on the sum. We decided to retrieve 700 documents per index because we observed empirically that even if we increase this number, the results of the ranking would not change.\n",
        "\n",
        "We observe that better performance were reached using the sparse index with passage texts expanded. The best parameters for the sparse index are default, i.e. $k=0.9$ and $b=0.6$. Using the *nDCG@5* metric, we achieve **0.619** on relevance and **0.655** on quality. "
      ]
    },
    {
      "cell_type": "code",
      "execution_count": null,
      "metadata": {
        "cell_id": "e23cf8fa1a2c490595039bdbce6f3046",
        "deepnote_cell_type": "code",
        "tags": [],
        "id": "2nqlWwgj_bi7",
        "colab": {
          "base_uri": "https://localhost:8080/"
        },
        "outputId": "79b36278-aefc-47c0-eb41-f03de403caca"
      },
      "outputs": [
        {
          "output_type": "stream",
          "name": "stdout",
          "text": [
            "Loading the sparse index file ...\n",
            "\n",
            "The process is finished correctly!\n",
            "\n",
            "The nDCG for touche-task2-2022-relevance qrel is:\n",
            "               Tag    nDCG@5\n",
            "0  hybrid_pipeline  0.618735 \n",
            "\n",
            "The nDCG for touche-task2-2022-quality qrel is:\n",
            "               Tag    nDCG@5\n",
            "0  hybrid_pipeline  0.655515 \n",
            "\n"
          ]
        }
      ],
      "source": [
        "sparse_hybrid_index = DocumentsIndex(\"indexes/sparse_exp_index\", 'sparse', set_bm25=True, k=0.9, b=0.6)  \n",
        "\n",
        "hybrid_pipeline = HybridPipeline(results_folder, 'hybrid_pipeline', sparse_hybrid_index, dense_index)\n",
        "\n",
        "scores_hybrid, ndcg_hybrid = hybrid_pipeline.compute_results(\n",
        "                                [rel_qrels, quality_qrels],\n",
        "                                topics, corpus_df, k=700, alpha=0.2, evaluate=True, k_end=100\n",
        "                             )\n",
        "\n",
        "print_ndcg(ndcg_hybrid)"
      ]
    },
    {
      "cell_type": "code",
      "source": [
        "compute_recall(rel_qrels, \"results/hybrid_pipeline_results.qrels\")"
      ],
      "metadata": {
        "colab": {
          "base_uri": "https://localhost:8080/"
        },
        "id": "uNzX9bG4MPXf",
        "outputId": "0a35cd85-a182-4e18-a362-317ed32f1c71"
      },
      "execution_count": null,
      "outputs": [
        {
          "output_type": "execute_result",
          "data": {
            "text/plain": [
              "0.8027718715098813"
            ]
          },
          "metadata": {},
          "execution_count": 38
        }
      ]
    },
    {
      "cell_type": "markdown",
      "metadata": {
        "cell_id": "0719dae9312b4950a1584a4f94d27da7",
        "deepnote_cell_type": "markdown",
        "tags": [],
        "id": "-Tycc6ZM_bi7"
      },
      "source": [
        "### Sparse index + MonoT5 re-ranking\n",
        "\n",
        "# TODO: SCRIVI QUALCOSAAAA"
      ]
    },
    {
      "cell_type": "code",
      "source": [
        "alt_sparse_exp_index = DocumentsIndex(\"indexes/sparse_exp_index\", 'sparse', set_bm25=True, k=1.05, b=0.7)  \n",
        "\n",
        "monot5_pipeline = MonoT5Pipeline(results_folder, \"sparse_monot5_pipeline\", alt_sparse_exp_index)\n",
        "\n",
        "# Evaluate the pipeline both on relevance and quality .qrels\n",
        "_, ndcg_monot5 = monot5_pipeline.compute_results(\n",
        "                                [rel_qrels, quality_qrels],\n",
        "                                topics, k=100, \n",
        "                                evaluate=True,\n",
        "                                corpus_df= corpus_df_exp,\n",
        "                                clean_query=False\n",
        "                             )\n",
        "\n",
        "print_ndcg(ndcg_monot5)"
      ],
      "metadata": {
        "id": "OeHij2dVyd7j",
        "colab": {
          "base_uri": "https://localhost:8080/"
        },
        "outputId": "1ac33dff-7a77-4661-d09a-d1c83903fc3e"
      },
      "execution_count": null,
      "outputs": [
        {
          "output_type": "stream",
          "name": "stdout",
          "text": [
            "Loading the sparse index file ...\n",
            "\n",
            "The process is finished correctly!\n",
            "\n",
            "The nDCG for touche-task2-2022-relevance qrel is:\n",
            "                      Tag    nDCG@5\n",
            "0  sparse_monot5_pipeline  0.726057 \n",
            "\n",
            "The nDCG for touche-task2-2022-quality qrel is:\n",
            "                      Tag    nDCG@5\n",
            "0  sparse_monot5_pipeline  0.699194 \n",
            "\n"
          ]
        }
      ]
    },
    {
      "cell_type": "markdown",
      "metadata": {
        "cell_id": "4650046d871442fc9a7ad9b1be83d20d",
        "deepnote_cell_type": "markdown",
        "tags": [],
        "id": "7PPxW9LY_bi8"
      },
      "source": [
        "## Further attempts "
      ]
    },
    {
      "cell_type": "markdown",
      "metadata": {
        "cell_id": "8286c56292904113beaf04e31bbce108",
        "deepnote_cell_type": "markdown",
        "tags": [],
        "id": "hJZ0RcHf_bi8"
      },
      "source": [
        "First of all we want to show you how the preprocessing impacted the document retrieval. Then, we have tried query expansion on the sparse index to show future directions in the research."
      ]
    },
    {
      "cell_type": "markdown",
      "metadata": {
        "cell_id": "38397f2f25d54cac8e7223038e105d6e",
        "deepnote_cell_type": "markdown",
        "tags": [],
        "id": "10KOJkkW_bi8"
      },
      "source": [
        "### Preprocessing attempt"
      ]
    },
    {
      "cell_type": "markdown",
      "metadata": {
        "cell_id": "a758864f69904d5983fb3ff9c8ed2edb",
        "deepnote_cell_type": "markdown",
        "tags": [],
        "id": "J_WzVhqQ_bi8"
      },
      "source": [
        "Given that we worked with texts taken from the internet, we wanted to try to preprocess the corpus to check if the overall performances of the pipelines can get better. Our goal was to remove some noise from the text such that the document retrieval could focus on the important words.\n",
        "\n",
        "We wrote a function to perform the following cleaning operations:\n",
        "1. Make the documents lowercase.\n",
        "2. Expand contractions.\n",
        "3. Remove words with numbers inside.\n",
        "4. Replace \\n, characters that are not in the english alphabet and punctuation with a space.\n",
        "5. Remove adjacent spaces.\n",
        "6. Remove URLs and stopwords.\n",
        "7. Perform lemmatization.\n",
        "\n",
        "In order to do the lemmatization we decided to use the ***spacy*** library, while for the expansion of the contractions we used ***contractions*** library."
      ]
    },
    {
      "cell_type": "code",
      "execution_count": null,
      "metadata": {
        "cell_id": "e3d4b8f5bdec485891b37768f06b3441",
        "deepnote_cell_type": "code",
        "tags": [],
        "id": "SvV_uAh4_bi8"
      },
      "outputs": [],
      "source": [
        "import contractions\n",
        "import spacy\n",
        "\n",
        "import string, re\n",
        "# To enable progress bar in apply function\n",
        "from tqdm.notebook import tqdm\n",
        "tqdm.pandas()\n",
        "\n",
        "nlp = spacy.load(\"en_core_web_sm\", disable=['ner','parser'])\n",
        "nlp.max_length=5000000"
      ]
    },
    {
      "cell_type": "code",
      "execution_count": null,
      "metadata": {
        "cell_id": "75b887287dd7462ca5c7bb9ded846bc4",
        "deepnote_cell_type": "code",
        "tags": [],
        "id": "JVidetRC_bi9"
      },
      "outputs": [],
      "source": [
        "# Clean the documents performing pre-processing\n",
        "def clean_documents(text, nlp):\n",
        "    clean = text.lower()\n",
        "    clean = contractions.fix(clean)\n",
        "    # Remove punctuation\n",
        "    clean = clean.translate(str.maketrans(string.punctuation, ' '*len(string.punctuation)))\n",
        "    # Remove words with a number inside\n",
        "    clean = re.sub('\\w*\\d\\w*','', clean)\n",
        "    clean = re.sub('\\n',' ', clean)\n",
        "    clean = re.sub(r\"https?:/*\\S+\", \"\", clean)\n",
        "    # Remove characters different from letters\n",
        "    clean = re.sub('[^a-z]',' ', clean)\n",
        "    # Remove adjacent spaces\n",
        "    clean = re.sub(' +',' ', clean)\n",
        "\n",
        "    clean = ' '.join([token.lemma_ for token in list(nlp(clean)) if not token.is_stop])\n",
        "    return clean"
      ]
    },
    {
      "cell_type": "markdown",
      "metadata": {
        "cell_id": "825a9baa1f8b411fa801ddfcf655560e",
        "deepnote_cell_type": "markdown",
        "tags": [],
        "id": "OlUbrhXk_bi9"
      },
      "source": [
        "We saved the results of the cleaning in a new column of the dataframe in order to access them easily."
      ]
    },
    {
      "cell_type": "code",
      "execution_count": null,
      "metadata": {
        "cell_id": "dabfaaf4ffbe4f43b3c460aee8c77311",
        "deepnote_cell_type": "code",
        "tags": [],
        "id": "jx4Whjfz_bi9"
      },
      "outputs": [],
      "source": [
        "corpus_df['clean'] = corpus_df['contents'].progress_apply(clean_documents, nlp=nlp)"
      ]
    },
    {
      "cell_type": "markdown",
      "metadata": {
        "cell_id": "d7392b433ee647c3947d9dfccc0444b2",
        "deepnote_cell_type": "markdown",
        "tags": [],
        "id": "8anbB-Uc_bi9"
      },
      "source": [
        "Unfortunately we discover that the entire process was useless for our task and that the preprocessing affected negatively the quality of the document retrieval. "
      ]
    },
    {
      "cell_type": "markdown",
      "source": [
        "#### Sparse index\n",
        "\n",
        "Considering the same parameters of the baseline sparse index, we achieved worst results in both judgements using the metric *nDCG@5*: **0.411** on relevance and **0.437** on quality, a drop of *~0.6*."
      ],
      "metadata": {
        "id": "L4srCK30wJ0C"
      }
    },
    {
      "cell_type": "code",
      "source": [
        "sparse_clean_index = DocumentsIndex(\"indexes/sparse_clean_index\", 'sparse_clean', set_bm25=True, k=1.05, b=0.7)\n",
        "\n",
        "sparse_clean_pipeline = SparsePipeline(results_folder, \"sparse_clean_pipeline\", sparse_clean_index)\n",
        "\n",
        "# Evaluate the pipeline both on relevance and quality .qrels\n",
        "_, ndcg_clean_sparse = sparse_clean_pipeline.compute_results(\n",
        "                                [rel_qrels, quality_qrels],\n",
        "                                topics, k=40, \n",
        "                                evaluate=True,\n",
        "                                clean_query=False\n",
        "                             )\n",
        "\n",
        "print_ndcg(ndcg_clean_sparse)"
      ],
      "metadata": {
        "colab": {
          "base_uri": "https://localhost:8080/"
        },
        "id": "lXCeZBRrvNRx",
        "outputId": "a394bd9d-a897-4369-8604-a5cf6685891c"
      },
      "execution_count": null,
      "outputs": [
        {
          "output_type": "stream",
          "name": "stdout",
          "text": [
            "Loading the sparse index file ...\n",
            "\n",
            "The process is finished correctly!\n",
            "\n",
            "The nDCG for touche-task2-2022-relevance qrel is:\n",
            "                     Tag    nDCG@5\n",
            "0  sparse_clean_pipeline  0.411673 \n",
            "\n",
            "The nDCG for touche-task2-2022-quality qrel is:\n",
            "                     Tag    nDCG@5\n",
            "0  sparse_clean_pipeline  0.437932 \n",
            "\n"
          ]
        }
      ]
    },
    {
      "cell_type": "markdown",
      "source": [
        "#### Dense index\n",
        "\n",
        "The dense index is even worse than the cleaned sparse index, which is surprising because without preprocessing it is better by a remarkable margin.\n",
        "\n",
        "Using the metric *nDCG@5* we got **0.384** on relevance and **0.429** on quality."
      ],
      "metadata": {
        "id": "lzRbdcI3wOAw"
      }
    },
    {
      "cell_type": "code",
      "source": [
        "dense_clean_index = DocumentsIndex('indexes/dense_clean.index', 'dense')\n",
        "\n",
        "dense_clean_pipeline = DensePipeline(results_folder, 'dense_clean_pipeline', dense_clean_index)\n",
        "\n",
        "_, ndcg_dense_clean = dense_clean_pipeline.compute_results(\n",
        "                                [rel_qrels, quality_qrels],\n",
        "                                topics, \n",
        "                                corpus_df, \n",
        "                                k=40, \n",
        "                                clean_query=True,\n",
        "                                evaluate=True\n",
        "                            )\n",
        "\n",
        "print_ndcg(ndcg_dense_clean)"
      ],
      "metadata": {
        "colab": {
          "base_uri": "https://localhost:8080/"
        },
        "id": "syV01j7dwTZI",
        "outputId": "34ba5711-112f-437f-fe30-8398182e1eb4"
      },
      "execution_count": null,
      "outputs": [
        {
          "output_type": "stream",
          "name": "stdout",
          "text": [
            "Loading the dense index file ...\n",
            "Loading the encoder castorini/tct_colbert-v2-hnp-msmarco ...\n",
            "\n",
            "The process is finished correctly!\n",
            "\n",
            "The nDCG for touche-task2-2022-relevance qrel is:\n",
            "                    Tag    nDCG@5\n",
            "0  dense_clean_pipeline  0.384234 \n",
            "\n",
            "The nDCG for touche-task2-2022-quality qrel is:\n",
            "                    Tag    nDCG@5\n",
            "0  dense_clean_pipeline  0.429425 \n",
            "\n"
          ]
        }
      ]
    },
    {
      "cell_type": "markdown",
      "source": [
        "### RM3\n",
        "\n",
        "# TODO: scrivere qualcosa"
      ],
      "metadata": {
        "id": "9wixVP1iDfWu"
      }
    },
    {
      "cell_type": "code",
      "source": [
        "rm3_sparse_index = DocumentsIndex(\"indexes/sparse_exp_index\", 'sparse', set_rm3=True, ft=20, fd=3, lam=0.9, set_bm25=True, k=1.05, b=0.7)  \n",
        "\n",
        "rm3_sparse_pipeline = SparsePipeline(results_folder, \"rm3_sparse_pipeline\", rm3_sparse_index)\n",
        "\n",
        "# Evaluate the pipeline both on relevance and quality .qrels\n",
        "_, ndcg_rm3_sparse = rm3_sparse_pipeline.compute_results(\n",
        "                                [rel_qrels, quality_qrels],\n",
        "                                topics, k=40, \n",
        "                                evaluate=True,\n",
        "                                clean_query=False\n",
        "                             )\n",
        "\n",
        "print_ndcg(ndcg_rm3_sparse)"
      ],
      "metadata": {
        "colab": {
          "base_uri": "https://localhost:8080/"
        },
        "id": "AB_ylq1BDhrD",
        "outputId": "51de2638-7bb7-4e18-8605-4daff59c2683"
      },
      "execution_count": null,
      "outputs": [
        {
          "output_type": "stream",
          "name": "stdout",
          "text": [
            "Loading the sparse index file ...\n",
            "\n",
            "The process is finished correctly!\n",
            "\n",
            "The nDCG for touche-task2-2022-relevance qrel is:\n",
            "                   Tag    nDCG@5\n",
            "0  rm3_sparse_pipeline  0.497615 \n",
            "\n",
            "The nDCG for touche-task2-2022-quality qrel is:\n",
            "                   Tag    nDCG@5\n",
            "0  rm3_sparse_pipeline  0.529924 \n",
            "\n"
          ]
        }
      ]
    }
  ],
  "metadata": {
    "deepnote": {},
    "deepnote_execution_queue": [],
    "deepnote_notebook_id": "f2cb42561d664a6eab2fdd8e858d4bc2",
    "kernelspec": {
      "display_name": "Python 3",
      "language": "python",
      "name": "python3"
    },
    "language_info": {
      "name": "python",
      "version": "3.9.1 (tags/v3.9.1:1e5d33e, Dec  7 2020, 17:08:21) [MSC v.1927 64 bit (AMD64)]"
    },
    "orig_nbformat": 2,
    "vscode": {
      "interpreter": {
        "hash": "a9960baf88259386db57c734c8604c8e4ab789688672644b3cf73fda24b112c6"
      }
    },
    "colab": {
      "provenance": [],
      "collapsed_sections": [
        "HiObBW3J_bit",
        "sESL_KKI_biv",
        "JRMW5CHI_biw",
        "J2dgIKtQ_biw",
        "OUzTBA-m_biz",
        "u1iW_JDk_bi0",
        "10KOJkkW_bi8",
        "9wixVP1iDfWu"
      ]
    },
    "gpuClass": "standard",
    "widgets": {
      "application/vnd.jupyter.widget-state+json": {
        "1cb3818677b745f08c6ba62b33e28589": {
          "model_module": "@jupyter-widgets/controls",
          "model_name": "HBoxModel",
          "model_module_version": "1.5.0",
          "state": {
            "_dom_classes": [],
            "_model_module": "@jupyter-widgets/controls",
            "_model_module_version": "1.5.0",
            "_model_name": "HBoxModel",
            "_view_count": null,
            "_view_module": "@jupyter-widgets/controls",
            "_view_module_version": "1.5.0",
            "_view_name": "HBoxView",
            "box_style": "",
            "children": [
              "IPY_MODEL_0e1d048db77b40d097bdf4189402b684",
              "IPY_MODEL_c3d8e25e3f3849d1910c7ea389eb042d",
              "IPY_MODEL_6dd95fe50a7b4a6b9404e9b200a196c2"
            ],
            "layout": "IPY_MODEL_0e5b5c67fc7d4e53a4b5e593b8cc89b3"
          }
        },
        "0e1d048db77b40d097bdf4189402b684": {
          "model_module": "@jupyter-widgets/controls",
          "model_name": "HTMLModel",
          "model_module_version": "1.5.0",
          "state": {
            "_dom_classes": [],
            "_model_module": "@jupyter-widgets/controls",
            "_model_module_version": "1.5.0",
            "_model_name": "HTMLModel",
            "_view_count": null,
            "_view_module": "@jupyter-widgets/controls",
            "_view_module_version": "1.5.0",
            "_view_name": "HTMLView",
            "description": "",
            "description_tooltip": null,
            "layout": "IPY_MODEL_3484439bf2294a8ea2fa26b944f1fbdf",
            "placeholder": "​",
            "style": "IPY_MODEL_35b589c8297d4d89b1068cf4a023e3ff",
            "value": "Downloading: 100%"
          }
        },
        "c3d8e25e3f3849d1910c7ea389eb042d": {
          "model_module": "@jupyter-widgets/controls",
          "model_name": "FloatProgressModel",
          "model_module_version": "1.5.0",
          "state": {
            "_dom_classes": [],
            "_model_module": "@jupyter-widgets/controls",
            "_model_module_version": "1.5.0",
            "_model_name": "FloatProgressModel",
            "_view_count": null,
            "_view_module": "@jupyter-widgets/controls",
            "_view_module_version": "1.5.0",
            "_view_name": "ProgressView",
            "bar_style": "success",
            "description": "",
            "description_tooltip": null,
            "layout": "IPY_MODEL_86550c3a6a3044ce9c241c9ca125555e",
            "max": 559,
            "min": 0,
            "orientation": "horizontal",
            "style": "IPY_MODEL_3ec2dc2354ea45b9a8cc48fdddda03c7",
            "value": 559
          }
        },
        "6dd95fe50a7b4a6b9404e9b200a196c2": {
          "model_module": "@jupyter-widgets/controls",
          "model_name": "HTMLModel",
          "model_module_version": "1.5.0",
          "state": {
            "_dom_classes": [],
            "_model_module": "@jupyter-widgets/controls",
            "_model_module_version": "1.5.0",
            "_model_name": "HTMLModel",
            "_view_count": null,
            "_view_module": "@jupyter-widgets/controls",
            "_view_module_version": "1.5.0",
            "_view_name": "HTMLView",
            "description": "",
            "description_tooltip": null,
            "layout": "IPY_MODEL_e79447f9ceac47f0b60267aea3f2e62e",
            "placeholder": "​",
            "style": "IPY_MODEL_1e0cd58598094702937f6f1b5ff8e7f8",
            "value": " 559/559 [00:00&lt;00:00, 17.3kB/s]"
          }
        },
        "0e5b5c67fc7d4e53a4b5e593b8cc89b3": {
          "model_module": "@jupyter-widgets/base",
          "model_name": "LayoutModel",
          "model_module_version": "1.2.0",
          "state": {
            "_model_module": "@jupyter-widgets/base",
            "_model_module_version": "1.2.0",
            "_model_name": "LayoutModel",
            "_view_count": null,
            "_view_module": "@jupyter-widgets/base",
            "_view_module_version": "1.2.0",
            "_view_name": "LayoutView",
            "align_content": null,
            "align_items": null,
            "align_self": null,
            "border": null,
            "bottom": null,
            "display": null,
            "flex": null,
            "flex_flow": null,
            "grid_area": null,
            "grid_auto_columns": null,
            "grid_auto_flow": null,
            "grid_auto_rows": null,
            "grid_column": null,
            "grid_gap": null,
            "grid_row": null,
            "grid_template_areas": null,
            "grid_template_columns": null,
            "grid_template_rows": null,
            "height": null,
            "justify_content": null,
            "justify_items": null,
            "left": null,
            "margin": null,
            "max_height": null,
            "max_width": null,
            "min_height": null,
            "min_width": null,
            "object_fit": null,
            "object_position": null,
            "order": null,
            "overflow": null,
            "overflow_x": null,
            "overflow_y": null,
            "padding": null,
            "right": null,
            "top": null,
            "visibility": null,
            "width": null
          }
        },
        "3484439bf2294a8ea2fa26b944f1fbdf": {
          "model_module": "@jupyter-widgets/base",
          "model_name": "LayoutModel",
          "model_module_version": "1.2.0",
          "state": {
            "_model_module": "@jupyter-widgets/base",
            "_model_module_version": "1.2.0",
            "_model_name": "LayoutModel",
            "_view_count": null,
            "_view_module": "@jupyter-widgets/base",
            "_view_module_version": "1.2.0",
            "_view_name": "LayoutView",
            "align_content": null,
            "align_items": null,
            "align_self": null,
            "border": null,
            "bottom": null,
            "display": null,
            "flex": null,
            "flex_flow": null,
            "grid_area": null,
            "grid_auto_columns": null,
            "grid_auto_flow": null,
            "grid_auto_rows": null,
            "grid_column": null,
            "grid_gap": null,
            "grid_row": null,
            "grid_template_areas": null,
            "grid_template_columns": null,
            "grid_template_rows": null,
            "height": null,
            "justify_content": null,
            "justify_items": null,
            "left": null,
            "margin": null,
            "max_height": null,
            "max_width": null,
            "min_height": null,
            "min_width": null,
            "object_fit": null,
            "object_position": null,
            "order": null,
            "overflow": null,
            "overflow_x": null,
            "overflow_y": null,
            "padding": null,
            "right": null,
            "top": null,
            "visibility": null,
            "width": null
          }
        },
        "35b589c8297d4d89b1068cf4a023e3ff": {
          "model_module": "@jupyter-widgets/controls",
          "model_name": "DescriptionStyleModel",
          "model_module_version": "1.5.0",
          "state": {
            "_model_module": "@jupyter-widgets/controls",
            "_model_module_version": "1.5.0",
            "_model_name": "DescriptionStyleModel",
            "_view_count": null,
            "_view_module": "@jupyter-widgets/base",
            "_view_module_version": "1.2.0",
            "_view_name": "StyleView",
            "description_width": ""
          }
        },
        "86550c3a6a3044ce9c241c9ca125555e": {
          "model_module": "@jupyter-widgets/base",
          "model_name": "LayoutModel",
          "model_module_version": "1.2.0",
          "state": {
            "_model_module": "@jupyter-widgets/base",
            "_model_module_version": "1.2.0",
            "_model_name": "LayoutModel",
            "_view_count": null,
            "_view_module": "@jupyter-widgets/base",
            "_view_module_version": "1.2.0",
            "_view_name": "LayoutView",
            "align_content": null,
            "align_items": null,
            "align_self": null,
            "border": null,
            "bottom": null,
            "display": null,
            "flex": null,
            "flex_flow": null,
            "grid_area": null,
            "grid_auto_columns": null,
            "grid_auto_flow": null,
            "grid_auto_rows": null,
            "grid_column": null,
            "grid_gap": null,
            "grid_row": null,
            "grid_template_areas": null,
            "grid_template_columns": null,
            "grid_template_rows": null,
            "height": null,
            "justify_content": null,
            "justify_items": null,
            "left": null,
            "margin": null,
            "max_height": null,
            "max_width": null,
            "min_height": null,
            "min_width": null,
            "object_fit": null,
            "object_position": null,
            "order": null,
            "overflow": null,
            "overflow_x": null,
            "overflow_y": null,
            "padding": null,
            "right": null,
            "top": null,
            "visibility": null,
            "width": null
          }
        },
        "3ec2dc2354ea45b9a8cc48fdddda03c7": {
          "model_module": "@jupyter-widgets/controls",
          "model_name": "ProgressStyleModel",
          "model_module_version": "1.5.0",
          "state": {
            "_model_module": "@jupyter-widgets/controls",
            "_model_module_version": "1.5.0",
            "_model_name": "ProgressStyleModel",
            "_view_count": null,
            "_view_module": "@jupyter-widgets/base",
            "_view_module_version": "1.2.0",
            "_view_name": "StyleView",
            "bar_color": null,
            "description_width": ""
          }
        },
        "e79447f9ceac47f0b60267aea3f2e62e": {
          "model_module": "@jupyter-widgets/base",
          "model_name": "LayoutModel",
          "model_module_version": "1.2.0",
          "state": {
            "_model_module": "@jupyter-widgets/base",
            "_model_module_version": "1.2.0",
            "_model_name": "LayoutModel",
            "_view_count": null,
            "_view_module": "@jupyter-widgets/base",
            "_view_module_version": "1.2.0",
            "_view_name": "LayoutView",
            "align_content": null,
            "align_items": null,
            "align_self": null,
            "border": null,
            "bottom": null,
            "display": null,
            "flex": null,
            "flex_flow": null,
            "grid_area": null,
            "grid_auto_columns": null,
            "grid_auto_flow": null,
            "grid_auto_rows": null,
            "grid_column": null,
            "grid_gap": null,
            "grid_row": null,
            "grid_template_areas": null,
            "grid_template_columns": null,
            "grid_template_rows": null,
            "height": null,
            "justify_content": null,
            "justify_items": null,
            "left": null,
            "margin": null,
            "max_height": null,
            "max_width": null,
            "min_height": null,
            "min_width": null,
            "object_fit": null,
            "object_position": null,
            "order": null,
            "overflow": null,
            "overflow_x": null,
            "overflow_y": null,
            "padding": null,
            "right": null,
            "top": null,
            "visibility": null,
            "width": null
          }
        },
        "1e0cd58598094702937f6f1b5ff8e7f8": {
          "model_module": "@jupyter-widgets/controls",
          "model_name": "DescriptionStyleModel",
          "model_module_version": "1.5.0",
          "state": {
            "_model_module": "@jupyter-widgets/controls",
            "_model_module_version": "1.5.0",
            "_model_name": "DescriptionStyleModel",
            "_view_count": null,
            "_view_module": "@jupyter-widgets/base",
            "_view_module_version": "1.2.0",
            "_view_name": "StyleView",
            "description_width": ""
          }
        },
        "8d28f783ac9f41f8882f01649abaa7d2": {
          "model_module": "@jupyter-widgets/controls",
          "model_name": "HBoxModel",
          "model_module_version": "1.5.0",
          "state": {
            "_dom_classes": [],
            "_model_module": "@jupyter-widgets/controls",
            "_model_module_version": "1.5.0",
            "_model_name": "HBoxModel",
            "_view_count": null,
            "_view_module": "@jupyter-widgets/controls",
            "_view_module_version": "1.5.0",
            "_view_name": "HBoxView",
            "box_style": "",
            "children": [
              "IPY_MODEL_a09048e9372b4beaab2b3b82bc812e02",
              "IPY_MODEL_94f8daf98bb547b58cfd7f33c11afacd",
              "IPY_MODEL_c1c90e8be9f6450e8db5e70308c01836"
            ],
            "layout": "IPY_MODEL_20039bd211354d648920d2e585689534"
          }
        },
        "a09048e9372b4beaab2b3b82bc812e02": {
          "model_module": "@jupyter-widgets/controls",
          "model_name": "HTMLModel",
          "model_module_version": "1.5.0",
          "state": {
            "_dom_classes": [],
            "_model_module": "@jupyter-widgets/controls",
            "_model_module_version": "1.5.0",
            "_model_name": "HTMLModel",
            "_view_count": null,
            "_view_module": "@jupyter-widgets/controls",
            "_view_module_version": "1.5.0",
            "_view_name": "HTMLView",
            "description": "",
            "description_tooltip": null,
            "layout": "IPY_MODEL_fe2374c4656e40e8bef62bc201fc399c",
            "placeholder": "​",
            "style": "IPY_MODEL_6f9f38262a824f6a9d97c5363918a8f9",
            "value": "Downloading: 100%"
          }
        },
        "94f8daf98bb547b58cfd7f33c11afacd": {
          "model_module": "@jupyter-widgets/controls",
          "model_name": "FloatProgressModel",
          "model_module_version": "1.5.0",
          "state": {
            "_dom_classes": [],
            "_model_module": "@jupyter-widgets/controls",
            "_model_module_version": "1.5.0",
            "_model_name": "FloatProgressModel",
            "_view_count": null,
            "_view_module": "@jupyter-widgets/controls",
            "_view_module_version": "1.5.0",
            "_view_name": "ProgressView",
            "bar_style": "success",
            "description": "",
            "description_tooltip": null,
            "layout": "IPY_MODEL_c83961adacac4afd90482e424a5ef652",
            "max": 438012727,
            "min": 0,
            "orientation": "horizontal",
            "style": "IPY_MODEL_cb3d717337874680a117a732b955ef4b",
            "value": 438012727
          }
        },
        "c1c90e8be9f6450e8db5e70308c01836": {
          "model_module": "@jupyter-widgets/controls",
          "model_name": "HTMLModel",
          "model_module_version": "1.5.0",
          "state": {
            "_dom_classes": [],
            "_model_module": "@jupyter-widgets/controls",
            "_model_module_version": "1.5.0",
            "_model_name": "HTMLModel",
            "_view_count": null,
            "_view_module": "@jupyter-widgets/controls",
            "_view_module_version": "1.5.0",
            "_view_name": "HTMLView",
            "description": "",
            "description_tooltip": null,
            "layout": "IPY_MODEL_68988d49ec2e4f09a5d9465c994065bf",
            "placeholder": "​",
            "style": "IPY_MODEL_c373aa5e9e0f4d5eb299fb3c686da43e",
            "value": " 438M/438M [00:20&lt;00:00, 22.6MB/s]"
          }
        },
        "20039bd211354d648920d2e585689534": {
          "model_module": "@jupyter-widgets/base",
          "model_name": "LayoutModel",
          "model_module_version": "1.2.0",
          "state": {
            "_model_module": "@jupyter-widgets/base",
            "_model_module_version": "1.2.0",
            "_model_name": "LayoutModel",
            "_view_count": null,
            "_view_module": "@jupyter-widgets/base",
            "_view_module_version": "1.2.0",
            "_view_name": "LayoutView",
            "align_content": null,
            "align_items": null,
            "align_self": null,
            "border": null,
            "bottom": null,
            "display": null,
            "flex": null,
            "flex_flow": null,
            "grid_area": null,
            "grid_auto_columns": null,
            "grid_auto_flow": null,
            "grid_auto_rows": null,
            "grid_column": null,
            "grid_gap": null,
            "grid_row": null,
            "grid_template_areas": null,
            "grid_template_columns": null,
            "grid_template_rows": null,
            "height": null,
            "justify_content": null,
            "justify_items": null,
            "left": null,
            "margin": null,
            "max_height": null,
            "max_width": null,
            "min_height": null,
            "min_width": null,
            "object_fit": null,
            "object_position": null,
            "order": null,
            "overflow": null,
            "overflow_x": null,
            "overflow_y": null,
            "padding": null,
            "right": null,
            "top": null,
            "visibility": null,
            "width": null
          }
        },
        "fe2374c4656e40e8bef62bc201fc399c": {
          "model_module": "@jupyter-widgets/base",
          "model_name": "LayoutModel",
          "model_module_version": "1.2.0",
          "state": {
            "_model_module": "@jupyter-widgets/base",
            "_model_module_version": "1.2.0",
            "_model_name": "LayoutModel",
            "_view_count": null,
            "_view_module": "@jupyter-widgets/base",
            "_view_module_version": "1.2.0",
            "_view_name": "LayoutView",
            "align_content": null,
            "align_items": null,
            "align_self": null,
            "border": null,
            "bottom": null,
            "display": null,
            "flex": null,
            "flex_flow": null,
            "grid_area": null,
            "grid_auto_columns": null,
            "grid_auto_flow": null,
            "grid_auto_rows": null,
            "grid_column": null,
            "grid_gap": null,
            "grid_row": null,
            "grid_template_areas": null,
            "grid_template_columns": null,
            "grid_template_rows": null,
            "height": null,
            "justify_content": null,
            "justify_items": null,
            "left": null,
            "margin": null,
            "max_height": null,
            "max_width": null,
            "min_height": null,
            "min_width": null,
            "object_fit": null,
            "object_position": null,
            "order": null,
            "overflow": null,
            "overflow_x": null,
            "overflow_y": null,
            "padding": null,
            "right": null,
            "top": null,
            "visibility": null,
            "width": null
          }
        },
        "6f9f38262a824f6a9d97c5363918a8f9": {
          "model_module": "@jupyter-widgets/controls",
          "model_name": "DescriptionStyleModel",
          "model_module_version": "1.5.0",
          "state": {
            "_model_module": "@jupyter-widgets/controls",
            "_model_module_version": "1.5.0",
            "_model_name": "DescriptionStyleModel",
            "_view_count": null,
            "_view_module": "@jupyter-widgets/base",
            "_view_module_version": "1.2.0",
            "_view_name": "StyleView",
            "description_width": ""
          }
        },
        "c83961adacac4afd90482e424a5ef652": {
          "model_module": "@jupyter-widgets/base",
          "model_name": "LayoutModel",
          "model_module_version": "1.2.0",
          "state": {
            "_model_module": "@jupyter-widgets/base",
            "_model_module_version": "1.2.0",
            "_model_name": "LayoutModel",
            "_view_count": null,
            "_view_module": "@jupyter-widgets/base",
            "_view_module_version": "1.2.0",
            "_view_name": "LayoutView",
            "align_content": null,
            "align_items": null,
            "align_self": null,
            "border": null,
            "bottom": null,
            "display": null,
            "flex": null,
            "flex_flow": null,
            "grid_area": null,
            "grid_auto_columns": null,
            "grid_auto_flow": null,
            "grid_auto_rows": null,
            "grid_column": null,
            "grid_gap": null,
            "grid_row": null,
            "grid_template_areas": null,
            "grid_template_columns": null,
            "grid_template_rows": null,
            "height": null,
            "justify_content": null,
            "justify_items": null,
            "left": null,
            "margin": null,
            "max_height": null,
            "max_width": null,
            "min_height": null,
            "min_width": null,
            "object_fit": null,
            "object_position": null,
            "order": null,
            "overflow": null,
            "overflow_x": null,
            "overflow_y": null,
            "padding": null,
            "right": null,
            "top": null,
            "visibility": null,
            "width": null
          }
        },
        "cb3d717337874680a117a732b955ef4b": {
          "model_module": "@jupyter-widgets/controls",
          "model_name": "ProgressStyleModel",
          "model_module_version": "1.5.0",
          "state": {
            "_model_module": "@jupyter-widgets/controls",
            "_model_module_version": "1.5.0",
            "_model_name": "ProgressStyleModel",
            "_view_count": null,
            "_view_module": "@jupyter-widgets/base",
            "_view_module_version": "1.2.0",
            "_view_name": "StyleView",
            "bar_color": null,
            "description_width": ""
          }
        },
        "68988d49ec2e4f09a5d9465c994065bf": {
          "model_module": "@jupyter-widgets/base",
          "model_name": "LayoutModel",
          "model_module_version": "1.2.0",
          "state": {
            "_model_module": "@jupyter-widgets/base",
            "_model_module_version": "1.2.0",
            "_model_name": "LayoutModel",
            "_view_count": null,
            "_view_module": "@jupyter-widgets/base",
            "_view_module_version": "1.2.0",
            "_view_name": "LayoutView",
            "align_content": null,
            "align_items": null,
            "align_self": null,
            "border": null,
            "bottom": null,
            "display": null,
            "flex": null,
            "flex_flow": null,
            "grid_area": null,
            "grid_auto_columns": null,
            "grid_auto_flow": null,
            "grid_auto_rows": null,
            "grid_column": null,
            "grid_gap": null,
            "grid_row": null,
            "grid_template_areas": null,
            "grid_template_columns": null,
            "grid_template_rows": null,
            "height": null,
            "justify_content": null,
            "justify_items": null,
            "left": null,
            "margin": null,
            "max_height": null,
            "max_width": null,
            "min_height": null,
            "min_width": null,
            "object_fit": null,
            "object_position": null,
            "order": null,
            "overflow": null,
            "overflow_x": null,
            "overflow_y": null,
            "padding": null,
            "right": null,
            "top": null,
            "visibility": null,
            "width": null
          }
        },
        "c373aa5e9e0f4d5eb299fb3c686da43e": {
          "model_module": "@jupyter-widgets/controls",
          "model_name": "DescriptionStyleModel",
          "model_module_version": "1.5.0",
          "state": {
            "_model_module": "@jupyter-widgets/controls",
            "_model_module_version": "1.5.0",
            "_model_name": "DescriptionStyleModel",
            "_view_count": null,
            "_view_module": "@jupyter-widgets/base",
            "_view_module_version": "1.2.0",
            "_view_name": "StyleView",
            "description_width": ""
          }
        },
        "ed26a5b94f5144c190e0fd2e7aad9e70": {
          "model_module": "@jupyter-widgets/controls",
          "model_name": "HBoxModel",
          "model_module_version": "1.5.0",
          "state": {
            "_dom_classes": [],
            "_model_module": "@jupyter-widgets/controls",
            "_model_module_version": "1.5.0",
            "_model_name": "HBoxModel",
            "_view_count": null,
            "_view_module": "@jupyter-widgets/controls",
            "_view_module_version": "1.5.0",
            "_view_name": "HBoxView",
            "box_style": "",
            "children": [
              "IPY_MODEL_699eb38a442f4f658264874f165a6453",
              "IPY_MODEL_1b48d1e6fb784fb487a0b5a0ef8b2198",
              "IPY_MODEL_e87728761b574ea28e3947d6d8decf1f"
            ],
            "layout": "IPY_MODEL_2765894d9e6e4971bbf430e8e7adaf39"
          }
        },
        "699eb38a442f4f658264874f165a6453": {
          "model_module": "@jupyter-widgets/controls",
          "model_name": "HTMLModel",
          "model_module_version": "1.5.0",
          "state": {
            "_dom_classes": [],
            "_model_module": "@jupyter-widgets/controls",
            "_model_module_version": "1.5.0",
            "_model_name": "HTMLModel",
            "_view_count": null,
            "_view_module": "@jupyter-widgets/controls",
            "_view_module_version": "1.5.0",
            "_view_name": "HTMLView",
            "description": "",
            "description_tooltip": null,
            "layout": "IPY_MODEL_8fea8b18d36b44a2be04b06a6d182c92",
            "placeholder": "​",
            "style": "IPY_MODEL_226bc81f31e5476891bad74ea73330f8",
            "value": "Downloading: 100%"
          }
        },
        "1b48d1e6fb784fb487a0b5a0ef8b2198": {
          "model_module": "@jupyter-widgets/controls",
          "model_name": "FloatProgressModel",
          "model_module_version": "1.5.0",
          "state": {
            "_dom_classes": [],
            "_model_module": "@jupyter-widgets/controls",
            "_model_module_version": "1.5.0",
            "_model_name": "FloatProgressModel",
            "_view_count": null,
            "_view_module": "@jupyter-widgets/controls",
            "_view_module_version": "1.5.0",
            "_view_name": "ProgressView",
            "bar_style": "success",
            "description": "",
            "description_tooltip": null,
            "layout": "IPY_MODEL_e7c4e274c15f4659ae36f527aa1cfa8a",
            "max": 231508,
            "min": 0,
            "orientation": "horizontal",
            "style": "IPY_MODEL_3982e5ec68c447b6a385717e2b55f7b0",
            "value": 231508
          }
        },
        "e87728761b574ea28e3947d6d8decf1f": {
          "model_module": "@jupyter-widgets/controls",
          "model_name": "HTMLModel",
          "model_module_version": "1.5.0",
          "state": {
            "_dom_classes": [],
            "_model_module": "@jupyter-widgets/controls",
            "_model_module_version": "1.5.0",
            "_model_name": "HTMLModel",
            "_view_count": null,
            "_view_module": "@jupyter-widgets/controls",
            "_view_module_version": "1.5.0",
            "_view_name": "HTMLView",
            "description": "",
            "description_tooltip": null,
            "layout": "IPY_MODEL_48b0b8717eb2478f97ac0406ba0cb866",
            "placeholder": "​",
            "style": "IPY_MODEL_11610db773a8423896c469b8822d8b1d",
            "value": " 232k/232k [00:00&lt;00:00, 325kB/s]"
          }
        },
        "2765894d9e6e4971bbf430e8e7adaf39": {
          "model_module": "@jupyter-widgets/base",
          "model_name": "LayoutModel",
          "model_module_version": "1.2.0",
          "state": {
            "_model_module": "@jupyter-widgets/base",
            "_model_module_version": "1.2.0",
            "_model_name": "LayoutModel",
            "_view_count": null,
            "_view_module": "@jupyter-widgets/base",
            "_view_module_version": "1.2.0",
            "_view_name": "LayoutView",
            "align_content": null,
            "align_items": null,
            "align_self": null,
            "border": null,
            "bottom": null,
            "display": null,
            "flex": null,
            "flex_flow": null,
            "grid_area": null,
            "grid_auto_columns": null,
            "grid_auto_flow": null,
            "grid_auto_rows": null,
            "grid_column": null,
            "grid_gap": null,
            "grid_row": null,
            "grid_template_areas": null,
            "grid_template_columns": null,
            "grid_template_rows": null,
            "height": null,
            "justify_content": null,
            "justify_items": null,
            "left": null,
            "margin": null,
            "max_height": null,
            "max_width": null,
            "min_height": null,
            "min_width": null,
            "object_fit": null,
            "object_position": null,
            "order": null,
            "overflow": null,
            "overflow_x": null,
            "overflow_y": null,
            "padding": null,
            "right": null,
            "top": null,
            "visibility": null,
            "width": null
          }
        },
        "8fea8b18d36b44a2be04b06a6d182c92": {
          "model_module": "@jupyter-widgets/base",
          "model_name": "LayoutModel",
          "model_module_version": "1.2.0",
          "state": {
            "_model_module": "@jupyter-widgets/base",
            "_model_module_version": "1.2.0",
            "_model_name": "LayoutModel",
            "_view_count": null,
            "_view_module": "@jupyter-widgets/base",
            "_view_module_version": "1.2.0",
            "_view_name": "LayoutView",
            "align_content": null,
            "align_items": null,
            "align_self": null,
            "border": null,
            "bottom": null,
            "display": null,
            "flex": null,
            "flex_flow": null,
            "grid_area": null,
            "grid_auto_columns": null,
            "grid_auto_flow": null,
            "grid_auto_rows": null,
            "grid_column": null,
            "grid_gap": null,
            "grid_row": null,
            "grid_template_areas": null,
            "grid_template_columns": null,
            "grid_template_rows": null,
            "height": null,
            "justify_content": null,
            "justify_items": null,
            "left": null,
            "margin": null,
            "max_height": null,
            "max_width": null,
            "min_height": null,
            "min_width": null,
            "object_fit": null,
            "object_position": null,
            "order": null,
            "overflow": null,
            "overflow_x": null,
            "overflow_y": null,
            "padding": null,
            "right": null,
            "top": null,
            "visibility": null,
            "width": null
          }
        },
        "226bc81f31e5476891bad74ea73330f8": {
          "model_module": "@jupyter-widgets/controls",
          "model_name": "DescriptionStyleModel",
          "model_module_version": "1.5.0",
          "state": {
            "_model_module": "@jupyter-widgets/controls",
            "_model_module_version": "1.5.0",
            "_model_name": "DescriptionStyleModel",
            "_view_count": null,
            "_view_module": "@jupyter-widgets/base",
            "_view_module_version": "1.2.0",
            "_view_name": "StyleView",
            "description_width": ""
          }
        },
        "e7c4e274c15f4659ae36f527aa1cfa8a": {
          "model_module": "@jupyter-widgets/base",
          "model_name": "LayoutModel",
          "model_module_version": "1.2.0",
          "state": {
            "_model_module": "@jupyter-widgets/base",
            "_model_module_version": "1.2.0",
            "_model_name": "LayoutModel",
            "_view_count": null,
            "_view_module": "@jupyter-widgets/base",
            "_view_module_version": "1.2.0",
            "_view_name": "LayoutView",
            "align_content": null,
            "align_items": null,
            "align_self": null,
            "border": null,
            "bottom": null,
            "display": null,
            "flex": null,
            "flex_flow": null,
            "grid_area": null,
            "grid_auto_columns": null,
            "grid_auto_flow": null,
            "grid_auto_rows": null,
            "grid_column": null,
            "grid_gap": null,
            "grid_row": null,
            "grid_template_areas": null,
            "grid_template_columns": null,
            "grid_template_rows": null,
            "height": null,
            "justify_content": null,
            "justify_items": null,
            "left": null,
            "margin": null,
            "max_height": null,
            "max_width": null,
            "min_height": null,
            "min_width": null,
            "object_fit": null,
            "object_position": null,
            "order": null,
            "overflow": null,
            "overflow_x": null,
            "overflow_y": null,
            "padding": null,
            "right": null,
            "top": null,
            "visibility": null,
            "width": null
          }
        },
        "3982e5ec68c447b6a385717e2b55f7b0": {
          "model_module": "@jupyter-widgets/controls",
          "model_name": "ProgressStyleModel",
          "model_module_version": "1.5.0",
          "state": {
            "_model_module": "@jupyter-widgets/controls",
            "_model_module_version": "1.5.0",
            "_model_name": "ProgressStyleModel",
            "_view_count": null,
            "_view_module": "@jupyter-widgets/base",
            "_view_module_version": "1.2.0",
            "_view_name": "StyleView",
            "bar_color": null,
            "description_width": ""
          }
        },
        "48b0b8717eb2478f97ac0406ba0cb866": {
          "model_module": "@jupyter-widgets/base",
          "model_name": "LayoutModel",
          "model_module_version": "1.2.0",
          "state": {
            "_model_module": "@jupyter-widgets/base",
            "_model_module_version": "1.2.0",
            "_model_name": "LayoutModel",
            "_view_count": null,
            "_view_module": "@jupyter-widgets/base",
            "_view_module_version": "1.2.0",
            "_view_name": "LayoutView",
            "align_content": null,
            "align_items": null,
            "align_self": null,
            "border": null,
            "bottom": null,
            "display": null,
            "flex": null,
            "flex_flow": null,
            "grid_area": null,
            "grid_auto_columns": null,
            "grid_auto_flow": null,
            "grid_auto_rows": null,
            "grid_column": null,
            "grid_gap": null,
            "grid_row": null,
            "grid_template_areas": null,
            "grid_template_columns": null,
            "grid_template_rows": null,
            "height": null,
            "justify_content": null,
            "justify_items": null,
            "left": null,
            "margin": null,
            "max_height": null,
            "max_width": null,
            "min_height": null,
            "min_width": null,
            "object_fit": null,
            "object_position": null,
            "order": null,
            "overflow": null,
            "overflow_x": null,
            "overflow_y": null,
            "padding": null,
            "right": null,
            "top": null,
            "visibility": null,
            "width": null
          }
        },
        "11610db773a8423896c469b8822d8b1d": {
          "model_module": "@jupyter-widgets/controls",
          "model_name": "DescriptionStyleModel",
          "model_module_version": "1.5.0",
          "state": {
            "_model_module": "@jupyter-widgets/controls",
            "_model_module_version": "1.5.0",
            "_model_name": "DescriptionStyleModel",
            "_view_count": null,
            "_view_module": "@jupyter-widgets/base",
            "_view_module_version": "1.2.0",
            "_view_name": "StyleView",
            "description_width": ""
          }
        },
        "1036335e66d54428b01fd4ddb41dde63": {
          "model_module": "@jupyter-widgets/controls",
          "model_name": "HBoxModel",
          "model_module_version": "1.5.0",
          "state": {
            "_dom_classes": [],
            "_model_module": "@jupyter-widgets/controls",
            "_model_module_version": "1.5.0",
            "_model_name": "HBoxModel",
            "_view_count": null,
            "_view_module": "@jupyter-widgets/controls",
            "_view_module_version": "1.5.0",
            "_view_name": "HBoxView",
            "box_style": "",
            "children": [
              "IPY_MODEL_ff9f54fee50c48e28a1b7d6c3d6abe94",
              "IPY_MODEL_3947acc12f4945089fe2c7bcb09fcabd",
              "IPY_MODEL_7b842d4b675c4651bce02ba5cf31b990"
            ],
            "layout": "IPY_MODEL_5eec5f889ee04b26810bc1db6491a9df"
          }
        },
        "ff9f54fee50c48e28a1b7d6c3d6abe94": {
          "model_module": "@jupyter-widgets/controls",
          "model_name": "HTMLModel",
          "model_module_version": "1.5.0",
          "state": {
            "_dom_classes": [],
            "_model_module": "@jupyter-widgets/controls",
            "_model_module_version": "1.5.0",
            "_model_name": "HTMLModel",
            "_view_count": null,
            "_view_module": "@jupyter-widgets/controls",
            "_view_module_version": "1.5.0",
            "_view_name": "HTMLView",
            "description": "",
            "description_tooltip": null,
            "layout": "IPY_MODEL_22b481271b524f579fe2bdb246b47af8",
            "placeholder": "​",
            "style": "IPY_MODEL_332db40ee8ea4ef48a79fd310e1e5fd9",
            "value": "Downloading: 100%"
          }
        },
        "3947acc12f4945089fe2c7bcb09fcabd": {
          "model_module": "@jupyter-widgets/controls",
          "model_name": "FloatProgressModel",
          "model_module_version": "1.5.0",
          "state": {
            "_dom_classes": [],
            "_model_module": "@jupyter-widgets/controls",
            "_model_module_version": "1.5.0",
            "_model_name": "FloatProgressModel",
            "_view_count": null,
            "_view_module": "@jupyter-widgets/controls",
            "_view_module_version": "1.5.0",
            "_view_name": "ProgressView",
            "bar_style": "success",
            "description": "",
            "description_tooltip": null,
            "layout": "IPY_MODEL_47f2c7f5ce4c41d7ab9b60f5d28ccb38",
            "max": 112,
            "min": 0,
            "orientation": "horizontal",
            "style": "IPY_MODEL_7e137f62229a4bc598a21a99b6c2ed33",
            "value": 112
          }
        },
        "7b842d4b675c4651bce02ba5cf31b990": {
          "model_module": "@jupyter-widgets/controls",
          "model_name": "HTMLModel",
          "model_module_version": "1.5.0",
          "state": {
            "_dom_classes": [],
            "_model_module": "@jupyter-widgets/controls",
            "_model_module_version": "1.5.0",
            "_model_name": "HTMLModel",
            "_view_count": null,
            "_view_module": "@jupyter-widgets/controls",
            "_view_module_version": "1.5.0",
            "_view_name": "HTMLView",
            "description": "",
            "description_tooltip": null,
            "layout": "IPY_MODEL_d1f8f9d5548d4eb29775b68c05302f30",
            "placeholder": "​",
            "style": "IPY_MODEL_6d7f247039c84f889dc506ca2dc678aa",
            "value": " 112/112 [00:00&lt;00:00, 862B/s]"
          }
        },
        "5eec5f889ee04b26810bc1db6491a9df": {
          "model_module": "@jupyter-widgets/base",
          "model_name": "LayoutModel",
          "model_module_version": "1.2.0",
          "state": {
            "_model_module": "@jupyter-widgets/base",
            "_model_module_version": "1.2.0",
            "_model_name": "LayoutModel",
            "_view_count": null,
            "_view_module": "@jupyter-widgets/base",
            "_view_module_version": "1.2.0",
            "_view_name": "LayoutView",
            "align_content": null,
            "align_items": null,
            "align_self": null,
            "border": null,
            "bottom": null,
            "display": null,
            "flex": null,
            "flex_flow": null,
            "grid_area": null,
            "grid_auto_columns": null,
            "grid_auto_flow": null,
            "grid_auto_rows": null,
            "grid_column": null,
            "grid_gap": null,
            "grid_row": null,
            "grid_template_areas": null,
            "grid_template_columns": null,
            "grid_template_rows": null,
            "height": null,
            "justify_content": null,
            "justify_items": null,
            "left": null,
            "margin": null,
            "max_height": null,
            "max_width": null,
            "min_height": null,
            "min_width": null,
            "object_fit": null,
            "object_position": null,
            "order": null,
            "overflow": null,
            "overflow_x": null,
            "overflow_y": null,
            "padding": null,
            "right": null,
            "top": null,
            "visibility": null,
            "width": null
          }
        },
        "22b481271b524f579fe2bdb246b47af8": {
          "model_module": "@jupyter-widgets/base",
          "model_name": "LayoutModel",
          "model_module_version": "1.2.0",
          "state": {
            "_model_module": "@jupyter-widgets/base",
            "_model_module_version": "1.2.0",
            "_model_name": "LayoutModel",
            "_view_count": null,
            "_view_module": "@jupyter-widgets/base",
            "_view_module_version": "1.2.0",
            "_view_name": "LayoutView",
            "align_content": null,
            "align_items": null,
            "align_self": null,
            "border": null,
            "bottom": null,
            "display": null,
            "flex": null,
            "flex_flow": null,
            "grid_area": null,
            "grid_auto_columns": null,
            "grid_auto_flow": null,
            "grid_auto_rows": null,
            "grid_column": null,
            "grid_gap": null,
            "grid_row": null,
            "grid_template_areas": null,
            "grid_template_columns": null,
            "grid_template_rows": null,
            "height": null,
            "justify_content": null,
            "justify_items": null,
            "left": null,
            "margin": null,
            "max_height": null,
            "max_width": null,
            "min_height": null,
            "min_width": null,
            "object_fit": null,
            "object_position": null,
            "order": null,
            "overflow": null,
            "overflow_x": null,
            "overflow_y": null,
            "padding": null,
            "right": null,
            "top": null,
            "visibility": null,
            "width": null
          }
        },
        "332db40ee8ea4ef48a79fd310e1e5fd9": {
          "model_module": "@jupyter-widgets/controls",
          "model_name": "DescriptionStyleModel",
          "model_module_version": "1.5.0",
          "state": {
            "_model_module": "@jupyter-widgets/controls",
            "_model_module_version": "1.5.0",
            "_model_name": "DescriptionStyleModel",
            "_view_count": null,
            "_view_module": "@jupyter-widgets/base",
            "_view_module_version": "1.2.0",
            "_view_name": "StyleView",
            "description_width": ""
          }
        },
        "47f2c7f5ce4c41d7ab9b60f5d28ccb38": {
          "model_module": "@jupyter-widgets/base",
          "model_name": "LayoutModel",
          "model_module_version": "1.2.0",
          "state": {
            "_model_module": "@jupyter-widgets/base",
            "_model_module_version": "1.2.0",
            "_model_name": "LayoutModel",
            "_view_count": null,
            "_view_module": "@jupyter-widgets/base",
            "_view_module_version": "1.2.0",
            "_view_name": "LayoutView",
            "align_content": null,
            "align_items": null,
            "align_self": null,
            "border": null,
            "bottom": null,
            "display": null,
            "flex": null,
            "flex_flow": null,
            "grid_area": null,
            "grid_auto_columns": null,
            "grid_auto_flow": null,
            "grid_auto_rows": null,
            "grid_column": null,
            "grid_gap": null,
            "grid_row": null,
            "grid_template_areas": null,
            "grid_template_columns": null,
            "grid_template_rows": null,
            "height": null,
            "justify_content": null,
            "justify_items": null,
            "left": null,
            "margin": null,
            "max_height": null,
            "max_width": null,
            "min_height": null,
            "min_width": null,
            "object_fit": null,
            "object_position": null,
            "order": null,
            "overflow": null,
            "overflow_x": null,
            "overflow_y": null,
            "padding": null,
            "right": null,
            "top": null,
            "visibility": null,
            "width": null
          }
        },
        "7e137f62229a4bc598a21a99b6c2ed33": {
          "model_module": "@jupyter-widgets/controls",
          "model_name": "ProgressStyleModel",
          "model_module_version": "1.5.0",
          "state": {
            "_model_module": "@jupyter-widgets/controls",
            "_model_module_version": "1.5.0",
            "_model_name": "ProgressStyleModel",
            "_view_count": null,
            "_view_module": "@jupyter-widgets/base",
            "_view_module_version": "1.2.0",
            "_view_name": "StyleView",
            "bar_color": null,
            "description_width": ""
          }
        },
        "d1f8f9d5548d4eb29775b68c05302f30": {
          "model_module": "@jupyter-widgets/base",
          "model_name": "LayoutModel",
          "model_module_version": "1.2.0",
          "state": {
            "_model_module": "@jupyter-widgets/base",
            "_model_module_version": "1.2.0",
            "_model_name": "LayoutModel",
            "_view_count": null,
            "_view_module": "@jupyter-widgets/base",
            "_view_module_version": "1.2.0",
            "_view_name": "LayoutView",
            "align_content": null,
            "align_items": null,
            "align_self": null,
            "border": null,
            "bottom": null,
            "display": null,
            "flex": null,
            "flex_flow": null,
            "grid_area": null,
            "grid_auto_columns": null,
            "grid_auto_flow": null,
            "grid_auto_rows": null,
            "grid_column": null,
            "grid_gap": null,
            "grid_row": null,
            "grid_template_areas": null,
            "grid_template_columns": null,
            "grid_template_rows": null,
            "height": null,
            "justify_content": null,
            "justify_items": null,
            "left": null,
            "margin": null,
            "max_height": null,
            "max_width": null,
            "min_height": null,
            "min_width": null,
            "object_fit": null,
            "object_position": null,
            "order": null,
            "overflow": null,
            "overflow_x": null,
            "overflow_y": null,
            "padding": null,
            "right": null,
            "top": null,
            "visibility": null,
            "width": null
          }
        },
        "6d7f247039c84f889dc506ca2dc678aa": {
          "model_module": "@jupyter-widgets/controls",
          "model_name": "DescriptionStyleModel",
          "model_module_version": "1.5.0",
          "state": {
            "_model_module": "@jupyter-widgets/controls",
            "_model_module_version": "1.5.0",
            "_model_name": "DescriptionStyleModel",
            "_view_count": null,
            "_view_module": "@jupyter-widgets/base",
            "_view_module_version": "1.2.0",
            "_view_name": "StyleView",
            "description_width": ""
          }
        },
        "403c0445d13a4d2d98f91f77ca82febb": {
          "model_module": "@jupyter-widgets/controls",
          "model_name": "HBoxModel",
          "model_module_version": "1.5.0",
          "state": {
            "_dom_classes": [],
            "_model_module": "@jupyter-widgets/controls",
            "_model_module_version": "1.5.0",
            "_model_name": "HBoxModel",
            "_view_count": null,
            "_view_module": "@jupyter-widgets/controls",
            "_view_module_version": "1.5.0",
            "_view_name": "HBoxView",
            "box_style": "",
            "children": [
              "IPY_MODEL_fcf3ed6ca2684b71aaccf1c8822026fb",
              "IPY_MODEL_e3f238afeb5f49f9a4ca5ee89d60b2da",
              "IPY_MODEL_105254b0e0a8411bb66d3611911fb66f"
            ],
            "layout": "IPY_MODEL_f03903e4637e49c6b02ee51819226784"
          }
        },
        "fcf3ed6ca2684b71aaccf1c8822026fb": {
          "model_module": "@jupyter-widgets/controls",
          "model_name": "HTMLModel",
          "model_module_version": "1.5.0",
          "state": {
            "_dom_classes": [],
            "_model_module": "@jupyter-widgets/controls",
            "_model_module_version": "1.5.0",
            "_model_name": "HTMLModel",
            "_view_count": null,
            "_view_module": "@jupyter-widgets/controls",
            "_view_module_version": "1.5.0",
            "_view_name": "HTMLView",
            "description": "",
            "description_tooltip": null,
            "layout": "IPY_MODEL_22066148c24b4d74855ad3a0f5947efb",
            "placeholder": "​",
            "style": "IPY_MODEL_8721828323164823a01c0589f15c21cd",
            "value": "Downloading: 100%"
          }
        },
        "e3f238afeb5f49f9a4ca5ee89d60b2da": {
          "model_module": "@jupyter-widgets/controls",
          "model_name": "FloatProgressModel",
          "model_module_version": "1.5.0",
          "state": {
            "_dom_classes": [],
            "_model_module": "@jupyter-widgets/controls",
            "_model_module_version": "1.5.0",
            "_model_name": "FloatProgressModel",
            "_view_count": null,
            "_view_module": "@jupyter-widgets/controls",
            "_view_module_version": "1.5.0",
            "_view_name": "ProgressView",
            "bar_style": "success",
            "description": "",
            "description_tooltip": null,
            "layout": "IPY_MODEL_ca7a23dd784e4dd1bcd6c663d6283eaa",
            "max": 334,
            "min": 0,
            "orientation": "horizontal",
            "style": "IPY_MODEL_145ad2e93bdb431b8404f2bb202e85c4",
            "value": 334
          }
        },
        "105254b0e0a8411bb66d3611911fb66f": {
          "model_module": "@jupyter-widgets/controls",
          "model_name": "HTMLModel",
          "model_module_version": "1.5.0",
          "state": {
            "_dom_classes": [],
            "_model_module": "@jupyter-widgets/controls",
            "_model_module_version": "1.5.0",
            "_model_name": "HTMLModel",
            "_view_count": null,
            "_view_module": "@jupyter-widgets/controls",
            "_view_module_version": "1.5.0",
            "_view_name": "HTMLView",
            "description": "",
            "description_tooltip": null,
            "layout": "IPY_MODEL_45d1ae9af920463fb3575e966c5ce9c5",
            "placeholder": "​",
            "style": "IPY_MODEL_bbf819632cdb440cb0295e5dc13decf8",
            "value": " 334/334 [00:00&lt;00:00, 8.40kB/s]"
          }
        },
        "f03903e4637e49c6b02ee51819226784": {
          "model_module": "@jupyter-widgets/base",
          "model_name": "LayoutModel",
          "model_module_version": "1.2.0",
          "state": {
            "_model_module": "@jupyter-widgets/base",
            "_model_module_version": "1.2.0",
            "_model_name": "LayoutModel",
            "_view_count": null,
            "_view_module": "@jupyter-widgets/base",
            "_view_module_version": "1.2.0",
            "_view_name": "LayoutView",
            "align_content": null,
            "align_items": null,
            "align_self": null,
            "border": null,
            "bottom": null,
            "display": null,
            "flex": null,
            "flex_flow": null,
            "grid_area": null,
            "grid_auto_columns": null,
            "grid_auto_flow": null,
            "grid_auto_rows": null,
            "grid_column": null,
            "grid_gap": null,
            "grid_row": null,
            "grid_template_areas": null,
            "grid_template_columns": null,
            "grid_template_rows": null,
            "height": null,
            "justify_content": null,
            "justify_items": null,
            "left": null,
            "margin": null,
            "max_height": null,
            "max_width": null,
            "min_height": null,
            "min_width": null,
            "object_fit": null,
            "object_position": null,
            "order": null,
            "overflow": null,
            "overflow_x": null,
            "overflow_y": null,
            "padding": null,
            "right": null,
            "top": null,
            "visibility": null,
            "width": null
          }
        },
        "22066148c24b4d74855ad3a0f5947efb": {
          "model_module": "@jupyter-widgets/base",
          "model_name": "LayoutModel",
          "model_module_version": "1.2.0",
          "state": {
            "_model_module": "@jupyter-widgets/base",
            "_model_module_version": "1.2.0",
            "_model_name": "LayoutModel",
            "_view_count": null,
            "_view_module": "@jupyter-widgets/base",
            "_view_module_version": "1.2.0",
            "_view_name": "LayoutView",
            "align_content": null,
            "align_items": null,
            "align_self": null,
            "border": null,
            "bottom": null,
            "display": null,
            "flex": null,
            "flex_flow": null,
            "grid_area": null,
            "grid_auto_columns": null,
            "grid_auto_flow": null,
            "grid_auto_rows": null,
            "grid_column": null,
            "grid_gap": null,
            "grid_row": null,
            "grid_template_areas": null,
            "grid_template_columns": null,
            "grid_template_rows": null,
            "height": null,
            "justify_content": null,
            "justify_items": null,
            "left": null,
            "margin": null,
            "max_height": null,
            "max_width": null,
            "min_height": null,
            "min_width": null,
            "object_fit": null,
            "object_position": null,
            "order": null,
            "overflow": null,
            "overflow_x": null,
            "overflow_y": null,
            "padding": null,
            "right": null,
            "top": null,
            "visibility": null,
            "width": null
          }
        },
        "8721828323164823a01c0589f15c21cd": {
          "model_module": "@jupyter-widgets/controls",
          "model_name": "DescriptionStyleModel",
          "model_module_version": "1.5.0",
          "state": {
            "_model_module": "@jupyter-widgets/controls",
            "_model_module_version": "1.5.0",
            "_model_name": "DescriptionStyleModel",
            "_view_count": null,
            "_view_module": "@jupyter-widgets/base",
            "_view_module_version": "1.2.0",
            "_view_name": "StyleView",
            "description_width": ""
          }
        },
        "ca7a23dd784e4dd1bcd6c663d6283eaa": {
          "model_module": "@jupyter-widgets/base",
          "model_name": "LayoutModel",
          "model_module_version": "1.2.0",
          "state": {
            "_model_module": "@jupyter-widgets/base",
            "_model_module_version": "1.2.0",
            "_model_name": "LayoutModel",
            "_view_count": null,
            "_view_module": "@jupyter-widgets/base",
            "_view_module_version": "1.2.0",
            "_view_name": "LayoutView",
            "align_content": null,
            "align_items": null,
            "align_self": null,
            "border": null,
            "bottom": null,
            "display": null,
            "flex": null,
            "flex_flow": null,
            "grid_area": null,
            "grid_auto_columns": null,
            "grid_auto_flow": null,
            "grid_auto_rows": null,
            "grid_column": null,
            "grid_gap": null,
            "grid_row": null,
            "grid_template_areas": null,
            "grid_template_columns": null,
            "grid_template_rows": null,
            "height": null,
            "justify_content": null,
            "justify_items": null,
            "left": null,
            "margin": null,
            "max_height": null,
            "max_width": null,
            "min_height": null,
            "min_width": null,
            "object_fit": null,
            "object_position": null,
            "order": null,
            "overflow": null,
            "overflow_x": null,
            "overflow_y": null,
            "padding": null,
            "right": null,
            "top": null,
            "visibility": null,
            "width": null
          }
        },
        "145ad2e93bdb431b8404f2bb202e85c4": {
          "model_module": "@jupyter-widgets/controls",
          "model_name": "ProgressStyleModel",
          "model_module_version": "1.5.0",
          "state": {
            "_model_module": "@jupyter-widgets/controls",
            "_model_module_version": "1.5.0",
            "_model_name": "ProgressStyleModel",
            "_view_count": null,
            "_view_module": "@jupyter-widgets/base",
            "_view_module_version": "1.2.0",
            "_view_name": "StyleView",
            "bar_color": null,
            "description_width": ""
          }
        },
        "45d1ae9af920463fb3575e966c5ce9c5": {
          "model_module": "@jupyter-widgets/base",
          "model_name": "LayoutModel",
          "model_module_version": "1.2.0",
          "state": {
            "_model_module": "@jupyter-widgets/base",
            "_model_module_version": "1.2.0",
            "_model_name": "LayoutModel",
            "_view_count": null,
            "_view_module": "@jupyter-widgets/base",
            "_view_module_version": "1.2.0",
            "_view_name": "LayoutView",
            "align_content": null,
            "align_items": null,
            "align_self": null,
            "border": null,
            "bottom": null,
            "display": null,
            "flex": null,
            "flex_flow": null,
            "grid_area": null,
            "grid_auto_columns": null,
            "grid_auto_flow": null,
            "grid_auto_rows": null,
            "grid_column": null,
            "grid_gap": null,
            "grid_row": null,
            "grid_template_areas": null,
            "grid_template_columns": null,
            "grid_template_rows": null,
            "height": null,
            "justify_content": null,
            "justify_items": null,
            "left": null,
            "margin": null,
            "max_height": null,
            "max_width": null,
            "min_height": null,
            "min_width": null,
            "object_fit": null,
            "object_position": null,
            "order": null,
            "overflow": null,
            "overflow_x": null,
            "overflow_y": null,
            "padding": null,
            "right": null,
            "top": null,
            "visibility": null,
            "width": null
          }
        },
        "bbf819632cdb440cb0295e5dc13decf8": {
          "model_module": "@jupyter-widgets/controls",
          "model_name": "DescriptionStyleModel",
          "model_module_version": "1.5.0",
          "state": {
            "_model_module": "@jupyter-widgets/controls",
            "_model_module_version": "1.5.0",
            "_model_name": "DescriptionStyleModel",
            "_view_count": null,
            "_view_module": "@jupyter-widgets/base",
            "_view_module_version": "1.2.0",
            "_view_name": "StyleView",
            "description_width": ""
          }
        }
      }
    }
  },
  "nbformat": 4,
  "nbformat_minor": 0
}