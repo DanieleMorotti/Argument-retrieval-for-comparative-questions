{
 "cells": [
  {
   "cell_type": "code",
   "execution_count": 1,
   "metadata": {},
   "outputs": [],
   "source": [
    "import os\n",
    "import re\n",
    "\n",
    "import pandas as pd"
   ]
  },
  {
   "attachments": {},
   "cell_type": "markdown",
   "metadata": {},
   "source": [
    "# MS-Marco dataset"
   ]
  },
  {
   "cell_type": "code",
   "execution_count": 40,
   "metadata": {},
   "outputs": [],
   "source": [
    "class StringParser:\n",
    "    def __init__(self):\n",
    "        docs_str = r\"\"\"\n",
    "            # e.g. 'is_selected': 0\n",
    "            {(?P<quotesel>\\\"|')is_selected(?P=quotesel):\\s(?P<sel>0|1),\\s\n",
    "\n",
    "            # e.g. 'passage_text': 'hello world'\n",
    "            (?P<quotetext>\\\"|')passage_text(?P=quotetext):\\s(?P<quotetext2>\\\"|')(?P<text>.*?)(?P=quotetext2),\\s\n",
    "\n",
    "            # e.g. 'url': 'http://foo.bar.com'\n",
    "            (?P<quoteurl>\\\"|')url(?P=quoteurl):\\s(?P<quoteurl2>\\\"|')(?P<url>.*?)(?P=quoteurl2)}\n",
    "        \"\"\"\n",
    "        self.PASSAGE = re.compile(docs_str, re.VERBOSE)\n",
    "        self.ANSWER = re.compile(r\"(?P<quote>\\\"|')(?P<text>.*?)(?P=quote)\")\n",
    "\n",
    "    def parse_passages(self, s: str):\n",
    "        return [\n",
    "            {\n",
    "                \"is_selected\": int(m.group(\"sel\")),\n",
    "                \"passage_text\": m.group(\"text\"),\n",
    "                \"url\": m.group(\"url\"),\n",
    "            }\n",
    "            for m in self.PASSAGE.finditer(s)\n",
    "        ]\n",
    "\n",
    "    def parse_answers(self, s: str):\n",
    "        return [m.group(\"text\") for m in self.ANSWER.finditer(s)]\n",
    "\n",
    "\n",
    "string_parser = StringParser()\n"
   ]
  },
  {
   "attachments": {},
   "cell_type": "markdown",
   "metadata": {},
   "source": [
    "Dataset read."
   ]
  },
  {
   "cell_type": "code",
   "execution_count": 2,
   "metadata": {},
   "outputs": [
    {
     "data": {
      "text/html": [
       "<div>\n",
       "<style scoped>\n",
       "    .dataframe tbody tr th:only-of-type {\n",
       "        vertical-align: middle;\n",
       "    }\n",
       "\n",
       "    .dataframe tbody tr th {\n",
       "        vertical-align: top;\n",
       "    }\n",
       "\n",
       "    .dataframe thead th {\n",
       "        text-align: right;\n",
       "    }\n",
       "</style>\n",
       "<table border=\"1\" class=\"dataframe\">\n",
       "  <thead>\n",
       "    <tr style=\"text-align: right;\">\n",
       "      <th></th>\n",
       "      <th>question</th>\n",
       "      <th>query_id</th>\n",
       "      <th>wellFormedAnswers</th>\n",
       "      <th>passages</th>\n",
       "      <th>answers</th>\n",
       "      <th>query_type</th>\n",
       "    </tr>\n",
       "  </thead>\n",
       "  <tbody>\n",
       "    <tr>\n",
       "      <th>0</th>\n",
       "      <td>is the atlanta airport the busiest in the world</td>\n",
       "      <td>1174762</td>\n",
       "      <td>[]</td>\n",
       "      <td>[{'is_selected': 0, 'passage_text': 'While Chi...</td>\n",
       "      <td>['No Answer Present.']</td>\n",
       "      <td>LOCATION</td>\n",
       "    </tr>\n",
       "    <tr>\n",
       "      <th>1</th>\n",
       "      <td>most romantic hotels in bahamas</td>\n",
       "      <td>459200</td>\n",
       "      <td>[]</td>\n",
       "      <td>[{'is_selected': 0, 'passage_text': \"Thank You...</td>\n",
       "      <td>['No Answer Present.']</td>\n",
       "      <td>PERSON</td>\n",
       "    </tr>\n",
       "    <tr>\n",
       "      <th>2</th>\n",
       "      <td>benefits of a weaker dollar</td>\n",
       "      <td>50251</td>\n",
       "      <td>[]</td>\n",
       "      <td>[{'is_selected': 1, 'passage_text': 'The Benef...</td>\n",
       "      <td>['The Benefits of a Weak Dollar Despite expres...</td>\n",
       "      <td>DESCRIPTION</td>\n",
       "    </tr>\n",
       "    <tr>\n",
       "      <th>3</th>\n",
       "      <td>what distinguishes a macronutrient from a micr...</td>\n",
       "      <td>621519</td>\n",
       "      <td>['The difference between a macronutrient and a...</td>\n",
       "      <td>[{'is_selected': 1, 'passage_text': \"Macronutr...</td>\n",
       "      <td>['Macronutrients mainly include carbohydrates,...</td>\n",
       "      <td>DESCRIPTION</td>\n",
       "    </tr>\n",
       "    <tr>\n",
       "      <th>4</th>\n",
       "      <td>united states postal service roseburg or</td>\n",
       "      <td>532464</td>\n",
       "      <td>[]</td>\n",
       "      <td>[{'is_selected': 0, 'passage_text': 'United St...</td>\n",
       "      <td>['It is located at the address 1304 Ne Cedar S...</td>\n",
       "      <td>DESCRIPTION</td>\n",
       "    </tr>\n",
       "  </tbody>\n",
       "</table>\n",
       "</div>"
      ],
      "text/plain": [
       "                                            question  query_id  \\\n",
       "0    is the atlanta airport the busiest in the world   1174762   \n",
       "1                    most romantic hotels in bahamas    459200   \n",
       "2                        benefits of a weaker dollar     50251   \n",
       "3  what distinguishes a macronutrient from a micr...    621519   \n",
       "4           united states postal service roseburg or    532464   \n",
       "\n",
       "                                   wellFormedAnswers  \\\n",
       "0                                                 []   \n",
       "1                                                 []   \n",
       "2                                                 []   \n",
       "3  ['The difference between a macronutrient and a...   \n",
       "4                                                 []   \n",
       "\n",
       "                                            passages  \\\n",
       "0  [{'is_selected': 0, 'passage_text': 'While Chi...   \n",
       "1  [{'is_selected': 0, 'passage_text': \"Thank You...   \n",
       "2  [{'is_selected': 1, 'passage_text': 'The Benef...   \n",
       "3  [{'is_selected': 1, 'passage_text': \"Macronutr...   \n",
       "4  [{'is_selected': 0, 'passage_text': 'United St...   \n",
       "\n",
       "                                             answers   query_type  \n",
       "0                             ['No Answer Present.']     LOCATION  \n",
       "1                             ['No Answer Present.']       PERSON  \n",
       "2  ['The Benefits of a Weak Dollar Despite expres...  DESCRIPTION  \n",
       "3  ['Macronutrients mainly include carbohydrates,...  DESCRIPTION  \n",
       "4  ['It is located at the address 1304 Ne Cedar S...  DESCRIPTION  "
      ]
     },
     "execution_count": 2,
     "metadata": {},
     "output_type": "execute_result"
    }
   ],
   "source": [
    "path = os.path.join(os.getcwd(), \"marco_comp_all_fields.tsv\")\n",
    "df = pd.read_csv(path, sep=\"\\t\")\n",
    "\n",
    "df.head()"
   ]
  },
  {
   "attachments": {},
   "cell_type": "markdown",
   "metadata": {},
   "source": [
    "## Observe data"
   ]
  },
  {
   "attachments": {},
   "cell_type": "markdown",
   "metadata": {},
   "source": [
    "### Well-formed answers\n",
    "\n",
    "Well-formed answers are more relevant for generative models, i.e. the answer is generated rather than being extracted from the available texts. Our goal is toward a retrieval model, hence we are not interested in this type of answers."
   ]
  },
  {
   "attachments": {},
   "cell_type": "markdown",
   "metadata": {},
   "source": [
    "There are 7217 well-formed answers in the dataset."
   ]
  },
  {
   "cell_type": "code",
   "execution_count": 35,
   "metadata": {},
   "outputs": [
    {
     "name": "stdout",
     "output_type": "stream",
     "text": [
      "Numer of rows: 7217\n"
     ]
    }
   ],
   "source": [
    "df_wf = df[df[\"wellFormedAnswers\"].map(len) > 2]\n",
    "\n",
    "print(f\"Numer of rows: {df_wf.shape[0]}\")"
   ]
  },
  {
   "attachments": {},
   "cell_type": "markdown",
   "metadata": {},
   "source": [
    "Difference between a well-formed answer and a retrieved one. The former is not extracted directly from the passage text, but it's generated."
   ]
  },
  {
   "cell_type": "code",
   "execution_count": 41,
   "metadata": {},
   "outputs": [
    {
     "name": "stdout",
     "output_type": "stream",
     "text": [
      "Question: what distinguishes a macronutrient from a micronutrient\n",
      "\n",
      "Well-formed answer: ['The difference between a macronutrient and a micronutrient, macronutrients mainly include carbohydrates, proteins and fats and also water which are required in large quantities whereas, micronutrients mainly comprise vitamins and minerals which are required in minute quantities.']\n",
      "\n",
      "Retrived answer: ['Macronutrients mainly include carbohydrates, proteins and fats and also water which are required in large quantities and their main function being the release of energy in body.Whereas, micronutrients mainly comprise vitamins and minerals which are required in minute quantities.']\n"
     ]
    }
   ],
   "source": [
    "idx = 0\n",
    "row = df_wf.iloc[idx]\n",
    "print(f\"Question: {row.question}\", end=\"\\n\\n\")\n",
    "print(f\"Well-formed answer: {string_parser.parse_answers(row.wellFormedAnswers)}\", end=\"\\n\\n\")\n",
    "print(f\"Retrived answer: {string_parser.parse_answers(row.answers)}\")"
   ]
  },
  {
   "attachments": {},
   "cell_type": "markdown",
   "metadata": {},
   "source": [
    "However, for this task well-formed answer are excluded because we are interested only in retrieved answers, in this way the classification is for span texts. "
   ]
  },
  {
   "attachments": {},
   "cell_type": "markdown",
   "metadata": {},
   "source": [
    "### Number of answers\n",
    "\n",
    "The number of answers for the majority of questions is one. However, some questions have more than an answer, but we are not interested in those questions because our model would be too complicated."
   ]
  },
  {
   "attachments": {},
   "cell_type": "markdown",
   "metadata": {},
   "source": [
    "How many answers in the column 'answers'. We should expect only 1 answer."
   ]
  },
  {
   "cell_type": "code",
   "execution_count": 42,
   "metadata": {},
   "outputs": [
    {
     "name": "stdout",
     "output_type": "stream",
     "text": [
      "Number of answers for the same question: [1, 2, 3]\n"
     ]
    }
   ],
   "source": [
    "answers_length = df.answers.apply(lambda x: len(string_parser.parse_answers(x)))\n",
    "print(f\"Number of answers for the same question: {sorted(answers_length.unique())}\")"
   ]
  },
  {
   "attachments": {},
   "cell_type": "markdown",
   "metadata": {},
   "source": [
    "However, some questions have two answers, while only two has three answers. Fortunately, these numbers are small compared to the size of the dataset, in fact the majority of questions have only one answer.\n",
    "\n",
    "- 1 answer: 39818\n",
    "- 2 answers: 614\n",
    "- 3 answers: 2"
   ]
  },
  {
   "cell_type": "code",
   "execution_count": 43,
   "metadata": {},
   "outputs": [
    {
     "data": {
      "text/plain": [
       "1    39818\n",
       "2      614\n",
       "3        2\n",
       "Name: answers, dtype: int64"
      ]
     },
     "execution_count": 43,
     "metadata": {},
     "output_type": "execute_result"
    }
   ],
   "source": [
    "answers_length.value_counts()"
   ]
  },
  {
   "attachments": {},
   "cell_type": "markdown",
   "metadata": {},
   "source": [
    "#### Question with two answers."
   ]
  },
  {
   "cell_type": "code",
   "execution_count": 44,
   "metadata": {},
   "outputs": [
    {
     "data": {
      "text/html": [
       "<div>\n",
       "<style scoped>\n",
       "    .dataframe tbody tr th:only-of-type {\n",
       "        vertical-align: middle;\n",
       "    }\n",
       "\n",
       "    .dataframe tbody tr th {\n",
       "        vertical-align: top;\n",
       "    }\n",
       "\n",
       "    .dataframe thead th {\n",
       "        text-align: right;\n",
       "    }\n",
       "</style>\n",
       "<table border=\"1\" class=\"dataframe\">\n",
       "  <thead>\n",
       "    <tr style=\"text-align: right;\">\n",
       "      <th></th>\n",
       "      <th>question</th>\n",
       "      <th>query_id</th>\n",
       "      <th>wellFormedAnswers</th>\n",
       "      <th>passages</th>\n",
       "      <th>answers</th>\n",
       "      <th>query_type</th>\n",
       "    </tr>\n",
       "  </thead>\n",
       "  <tbody>\n",
       "    <tr>\n",
       "      <th>71</th>\n",
       "      <td>how much water should i drink each day?</td>\n",
       "      <td>330247</td>\n",
       "      <td>[]</td>\n",
       "      <td>[{'is_selected': 1, 'passage_text': 'The Harva...</td>\n",
       "      <td>['A 132-pound women needs to drink 41 ounces o...</td>\n",
       "      <td>NUMERIC</td>\n",
       "    </tr>\n",
       "    <tr>\n",
       "      <th>107</th>\n",
       "      <td>cost of shiplap compared to drywall</td>\n",
       "      <td>107016</td>\n",
       "      <td>['The cost of shiplap is between $25 and $50 p...</td>\n",
       "      <td>[{'is_selected': 1, 'passage_text': 'Shiplap s...</td>\n",
       "      <td>['$25 and $50 per hour', 'Shilpa boards cost $...</td>\n",
       "      <td>NUMERIC</td>\n",
       "    </tr>\n",
       "    <tr>\n",
       "      <th>129</th>\n",
       "      <td>is it ct or cst</td>\n",
       "      <td>413658</td>\n",
       "      <td>[]</td>\n",
       "      <td>[{'is_selected': 1, 'passage_text': 'The curre...</td>\n",
       "      <td>['Central Time is denote the local time in are...</td>\n",
       "      <td>DESCRIPTION</td>\n",
       "    </tr>\n",
       "    <tr>\n",
       "      <th>172</th>\n",
       "      <td>most advanced naval ships in the world</td>\n",
       "      <td>456321</td>\n",
       "      <td>['The Astute class submarine is the most advan...</td>\n",
       "      <td>[{'is_selected': 1, 'passage_text': 'Astute-cl...</td>\n",
       "      <td>['Astute-class submarines', 'Astute-class subm...</td>\n",
       "      <td>ENTITY</td>\n",
       "    </tr>\n",
       "    <tr>\n",
       "      <th>174</th>\n",
       "      <td>what foods are good for tonsillitis</td>\n",
       "      <td>660946</td>\n",
       "      <td>['Soft, bland foods such as pudding, applesauc...</td>\n",
       "      <td>[{'is_selected': 0, 'passage_text': 'Chilled d...</td>\n",
       "      <td>['Soft, bland foods such as pudding, applesauc...</td>\n",
       "      <td>ENTITY</td>\n",
       "    </tr>\n",
       "  </tbody>\n",
       "</table>\n",
       "</div>"
      ],
      "text/plain": [
       "                                    question  query_id  \\\n",
       "71   how much water should i drink each day?    330247   \n",
       "107      cost of shiplap compared to drywall    107016   \n",
       "129                          is it ct or cst    413658   \n",
       "172   most advanced naval ships in the world    456321   \n",
       "174      what foods are good for tonsillitis    660946   \n",
       "\n",
       "                                     wellFormedAnswers  \\\n",
       "71                                                  []   \n",
       "107  ['The cost of shiplap is between $25 and $50 p...   \n",
       "129                                                 []   \n",
       "172  ['The Astute class submarine is the most advan...   \n",
       "174  ['Soft, bland foods such as pudding, applesauc...   \n",
       "\n",
       "                                              passages  \\\n",
       "71   [{'is_selected': 1, 'passage_text': 'The Harva...   \n",
       "107  [{'is_selected': 1, 'passage_text': 'Shiplap s...   \n",
       "129  [{'is_selected': 1, 'passage_text': 'The curre...   \n",
       "172  [{'is_selected': 1, 'passage_text': 'Astute-cl...   \n",
       "174  [{'is_selected': 0, 'passage_text': 'Chilled d...   \n",
       "\n",
       "                                               answers   query_type  \n",
       "71   ['A 132-pound women needs to drink 41 ounces o...      NUMERIC  \n",
       "107  ['$25 and $50 per hour', 'Shilpa boards cost $...      NUMERIC  \n",
       "129  ['Central Time is denote the local time in are...  DESCRIPTION  \n",
       "172  ['Astute-class submarines', 'Astute-class subm...       ENTITY  \n",
       "174  ['Soft, bland foods such as pudding, applesauc...       ENTITY  "
      ]
     },
     "execution_count": 44,
     "metadata": {},
     "output_type": "execute_result"
    }
   ],
   "source": [
    "df_two = df[answers_length == 2]\n",
    "df_two.head()"
   ]
  },
  {
   "cell_type": "code",
   "execution_count": 45,
   "metadata": {},
   "outputs": [
    {
     "data": {
      "text/plain": [
       "['A 132-pound women needs to drink 41 ounces of water a day.',\n",
       " '8-ounce glasses']"
      ]
     },
     "execution_count": 45,
     "metadata": {},
     "output_type": "execute_result"
    }
   ],
   "source": [
    "string_parser.parse_answers(df.iloc[71].answers)"
   ]
  },
  {
   "attachments": {},
   "cell_type": "markdown",
   "metadata": {},
   "source": [
    "#### Question with three answers.\n",
    "\n",
    "Answers are not retrieved from the same passage text. In addition, the first answer refers to two different passage texts, while the other two answers aren't even retrieved from texts but are generated."
   ]
  },
  {
   "cell_type": "code",
   "execution_count": 46,
   "metadata": {},
   "outputs": [
    {
     "data": {
      "text/html": [
       "<div>\n",
       "<style scoped>\n",
       "    .dataframe tbody tr th:only-of-type {\n",
       "        vertical-align: middle;\n",
       "    }\n",
       "\n",
       "    .dataframe tbody tr th {\n",
       "        vertical-align: top;\n",
       "    }\n",
       "\n",
       "    .dataframe thead th {\n",
       "        text-align: right;\n",
       "    }\n",
       "</style>\n",
       "<table border=\"1\" class=\"dataframe\">\n",
       "  <thead>\n",
       "    <tr style=\"text-align: right;\">\n",
       "      <th></th>\n",
       "      <th>question</th>\n",
       "      <th>query_id</th>\n",
       "      <th>wellFormedAnswers</th>\n",
       "      <th>passages</th>\n",
       "      <th>answers</th>\n",
       "      <th>query_type</th>\n",
       "    </tr>\n",
       "  </thead>\n",
       "  <tbody>\n",
       "    <tr>\n",
       "      <th>35043</th>\n",
       "      <td>benefits of cucumber and lemon water</td>\n",
       "      <td>50550</td>\n",
       "      <td>[]</td>\n",
       "      <td>[{'is_selected': 1, 'passage_text': 'As part o...</td>\n",
       "      <td>['Fights chronic diseases, such as coronary ar...</td>\n",
       "      <td>DESCRIPTION</td>\n",
       "    </tr>\n",
       "    <tr>\n",
       "      <th>38409</th>\n",
       "      <td>is flip or flop renewed</td>\n",
       "      <td>410309</td>\n",
       "      <td>[]</td>\n",
       "      <td>[{'is_selected': 0, 'passage_text': 'Flip or F...</td>\n",
       "      <td>['Yes, Flip or Flop Returns for Season.', 'Yes...</td>\n",
       "      <td>DESCRIPTION</td>\n",
       "    </tr>\n",
       "  </tbody>\n",
       "</table>\n",
       "</div>"
      ],
      "text/plain": [
       "                                   question  query_id wellFormedAnswers  \\\n",
       "35043  benefits of cucumber and lemon water     50550                []   \n",
       "38409               is flip or flop renewed    410309                []   \n",
       "\n",
       "                                                passages  \\\n",
       "35043  [{'is_selected': 1, 'passage_text': 'As part o...   \n",
       "38409  [{'is_selected': 0, 'passage_text': 'Flip or F...   \n",
       "\n",
       "                                                 answers   query_type  \n",
       "35043  ['Fights chronic diseases, such as coronary ar...  DESCRIPTION  \n",
       "38409  ['Yes, Flip or Flop Returns for Season.', 'Yes...  DESCRIPTION  "
      ]
     },
     "execution_count": 46,
     "metadata": {},
     "output_type": "execute_result"
    }
   ],
   "source": [
    "df_three = df[answers_length == 3]\n",
    "df_three.head()"
   ]
  },
  {
   "cell_type": "code",
   "execution_count": 47,
   "metadata": {},
   "outputs": [
    {
     "data": {
      "text/plain": [
       "['Fights chronic diseases, such as coronary artery disease. Supports brain cell communication, boosts collagen production to strengthen your tissues and also helps your body process cholesterol.',\n",
       " 'cucumber increase your vitamin K intake and Lemon water makes for a powerful detox drink.lemon juice helps to cleanse and alkalize the body.',\n",
       " 'Fights chronic diseases, increase your vitamin K,it providing a significant amount of pantothenic acid, also called vitamin B-5.']"
      ]
     },
     "execution_count": 47,
     "metadata": {},
     "output_type": "execute_result"
    }
   ],
   "source": [
    "string_parser.parse_answers(df.iloc[35043].answers)"
   ]
  },
  {
   "cell_type": "code",
   "execution_count": 48,
   "metadata": {},
   "outputs": [
    {
     "data": {
      "text/plain": [
       "['Yes, Flip or Flop Returns for Season.',\n",
       " 'Yes',\n",
       " \"Yes,HGTV has renewed its popular 'Flip or Flop' series.\"]"
      ]
     },
     "execution_count": 48,
     "metadata": {},
     "output_type": "execute_result"
    }
   ],
   "source": [
    "string_parser.parse_answers(df.iloc[38409].answers)"
   ]
  },
  {
   "attachments": {},
   "cell_type": "markdown",
   "metadata": {},
   "source": [
    "### Number of passages selected"
   ]
  },
  {
   "cell_type": "code",
   "execution_count": 49,
   "metadata": {},
   "outputs": [],
   "source": [
    "df_passages = df.passages.apply(string_parser.parse_passages)"
   ]
  },
  {
   "cell_type": "code",
   "execution_count": 50,
   "metadata": {},
   "outputs": [
    {
     "data": {
      "text/plain": [
       "1    20879\n",
       "0    16571\n",
       "2     2504\n",
       "3      365\n",
       "4       95\n",
       "5       15\n",
       "6        3\n",
       "7        2\n",
       "Name: passages, dtype: int64"
      ]
     },
     "execution_count": 50,
     "metadata": {},
     "output_type": "execute_result"
    }
   ],
   "source": [
    "sum_passages = df_passages.apply(lambda x: sum([v[\"is_selected\"] for v in x]))\n",
    "sum_passages.value_counts()"
   ]
  },
  {
   "attachments": {},
   "cell_type": "markdown",
   "metadata": {},
   "source": [
    "## Extract span texts"
   ]
  },
  {
   "attachments": {},
   "cell_type": "markdown",
   "metadata": {},
   "source": [
    "The number of not well-formed answers is 33217.\n",
    "\n",
    "In total there are $33217+7217=40434$ rows."
   ]
  },
  {
   "cell_type": "code",
   "execution_count": 51,
   "metadata": {},
   "outputs": [
    {
     "data": {
      "text/html": [
       "<div>\n",
       "<style scoped>\n",
       "    .dataframe tbody tr th:only-of-type {\n",
       "        vertical-align: middle;\n",
       "    }\n",
       "\n",
       "    .dataframe tbody tr th {\n",
       "        vertical-align: top;\n",
       "    }\n",
       "\n",
       "    .dataframe thead th {\n",
       "        text-align: right;\n",
       "    }\n",
       "</style>\n",
       "<table border=\"1\" class=\"dataframe\">\n",
       "  <thead>\n",
       "    <tr style=\"text-align: right;\">\n",
       "      <th></th>\n",
       "      <th>question</th>\n",
       "      <th>query_id</th>\n",
       "      <th>wellFormedAnswers</th>\n",
       "      <th>passages</th>\n",
       "      <th>answers</th>\n",
       "      <th>query_type</th>\n",
       "    </tr>\n",
       "  </thead>\n",
       "  <tbody>\n",
       "    <tr>\n",
       "      <th>0</th>\n",
       "      <td>is the atlanta airport the busiest in the world</td>\n",
       "      <td>1174762</td>\n",
       "      <td>[]</td>\n",
       "      <td>[{'is_selected': 0, 'passage_text': 'While Chi...</td>\n",
       "      <td>['No Answer Present.']</td>\n",
       "      <td>LOCATION</td>\n",
       "    </tr>\n",
       "    <tr>\n",
       "      <th>1</th>\n",
       "      <td>most romantic hotels in bahamas</td>\n",
       "      <td>459200</td>\n",
       "      <td>[]</td>\n",
       "      <td>[{'is_selected': 0, 'passage_text': \"Thank You...</td>\n",
       "      <td>['No Answer Present.']</td>\n",
       "      <td>PERSON</td>\n",
       "    </tr>\n",
       "    <tr>\n",
       "      <th>2</th>\n",
       "      <td>benefits of a weaker dollar</td>\n",
       "      <td>50251</td>\n",
       "      <td>[]</td>\n",
       "      <td>[{'is_selected': 1, 'passage_text': 'The Benef...</td>\n",
       "      <td>['The Benefits of a Weak Dollar Despite expres...</td>\n",
       "      <td>DESCRIPTION</td>\n",
       "    </tr>\n",
       "    <tr>\n",
       "      <th>4</th>\n",
       "      <td>united states postal service roseburg or</td>\n",
       "      <td>532464</td>\n",
       "      <td>[]</td>\n",
       "      <td>[{'is_selected': 0, 'passage_text': 'United St...</td>\n",
       "      <td>['It is located at the address 1304 Ne Cedar S...</td>\n",
       "      <td>DESCRIPTION</td>\n",
       "    </tr>\n",
       "    <tr>\n",
       "      <th>5</th>\n",
       "      <td>what are the most common geriatric illness</td>\n",
       "      <td>571722</td>\n",
       "      <td>[]</td>\n",
       "      <td>[{'is_selected': 0, 'passage_text': 'Often goi...</td>\n",
       "      <td>['Heart disease, stroke, cancer, and diabetes.']</td>\n",
       "      <td>ENTITY</td>\n",
       "    </tr>\n",
       "    <tr>\n",
       "      <th>...</th>\n",
       "      <td>...</td>\n",
       "      <td>...</td>\n",
       "      <td>...</td>\n",
       "      <td>...</td>\n",
       "      <td>...</td>\n",
       "      <td>...</td>\n",
       "    </tr>\n",
       "    <tr>\n",
       "      <th>40427</th>\n",
       "      <td>best wr in nfl history</td>\n",
       "      <td>52417</td>\n",
       "      <td>[]</td>\n",
       "      <td>[{'is_selected': 0, 'passage_text': 'this year...</td>\n",
       "      <td>['No Answer Present.']</td>\n",
       "      <td>DESCRIPTION</td>\n",
       "    </tr>\n",
       "    <tr>\n",
       "      <th>40428</th>\n",
       "      <td>best clp for gun cleaning</td>\n",
       "      <td>51663</td>\n",
       "      <td>[]</td>\n",
       "      <td>[{'is_selected': 0, 'passage_text': 'Breakfree...</td>\n",
       "      <td>['Oil,Ace Silicone Grease,Archoil AR4200,ATF –...</td>\n",
       "      <td>DESCRIPTION</td>\n",
       "    </tr>\n",
       "    <tr>\n",
       "      <th>40430</th>\n",
       "      <td>difference between longitudinal waves and tran...</td>\n",
       "      <td>147826</td>\n",
       "      <td>[]</td>\n",
       "      <td>[{'is_selected': 0, 'passage_text': 'In a long...</td>\n",
       "      <td>['The difference between transverse and longit...</td>\n",
       "      <td>DESCRIPTION</td>\n",
       "    </tr>\n",
       "    <tr>\n",
       "      <th>40431</th>\n",
       "      <td>fastest bike wheel</td>\n",
       "      <td>185255</td>\n",
       "      <td>[]</td>\n",
       "      <td>[{'is_selected': 0, 'passage_text': 'Al33, The...</td>\n",
       "      <td>['No Answer Present.']</td>\n",
       "      <td>ENTITY</td>\n",
       "    </tr>\n",
       "    <tr>\n",
       "      <th>40433</th>\n",
       "      <td>difference from phycol and psychiatrist</td>\n",
       "      <td>149249</td>\n",
       "      <td>[]</td>\n",
       "      <td>[{'is_selected': 0, 'passage_text': 'Moral psy...</td>\n",
       "      <td>['No Answer Present.']</td>\n",
       "      <td>DESCRIPTION</td>\n",
       "    </tr>\n",
       "  </tbody>\n",
       "</table>\n",
       "<p>33217 rows × 6 columns</p>\n",
       "</div>"
      ],
      "text/plain": [
       "                                                question  query_id  \\\n",
       "0        is the atlanta airport the busiest in the world   1174762   \n",
       "1                        most romantic hotels in bahamas    459200   \n",
       "2                            benefits of a weaker dollar     50251   \n",
       "4               united states postal service roseburg or    532464   \n",
       "5             what are the most common geriatric illness    571722   \n",
       "...                                                  ...       ...   \n",
       "40427                             best wr in nfl history     52417   \n",
       "40428                          best clp for gun cleaning     51663   \n",
       "40430  difference between longitudinal waves and tran...    147826   \n",
       "40431                                 fastest bike wheel    185255   \n",
       "40433            difference from phycol and psychiatrist    149249   \n",
       "\n",
       "      wellFormedAnswers                                           passages  \\\n",
       "0                    []  [{'is_selected': 0, 'passage_text': 'While Chi...   \n",
       "1                    []  [{'is_selected': 0, 'passage_text': \"Thank You...   \n",
       "2                    []  [{'is_selected': 1, 'passage_text': 'The Benef...   \n",
       "4                    []  [{'is_selected': 0, 'passage_text': 'United St...   \n",
       "5                    []  [{'is_selected': 0, 'passage_text': 'Often goi...   \n",
       "...                 ...                                                ...   \n",
       "40427                []  [{'is_selected': 0, 'passage_text': 'this year...   \n",
       "40428                []  [{'is_selected': 0, 'passage_text': 'Breakfree...   \n",
       "40430                []  [{'is_selected': 0, 'passage_text': 'In a long...   \n",
       "40431                []  [{'is_selected': 0, 'passage_text': 'Al33, The...   \n",
       "40433                []  [{'is_selected': 0, 'passage_text': 'Moral psy...   \n",
       "\n",
       "                                                 answers   query_type  \n",
       "0                                 ['No Answer Present.']     LOCATION  \n",
       "1                                 ['No Answer Present.']       PERSON  \n",
       "2      ['The Benefits of a Weak Dollar Despite expres...  DESCRIPTION  \n",
       "4      ['It is located at the address 1304 Ne Cedar S...  DESCRIPTION  \n",
       "5       ['Heart disease, stroke, cancer, and diabetes.']       ENTITY  \n",
       "...                                                  ...          ...  \n",
       "40427                             ['No Answer Present.']  DESCRIPTION  \n",
       "40428  ['Oil,Ace Silicone Grease,Archoil AR4200,ATF –...  DESCRIPTION  \n",
       "40430  ['The difference between transverse and longit...  DESCRIPTION  \n",
       "40431                             ['No Answer Present.']       ENTITY  \n",
       "40433                             ['No Answer Present.']  DESCRIPTION  \n",
       "\n",
       "[33217 rows x 6 columns]"
      ]
     },
     "execution_count": 51,
     "metadata": {},
     "output_type": "execute_result"
    }
   ],
   "source": [
    "df[df[\"wellFormedAnswers\"].map(len) == 2]"
   ]
  },
  {
   "cell_type": "code",
   "execution_count": 52,
   "metadata": {},
   "outputs": [
    {
     "name": "stdout",
     "output_type": "stream",
     "text": [
      "question                                   benefits of a weaker dollar\n",
      "query_id                                                         50251\n",
      "wellFormedAnswers                                                   []\n",
      "passages             [{'is_selected': 1, 'passage_text': 'The Benef...\n",
      "answers              ['The Benefits of a Weak Dollar Despite expres...\n",
      "query_type                                                 DESCRIPTION\n",
      "Name: 2, dtype: object\n"
     ]
    }
   ],
   "source": [
    "idx = 2\n",
    "row = df.iloc[idx]\n",
    "\n",
    "print(row)"
   ]
  },
  {
   "attachments": {},
   "cell_type": "markdown",
   "metadata": {},
   "source": [
    "Look at passages.\n",
    "\n",
    "The retrieved answer is extracted from the selected passage, usually in the first position in the list of passages."
   ]
  },
  {
   "cell_type": "code",
   "execution_count": 55,
   "metadata": {},
   "outputs": [
    {
     "data": {
      "text/plain": [
       "[{'is_selected': 1,\n",
       "  'passage_text': 'The Benefits of a Weak Dollar Despite expressions to the contrary by politicos and economists, the nature of a weak dollar can actually benefit stagnated portions of our economy. For example, a weak U.S. dollar will actually help boost the manufacturing sector. A weak dollar can also help sell U.S. made goods in overseas markets at lower prices. A weak dollar will benefit a few European retailers who import Asian products bought for dollars and sell them in European markets for stronger euro payments.',\n",
       "  'url': 'http://www.andygause.com/articles/international-money/the-benefits-of-a-weak-dollar/'}]"
      ]
     },
     "metadata": {},
     "output_type": "display_data"
    },
    {
     "data": {
      "text/plain": [
       "['The Benefits of a Weak Dollar Despite expressions to the contrary by politicos and economists, the nature of a weak dollar can actually benefit stagnated portions of our economy.']"
      ]
     },
     "metadata": {},
     "output_type": "display_data"
    }
   ],
   "source": [
    "answers = string_parser.parse_answers(row.answers)\n",
    "passages = string_parser.parse_passages(row.passages)\n",
    "selected_passage = list(filter(lambda x: x[\"is_selected\"], passages))\n",
    "\n",
    "display(selected_passage)\n",
    "display(answers)"
   ]
  },
  {
   "attachments": {},
   "cell_type": "markdown",
   "metadata": {},
   "source": [
    "To extract spans start/end, the retrieved answer is "
   ]
  },
  {
   "cell_type": "code",
   "execution_count": 58,
   "metadata": {},
   "outputs": [
    {
     "name": "stdout",
     "output_type": "stream",
     "text": [
      "Start: 0, end: 178\n"
     ]
    }
   ],
   "source": [
    "prog = re.compile(re.escape(string_parser.parse_answers(row.answers)[0])) \n",
    "passage_text = selected_passage[0][\"passage_text\"]\n",
    "\n",
    "res = prog.search(passage_text)\n",
    "start, end = res.start(), res.end()\n",
    "\n",
    "assert passage_text[start:end] == string_parser.parse_answers(row.answers)[0]\n",
    "print(f\"Start: {start}, end: {end}\")"
   ]
  },
  {
   "attachments": {},
   "cell_type": "markdown",
   "metadata": {},
   "source": [
    "## Other"
   ]
  },
  {
   "attachments": {},
   "cell_type": "markdown",
   "metadata": {},
   "source": [
    "# Preprocessing pipeline\n",
    "\n",
    "- Drop 'wellFormedAnswers' column\n",
    "- Drop when `len(answers)`$>1$"
   ]
  },
  {
   "attachments": {},
   "cell_type": "markdown",
   "metadata": {},
   "source": [
    "TODO\n",
    "\n",
    "- [ ] \"No Answer Present\" elements\n",
    "- [ ] Number of unique \"query_type\" "
   ]
  }
 ],
 "metadata": {
  "kernelspec": {
   "display_name": "pysci",
   "language": "python",
   "name": "python3"
  },
  "language_info": {
   "codemirror_mode": {
    "name": "ipython",
    "version": 3
   },
   "file_extension": ".py",
   "mimetype": "text/x-python",
   "name": "python",
   "nbconvert_exporter": "python",
   "pygments_lexer": "ipython3",
   "version": "3.10.6"
  },
  "orig_nbformat": 4,
  "vscode": {
   "interpreter": {
    "hash": "bd4d4dc071430cb7377eda019ca70777a2da1723ff9a3eacefae41ce5c18d4b7"
   }
  }
 },
 "nbformat": 4,
 "nbformat_minor": 2
}
