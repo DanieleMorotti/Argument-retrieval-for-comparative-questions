{
 "cells": [
  {
   "cell_type": "code",
   "execution_count": 1,
   "metadata": {},
   "outputs": [],
   "source": [
    "%load_ext autoreload\n",
    "%autoreload 2"
   ]
  },
  {
   "cell_type": "code",
   "execution_count": 2,
   "metadata": {},
   "outputs": [],
   "source": [
    "import utils.manage_files"
   ]
  },
  {
   "attachments": {},
   "cell_type": "markdown",
   "metadata": {},
   "source": [
    "# Training"
   ]
  },
  {
   "attachments": {},
   "cell_type": "markdown",
   "metadata": {},
   "source": [
    "## MS-MARCO\n",
    "\n",
    "File name: `marco_comp_all_fields.tsv`\n",
    "\n",
    "A subset of MS MARCO with comparative questions."
   ]
  },
  {
   "cell_type": "code",
   "execution_count": 4,
   "metadata": {},
   "outputs": [
    {
     "name": "stdout",
     "output_type": "stream",
     "text": [
      "File '/home/valendrew/git/master-nlp-project/downloads/marco_comp_all_fields.tsv' already present\n"
     ]
    }
   ],
   "source": [
    "url = \"https://zenodo.org/record/6873567/files/marco_comp_all_fields.tsv?download=1\"\n",
    "file_name = \"marco_comp_all_fields.tsv\"\n",
    "\n",
    "download_file = utils.manage_files.DownloadFile(file_name, url=url)\n",
    "download_file()"
   ]
  },
  {
   "attachments": {},
   "cell_type": "markdown",
   "metadata": {},
   "source": [
    "## Text passages expanded\n",
    "\n",
    "File name: `touche-task2-passages-version-002-expanded-with-doc-t5-query.jsonl.gz`\n",
    "\n",
    "A collection of text passages expanded with queries generated using DocT5Query."
   ]
  },
  {
   "cell_type": "code",
   "execution_count": null,
   "metadata": {},
   "outputs": [
    {
     "name": "stdout",
     "output_type": "stream",
     "text": [
      "'/home/valendrew/git/master-nlp-project/downloads/touche-task2-passages-version-002-expanded-with-doc-t5-query.jsonl' already present\n"
     ]
    }
   ],
   "source": [
    "url = \"https://zenodo.org/record/6873567/files/touche-task2-passages-version-002-expanded-with-doc-t5-query.jsonl.gz?download=1\"\n",
    "zip_name = \"touche-task2-passages-version-002-expanded-with-doc-t5-query.jsonl.gz\"\n",
    "file_name = \"touche-task2-passages-version-002-expanded-with-doc-t5-query.jsonl\"\n",
    "\n",
    "download_file = utils.manage_files.DownloadFile(file_name, zip_name, url)\n",
    "download_file()"
   ]
  },
  {
   "attachments": {},
   "cell_type": "markdown",
   "metadata": {},
   "source": [
    "# Input file\n",
    "\n",
    "File name: `task2-stance-dataset.zip`\n",
    "\n",
    "Input file."
   ]
  },
  {
   "cell_type": "code",
   "execution_count": 3,
   "metadata": {},
   "outputs": [
    {
     "name": "stderr",
     "output_type": "stream",
     "text": [
      "Downloading file: 100%|██████████| 262k/262k [00:00<00:00, 2.11MB/s]"
     ]
    },
    {
     "name": "stdout",
     "output_type": "stream",
     "text": [
      "'/home/valendrew/git/master-nlp-project/downloads/zips/task2-stance-dataset.zip' unzipped in '/home/valendrew/git/master-nlp-project/downloads/task2-stance-dataset'\n"
     ]
    },
    {
     "name": "stderr",
     "output_type": "stream",
     "text": [
      "\n"
     ]
    }
   ],
   "source": [
    "url = \"https://zenodo.org/record/6873567/files/task2-stance-dataset.zip?download=1\"\n",
    "zip_name = \"task2-stance-dataset.zip\"\n",
    "file_name = \"task2-stance-dataset\"\n",
    "\n",
    "download_file = utils.manage_files.DownloadFile(file_name, zip_name, url)\n",
    "download_file()"
   ]
  },
  {
   "attachments": {},
   "cell_type": "markdown",
   "metadata": {},
   "source": [
    "# Misc"
   ]
  },
  {
   "attachments": {},
   "cell_type": "markdown",
   "metadata": {},
   "source": [
    "## Text passages\n",
    "\n",
    "File name: `touche-task2-passages-version-002.jsonl.gz`\n",
    "\n",
    "The corpus for Task 2, a collection of about 0.9 million text passages."
   ]
  },
  {
   "cell_type": "code",
   "execution_count": 13,
   "metadata": {},
   "outputs": [
    {
     "name": "stderr",
     "output_type": "stream",
     "text": [
      "Downloading file: 100%|██████████| 286M/286M [01:11<00:00, 4.00MB/s] \n"
     ]
    },
    {
     "name": "stdout",
     "output_type": "stream",
     "text": [
      "'/home/valendrew/git/master-nlp-project/downloads/zips/touche-task2-passages-version-002.jsonl.gz' unzipped in '/home/valendrew/git/master-nlp-project/downloads/touche-task2-passages-version-002.jsonl'\n"
     ]
    }
   ],
   "source": [
    "url = \"https://zenodo.org/record/6873567/files/touche-task2-passages-version-002.jsonl.gz?download=1\"\n",
    "zip_name = \"touche-task2-passages-version-002.jsonl.gz\"\n",
    "file_name = \"touche-task2-passages-version-002.jsonl\"\n",
    "\n",
    "download_file = utils.manage_files.DownloadFile(file_name, zip_name, url)\n",
    "download_file()"
   ]
  },
  {
   "attachments": {},
   "cell_type": "markdown",
   "metadata": {},
   "source": [
    "## Topics and quality judgements\n",
    "\n",
    "File name: `topics-task2-2022.zip`"
   ]
  },
  {
   "cell_type": "code",
   "execution_count": null,
   "metadata": {},
   "outputs": [
    {
     "name": "stdout",
     "output_type": "stream",
     "text": [
      "Folder '/home/valendrew/git/master-nlp-project/downloads/topics-task-2' already present\n"
     ]
    }
   ],
   "source": [
    "url = \"https://zenodo.org/record/6873559/files/topics-task-2.zip?download=1\"\n",
    "zip_name = \"topics-task-2.zip\"\n",
    "file_name = \"topics-task-2\"\n",
    "\n",
    "download_file = utils.manage_files.DownloadFile(file_name, zip_name, url)\n",
    "download_file()"
   ]
  }
 ],
 "metadata": {
  "kernelspec": {
   "display_name": "pysci",
   "language": "python",
   "name": "python3"
  },
  "language_info": {
   "codemirror_mode": {
    "name": "ipython",
    "version": 3
   },
   "file_extension": ".py",
   "mimetype": "text/x-python",
   "name": "python",
   "nbconvert_exporter": "python",
   "pygments_lexer": "ipython3",
   "version": "3.10.6 (main, Oct  7 2022, 20:19:58) [GCC 11.2.0]"
  },
  "orig_nbformat": 4,
  "vscode": {
   "interpreter": {
    "hash": "bd4d4dc071430cb7377eda019ca70777a2da1723ff9a3eacefae41ce5c18d4b7"
   }
  }
 },
 "nbformat": 4,
 "nbformat_minor": 2
}
