{
  "cells": [
    {
      "cell_type": "markdown",
      "source": [
        "# Document retrieval"
      ],
      "metadata": {
        "id": "NqL8WcUVaozw"
      }
    },
    {
      "cell_type": "code",
      "execution_count": 1,
      "metadata": {
        "id": "-8k-JaQS2HKz"
      },
      "outputs": [],
      "source": [
        "%load_ext autoreload\n",
        "%autoreload 2"
      ]
    },
    {
      "cell_type": "code",
      "execution_count": 2,
      "metadata": {
        "id": "CerxDpDb2HK3"
      },
      "outputs": [],
      "source": [
        "import os\n",
        "import re\n",
        "\n",
        "import matplotlib.pyplot as plt\n",
        "import numpy as np\n",
        "import pandas as pd\n",
        "\n",
        "import xml.etree.ElementTree as ET\n",
        "\n",
        "import utils.manage_files"
      ]
    },
    {
      "cell_type": "code",
      "source": [
        "# Mount the drive shared folder to load pre-saved files\n",
        "from google.colab import drive\n",
        "drive.mount('/content/drive')"
      ],
      "metadata": {
        "colab": {
          "base_uri": "https://localhost:8080/"
        },
        "id": "zhvIXirZOeMO",
        "outputId": "c08d4b38-0465-4d39-a485-eb83ce1e8eb6"
      },
      "execution_count": 5,
      "outputs": [
        {
          "output_type": "stream",
          "name": "stdout",
          "text": [
            "Mounted at /content/drive\n"
          ]
        }
      ]
    },
    {
      "cell_type": "markdown",
      "source": [
        "We suggest you to run this notebook on Google Colab because we used the Google Colab Forms to make the cells clearer."
      ],
      "metadata": {
        "id": "sIg6OZQ6NtAv"
      }
    },
    {
      "cell_type": "markdown",
      "source": [
        "***Instructions for running the notebook during tests***:\n",
        "- From the **Download / Load datasets** section you need to import the downloads.tar.gz file, then run the cells to load the clueweb12 corpus and the topics.\n",
        "- From **Indexes creation or import** section run all the cells where there are pip commands, the cell where the class DocumentsIndex is declared, the one for importing the zipped indexes.\n",
        "- Then you can run the last section for tests."
      ],
      "metadata": {
        "id": "0cOadzHQMkqh"
      }
    },
    {
      "cell_type": "markdown",
      "source": [
        "## Download / Load datasets"
      ],
      "metadata": {
        "id": "Ih1r3OhnaluW"
      }
    },
    {
      "cell_type": "markdown",
      "source": [
        "Run the following cell in order to load the needed datasets from the Drive shared folder."
      ],
      "metadata": {
        "id": "lNhGtGbkccnP"
      }
    },
    {
      "cell_type": "code",
      "source": [
        "!cp /content/drive/MyDrive/NLP_project/downloads.tar.gz .\n",
        "!tar -xvf downloads.tar.gz\n",
        "!rm downloads.tar.gz"
      ],
      "metadata": {
        "id": "iVlrJ3TldJa2"
      },
      "execution_count": null,
      "outputs": []
    },
    {
      "cell_type": "markdown",
      "source": [
        "### The ClueWeb12 corpus\n",
        "We can dowload, or open it in case we load it from Drive, the corpus that we need to use for the task. If you load it from Drive you will find in the dataframe a column for the original text and one with the clean text."
      ],
      "metadata": {
        "id": "-ZgAMxoJThhV"
      }
    },
    {
      "cell_type": "code",
      "source": [
        "url_corpus = \"https://zenodo.org/record/6802592/files/touche-task2-passages-version-002.jsonl.gz?download=1\"\n",
        "zip_path_corpus = \"corpus.jsonl.gz\"\n",
        "file_path_corpus = \"corpus.jsonl\"\n",
        "\n",
        "download_corpus = utils.manage_files.DownloadFile(file_path_corpus, zip_path_corpus, url_corpus)\n",
        "download_corpus()"
      ],
      "metadata": {
        "id": "N7s1OqZ3KzQv",
        "colab": {
          "base_uri": "https://localhost:8080/"
        },
        "outputId": "ff5d1c2c-21fd-474d-a86a-f08685154e92"
      },
      "execution_count": 3,
      "outputs": [
        {
          "output_type": "stream",
          "name": "stdout",
          "text": [
            "'/content/downloads/corpus.jsonl' already present\n"
          ]
        }
      ]
    },
    {
      "cell_type": "code",
      "source": [
        "corpus_df = pd.read_json(download_corpus.file_name, lines=True)\n",
        "corpus_df.head()"
      ],
      "metadata": {
        "colab": {
          "base_uri": "https://localhost:8080/",
          "height": 0
        },
        "id": "ri_nMZfHUfjd",
        "outputId": "28f62175-4230-49eb-fd91-0f199e303aed"
      },
      "execution_count": 4,
      "outputs": [
        {
          "output_type": "execute_result",
          "data": {
            "text/plain": [
              "                              id  \\\n",
              "0  clueweb12-0000tw-14-21168___1   \n",
              "1  clueweb12-0000tw-14-21168___2   \n",
              "2  clueweb12-0000tw-14-21168___3   \n",
              "3  clueweb12-0000tw-22-19226___1   \n",
              "4  clueweb12-0000tw-22-19226___2   \n",
              "\n",
              "                                            contents  \\\n",
              "0  Shuga: Love, Sex, Money MTV Shuga Home Swag Bl...   \n",
              "1  We LOVE sending #TeamShuga the exclusives. Ban...   \n",
              "2  Now take note.. because you will be seeing a w...   \n",
              "3  Sex and love: The modern matchmakers | The Eco...   \n",
              "4  But have they? Feb 11th 2012 | from the print ...   \n",
              "\n",
              "                                               clean  \\\n",
              "0  shuga love sex money mtv shuga home swag blog ...   \n",
              "1  love send teamshuga exclusive banky w wizkid l...   \n",
              "2  note see lot risingstar month shuga set nairob...   \n",
              "3  sex love modern matchmaker economist log regis...   \n",
              "4  feb print edition tweet long human romance wan...   \n",
              "\n",
              "                                         chatNoirUrl  \n",
              "0  https://chatnoir.eu/cache?uuid=f338e91e-a3e9-5...  \n",
              "1  https://chatnoir.eu/cache?uuid=f338e91e-a3e9-5...  \n",
              "2  https://chatnoir.eu/cache?uuid=f338e91e-a3e9-5...  \n",
              "3  https://chatnoir.eu/cache?uuid=2bf4b08d-2f65-5...  \n",
              "4  https://chatnoir.eu/cache?uuid=2bf4b08d-2f65-5...  "
            ],
            "text/html": [
              "\n",
              "  <div id=\"df-c50ce45d-ed68-4fac-9173-78afa1f54bbb\">\n",
              "    <div class=\"colab-df-container\">\n",
              "      <div>\n",
              "<style scoped>\n",
              "    .dataframe tbody tr th:only-of-type {\n",
              "        vertical-align: middle;\n",
              "    }\n",
              "\n",
              "    .dataframe tbody tr th {\n",
              "        vertical-align: top;\n",
              "    }\n",
              "\n",
              "    .dataframe thead th {\n",
              "        text-align: right;\n",
              "    }\n",
              "</style>\n",
              "<table border=\"1\" class=\"dataframe\">\n",
              "  <thead>\n",
              "    <tr style=\"text-align: right;\">\n",
              "      <th></th>\n",
              "      <th>id</th>\n",
              "      <th>contents</th>\n",
              "      <th>clean</th>\n",
              "      <th>chatNoirUrl</th>\n",
              "    </tr>\n",
              "  </thead>\n",
              "  <tbody>\n",
              "    <tr>\n",
              "      <th>0</th>\n",
              "      <td>clueweb12-0000tw-14-21168___1</td>\n",
              "      <td>Shuga: Love, Sex, Money MTV Shuga Home Swag Bl...</td>\n",
              "      <td>shuga love sex money mtv shuga home swag blog ...</td>\n",
              "      <td>https://chatnoir.eu/cache?uuid=f338e91e-a3e9-5...</td>\n",
              "    </tr>\n",
              "    <tr>\n",
              "      <th>1</th>\n",
              "      <td>clueweb12-0000tw-14-21168___2</td>\n",
              "      <td>We LOVE sending #TeamShuga the exclusives. Ban...</td>\n",
              "      <td>love send teamshuga exclusive banky w wizkid l...</td>\n",
              "      <td>https://chatnoir.eu/cache?uuid=f338e91e-a3e9-5...</td>\n",
              "    </tr>\n",
              "    <tr>\n",
              "      <th>2</th>\n",
              "      <td>clueweb12-0000tw-14-21168___3</td>\n",
              "      <td>Now take note.. because you will be seeing a w...</td>\n",
              "      <td>note see lot risingstar month shuga set nairob...</td>\n",
              "      <td>https://chatnoir.eu/cache?uuid=f338e91e-a3e9-5...</td>\n",
              "    </tr>\n",
              "    <tr>\n",
              "      <th>3</th>\n",
              "      <td>clueweb12-0000tw-22-19226___1</td>\n",
              "      <td>Sex and love: The modern matchmakers | The Eco...</td>\n",
              "      <td>sex love modern matchmaker economist log regis...</td>\n",
              "      <td>https://chatnoir.eu/cache?uuid=2bf4b08d-2f65-5...</td>\n",
              "    </tr>\n",
              "    <tr>\n",
              "      <th>4</th>\n",
              "      <td>clueweb12-0000tw-22-19226___2</td>\n",
              "      <td>But have they? Feb 11th 2012 | from the print ...</td>\n",
              "      <td>feb print edition tweet long human romance wan...</td>\n",
              "      <td>https://chatnoir.eu/cache?uuid=2bf4b08d-2f65-5...</td>\n",
              "    </tr>\n",
              "  </tbody>\n",
              "</table>\n",
              "</div>\n",
              "      <button class=\"colab-df-convert\" onclick=\"convertToInteractive('df-c50ce45d-ed68-4fac-9173-78afa1f54bbb')\"\n",
              "              title=\"Convert this dataframe to an interactive table.\"\n",
              "              style=\"display:none;\">\n",
              "        \n",
              "  <svg xmlns=\"http://www.w3.org/2000/svg\" height=\"24px\"viewBox=\"0 0 24 24\"\n",
              "       width=\"24px\">\n",
              "    <path d=\"M0 0h24v24H0V0z\" fill=\"none\"/>\n",
              "    <path d=\"M18.56 5.44l.94 2.06.94-2.06 2.06-.94-2.06-.94-.94-2.06-.94 2.06-2.06.94zm-11 1L8.5 8.5l.94-2.06 2.06-.94-2.06-.94L8.5 2.5l-.94 2.06-2.06.94zm10 10l.94 2.06.94-2.06 2.06-.94-2.06-.94-.94-2.06-.94 2.06-2.06.94z\"/><path d=\"M17.41 7.96l-1.37-1.37c-.4-.4-.92-.59-1.43-.59-.52 0-1.04.2-1.43.59L10.3 9.45l-7.72 7.72c-.78.78-.78 2.05 0 2.83L4 21.41c.39.39.9.59 1.41.59.51 0 1.02-.2 1.41-.59l7.78-7.78 2.81-2.81c.8-.78.8-2.07 0-2.86zM5.41 20L4 18.59l7.72-7.72 1.47 1.35L5.41 20z\"/>\n",
              "  </svg>\n",
              "      </button>\n",
              "      \n",
              "  <style>\n",
              "    .colab-df-container {\n",
              "      display:flex;\n",
              "      flex-wrap:wrap;\n",
              "      gap: 12px;\n",
              "    }\n",
              "\n",
              "    .colab-df-convert {\n",
              "      background-color: #E8F0FE;\n",
              "      border: none;\n",
              "      border-radius: 50%;\n",
              "      cursor: pointer;\n",
              "      display: none;\n",
              "      fill: #1967D2;\n",
              "      height: 32px;\n",
              "      padding: 0 0 0 0;\n",
              "      width: 32px;\n",
              "    }\n",
              "\n",
              "    .colab-df-convert:hover {\n",
              "      background-color: #E2EBFA;\n",
              "      box-shadow: 0px 1px 2px rgba(60, 64, 67, 0.3), 0px 1px 3px 1px rgba(60, 64, 67, 0.15);\n",
              "      fill: #174EA6;\n",
              "    }\n",
              "\n",
              "    [theme=dark] .colab-df-convert {\n",
              "      background-color: #3B4455;\n",
              "      fill: #D2E3FC;\n",
              "    }\n",
              "\n",
              "    [theme=dark] .colab-df-convert:hover {\n",
              "      background-color: #434B5C;\n",
              "      box-shadow: 0px 1px 3px 1px rgba(0, 0, 0, 0.15);\n",
              "      filter: drop-shadow(0px 1px 2px rgba(0, 0, 0, 0.3));\n",
              "      fill: #FFFFFF;\n",
              "    }\n",
              "  </style>\n",
              "\n",
              "      <script>\n",
              "        const buttonEl =\n",
              "          document.querySelector('#df-c50ce45d-ed68-4fac-9173-78afa1f54bbb button.colab-df-convert');\n",
              "        buttonEl.style.display =\n",
              "          google.colab.kernel.accessAllowed ? 'block' : 'none';\n",
              "\n",
              "        async function convertToInteractive(key) {\n",
              "          const element = document.querySelector('#df-c50ce45d-ed68-4fac-9173-78afa1f54bbb');\n",
              "          const dataTable =\n",
              "            await google.colab.kernel.invokeFunction('convertToInteractive',\n",
              "                                                     [key], {});\n",
              "          if (!dataTable) return;\n",
              "\n",
              "          const docLinkHtml = 'Like what you see? Visit the ' +\n",
              "            '<a target=\"_blank\" href=https://colab.research.google.com/notebooks/data_table.ipynb>data table notebook</a>'\n",
              "            + ' to learn more about interactive tables.';\n",
              "          element.innerHTML = '';\n",
              "          dataTable['output_type'] = 'display_data';\n",
              "          await google.colab.output.renderOutput(dataTable, element);\n",
              "          const docLink = document.createElement('div');\n",
              "          docLink.innerHTML = docLinkHtml;\n",
              "          element.appendChild(docLink);\n",
              "        }\n",
              "      </script>\n",
              "    </div>\n",
              "  </div>\n",
              "  "
            ]
          },
          "metadata": {},
          "execution_count": 4
        }
      ]
    },
    {
      "cell_type": "code",
      "source": [
        "print(f\"The corpus has {len(corpus_df)} elements.\")"
      ],
      "metadata": {
        "colab": {
          "base_uri": "https://localhost:8080/"
        },
        "id": "pBvkiwcMYY1F",
        "outputId": "b74d560d-2a2f-46d5-90b4-e7cba2a45da5"
      },
      "execution_count": 5,
      "outputs": [
        {
          "output_type": "stream",
          "name": "stdout",
          "text": [
            "The corpus has 868655 elements.\n"
          ]
        }
      ]
    },
    {
      "cell_type": "markdown",
      "source": [
        "### Topics, Quality and Relevance datasets"
      ],
      "metadata": {
        "id": "nfe-OtFNa4IY"
      }
    },
    {
      "cell_type": "markdown",
      "source": [
        "At this point we can download:\n",
        "- the list of topics to retrieve all the titles;\n",
        "- the relevance qrels file;\n",
        "- the quality qrels file.\n",
        "\n",
        "The last 2 files contain a relevance and quality scores, associated to a list of documents, with respect to a certain topic.\n",
        "\n",
        "The structure of a .qrels file is:   \n",
        "TOPIC 0 DOC_ID SCORE\n",
        "\n",
        "We can use these data to train our document retrieval model on labeled data from past years."
      ],
      "metadata": {
        "id": "qO6Rnxe7VGuy"
      }
    },
    {
      "cell_type": "markdown",
      "source": [
        "#### Topics"
      ],
      "metadata": {
        "id": "-ePDrcVma8Vn"
      }
    },
    {
      "cell_type": "code",
      "source": [
        "# Download and parse the xml file of the 0-50 topics\n",
        "url_topics = \"https://zenodo.org/record/6873559/files/topics-task-2.zip?download=1\"\n",
        "zip_path_topics = \"topics-task-2.zip\"\n",
        "file_path_topics = \"topics-task-2\"\n",
        "\n",
        "download_topics = utils.manage_files.DownloadFile(file_path_topics, zip_path_topics, url_topics)\n",
        "download_topics()\n",
        "\n",
        "# First 50 topics\n",
        "mytree = ET.parse(f\"{download_topics.file_name}/topics-task-2.xml\")\n",
        "myroot = mytree.getroot()\n",
        "topics = list()\n",
        "for item in myroot:\n",
        "    for x in item:        \n",
        "        if x.tag == \"title\": # Specify the field, e.g., title\n",
        "            topics.append(x.text.strip())\n",
        "\n",
        "# Topics from 51 to 100\n",
        "url_topics_21 = \"https://zenodo.org/record/6873565/files/topics-task-2-2021.zip?download=1\"\n",
        "zip_path_topics_21 = \"topics-task-2-2021.zip\"\n",
        "file_path_topics_21 = \"topics-task-2-2021\"\n",
        "\n",
        "download_topics_21 = utils.manage_files.DownloadFile(file_path_topics_21, zip_path_topics_21, url_topics_21)\n",
        "download_topics_21()\n",
        "\n",
        "# Last 50 topics\n",
        "mytree = ET.parse(f\"{download_topics_21.file_name}/topics-task2-51-100.xml\")\n",
        "myroot = mytree.getroot()\n",
        "for item in myroot:\n",
        "    for x in item:        \n",
        "        if x.tag == \"title\": # Specify the field, e.g., title\n",
        "            topics.append(x.text.strip())"
      ],
      "metadata": {
        "id": "Qm7ZqmKIUeWC",
        "colab": {
          "base_uri": "https://localhost:8080/"
        },
        "outputId": "3554d6ab-e3ba-4e95-ba8d-3ae042f8a839"
      },
      "execution_count": 6,
      "outputs": [
        {
          "output_type": "stream",
          "name": "stdout",
          "text": [
            "'/content/downloads/topics-task-2' already present\n",
            "'/content/downloads/topics-task-2-2021' already present\n"
          ]
        }
      ]
    },
    {
      "cell_type": "code",
      "source": [
        "# We have the 50 topics pre-selected from the team\n",
        "print(f\"There are {len(topics)} topics.\\n{topics}\")"
      ],
      "metadata": {
        "id": "XfeEREZBK4zT",
        "colab": {
          "base_uri": "https://localhost:8080/"
        },
        "outputId": "ed02838e-98de-4491-f9b3-d6cbef293cda"
      },
      "execution_count": 7,
      "outputs": [
        {
          "output_type": "stream",
          "name": "stdout",
          "text": [
            "There are 100 topics.\n",
            "['What is the difference between sex and love?', 'Which is better, a laptop or a desktop?', 'Which is better, Canon or Nikon?', 'What are the best dish detergents?', 'What are the best cities to live in?', 'What is the longest river in the U.S.?', 'Which is healthiest: coffee, green tea or black tea and why?', 'What are the advantages and disadvantages of PHP over Python and vice versa?', 'Why is Linux better than Windows?', 'How to sleep better?', 'Should I buy an LCD TV or a plasma TV?', 'Train or plane? Which is the better choice?', 'What is the highest mountain on Earth?', 'Should one prefer Chinese medicine or Western medicine?', 'What are the best washing machine brands?', 'Should I buy or rent?', 'Do you prefer cats or dogs, and why?', 'What is the better way to grill outdoors: gas or charcoal?', 'Which is better, MAC or PC?', 'What is better: to use a brush or a sponge?', 'Which is better, Linux or Microsoft?', 'Which is better, Pepsi or Coke?', 'What is better, Google search or Yahoo search?', 'Which one is better, Netflix or Blockbuster?', 'Which browser is better, Internet Explorer or Firefox?', 'Which is a better vehicle: BMW or Audi?', 'Which one is better, an electric stove or a gas stove?', 'What planes are best, Boeing or Airbus?', 'Which is better, Disneyland or Disney World?', 'Should I buy an Xbox or a PlayStation?', 'Which has more caffeine, coffee or tea?', 'Which is better, LED or LCD Reception Displays?', 'What is better: ASP or PHP?', 'What is better for the environment, a real or a fake Christmas tree?', 'Do you prefer tampons or pads?', 'What IDE is better for Java: NetBeans or Eclipse?', 'Is OpenGL better than Direct3D in terms of portability to different platforms?', 'What are the differences between MySQL and PostgreSQL in performance?', 'Is Java code more readable than code written in Scala?', 'Which operating system has better performance: Windows 7 or Windows 8?', 'Which smartphone has a better battery life: Xperia or iPhone?', 'Which four wheel truck is better: Ford or Toyota?', 'Should I prefer a Leica camera over Nikon for portrait photographs?', 'Which company has a larger capitalization: Apple or Microsoft?', 'Which laptop has a better durability: HP or Dell?', 'Which beverage has more calories per glass: beer or cider?', 'Is admission rate in Stanford higher than that of MIT?', 'Is pasta healthier than pizza?', 'Which city is more expensive to live in: San Francisco or New York?', 'Whose salary is higher: basketball or soccer players?', 'What is better at reducing fever in children, Ibuprofen or Aspirin?', 'What are the best rice cookers?', 'Should I buy steel or ceramic knives?', 'Is morning or afternoon sun the best for fruit trees?', 'What is better for back pain, chiropractic therapy or physical therapy?', 'Is Kenya or Tanzania better for a safari?', \"How is a Master's degree different from a Bachelor's degree?\", 'Which is better, Family Guy or The Simpsons?', 'Which is more difficult, skiing or snowboarding?', 'Why is basketball better than football?', 'Who is stronger, Hulk or Superman?', 'Plastic pots or ceramic pots, which is better in terms of plant health?', 'What is the coldest temperature ever recorded on Earth, and where?', 'What is the most popular beer in Australia?', 'Are dogs better than humans?', 'What diet gives the best result to lose weight?', 'Should I take the IELTS or the TOEFL?', 'Are online courses better than physical classrooms?', 'Who was a better boxer, Muhammad Ali or Joe Frazier?', \"Which technology performs better: Apple's or Google's?\", 'Is gold equal to platinum?', 'Who is better at learning a foreign language, kids or adults?', \"What's the difference between coffee, espresso, cappuccino, and latte?\", 'Which city is better, London or Paris?', 'What is better, a conditioner or a moisturizer?', 'Are artificial sweeteners better than white sugar?', 'Is it healthier to bake than to fry food?', 'Which algorithm is better, quicksort or merge sort?', 'What is more interesting, computer science or computer engineering?', 'What is the difference between a vegan and a vegetarian?', 'Does unpasteurized cheese taste better than pasteurized cheese?', 'Which light bulb is better, incandescent or fluorescent?', 'What is the difference between quantum physics and quantum mechanics?', 'What is better, cow milk or goat milk?', 'Psoriasis vs Eczema: What is the difference?', 'I am planning to buy sneakers: Which are better, Adidas or Nike?', 'Is Obamacare really any better than Medicare?', 'Should I major in philosophy or psychology?', 'What are the differences between biodegradable and non-biodegradable wastes?', 'What are good business books to read?', 'When are random forest classifiers better than decision trees?', 'What are the pros and cons of wood vs. stone mulch?', 'Is rain water better than tap water for plants?', 'Suitcases: hard or soft?', 'Which is more environmentally friendly, a hybrid or a diesel?', 'Which is healthier to wear, boxers or briefs?', 'What is the difference between a blender vs a food processor?', 'Which is better, rock or rap?', 'Do you think imagination is better than knowledge?', 'Should I learn Python or R for data analysis?']\n"
          ]
        }
      ]
    },
    {
      "cell_type": "markdown",
      "source": [
        "#### Documents relevance for each topic"
      ],
      "metadata": {
        "id": "HgxWH2KYa-3G"
      }
    },
    {
      "cell_type": "code",
      "source": [
        "# Download relevance qrels 50 topics\n",
        "url_relevance = \"https://zenodo.org/record/6873567/files/touche-task2-2022-relevance.qrels?download=1\"\n",
        "file_path_rel = \"relevance.qrels\"\n",
        "\n",
        "download_relevance = utils.manage_files.DownloadFile(file_path_rel, url=url_relevance)\n",
        "download_relevance()"
      ],
      "metadata": {
        "colab": {
          "base_uri": "https://localhost:8080/"
        },
        "id": "LZ4WfkcIZeiF",
        "outputId": "c3acedad-7967-4166-8a89-2e320ece96ce"
      },
      "execution_count": 61,
      "outputs": [
        {
          "output_type": "stream",
          "name": "stdout",
          "text": [
            "'/content/downloads/relevance.qrels' already present\n"
          ]
        }
      ]
    },
    {
      "cell_type": "code",
      "source": [
        "relevance_df = pd.read_csv(download_relevance.file_name, index_col=None, \n",
        "                    names=[\"topic\", \"0\", \"doc_id\", \"relevance\"], sep=\" \").drop(\"0\", axis=1)\n",
        "\n",
        "relevance_df.head()"
      ],
      "metadata": {
        "colab": {
          "base_uri": "https://localhost:8080/",
          "height": 206
        },
        "id": "dsHzZAOxUScD",
        "outputId": "c822e8f3-9047-4cf1-d088-c1925e858a80"
      },
      "execution_count": 62,
      "outputs": [
        {
          "output_type": "execute_result",
          "data": {
            "text/plain": [
              "   topic                           doc_id  relevance\n",
              "0     12    clueweb12-0002wb-18-34442___2          0\n",
              "1     12  clueweb12-0004wb-69-30215___112          0\n",
              "2     12    clueweb12-0004wb-78-20304___1          1\n",
              "3     12   clueweb12-0004wb-78-20304___11          2\n",
              "4     12    clueweb12-0008wb-62-05967___1          0"
            ],
            "text/html": [
              "\n",
              "  <div id=\"df-0e00c8bd-49fa-4cc8-899f-ca7359f768d8\">\n",
              "    <div class=\"colab-df-container\">\n",
              "      <div>\n",
              "<style scoped>\n",
              "    .dataframe tbody tr th:only-of-type {\n",
              "        vertical-align: middle;\n",
              "    }\n",
              "\n",
              "    .dataframe tbody tr th {\n",
              "        vertical-align: top;\n",
              "    }\n",
              "\n",
              "    .dataframe thead th {\n",
              "        text-align: right;\n",
              "    }\n",
              "</style>\n",
              "<table border=\"1\" class=\"dataframe\">\n",
              "  <thead>\n",
              "    <tr style=\"text-align: right;\">\n",
              "      <th></th>\n",
              "      <th>topic</th>\n",
              "      <th>doc_id</th>\n",
              "      <th>relevance</th>\n",
              "    </tr>\n",
              "  </thead>\n",
              "  <tbody>\n",
              "    <tr>\n",
              "      <th>0</th>\n",
              "      <td>12</td>\n",
              "      <td>clueweb12-0002wb-18-34442___2</td>\n",
              "      <td>0</td>\n",
              "    </tr>\n",
              "    <tr>\n",
              "      <th>1</th>\n",
              "      <td>12</td>\n",
              "      <td>clueweb12-0004wb-69-30215___112</td>\n",
              "      <td>0</td>\n",
              "    </tr>\n",
              "    <tr>\n",
              "      <th>2</th>\n",
              "      <td>12</td>\n",
              "      <td>clueweb12-0004wb-78-20304___1</td>\n",
              "      <td>1</td>\n",
              "    </tr>\n",
              "    <tr>\n",
              "      <th>3</th>\n",
              "      <td>12</td>\n",
              "      <td>clueweb12-0004wb-78-20304___11</td>\n",
              "      <td>2</td>\n",
              "    </tr>\n",
              "    <tr>\n",
              "      <th>4</th>\n",
              "      <td>12</td>\n",
              "      <td>clueweb12-0008wb-62-05967___1</td>\n",
              "      <td>0</td>\n",
              "    </tr>\n",
              "  </tbody>\n",
              "</table>\n",
              "</div>\n",
              "      <button class=\"colab-df-convert\" onclick=\"convertToInteractive('df-0e00c8bd-49fa-4cc8-899f-ca7359f768d8')\"\n",
              "              title=\"Convert this dataframe to an interactive table.\"\n",
              "              style=\"display:none;\">\n",
              "        \n",
              "  <svg xmlns=\"http://www.w3.org/2000/svg\" height=\"24px\"viewBox=\"0 0 24 24\"\n",
              "       width=\"24px\">\n",
              "    <path d=\"M0 0h24v24H0V0z\" fill=\"none\"/>\n",
              "    <path d=\"M18.56 5.44l.94 2.06.94-2.06 2.06-.94-2.06-.94-.94-2.06-.94 2.06-2.06.94zm-11 1L8.5 8.5l.94-2.06 2.06-.94-2.06-.94L8.5 2.5l-.94 2.06-2.06.94zm10 10l.94 2.06.94-2.06 2.06-.94-2.06-.94-.94-2.06-.94 2.06-2.06.94z\"/><path d=\"M17.41 7.96l-1.37-1.37c-.4-.4-.92-.59-1.43-.59-.52 0-1.04.2-1.43.59L10.3 9.45l-7.72 7.72c-.78.78-.78 2.05 0 2.83L4 21.41c.39.39.9.59 1.41.59.51 0 1.02-.2 1.41-.59l7.78-7.78 2.81-2.81c.8-.78.8-2.07 0-2.86zM5.41 20L4 18.59l7.72-7.72 1.47 1.35L5.41 20z\"/>\n",
              "  </svg>\n",
              "      </button>\n",
              "      \n",
              "  <style>\n",
              "    .colab-df-container {\n",
              "      display:flex;\n",
              "      flex-wrap:wrap;\n",
              "      gap: 12px;\n",
              "    }\n",
              "\n",
              "    .colab-df-convert {\n",
              "      background-color: #E8F0FE;\n",
              "      border: none;\n",
              "      border-radius: 50%;\n",
              "      cursor: pointer;\n",
              "      display: none;\n",
              "      fill: #1967D2;\n",
              "      height: 32px;\n",
              "      padding: 0 0 0 0;\n",
              "      width: 32px;\n",
              "    }\n",
              "\n",
              "    .colab-df-convert:hover {\n",
              "      background-color: #E2EBFA;\n",
              "      box-shadow: 0px 1px 2px rgba(60, 64, 67, 0.3), 0px 1px 3px 1px rgba(60, 64, 67, 0.15);\n",
              "      fill: #174EA6;\n",
              "    }\n",
              "\n",
              "    [theme=dark] .colab-df-convert {\n",
              "      background-color: #3B4455;\n",
              "      fill: #D2E3FC;\n",
              "    }\n",
              "\n",
              "    [theme=dark] .colab-df-convert:hover {\n",
              "      background-color: #434B5C;\n",
              "      box-shadow: 0px 1px 3px 1px rgba(0, 0, 0, 0.15);\n",
              "      filter: drop-shadow(0px 1px 2px rgba(0, 0, 0, 0.3));\n",
              "      fill: #FFFFFF;\n",
              "    }\n",
              "  </style>\n",
              "\n",
              "      <script>\n",
              "        const buttonEl =\n",
              "          document.querySelector('#df-0e00c8bd-49fa-4cc8-899f-ca7359f768d8 button.colab-df-convert');\n",
              "        buttonEl.style.display =\n",
              "          google.colab.kernel.accessAllowed ? 'block' : 'none';\n",
              "\n",
              "        async function convertToInteractive(key) {\n",
              "          const element = document.querySelector('#df-0e00c8bd-49fa-4cc8-899f-ca7359f768d8');\n",
              "          const dataTable =\n",
              "            await google.colab.kernel.invokeFunction('convertToInteractive',\n",
              "                                                     [key], {});\n",
              "          if (!dataTable) return;\n",
              "\n",
              "          const docLinkHtml = 'Like what you see? Visit the ' +\n",
              "            '<a target=\"_blank\" href=https://colab.research.google.com/notebooks/data_table.ipynb>data table notebook</a>'\n",
              "            + ' to learn more about interactive tables.';\n",
              "          element.innerHTML = '';\n",
              "          dataTable['output_type'] = 'display_data';\n",
              "          await google.colab.output.renderOutput(dataTable, element);\n",
              "          const docLink = document.createElement('div');\n",
              "          docLink.innerHTML = docLinkHtml;\n",
              "          element.appendChild(docLink);\n",
              "        }\n",
              "      </script>\n",
              "    </div>\n",
              "  </div>\n",
              "  "
            ]
          },
          "metadata": {},
          "execution_count": 62
        }
      ]
    },
    {
      "cell_type": "markdown",
      "source": [
        "#### Documents quality for each topic"
      ],
      "metadata": {
        "id": "HIGPvzcZbFZW"
      }
    },
    {
      "cell_type": "code",
      "source": [
        "# Download relevance qrels 50 topics\n",
        "url_quality = \"https://zenodo.org/record/6873567/files/touche-task2-2022-quality.qrels?download=1\"\n",
        "file_path_qual = \"quality.qrels\"\n",
        "\n",
        "download_quality = utils.manage_files.DownloadFile(file_path_qual, url=url_quality)\n",
        "download_quality()"
      ],
      "metadata": {
        "colab": {
          "base_uri": "https://localhost:8080/"
        },
        "id": "rQxLoLPpbOgD",
        "outputId": "6a8a74fa-7458-427e-8c6b-d92c7f88d108"
      },
      "execution_count": 63,
      "outputs": [
        {
          "output_type": "stream",
          "name": "stdout",
          "text": [
            "'/content/downloads/quality.qrels' already present\n"
          ]
        }
      ]
    },
    {
      "cell_type": "code",
      "source": [
        "quality_df = pd.read_csv(download_quality.file_name, index_col=None, \n",
        "                    names=[\"topic\", \"0\", \"doc_id\", \"quality\"], sep=\" \").drop(\"0\", axis=1)\n",
        "\n",
        "quality_df.head()"
      ],
      "metadata": {
        "colab": {
          "base_uri": "https://localhost:8080/",
          "height": 206
        },
        "id": "HnOhnBQKbQzK",
        "outputId": "393a7040-ad16-461b-ce8a-04ecc983743f"
      },
      "execution_count": 64,
      "outputs": [
        {
          "output_type": "execute_result",
          "data": {
            "text/plain": [
              "   topic                           doc_id  quality\n",
              "0     12    clueweb12-0002wb-18-34442___2        2\n",
              "1     12  clueweb12-0004wb-69-30215___112        2\n",
              "2     12    clueweb12-0004wb-78-20304___1        2\n",
              "3     12   clueweb12-0004wb-78-20304___11        2\n",
              "4     12    clueweb12-0008wb-62-05967___1        0"
            ],
            "text/html": [
              "\n",
              "  <div id=\"df-c4e648d1-0fcd-4d9c-8f45-4ad3db88c8ce\">\n",
              "    <div class=\"colab-df-container\">\n",
              "      <div>\n",
              "<style scoped>\n",
              "    .dataframe tbody tr th:only-of-type {\n",
              "        vertical-align: middle;\n",
              "    }\n",
              "\n",
              "    .dataframe tbody tr th {\n",
              "        vertical-align: top;\n",
              "    }\n",
              "\n",
              "    .dataframe thead th {\n",
              "        text-align: right;\n",
              "    }\n",
              "</style>\n",
              "<table border=\"1\" class=\"dataframe\">\n",
              "  <thead>\n",
              "    <tr style=\"text-align: right;\">\n",
              "      <th></th>\n",
              "      <th>topic</th>\n",
              "      <th>doc_id</th>\n",
              "      <th>quality</th>\n",
              "    </tr>\n",
              "  </thead>\n",
              "  <tbody>\n",
              "    <tr>\n",
              "      <th>0</th>\n",
              "      <td>12</td>\n",
              "      <td>clueweb12-0002wb-18-34442___2</td>\n",
              "      <td>2</td>\n",
              "    </tr>\n",
              "    <tr>\n",
              "      <th>1</th>\n",
              "      <td>12</td>\n",
              "      <td>clueweb12-0004wb-69-30215___112</td>\n",
              "      <td>2</td>\n",
              "    </tr>\n",
              "    <tr>\n",
              "      <th>2</th>\n",
              "      <td>12</td>\n",
              "      <td>clueweb12-0004wb-78-20304___1</td>\n",
              "      <td>2</td>\n",
              "    </tr>\n",
              "    <tr>\n",
              "      <th>3</th>\n",
              "      <td>12</td>\n",
              "      <td>clueweb12-0004wb-78-20304___11</td>\n",
              "      <td>2</td>\n",
              "    </tr>\n",
              "    <tr>\n",
              "      <th>4</th>\n",
              "      <td>12</td>\n",
              "      <td>clueweb12-0008wb-62-05967___1</td>\n",
              "      <td>0</td>\n",
              "    </tr>\n",
              "  </tbody>\n",
              "</table>\n",
              "</div>\n",
              "      <button class=\"colab-df-convert\" onclick=\"convertToInteractive('df-c4e648d1-0fcd-4d9c-8f45-4ad3db88c8ce')\"\n",
              "              title=\"Convert this dataframe to an interactive table.\"\n",
              "              style=\"display:none;\">\n",
              "        \n",
              "  <svg xmlns=\"http://www.w3.org/2000/svg\" height=\"24px\"viewBox=\"0 0 24 24\"\n",
              "       width=\"24px\">\n",
              "    <path d=\"M0 0h24v24H0V0z\" fill=\"none\"/>\n",
              "    <path d=\"M18.56 5.44l.94 2.06.94-2.06 2.06-.94-2.06-.94-.94-2.06-.94 2.06-2.06.94zm-11 1L8.5 8.5l.94-2.06 2.06-.94-2.06-.94L8.5 2.5l-.94 2.06-2.06.94zm10 10l.94 2.06.94-2.06 2.06-.94-2.06-.94-.94-2.06-.94 2.06-2.06.94z\"/><path d=\"M17.41 7.96l-1.37-1.37c-.4-.4-.92-.59-1.43-.59-.52 0-1.04.2-1.43.59L10.3 9.45l-7.72 7.72c-.78.78-.78 2.05 0 2.83L4 21.41c.39.39.9.59 1.41.59.51 0 1.02-.2 1.41-.59l7.78-7.78 2.81-2.81c.8-.78.8-2.07 0-2.86zM5.41 20L4 18.59l7.72-7.72 1.47 1.35L5.41 20z\"/>\n",
              "  </svg>\n",
              "      </button>\n",
              "      \n",
              "  <style>\n",
              "    .colab-df-container {\n",
              "      display:flex;\n",
              "      flex-wrap:wrap;\n",
              "      gap: 12px;\n",
              "    }\n",
              "\n",
              "    .colab-df-convert {\n",
              "      background-color: #E8F0FE;\n",
              "      border: none;\n",
              "      border-radius: 50%;\n",
              "      cursor: pointer;\n",
              "      display: none;\n",
              "      fill: #1967D2;\n",
              "      height: 32px;\n",
              "      padding: 0 0 0 0;\n",
              "      width: 32px;\n",
              "    }\n",
              "\n",
              "    .colab-df-convert:hover {\n",
              "      background-color: #E2EBFA;\n",
              "      box-shadow: 0px 1px 2px rgba(60, 64, 67, 0.3), 0px 1px 3px 1px rgba(60, 64, 67, 0.15);\n",
              "      fill: #174EA6;\n",
              "    }\n",
              "\n",
              "    [theme=dark] .colab-df-convert {\n",
              "      background-color: #3B4455;\n",
              "      fill: #D2E3FC;\n",
              "    }\n",
              "\n",
              "    [theme=dark] .colab-df-convert:hover {\n",
              "      background-color: #434B5C;\n",
              "      box-shadow: 0px 1px 3px 1px rgba(0, 0, 0, 0.15);\n",
              "      filter: drop-shadow(0px 1px 2px rgba(0, 0, 0, 0.3));\n",
              "      fill: #FFFFFF;\n",
              "    }\n",
              "  </style>\n",
              "\n",
              "      <script>\n",
              "        const buttonEl =\n",
              "          document.querySelector('#df-c4e648d1-0fcd-4d9c-8f45-4ad3db88c8ce button.colab-df-convert');\n",
              "        buttonEl.style.display =\n",
              "          google.colab.kernel.accessAllowed ? 'block' : 'none';\n",
              "\n",
              "        async function convertToInteractive(key) {\n",
              "          const element = document.querySelector('#df-c4e648d1-0fcd-4d9c-8f45-4ad3db88c8ce');\n",
              "          const dataTable =\n",
              "            await google.colab.kernel.invokeFunction('convertToInteractive',\n",
              "                                                     [key], {});\n",
              "          if (!dataTable) return;\n",
              "\n",
              "          const docLinkHtml = 'Like what you see? Visit the ' +\n",
              "            '<a target=\"_blank\" href=https://colab.research.google.com/notebooks/data_table.ipynb>data table notebook</a>'\n",
              "            + ' to learn more about interactive tables.';\n",
              "          element.innerHTML = '';\n",
              "          dataTable['output_type'] = 'display_data';\n",
              "          await google.colab.output.renderOutput(dataTable, element);\n",
              "          const docLink = document.createElement('div');\n",
              "          docLink.innerHTML = docLinkHtml;\n",
              "          element.appendChild(docLink);\n",
              "        }\n",
              "      </script>\n",
              "    </div>\n",
              "  </div>\n",
              "  "
            ]
          },
          "metadata": {},
          "execution_count": 64
        }
      ]
    },
    {
      "cell_type": "markdown",
      "source": [
        "#### Merge data"
      ],
      "metadata": {
        "id": "7xmUW0NoXRZd"
      }
    },
    {
      "cell_type": "markdown",
      "source": [
        "Now we want to merge the data in order to have the relevance and quality score in the same dataframe."
      ],
      "metadata": {
        "id": "sUk7cp4gZgDd"
      }
    },
    {
      "cell_type": "code",
      "source": [
        "det_df = relevance_df.merge(quality_df, on=['doc_id', 'topic'])\n",
        "det_df.head()"
      ],
      "metadata": {
        "colab": {
          "base_uri": "https://localhost:8080/",
          "height": 206
        },
        "id": "bjx5ST00XVxs",
        "outputId": "db8adb4a-be7b-4c7d-f612-1ddc270e38cc"
      },
      "execution_count": null,
      "outputs": [
        {
          "output_type": "execute_result",
          "data": {
            "text/plain": [
              "   topic                           doc_id  relevance  quality\n",
              "0     12    clueweb12-0002wb-18-34442___2          0        2\n",
              "1     12  clueweb12-0004wb-69-30215___112          0        2\n",
              "2     12    clueweb12-0004wb-78-20304___1          1        2\n",
              "3     12   clueweb12-0004wb-78-20304___11          2        2\n",
              "4     12    clueweb12-0008wb-62-05967___1          0        0"
            ],
            "text/html": [
              "\n",
              "  <div id=\"df-296842d5-724f-404e-b91a-4ca28406e5e9\">\n",
              "    <div class=\"colab-df-container\">\n",
              "      <div>\n",
              "<style scoped>\n",
              "    .dataframe tbody tr th:only-of-type {\n",
              "        vertical-align: middle;\n",
              "    }\n",
              "\n",
              "    .dataframe tbody tr th {\n",
              "        vertical-align: top;\n",
              "    }\n",
              "\n",
              "    .dataframe thead th {\n",
              "        text-align: right;\n",
              "    }\n",
              "</style>\n",
              "<table border=\"1\" class=\"dataframe\">\n",
              "  <thead>\n",
              "    <tr style=\"text-align: right;\">\n",
              "      <th></th>\n",
              "      <th>topic</th>\n",
              "      <th>doc_id</th>\n",
              "      <th>relevance</th>\n",
              "      <th>quality</th>\n",
              "    </tr>\n",
              "  </thead>\n",
              "  <tbody>\n",
              "    <tr>\n",
              "      <th>0</th>\n",
              "      <td>12</td>\n",
              "      <td>clueweb12-0002wb-18-34442___2</td>\n",
              "      <td>0</td>\n",
              "      <td>2</td>\n",
              "    </tr>\n",
              "    <tr>\n",
              "      <th>1</th>\n",
              "      <td>12</td>\n",
              "      <td>clueweb12-0004wb-69-30215___112</td>\n",
              "      <td>0</td>\n",
              "      <td>2</td>\n",
              "    </tr>\n",
              "    <tr>\n",
              "      <th>2</th>\n",
              "      <td>12</td>\n",
              "      <td>clueweb12-0004wb-78-20304___1</td>\n",
              "      <td>1</td>\n",
              "      <td>2</td>\n",
              "    </tr>\n",
              "    <tr>\n",
              "      <th>3</th>\n",
              "      <td>12</td>\n",
              "      <td>clueweb12-0004wb-78-20304___11</td>\n",
              "      <td>2</td>\n",
              "      <td>2</td>\n",
              "    </tr>\n",
              "    <tr>\n",
              "      <th>4</th>\n",
              "      <td>12</td>\n",
              "      <td>clueweb12-0008wb-62-05967___1</td>\n",
              "      <td>0</td>\n",
              "      <td>0</td>\n",
              "    </tr>\n",
              "  </tbody>\n",
              "</table>\n",
              "</div>\n",
              "      <button class=\"colab-df-convert\" onclick=\"convertToInteractive('df-296842d5-724f-404e-b91a-4ca28406e5e9')\"\n",
              "              title=\"Convert this dataframe to an interactive table.\"\n",
              "              style=\"display:none;\">\n",
              "        \n",
              "  <svg xmlns=\"http://www.w3.org/2000/svg\" height=\"24px\"viewBox=\"0 0 24 24\"\n",
              "       width=\"24px\">\n",
              "    <path d=\"M0 0h24v24H0V0z\" fill=\"none\"/>\n",
              "    <path d=\"M18.56 5.44l.94 2.06.94-2.06 2.06-.94-2.06-.94-.94-2.06-.94 2.06-2.06.94zm-11 1L8.5 8.5l.94-2.06 2.06-.94-2.06-.94L8.5 2.5l-.94 2.06-2.06.94zm10 10l.94 2.06.94-2.06 2.06-.94-2.06-.94-.94-2.06-.94 2.06-2.06.94z\"/><path d=\"M17.41 7.96l-1.37-1.37c-.4-.4-.92-.59-1.43-.59-.52 0-1.04.2-1.43.59L10.3 9.45l-7.72 7.72c-.78.78-.78 2.05 0 2.83L4 21.41c.39.39.9.59 1.41.59.51 0 1.02-.2 1.41-.59l7.78-7.78 2.81-2.81c.8-.78.8-2.07 0-2.86zM5.41 20L4 18.59l7.72-7.72 1.47 1.35L5.41 20z\"/>\n",
              "  </svg>\n",
              "      </button>\n",
              "      \n",
              "  <style>\n",
              "    .colab-df-container {\n",
              "      display:flex;\n",
              "      flex-wrap:wrap;\n",
              "      gap: 12px;\n",
              "    }\n",
              "\n",
              "    .colab-df-convert {\n",
              "      background-color: #E8F0FE;\n",
              "      border: none;\n",
              "      border-radius: 50%;\n",
              "      cursor: pointer;\n",
              "      display: none;\n",
              "      fill: #1967D2;\n",
              "      height: 32px;\n",
              "      padding: 0 0 0 0;\n",
              "      width: 32px;\n",
              "    }\n",
              "\n",
              "    .colab-df-convert:hover {\n",
              "      background-color: #E2EBFA;\n",
              "      box-shadow: 0px 1px 2px rgba(60, 64, 67, 0.3), 0px 1px 3px 1px rgba(60, 64, 67, 0.15);\n",
              "      fill: #174EA6;\n",
              "    }\n",
              "\n",
              "    [theme=dark] .colab-df-convert {\n",
              "      background-color: #3B4455;\n",
              "      fill: #D2E3FC;\n",
              "    }\n",
              "\n",
              "    [theme=dark] .colab-df-convert:hover {\n",
              "      background-color: #434B5C;\n",
              "      box-shadow: 0px 1px 3px 1px rgba(0, 0, 0, 0.15);\n",
              "      filter: drop-shadow(0px 1px 2px rgba(0, 0, 0, 0.3));\n",
              "      fill: #FFFFFF;\n",
              "    }\n",
              "  </style>\n",
              "\n",
              "      <script>\n",
              "        const buttonEl =\n",
              "          document.querySelector('#df-296842d5-724f-404e-b91a-4ca28406e5e9 button.colab-df-convert');\n",
              "        buttonEl.style.display =\n",
              "          google.colab.kernel.accessAllowed ? 'block' : 'none';\n",
              "\n",
              "        async function convertToInteractive(key) {\n",
              "          const element = document.querySelector('#df-296842d5-724f-404e-b91a-4ca28406e5e9');\n",
              "          const dataTable =\n",
              "            await google.colab.kernel.invokeFunction('convertToInteractive',\n",
              "                                                     [key], {});\n",
              "          if (!dataTable) return;\n",
              "\n",
              "          const docLinkHtml = 'Like what you see? Visit the ' +\n",
              "            '<a target=\"_blank\" href=https://colab.research.google.com/notebooks/data_table.ipynb>data table notebook</a>'\n",
              "            + ' to learn more about interactive tables.';\n",
              "          element.innerHTML = '';\n",
              "          dataTable['output_type'] = 'display_data';\n",
              "          await google.colab.output.renderOutput(dataTable, element);\n",
              "          const docLink = document.createElement('div');\n",
              "          docLink.innerHTML = docLinkHtml;\n",
              "          element.appendChild(docLink);\n",
              "        }\n",
              "      </script>\n",
              "    </div>\n",
              "  </div>\n",
              "  "
            ]
          },
          "metadata": {},
          "execution_count": 30
        }
      ]
    },
    {
      "cell_type": "code",
      "source": [
        "def retrieve_by_topic_relevance(topic, relevance, det_df, corp_df):\n",
        "    print(f\"Topic: {topic} - Relevance: {relevance}\")\n",
        "    id_list = det_df[(det_df['topic']==topic) & (det_df['relevance']==relevance)]['doc_id']\n",
        "    url_list = []\n",
        "    for doc in id_list:\n",
        "        if doc in corp_df.id.values:\n",
        "            url_list.append(corp_df[corp_df['id']==doc]['chatNoirUrl'].item()) \n",
        "    return url_list"
      ],
      "metadata": {
        "id": "uf6prYO3nO_y"
      },
      "execution_count": null,
      "outputs": []
    },
    {
      "cell_type": "code",
      "source": [
        "# List of topics taken from qrels files.\n",
        "np.sort(det_df.topic.unique())"
      ],
      "metadata": {
        "colab": {
          "base_uri": "https://localhost:8080/"
        },
        "id": "GaPzv-48j4xs",
        "outputId": "d4633460-75fb-4bf8-fed3-b745dc5feb28"
      },
      "execution_count": null,
      "outputs": [
        {
          "output_type": "execute_result",
          "data": {
            "text/plain": [
              "array([  2,   3,   8,   9,  12,  14,  17,  18,  19,  22,  23,  25,  26,\n",
              "        27,  28,  30,  33,  34,  36,  37,  42,  43,  48,  51,  53,  54,\n",
              "        55,  56,  58,  59,  60,  61,  62,  67,  68,  69,  70,  72,  74,\n",
              "        76,  77,  78,  84,  86,  88,  91,  92,  93,  95, 100])"
            ]
          },
          "metadata": {},
          "execution_count": 32
        }
      ]
    },
    {
      "cell_type": "markdown",
      "source": [
        "In this example we retrieve the documents that discuss about chiropractic therapy or physical one and they are perfectly related to this argument."
      ],
      "metadata": {
        "id": "EFY_BhuPt6Qt"
      }
    },
    {
      "cell_type": "code",
      "source": [
        "example_topic = 17\n",
        "retrieve_by_topic_relevance(example_topic, 2, det_df, corpus_df)"
      ],
      "metadata": {
        "id": "x5JoxwBkhoKW"
      },
      "execution_count": null,
      "outputs": []
    },
    {
      "cell_type": "code",
      "source": [
        "topics[example_topic-1]"
      ],
      "metadata": {
        "colab": {
          "base_uri": "https://localhost:8080/",
          "height": 36
        },
        "id": "2iUqHyYcl3eh",
        "outputId": "aefb518b-0f64-4a46-f55f-eab0f0668fc8"
      },
      "execution_count": null,
      "outputs": [
        {
          "output_type": "execute_result",
          "data": {
            "text/plain": [
              "'Do you prefer cats or dogs, and why?'"
            ],
            "application/vnd.google.colaboratory.intrinsic+json": {
              "type": "string"
            }
          },
          "metadata": {},
          "execution_count": 36
        }
      ]
    },
    {
      "cell_type": "markdown",
      "source": [
        "## Documents pre-processing"
      ],
      "metadata": {
        "id": "vW5iieF7rC1u"
      }
    },
    {
      "cell_type": "markdown",
      "source": [
        "It's important to perform some pre-processing in order to capture better the similarities between documents and removing the noise from them. Obviously if you downloaded the 'downloads' directory from Drive you don't have to perform the preprocessing and you will already find the clean text."
      ],
      "metadata": {
        "id": "iNXnzflZPaW3"
      }
    },
    {
      "cell_type": "code",
      "source": [
        "!pip install contractions -q \n",
        "!pip install spacy -q"
      ],
      "metadata": {
        "id": "_mssokgCDG4W",
        "colab": {
          "base_uri": "https://localhost:8080/"
        },
        "outputId": "10556dc6-5cac-467a-c013-d0e1859b965d"
      },
      "execution_count": null,
      "outputs": [
        {
          "output_type": "stream",
          "name": "stderr",
          "text": [
            "/usr/local/lib/python3.8/dist-packages/torch/cuda/__init__.py:497: UserWarning: Can't initialize NVML\n",
            "  warnings.warn(\"Can't initialize NVML\")\n"
          ]
        },
        {
          "output_type": "stream",
          "name": "stdout",
          "text": [
            "\u001b[2K     \u001b[90m━━━━━━━━━━━━━━━━━━━━━━━━━━━━━━━━━━━━━━━\u001b[0m \u001b[32m287.5/287.5 KB\u001b[0m \u001b[31m7.0 MB/s\u001b[0m eta \u001b[36m0:00:00\u001b[0m\n",
            "\u001b[2K     \u001b[90m━━━━━━━━━━━━━━━━━━━━━━━━━━━━━━━━━━━━━━\u001b[0m \u001b[32m110.1/110.1 KB\u001b[0m \u001b[31m10.7 MB/s\u001b[0m eta \u001b[36m0:00:00\u001b[0m\n",
            "\u001b[?25h"
          ]
        }
      ]
    },
    {
      "cell_type": "code",
      "source": [
        "import contractions\n",
        "import spacy\n",
        "\n",
        "import string\n",
        "# To enable progress bar in apply function\n",
        "from tqdm.notebook import tqdm\n",
        "tqdm.pandas()\n",
        "\n",
        "nlp = spacy.load(\"en_core_web_sm\", disable=['ner','parser'])\n",
        "nlp.max_length=5000000"
      ],
      "metadata": {
        "id": "dkEVC-XpDdXQ"
      },
      "execution_count": null,
      "outputs": []
    },
    {
      "cell_type": "markdown",
      "source": [
        "### Clean text"
      ],
      "metadata": {
        "id": "9Ellnnu036RP"
      }
    },
    {
      "cell_type": "markdown",
      "source": [
        "In the following cells we decided to clean the documents in this way:\n",
        "1. Make the documents lowercase.\n",
        "2. Expand contractions.\n",
        "3. Remove words with numbers inside.\n",
        "4. Replace \\n, characters that are not in the english alphabet and punctuation with a space.\n",
        "5. Remove adjacent spaces.\n",
        "6. Remove URLs and stopwords.\n",
        "7. Perform lemmatization."
      ],
      "metadata": {
        "id": "1I4uGquZ2i3n"
      }
    },
    {
      "cell_type": "code",
      "source": [
        "# Clean the documents performing pre-processing\n",
        "def clean_documents(text, nlp):\n",
        "    clean = text.lower()\n",
        "    clean = contractions.fix(clean)\n",
        "    clean = clean.translate(str.maketrans(string.punctuation, ' '*len(string.punctuation)))\n",
        "    clean = re.sub('\\w*\\d\\w*','', clean)\n",
        "    clean = re.sub('\\n',' ', clean)\n",
        "    clean = re.sub(r\"https?:/*\\S+\", \"\", clean)\n",
        "    clean = re.sub('[^a-z]',' ', clean)\n",
        "    clean = re.sub(' +',' ', clean)\n",
        "\n",
        "    clean = ' '.join([token.lemma_ for token in list(nlp(clean)) if not token.is_stop])\n",
        "    return clean"
      ],
      "metadata": {
        "id": "MIRXuSWZ4CtT"
      },
      "execution_count": null,
      "outputs": []
    },
    {
      "cell_type": "code",
      "source": [
        "corpus_df['contents'] = corpus_df['contents'].progress_apply(clean_documents, nlp=nlp)"
      ],
      "metadata": {
        "colab": {
          "base_uri": "https://localhost:8080/",
          "height": 113,
          "referenced_widgets": [
            "c153d4ad223e4913a1b1522e2d9841f3",
            "c9d0d188d7fb4ac3a3bae0613198d245",
            "24a2bd5cc7a243d881c61aabd8ca238a",
            "6341c451a7aa4dc29047016cf3c1f9da",
            "603cd63c6e75422f893116f65319c85d",
            "502021d61a2343f4af1932fab77ed38f",
            "0347a2552d1c4df78273d9cc1359ce04",
            "50647ea200b34737a5f2e514ac875c4b",
            "ecdb564eaaa14c58980f67f759caca79",
            "08cddd10f91d4c99af8037f2e3d9f0e1",
            "e37993afc9b5439f91f20fc311d8737d",
            "05d1e07140ff43f0977b5cb4afbd8be1",
            "294733cbb9544e78a2b696fb0e7c94a9",
            "5c2a083fe864458dbd0404d569f710c9",
            "86b8fa233bc64d92833754c8bbf3ca90",
            "1a447a26f4c948468186797a6ad91267",
            "89268a8095fe4437a103a734ad8918c0",
            "f8d7f86d727e4246853d7edc9dde1729",
            "ad81c9f655c044a2b2a4e0df3f58f0d5",
            "7f9993ffeb66491281ee2c522e9c02da",
            "456f52d8e7c843dca541189c54e1dc88",
            "064b28b155314eb09e467bf4b7b70111",
            "2141abf143a943a9b99eb3b84a7fe208",
            "5ea0dc01e7104144a591936ebd462b04",
            "b40c38c9c7b64ace9ca58bfb62a6e6a4",
            "bd671f20cfd3414b878eacdaca64dd1b",
            "79febe29234b4af3884f51700106f6be",
            "049d90c45ca54ea5a1a6ca78bd2aeacc",
            "ae378b4f7e864b6e81e46f66410ca9da",
            "429711c917e04839afb88545aafac619",
            "428a5ee8ef5b4467a376cd67fdab6e83",
            "b83e079216ca4308998f85c9c04d755c",
            "ddaf92e2828f4d6c8d7c06fb85b603eb"
          ]
        },
        "id": "JgPoAs-zMk5G",
        "outputId": "f7ed673a-7f3d-4338-bc30-308190c4ecca"
      },
      "execution_count": null,
      "outputs": [
        {
          "output_type": "display_data",
          "data": {
            "text/plain": [
              "  0%|          | 0/868655 [00:00<?, ?it/s]"
            ],
            "application/vnd.jupyter.widget-view+json": {
              "version_major": 2,
              "version_minor": 0,
              "model_id": "c153d4ad223e4913a1b1522e2d9841f3"
            }
          },
          "metadata": {}
        },
        {
          "output_type": "display_data",
          "data": {
            "text/plain": [
              "  0%|          | 0/868655 [00:00<?, ?it/s]"
            ],
            "application/vnd.jupyter.widget-view+json": {
              "version_major": 2,
              "version_minor": 0,
              "model_id": "05d1e07140ff43f0977b5cb4afbd8be1"
            }
          },
          "metadata": {}
        },
        {
          "output_type": "display_data",
          "data": {
            "text/plain": [
              "  0%|          | 0/868655 [00:00<?, ?it/s]"
            ],
            "application/vnd.jupyter.widget-view+json": {
              "version_major": 2,
              "version_minor": 0,
              "model_id": "2141abf143a943a9b99eb3b84a7fe208"
            }
          },
          "metadata": {}
        }
      ]
    },
    {
      "cell_type": "markdown",
      "source": [
        "## Indexes creation or import"
      ],
      "metadata": {
        "id": "idAF-tsbcrny"
      }
    },
    {
      "cell_type": "markdown",
      "source": [
        "Given that we are not able to get an API key for the ChatNoir system, we have to create our own index for ranking the documents with respect to a certain query.\n",
        "\n",
        "We decided to use the pyserini library, but it doesn't support the creation of a dense index for a custom dataset, therefore we used also the autofaiss library. "
      ],
      "metadata": {
        "id": "Uy4ycQTJWyiQ"
      }
    },
    {
      "cell_type": "code",
      "source": [
        "!pip install -q pyserini\n",
        "!pip install -q faiss-cpu==1.7.2\n",
        "!pip install -q autofaiss"
      ],
      "metadata": {
        "id": "Q-Sl8EWunvTZ"
      },
      "execution_count": 8,
      "outputs": []
    },
    {
      "cell_type": "code",
      "source": [
        "#@title ###The class for a sparse or dense index\n",
        "#@markdown In this cell there is the class to represent a dense or sparse index\n",
        "#@markdown and the relative function to make a search on it given a query.\n",
        "import shutil\n",
        "\n",
        "import faiss\n",
        "from pyserini.search import LuceneSearcher, TctColBertQueryEncoder\n",
        "\n",
        "class DocumentsIndex:\n",
        "    allowed_zip_format = ['zip', 'tar', 'tar.gz']\n",
        "\n",
        "    def __init__(self, index_path: str, index_type: str) -> None:\n",
        "        if self.__path_analysis(index_path):\n",
        "            self.index_path = index_path\n",
        "            self.index_type = index_type if index_type in ['dense', 'sparse'] else 'sparse'\n",
        "            self.index = None\n",
        "\n",
        "            # Only for the dense index\n",
        "            if self.index_type == 'dense':\n",
        "                self.enc_name = \"castorini/tct_colbert-v2-hnp-msmarco\"\n",
        "                self.encoder = None\n",
        "\n",
        "        self.__load_index()\n",
        "\n",
        "\n",
        "    def __path_analysis(self, path: str):\n",
        "        '''\n",
        "            It checks if the file exists and if it is a zip it unpacks it.\n",
        "            It returns False if an error occurs, otherwise True.\n",
        "        '''\n",
        "        if not os.path.exists(path):\n",
        "            print(f\"ERROR: the index doesn't exist at the following path: {path}\")\n",
        "            return False\n",
        "        else:\n",
        "            _, ext = os.path.splitext(path)\n",
        "            # Unpack the file\n",
        "            if ext in self.allowed_zip_format:\n",
        "                print(\"WARNING: the input path is of a compressed file, now it will be unpacked.\")\n",
        "                shutil.unpack_archive(path)\n",
        "\n",
        "        return True\n",
        "\n",
        "\n",
        "    def __load_index(self):\n",
        "        '''\n",
        "            It actually loads the index into a variable.\n",
        "        '''\n",
        "        print(f\"Loading the {self.index_type} index file ...\")\n",
        "        if self.index_type == \"sparse\":\n",
        "            self.index = LuceneSearcher(self.index_path)\n",
        "        else:\n",
        "            self.index = faiss.read_index(self.index_path)\n",
        "            print(f\"Loading the encoder {self.enc_name} ...\")\n",
        "            self.encoder = TctColBertQueryEncoder(self.enc_name)\n",
        "\n",
        "        print(\"\\nThe process is finished correctly!\\n\")\n",
        "                \n",
        "    \n",
        "    def __index_to_docid(self, indices, corpus_df):\n",
        "        '''\n",
        "            It converts indices to document ids (for dense index).\n",
        "        '''\n",
        "        indices = indices.tolist()\n",
        "        for ind in range(len(indices)):\n",
        "            indices[ind] = corpus_df.iloc[indices[ind]]['id'].tolist()\n",
        "        return indices\n",
        "    \n",
        "\n",
        "    def search(self, query: str, k: int=10, corpus_df=None, verbose=False):\n",
        "        ''' \n",
        "            If the query is a single string it returns a list of tuples (id, score),\n",
        "            otherwise it returns a dictionary with keys the numbers with the position\n",
        "            of the query in the array. For each query you will find the same array\n",
        "            as for the single query. \n",
        "            E.g.\n",
        "                query = \"Dogs or cats?\"\n",
        "                res = [(doc_id1, score1), (doc_id2, score2), ...]\n",
        "\n",
        "                query = [\"Dogs or cats?\", \"Coke or Pepsi?\"]\n",
        "                res = {'0':[(doc_id1, score1),...], '1': [(doc_id1, score1,...)]}\n",
        "        '''\n",
        "        if self.index_type == 'sparse':\n",
        "            if isinstance(query, list):\n",
        "                hits = self.index.batch_search(query, [str(i) for i in range(len(query))], k=k)\n",
        "                for key in hits.keys():\n",
        "                    hits[key] = [(el.docid, el.score) for el in hits[key]]\n",
        "            else:\n",
        "                hits = self.index.search(query, k=k)\n",
        "                hits = [(el.docid, el.score) for el in hits]\n",
        "        else:\n",
        "            if corpus_df is None:\n",
        "                print(\"ERROR: corpus needed for the dense index in order to convert the indices to the document ids.\")\n",
        "                return None\n",
        "            if isinstance(query, list):\n",
        "                embeddings = []\n",
        "                # Create the embedding for each query and stack them to create a batch\n",
        "                for q in query:\n",
        "                    query_enc = self.encoder.encode(q)\n",
        "                    query_enc = np.expand_dims(query_enc, axis=0)\n",
        "                    embeddings.append(query_enc)\n",
        "\n",
        "                distances, indices = self.index.search(np.concatenate(embeddings), k)\n",
        "                # Convert indices to document ids\n",
        "                indices = self.__index_to_docid(indices, corpus_df)\n",
        "\n",
        "                hits = {str(i): list(zip(indices[i], distances[i])) \n",
        "                            for i in range(len(query))}\n",
        "            else:\n",
        "                query_enc = self.encoder.encode(query)\n",
        "                query_enc = np.expand_dims(query_enc, axis=0)\n",
        "                distances, indices = self.index.search(query_enc, k)\n",
        "                # Convert indices to document ids\n",
        "                indices = self.__index_to_docid(indices, corpus_df)\n",
        "                hits = list(zip(indices[0], distances[0]))\n",
        "\n",
        "        if verbose:\n",
        "            self.__print_results(hits)\n",
        "        return hits\n",
        "\n",
        "\n",
        "    def __print_results(self, results):\n",
        "        '''\n",
        "            It prints the results of the search given the id and the score ordered\n",
        "            considering the score.\n",
        "        '''\n",
        "        if isinstance(results, dict):\n",
        "            for key in results.keys():\n",
        "                print(f\"{int(key)+1}. For the query {key}:\")\n",
        "                for i, (ind, score) in enumerate(results[key]):\n",
        "                    print(f'{i+1:2} {ind:4} {score:.4f}')\n",
        "        else:\n",
        "            for i, (ind, score) in enumerate(results):\n",
        "                    print(f'{i+1:2} {ind:4} {score:.4f}')"
      ],
      "metadata": {
        "id": "mQp2Jy3OZpvS",
        "cellView": "form"
      },
      "execution_count": 9,
      "outputs": []
    },
    {
      "cell_type": "code",
      "source": [
        "#@title #### Create a corpus without chatNoirUrl for sparse index (execute only if you don't have pre-saved indexes)\n",
        "#@markdown In this cell you save a jsonl file without the 'chatNoirUrl' attribute that is not required for creating the index.\n",
        "# Save the jsonl file for creating the index\n",
        "!mkdir collections\n",
        "corpus_df.drop('chatNoirUrl', axis=1).to_json('collections/corpus_index.jsonl', orient=\"records\", lines=True)"
      ],
      "metadata": {
        "id": "K3UgtylQn-D-",
        "cellView": "form"
      },
      "execution_count": null,
      "outputs": []
    },
    {
      "cell_type": "markdown",
      "source": [
        "Load the pre-saved indexes from the Drive folder. For the sparse index you will find a directory 'sparse_index', for the dense one you will find a file named 'knn.index'."
      ],
      "metadata": {
        "id": "KAmjXtXPzd_O"
      }
    },
    {
      "cell_type": "code",
      "source": [
        "# Load the indexes from Drive\n",
        "!cp /content/drive/MyDrive/NLP_project/dirty_indexes.zip .\n",
        "!unzip dirty_indexes.zip\n",
        "!rm dirty_indexes.zip"
      ],
      "metadata": {
        "id": "bYAtHZRBZAJq"
      },
      "execution_count": null,
      "outputs": []
    },
    {
      "cell_type": "code",
      "source": [
        "# Retrieve the urls from the corpus given the results of the search on the index\n",
        "def retrieve_docs(corpus, hits, mode=\"sparse\"):\n",
        "    urls = []\n",
        "    if mode=='sparse':\n",
        "        for el in hits:\n",
        "            urls.append(corpus[corpus['id'] == el[0]]['chatNoirUrl'].item())\n",
        "        ids = [val[0] for val in hits]\n",
        "    else:\n",
        "        indices = [ind[0] for ind in hits]\n",
        "        urls = corpus.iloc[indices]['chatNoirUrl'].values\n",
        "        ids = corpus.iloc[indices]['id'].values\n",
        "    return ids, urls"
      ],
      "metadata": {
        "id": "BA2aQ26Hrssh"
      },
      "execution_count": 21,
      "outputs": []
    },
    {
      "cell_type": "markdown",
      "source": [
        "### Sparse index Test"
      ],
      "metadata": {
        "id": "wK3OddNki_Wi"
      }
    },
    {
      "cell_type": "markdown",
      "source": [
        "The sparse index uses the BM25 score to rank the documents with respect to a given query."
      ],
      "metadata": {
        "id": "bXwzGjqGYa1B"
      }
    },
    {
      "cell_type": "markdown",
      "source": [
        "The following cell show the command that we executed to create the index the first time."
      ],
      "metadata": {
        "id": "uyzlXxJ5ZJEO"
      }
    },
    {
      "cell_type": "code",
      "source": [
        "#@title #### Create the sparse index\n",
        "#@markdown Execute this cell to create a sparse index if not pre-saved, the .jsonl corpus in this case needs to be inside 'collections' directory. \n",
        "!python -m pyserini.index.lucene --collection JsonCollection --input collections/ --index indexes/sparse_index --bm25.accurate --generator DefaultLuceneDocumentGenerator --threads 2 --storePositions --storeDocvectors --storeRaw"
      ],
      "metadata": {
        "id": "ajAd52EKMBRd",
        "cellView": "form"
      },
      "execution_count": null,
      "outputs": []
    },
    {
      "cell_type": "markdown",
      "source": [
        "In order to retrieve the documents from the index we can use the LuceneSearcher from pyserini and ask for the top-k documents, considering the BM25 w.r.t. a query."
      ],
      "metadata": {
        "id": "YWHv5xSIZUmX"
      }
    },
    {
      "cell_type": "code",
      "source": [
        "#@title Test with rm3 query expansion, cell to remove in the future\n",
        "'''\n",
        "TODO:\n",
        "    - if we want to use it we need to understand hyperparameters\n",
        "    - add it to the class because we need to set it to the searcher.\n",
        "    - WARNING: get feedback terms doesn't work if rm3 was not set \n",
        "''';\n",
        "\n",
        "#fb_terms (int) – number of terms to add to the query. Terrier’s default setting is 10 expansion terms.\n",
        "#fb_docs (int) – number of feedback documents to consider. Terrier’s default setting is 3 feedback documents.\n",
        "#fb_lambda (float) – lambda in RM3, i.e. importance of relevance model viz feedback model. Defaults to 0.6.\n",
        "\n",
        "a = LuceneSearcher('indexes/sparse_index')\n",
        "a.set_rm3(10, 10, 0.5)\n",
        "\n",
        "sorted(a.get_feedback_terms(\"Coke or Pepsi?\").items(), key=lambda x: x[1], reverse=True)"
      ],
      "metadata": {
        "cellView": "form",
        "id": "mxRg1aiRUmia"
      },
      "execution_count": null,
      "outputs": []
    },
    {
      "cell_type": "code",
      "source": [
        "sparse_index = DocumentsIndex(\"indexes/sparse_index\", \"sparse\")"
      ],
      "metadata": {
        "id": "Ea_p040Uq5dj",
        "colab": {
          "base_uri": "https://localhost:8080/"
        },
        "outputId": "f294133e-28d3-40c9-e471-acd1ffe274f9"
      },
      "execution_count": null,
      "outputs": [
        {
          "output_type": "stream",
          "name": "stdout",
          "text": [
            "Loading the sparse index file ...\n",
            "\n",
            "The process is finished correctly!\n",
            "\n"
          ]
        }
      ]
    },
    {
      "cell_type": "code",
      "source": [
        "sparse_query = [\"Coke or Pepsi?\", \"Dogs or cats?\"]\n",
        "sparse_results = sparse_index.search(sparse_query, k=10, verbose=True)"
      ],
      "metadata": {
        "colab": {
          "base_uri": "https://localhost:8080/"
        },
        "id": "Qg9rcfZpSolc",
        "outputId": "668bacea-4a4a-4a51-c0f3-830c64d72995"
      },
      "execution_count": null,
      "outputs": [
        {
          "output_type": "stream",
          "name": "stdout",
          "text": [
            "1. For the query 0:\n",
            " 1 clueweb12-1301wb-59-03888___1 11.5156\n",
            " 2 clueweb12-1412wb-02-24400___2 11.2515\n",
            " 3 clueweb12-1802wb-28-00297___4 11.1894\n",
            " 4 clueweb12-0304wb-70-29640___3 11.1401\n",
            " 5 clueweb12-1000tw-98-11983___1 11.1026\n",
            " 6 clueweb12-1800tw-33-09364___3 11.0931\n",
            " 7 clueweb12-0406wb-48-23319___2 11.0624\n",
            " 8 clueweb12-1308wb-96-22768___3 11.0054\n",
            " 9 clueweb12-1108wb-45-26706___72 11.0006\n",
            "10 clueweb12-0800tw-75-14494___6 10.9743\n",
            "2. For the query 1:\n",
            " 1 clueweb12-0002wb-08-13311___5 8.2143\n",
            " 2 clueweb12-1014wb-63-07431___2 8.1670\n",
            " 3 clueweb12-1609wb-04-14607___1 8.1578\n",
            " 4 clueweb12-0210wb-51-10734___1 8.1387\n",
            " 5 clueweb12-1608wb-75-26810___1 8.1239\n",
            " 6 clueweb12-0807wb-34-16439___1 8.1200\n",
            " 7 clueweb12-0103wb-01-08587___30 8.1057\n",
            " 8 clueweb12-0307wb-57-02563___13 8.0899\n",
            " 9 clueweb12-0901wb-43-01355___4 8.0816\n",
            "10 clueweb12-0912wb-43-13039___1 8.0763\n"
          ]
        }
      ]
    },
    {
      "cell_type": "code",
      "source": [
        "docids, urls = retrieve_docs(corpus_df, sparse_results['0'], \"sparse\")\n",
        "urls"
      ],
      "metadata": {
        "colab": {
          "base_uri": "https://localhost:8080/"
        },
        "id": "6ww0uuA8sRbp",
        "outputId": "0c1c2157-e65b-4f7a-94b9-2300c42c297e"
      },
      "execution_count": null,
      "outputs": [
        {
          "output_type": "execute_result",
          "data": {
            "text/plain": [
              "['https://chatnoir.eu/cache?uuid=822acef3-0d2e-58cb-a9a9-62c6a3e7b9a0&index=cw12&raw&plain',\n",
              " 'https://chatnoir.eu/cache?uuid=86a38a3b-58c0-530b-a660-56e2b4bffe2a&index=cw12&raw&plain',\n",
              " 'https://chatnoir.eu/cache?uuid=4ed41510-6cca-5c6b-a35c-d00d267a7c61&index=cw12&raw&plain',\n",
              " 'https://chatnoir.eu/cache?uuid=049caace-9ff8-5c8d-aa32-30b10e9a5889&index=cw12&raw&plain',\n",
              " 'https://chatnoir.eu/cache?uuid=51b9cf13-71b3-51c1-9847-fbddd4bc53cd&index=cw12&raw&plain',\n",
              " 'https://chatnoir.eu/cache?uuid=ce4a164e-d16b-5eb4-9316-2f0bab2b67b1&index=cw12&raw&plain',\n",
              " 'https://chatnoir.eu/cache?uuid=aacde075-d746-5462-8ca9-7a64b7135d3b&index=cw12&raw&plain',\n",
              " 'https://chatnoir.eu/cache?uuid=c4bf5091-a6db-5e5d-9ed6-43328bd6451c&index=cw12&raw&plain',\n",
              " 'https://chatnoir.eu/cache?uuid=d90b1021-15fc-5306-8804-37847ff52a08&index=cw12&raw&plain',\n",
              " 'https://chatnoir.eu/cache?uuid=d243c30b-1dd6-5f8a-bc42-501eea6a2545&index=cw12&raw&plain']"
            ]
          },
          "metadata": {},
          "execution_count": 71
        }
      ]
    },
    {
      "cell_type": "markdown",
      "source": [
        "### Dense index Test"
      ],
      "metadata": {
        "id": "u60micrmYGnA"
      }
    },
    {
      "cell_type": "code",
      "source": [
        "!pip install -q autofaiss\n",
        "!pip install -q tqdm"
      ],
      "metadata": {
        "id": "7OU07trorvbI"
      },
      "execution_count": null,
      "outputs": []
    },
    {
      "cell_type": "markdown",
      "source": [
        "First of all we need to compute an embedding vector for the content of each document, then we compute the knn index considering the inner product as score."
      ],
      "metadata": {
        "id": "i415-IPJoxxU"
      }
    },
    {
      "cell_type": "markdown",
      "source": [
        "#### Compute the embeddings and create the index"
      ],
      "metadata": {
        "id": "G8du8Ze304ka"
      }
    },
    {
      "cell_type": "markdown",
      "source": [
        "You can compute the embeddings for each document considering a pre-trained version of ColBERT on MSMARCO, or you can load it from a jsonl file that we saved after the first computation."
      ],
      "metadata": {
        "id": "OSbDq2Vz1C6e"
      }
    },
    {
      "cell_type": "code",
      "source": [
        "# Compute the embedding\n",
        "!python -m pyserini.encode input --corpus collections/corpus_index.jsonl --fields text --shard-id 0 --shard-num 1 output --embeddings embeddings/ encoder --encoder castorini/tct_colbert-v2-hnp-msmarco --fields text --batch 32 --fp16"
      ],
      "metadata": {
        "id": "xjpS2_2y1BwQ",
        "colab": {
          "base_uri": "https://localhost:8080/"
        },
        "outputId": "544d587a-4917-47b0-ecb5-d246be9f770e"
      },
      "execution_count": null,
      "outputs": [
        {
          "output_type": "stream",
          "name": "stdout",
          "text": [
            "Downloading: 100% 559/559 [00:00<00:00, 988kB/s]\n",
            "Downloading: 100% 438M/438M [00:06<00:00, 70.0MB/s]\n",
            "Downloading: 100% 334/334 [00:00<00:00, 473kB/s]\n",
            "Downloading: 100% 232k/232k [00:00<00:00, 29.2MB/s]\n",
            "Downloading: 100% 112/112 [00:00<00:00, 200kB/s]\n",
            "868655it [00:05, 153128.27it/s]\n",
            "100% 27146/27146 [56:53<00:00,  7.95it/s]\n"
          ]
        }
      ]
    },
    {
      "cell_type": "code",
      "source": [
        "# Load the embeddings of the documents\n",
        "!cp /content/drive/MyDrive/NLP_project/embeddings.jsonl.gz .\n",
        "!gzip -d embeddings.jsonl.gz "
      ],
      "metadata": {
        "colab": {
          "base_uri": "https://localhost:8080/"
        },
        "id": "DXdhUHcHctBP",
        "outputId": "a330ef90-3500-473f-f264-71006e0c7dc1"
      },
      "execution_count": null,
      "outputs": [
        {
          "output_type": "stream",
          "name": "stdout",
          "text": [
            "Drive already mounted at /content/drive; to attempt to forcibly remount, call drive.mount(\"/content/drive\", force_remount=True).\n"
          ]
        }
      ]
    },
    {
      "cell_type": "markdown",
      "source": [
        "After the loading of the file with the documents embedding we should transform the vectors to npy files in order to create the faiss index with autofaiss library. To avoid running out of RAM we decided to read the big file with the embeddings in chunks and then we saved different numpy files that we will use to create the index. "
      ],
      "metadata": {
        "id": "Un5_9pBKrZb7"
      }
    },
    {
      "cell_type": "code",
      "source": [
        "import tqdm\n",
        "\n",
        "def convert_to_npy(path, file_len, chunksize=75000):\n",
        "    '''\n",
        "        It takes as input a .jsonl file and it creates some .npy files taking\n",
        "        only the 'vector' key, that is the embedding of the documents.\n",
        "    '''\n",
        "    steps = file_len//chunksize\n",
        "    for i, chunk in enumerate(tqdm.tqdm(pd.read_json(path, lines=True, chunksize=chunksize), total=steps)):\n",
        "        npy_list = []\n",
        "        for vect in chunk['vector'].to_numpy():\n",
        "            npy_list.append(vect)\n",
        "\n",
        "        # Save different files to avoid RAM consumption\n",
        "        np.save(f'embeddings/embeddings_{i+10}.npy', np.array(npy_list))\n",
        "        del npy_list"
      ],
      "metadata": {
        "id": "Fy73CpUwvrFG"
      },
      "execution_count": null,
      "outputs": []
    },
    {
      "cell_type": "code",
      "source": [
        "file_len = 868655\n",
        "convert_to_npy('embeddings.jsonl', file_len)"
      ],
      "metadata": {
        "colab": {
          "base_uri": "https://localhost:8080/"
        },
        "id": "mI5TuDWS2u_c",
        "outputId": "aadceac7-6242-41e4-8d9c-9714993e6880"
      },
      "execution_count": null,
      "outputs": [
        {
          "output_type": "stream",
          "name": "stderr",
          "text": [
            "12it [04:27, 22.31s/it]\n"
          ]
        }
      ]
    },
    {
      "cell_type": "markdown",
      "source": [
        "Given the .npy files with the embeddings autofaiss automatically generates a dense index for us (~ 1 hour)."
      ],
      "metadata": {
        "id": "wEazSqUGuDIW"
      }
    },
    {
      "cell_type": "code",
      "source": [
        "from autofaiss import build_index\n",
        "\n",
        "# Load the .npy files from the \"embeddings\" directory where we saved them\n",
        "build_index(embeddings=\"embeddings\", index_path=\"indexes/knn.index\",\n",
        "            index_infos_path=\"indexes/dense_index_infos.json\", max_index_memory_usage=\"6GB\",\n",
        "            current_memory_available=\"9GB\")"
      ],
      "metadata": {
        "id": "ebS2X12Gsoha"
      },
      "execution_count": null,
      "outputs": []
    },
    {
      "cell_type": "markdown",
      "source": [
        "Once we computed the dense index we saved on Drive such that we can load it and execute our search."
      ],
      "metadata": {
        "id": "hoIwleHcpYud"
      }
    },
    {
      "cell_type": "markdown",
      "source": [
        "#### Test the dense index"
      ],
      "metadata": {
        "id": "wU_vDwC21zNO"
      }
    },
    {
      "cell_type": "markdown",
      "source": [
        "To compute the embedding of the vectors I used '*castorini/tct_colbert-v2-hnp-msmarco*' pre-trained model thus we use it also for encoding the queries that we need to look for."
      ],
      "metadata": {
        "id": "Vqvr95KJqF-M"
      }
    },
    {
      "cell_type": "code",
      "source": [
        "dense_index = DocumentsIndex('indexes/knn.index', 'dense')"
      ],
      "metadata": {
        "id": "XkRc15qatPYm"
      },
      "execution_count": null,
      "outputs": []
    },
    {
      "cell_type": "code",
      "source": [
        "dense_query = [\"Coke or Pepsi?\", \"Dogs or cats?\"]\n",
        "#dense_query = clean_documents(dense_query, nlp)\n",
        "dense_results = dense_index.search(dense_query, k=10, verbose=True)"
      ],
      "metadata": {
        "colab": {
          "base_uri": "https://localhost:8080/"
        },
        "id": "p3Xzajvg61nz",
        "outputId": "1d0ba62d-ecfb-4082-dd82-d3c9cf7db29c"
      },
      "execution_count": null,
      "outputs": [
        {
          "output_type": "stream",
          "name": "stdout",
          "text": [
            "1. For the query 0:\n",
            " 1 163681 78.5340\n",
            " 2 163014 78.4952\n",
            " 3 163013 78.4652\n",
            " 4 161391 78.4319\n",
            " 5 163728 78.3653\n",
            " 6 161807 78.3526\n",
            " 7 163194 78.3127\n",
            " 8 163377 78.2972\n",
            " 9 160718 78.2814\n",
            "10 164633 78.2748\n",
            "2. For the query 1:\n",
            " 1 130699 78.0054\n",
            " 2 721741 77.9877\n",
            " 3 128393 77.8762\n",
            " 4 131011 77.8614\n",
            " 5 131088 77.8470\n",
            " 6 129754 77.8463\n",
            " 7 132408 77.8407\n",
            " 8 128390 77.7946\n",
            " 9 128701 77.7920\n",
            "10 735652 77.7899\n"
          ]
        }
      ]
    },
    {
      "cell_type": "code",
      "source": [
        "retrieve_docs(corpus_df, dense_results['1'], \"dense\")"
      ],
      "metadata": {
        "colab": {
          "base_uri": "https://localhost:8080/"
        },
        "id": "o5m-c4hT6-Bb",
        "outputId": "96ff4cb4-58c1-4853-d98d-c802ee465e94"
      },
      "execution_count": null,
      "outputs": [
        {
          "output_type": "execute_result",
          "data": {
            "text/plain": [
              "(array(['clueweb12-0901wb-43-01355___4', 'clueweb12-1802wb-25-12690___12',\n",
              "        'clueweb12-0110wb-12-26753___5', 'clueweb12-0907wb-66-32167___9',\n",
              "        'clueweb12-0910wb-05-27531___1', 'clueweb12-0607wb-74-11201___8',\n",
              "        'clueweb12-1212wb-04-20969___4', 'clueweb12-0110wb-12-26753___2',\n",
              "        'clueweb12-0207wb-47-07548___3', 'clueweb12-0300wb-31-18303___54'],\n",
              "       dtype=object),\n",
              " array(['https://chatnoir.eu/cache?uuid=b509c2e2-9474-565e-8a15-48ad94ce965c&index=cw12&raw&plain',\n",
              "        'https://chatnoir.eu/cache?uuid=f8caa24f-8267-51f7-8cdf-ce32a24174e6&index=cw12&raw&plain',\n",
              "        'https://chatnoir.eu/cache?uuid=34c87bfe-f1f6-5935-92eb-d130efdcdad4&index=cw12&raw&plain',\n",
              "        'https://chatnoir.eu/cache?uuid=adfccc41-6db5-5084-ba5f-3b8d0673957f&index=cw12&raw&plain',\n",
              "        'https://chatnoir.eu/cache?uuid=0c07141c-8d44-502e-ba6b-12aa2ba9a3c2&index=cw12&raw&plain',\n",
              "        'https://chatnoir.eu/cache?uuid=366d8c51-7bf2-5992-8cd3-22e5f50d5f1d&index=cw12&raw&plain',\n",
              "        'https://chatnoir.eu/cache?uuid=dc77b5dd-d140-5d33-ab37-2d4b5e369ed5&index=cw12&raw&plain',\n",
              "        'https://chatnoir.eu/cache?uuid=34c87bfe-f1f6-5935-92eb-d130efdcdad4&index=cw12&raw&plain',\n",
              "        'https://chatnoir.eu/cache?uuid=d02025ff-13f7-5f53-aeed-766117286f65&index=cw12&raw&plain',\n",
              "        'https://chatnoir.eu/cache?uuid=099f6f7b-5003-5dc2-ba43-cede293e3d0a&index=cw12&raw&plain'],\n",
              "       dtype=object))"
            ]
          },
          "metadata": {},
          "execution_count": 25
        }
      ]
    },
    {
      "cell_type": "markdown",
      "source": [
        "## Models"
      ],
      "metadata": {
        "id": "46FmShPjPq_q"
      }
    },
    {
      "cell_type": "markdown",
      "source": [
        "**TODO**\n",
        "- make the compute_results function return the list of best documents or urls, to check manually the text passages."
      ],
      "metadata": {
        "id": "pTvWQ9khhLGm"
      }
    },
    {
      "cell_type": "code",
      "source": [
        "def print_ndcg(ndcg_scores):\n",
        "    if ndcg_scores and isinstance(ndcg_scores, dict):\n",
        "        for key, ndcg in ndcg_scores.items():\n",
        "            print(f\"The nDCG for {key} qrel is:\")\n",
        "            print(ndcg, '\\n')\n",
        "    else:\n",
        "        print(\"nDCG has not been computed, set 'evaluate=True' to compute it.\")\n",
        "\n",
        "\n",
        "# Retrieve the urls from the corpus given the results of the search on the index\n",
        "def retrieve_docs_ranked(corpus, hits, k=10):\n",
        "    urls = []\n",
        "    for el in hits['ids'][:k]:\n",
        "        urls.append(corpus[corpus['id'] == el]['chatNoirUrl'].item())\n",
        "    ids = [val for val in hits['ids'][:k]]\n",
        "    return ids, urls"
      ],
      "metadata": {
        "id": "NUsb75pBR0SY"
      },
      "execution_count": 34,
      "outputs": []
    },
    {
      "cell_type": "code",
      "source": [
        "# Create the directory for the results\n",
        "!mkdir results"
      ],
      "metadata": {
        "id": "SXOD_9O2gske"
      },
      "execution_count": null,
      "outputs": []
    },
    {
      "cell_type": "code",
      "source": [
        "sparse_index = DocumentsIndex('indexes/sparse_index', 'sparse')"
      ],
      "metadata": {
        "colab": {
          "base_uri": "https://localhost:8080/"
        },
        "id": "sEF1YsnKNnnt",
        "outputId": "a39b154f-df3b-40b0-e849-f90931945b75"
      },
      "execution_count": 11,
      "outputs": [
        {
          "output_type": "stream",
          "name": "stdout",
          "text": [
            "Loading the sparse index file ...\n",
            "\n",
            "The process is finished correctly!\n",
            "\n"
          ]
        }
      ]
    },
    {
      "cell_type": "code",
      "source": [
        "dense_index = DocumentsIndex('indexes/knn.index', 'dense')"
      ],
      "metadata": {
        "colab": {
          "base_uri": "https://localhost:8080/"
        },
        "id": "g2GUuLoyNvtE",
        "outputId": "5dc3814e-3698-4417-94d0-44508a520440"
      },
      "execution_count": 12,
      "outputs": [
        {
          "output_type": "stream",
          "name": "stdout",
          "text": [
            "Loading the dense index file ...\n",
            "Loading the encoder castorini/tct_colbert-v2-hnp-msmarco ...\n",
            "\n",
            "The process is finished correctly!\n",
            "\n"
          ]
        }
      ]
    },
    {
      "cell_type": "markdown",
      "source": [
        "### Dense Simple with dirty index"
      ],
      "metadata": {
        "id": "-_eDWy3bnMkC"
      }
    },
    {
      "cell_type": "code",
      "source": [
        "from src.DensePipeline import DensePipeline\n",
        "\n",
        "dense_pipeline = DensePipeline('results', 'dense_pipeline', dense_index)"
      ],
      "metadata": {
        "id": "GiRkBpJRolbW"
      },
      "execution_count": 13,
      "outputs": []
    },
    {
      "cell_type": "code",
      "source": [
        "dense_scores, ndcg_dense = dense_pipeline.compute_results(\n",
        "                                ['downloads/relevance.qrels', 'downloads/quality.qrels'],\n",
        "                                topics, corpus_df, k=40, clean_query=True,\n",
        "                                evaluate=True\n",
        "                            )\n",
        "\n",
        "print_ndcg(ndcg_dense)"
      ],
      "metadata": {
        "colab": {
          "base_uri": "https://localhost:8080/"
        },
        "id": "hjVryJqdozbB",
        "outputId": "c8ee2978-292f-453b-c282-37cf14134843"
      },
      "execution_count": 16,
      "outputs": [
        {
          "output_type": "stream",
          "name": "stdout",
          "text": [
            "The nDCG for relevance qrel is:\n",
            "              Tag    nDCG@5\n",
            "0  dense_pipeline  0.594256 \n",
            "\n",
            "The nDCG for quality qrel is:\n",
            "              Tag    nDCG@5\n",
            "0  dense_pipeline  0.614225 \n",
            "\n"
          ]
        }
      ]
    },
    {
      "cell_type": "markdown",
      "source": [
        "You can use the retrieved scores to make some further checks, for example reading the documents retrieved by the pipeline for a specific topic."
      ],
      "metadata": {
        "id": "sV9w5D1JU6ff"
      }
    },
    {
      "cell_type": "code",
      "source": [
        "test_topic = 2\n",
        "query = topics[test_topic-1]\n",
        "\n",
        "_, test_urls = retrieve_docs_ranked(corpus_df, dense_scores[2], k=5)\n",
        "print(f\"Answer:\\n{query}\\n\")\n",
        "print(\"The top-k retrieved documents are:\\n\", '\\n'.join(test_urls))"
      ],
      "metadata": {
        "colab": {
          "base_uri": "https://localhost:8080/"
        },
        "id": "T6AhCaBITQVl",
        "outputId": "9437253a-54ab-4541-f852-74a940970f42"
      },
      "execution_count": 37,
      "outputs": [
        {
          "output_type": "stream",
          "name": "stdout",
          "text": [
            "Answer:\n",
            "Which is better, a laptop or a desktop?\n",
            "\n",
            "The top-k retrieved documents are:\n",
            " https://chatnoir.eu/cache?uuid=4d97d1c9-37de-5595-9fe2-27b59f47ace7&index=cw12&raw&plain\n",
            "https://chatnoir.eu/cache?uuid=8d498f77-74b7-54e7-ab83-6c8d50e5ab18&index=cw12&raw&plain\n",
            "https://chatnoir.eu/cache?uuid=591619da-3135-597e-80d8-debf33f5daba&index=cw12&raw&plain\n",
            "https://chatnoir.eu/cache?uuid=02b59616-116d-53ab-8414-885ef822bc3e&index=cw12&raw&plain\n",
            "https://chatnoir.eu/cache?uuid=e528f057-6644-5814-9b3d-0b7d6b67e5fe&index=cw12&raw&plain\n"
          ]
        }
      ]
    },
    {
      "cell_type": "markdown",
      "source": [
        "### Sparse simple with dirty index"
      ],
      "metadata": {
        "id": "vfxJeYX_gNS_"
      }
    },
    {
      "cell_type": "code",
      "source": [
        "from src.SparsePipeline import SparsePipeline\n",
        "\n",
        "sparse_pipeline = SparsePipeline('results', \"sparse_pipeline\", sparse_index)"
      ],
      "metadata": {
        "id": "ZJAZ-ZepgSyo"
      },
      "execution_count": 38,
      "outputs": []
    },
    {
      "cell_type": "code",
      "source": [
        "sparse_scores, ndcg_sparse = sparse_pipeline.compute_results(\n",
        "                                ['downloads/relevance.qrels', 'downloads/quality.qrels'],\n",
        "                                topics, k=40, evaluate=True,\n",
        "                                clean_query=False\n",
        "                             )\n",
        "\n",
        "print_ndcg(ndcg_sparse)"
      ],
      "metadata": {
        "id": "crrKaX7wgSyq",
        "colab": {
          "base_uri": "https://localhost:8080/"
        },
        "outputId": "2922e233-3396-4f3e-fe45-2aceb23454af"
      },
      "execution_count": 41,
      "outputs": [
        {
          "output_type": "stream",
          "name": "stdout",
          "text": [
            "The nDCG for relevance qrel is:\n",
            "               Tag   nDCG@5\n",
            "0  sparse_pipeline  0.46871 \n",
            "\n",
            "The nDCG for quality qrel is:\n",
            "               Tag    nDCG@5\n",
            "0  sparse_pipeline  0.476255 \n",
            "\n"
          ]
        }
      ]
    },
    {
      "cell_type": "markdown",
      "source": [
        "### Hybrid approach"
      ],
      "metadata": {
        "id": "Jyo-Xhi8gKZN"
      }
    },
    {
      "cell_type": "code",
      "source": [
        "from src.HybridPipeline import HybridPipeline\n",
        "\n",
        "hybrid_pipeline = HybridPipeline('results', 'hybrid_pipeline', sparse_index, dense_index)"
      ],
      "metadata": {
        "id": "1GxAFhhJ_J1M"
      },
      "execution_count": 42,
      "outputs": []
    },
    {
      "cell_type": "code",
      "source": [
        "scores_hybrid, ndcg_hybrid = hybrid_pipeline.compute_results(\n",
        "                                ['downloads/relevance.qrels', 'downloads/quality.qrels'],\n",
        "                                topics, corpus_df, k=700, alpha=0.2, evaluate=True\n",
        "                             )\n",
        "\n",
        "print_ndcg(ndcg_hybrid)"
      ],
      "metadata": {
        "colab": {
          "base_uri": "https://localhost:8080/"
        },
        "id": "SIyOmRoV_b3h",
        "outputId": "e326e811-9780-47c0-eaad-8a4ff25afe1c"
      },
      "execution_count": 43,
      "outputs": [
        {
          "output_type": "stream",
          "name": "stdout",
          "text": [
            "The nDCG for relevance qrel is:\n",
            "               Tag    nDCG@5\n",
            "0  hybrid_pipeline  0.613824 \n",
            "\n",
            "The nDCG for quality qrel is:\n",
            "               Tag    nDCG@5\n",
            "0  hybrid_pipeline  0.646737 \n",
            "\n"
          ]
        }
      ]
    }
  ],
  "metadata": {
    "kernelspec": {
      "display_name": "pysci",
      "language": "python",
      "name": "python3"
    },
    "language_info": {
      "codemirror_mode": {
        "name": "ipython",
        "version": 3
      },
      "file_extension": ".py",
      "mimetype": "text/x-python",
      "name": "python",
      "nbconvert_exporter": "python",
      "pygments_lexer": "ipython3",
      "version": "3.10.6"
    },
    "orig_nbformat": 4,
    "vscode": {
      "interpreter": {
        "hash": "bd4d4dc071430cb7377eda019ca70777a2da1723ff9a3eacefae41ce5c18d4b7"
      }
    },
    "colab": {
      "provenance": [],
      "collapsed_sections": [
        "Ih1r3OhnaluW",
        "-ZgAMxoJThhV",
        "nfe-OtFNa4IY",
        "-ePDrcVma8Vn",
        "HgxWH2KYa-3G",
        "HIGPvzcZbFZW",
        "7xmUW0NoXRZd",
        "vW5iieF7rC1u",
        "9Ellnnu036RP",
        "idAF-tsbcrny",
        "wK3OddNki_Wi",
        "u60micrmYGnA",
        "G8du8Ze304ka",
        "wU_vDwC21zNO",
        "-_eDWy3bnMkC",
        "vfxJeYX_gNS_"
      ]
    },
    "gpuClass": "standard",
    "widgets": {
      "application/vnd.jupyter.widget-state+json": {
        "c153d4ad223e4913a1b1522e2d9841f3": {
          "model_module": "@jupyter-widgets/controls",
          "model_name": "HBoxModel",
          "model_module_version": "1.5.0",
          "state": {
            "_dom_classes": [],
            "_model_module": "@jupyter-widgets/controls",
            "_model_module_version": "1.5.0",
            "_model_name": "HBoxModel",
            "_view_count": null,
            "_view_module": "@jupyter-widgets/controls",
            "_view_module_version": "1.5.0",
            "_view_name": "HBoxView",
            "box_style": "",
            "children": [
              "IPY_MODEL_c9d0d188d7fb4ac3a3bae0613198d245",
              "IPY_MODEL_24a2bd5cc7a243d881c61aabd8ca238a",
              "IPY_MODEL_6341c451a7aa4dc29047016cf3c1f9da"
            ],
            "layout": "IPY_MODEL_603cd63c6e75422f893116f65319c85d"
          }
        },
        "c9d0d188d7fb4ac3a3bae0613198d245": {
          "model_module": "@jupyter-widgets/controls",
          "model_name": "HTMLModel",
          "model_module_version": "1.5.0",
          "state": {
            "_dom_classes": [],
            "_model_module": "@jupyter-widgets/controls",
            "_model_module_version": "1.5.0",
            "_model_name": "HTMLModel",
            "_view_count": null,
            "_view_module": "@jupyter-widgets/controls",
            "_view_module_version": "1.5.0",
            "_view_name": "HTMLView",
            "description": "",
            "description_tooltip": null,
            "layout": "IPY_MODEL_502021d61a2343f4af1932fab77ed38f",
            "placeholder": "​",
            "style": "IPY_MODEL_0347a2552d1c4df78273d9cc1359ce04",
            "value": "100%"
          }
        },
        "24a2bd5cc7a243d881c61aabd8ca238a": {
          "model_module": "@jupyter-widgets/controls",
          "model_name": "FloatProgressModel",
          "model_module_version": "1.5.0",
          "state": {
            "_dom_classes": [],
            "_model_module": "@jupyter-widgets/controls",
            "_model_module_version": "1.5.0",
            "_model_name": "FloatProgressModel",
            "_view_count": null,
            "_view_module": "@jupyter-widgets/controls",
            "_view_module_version": "1.5.0",
            "_view_name": "ProgressView",
            "bar_style": "success",
            "description": "",
            "description_tooltip": null,
            "layout": "IPY_MODEL_50647ea200b34737a5f2e514ac875c4b",
            "max": 868655,
            "min": 0,
            "orientation": "horizontal",
            "style": "IPY_MODEL_ecdb564eaaa14c58980f67f759caca79",
            "value": 868655
          }
        },
        "6341c451a7aa4dc29047016cf3c1f9da": {
          "model_module": "@jupyter-widgets/controls",
          "model_name": "HTMLModel",
          "model_module_version": "1.5.0",
          "state": {
            "_dom_classes": [],
            "_model_module": "@jupyter-widgets/controls",
            "_model_module_version": "1.5.0",
            "_model_name": "HTMLModel",
            "_view_count": null,
            "_view_module": "@jupyter-widgets/controls",
            "_view_module_version": "1.5.0",
            "_view_name": "HTMLView",
            "description": "",
            "description_tooltip": null,
            "layout": "IPY_MODEL_08cddd10f91d4c99af8037f2e3d9f0e1",
            "placeholder": "​",
            "style": "IPY_MODEL_e37993afc9b5439f91f20fc311d8737d",
            "value": " 868655/868655 [01:07&lt;00:00, 13700.46it/s]"
          }
        },
        "603cd63c6e75422f893116f65319c85d": {
          "model_module": "@jupyter-widgets/base",
          "model_name": "LayoutModel",
          "model_module_version": "1.2.0",
          "state": {
            "_model_module": "@jupyter-widgets/base",
            "_model_module_version": "1.2.0",
            "_model_name": "LayoutModel",
            "_view_count": null,
            "_view_module": "@jupyter-widgets/base",
            "_view_module_version": "1.2.0",
            "_view_name": "LayoutView",
            "align_content": null,
            "align_items": null,
            "align_self": null,
            "border": null,
            "bottom": null,
            "display": null,
            "flex": null,
            "flex_flow": null,
            "grid_area": null,
            "grid_auto_columns": null,
            "grid_auto_flow": null,
            "grid_auto_rows": null,
            "grid_column": null,
            "grid_gap": null,
            "grid_row": null,
            "grid_template_areas": null,
            "grid_template_columns": null,
            "grid_template_rows": null,
            "height": null,
            "justify_content": null,
            "justify_items": null,
            "left": null,
            "margin": null,
            "max_height": null,
            "max_width": null,
            "min_height": null,
            "min_width": null,
            "object_fit": null,
            "object_position": null,
            "order": null,
            "overflow": null,
            "overflow_x": null,
            "overflow_y": null,
            "padding": null,
            "right": null,
            "top": null,
            "visibility": null,
            "width": null
          }
        },
        "502021d61a2343f4af1932fab77ed38f": {
          "model_module": "@jupyter-widgets/base",
          "model_name": "LayoutModel",
          "model_module_version": "1.2.0",
          "state": {
            "_model_module": "@jupyter-widgets/base",
            "_model_module_version": "1.2.0",
            "_model_name": "LayoutModel",
            "_view_count": null,
            "_view_module": "@jupyter-widgets/base",
            "_view_module_version": "1.2.0",
            "_view_name": "LayoutView",
            "align_content": null,
            "align_items": null,
            "align_self": null,
            "border": null,
            "bottom": null,
            "display": null,
            "flex": null,
            "flex_flow": null,
            "grid_area": null,
            "grid_auto_columns": null,
            "grid_auto_flow": null,
            "grid_auto_rows": null,
            "grid_column": null,
            "grid_gap": null,
            "grid_row": null,
            "grid_template_areas": null,
            "grid_template_columns": null,
            "grid_template_rows": null,
            "height": null,
            "justify_content": null,
            "justify_items": null,
            "left": null,
            "margin": null,
            "max_height": null,
            "max_width": null,
            "min_height": null,
            "min_width": null,
            "object_fit": null,
            "object_position": null,
            "order": null,
            "overflow": null,
            "overflow_x": null,
            "overflow_y": null,
            "padding": null,
            "right": null,
            "top": null,
            "visibility": null,
            "width": null
          }
        },
        "0347a2552d1c4df78273d9cc1359ce04": {
          "model_module": "@jupyter-widgets/controls",
          "model_name": "DescriptionStyleModel",
          "model_module_version": "1.5.0",
          "state": {
            "_model_module": "@jupyter-widgets/controls",
            "_model_module_version": "1.5.0",
            "_model_name": "DescriptionStyleModel",
            "_view_count": null,
            "_view_module": "@jupyter-widgets/base",
            "_view_module_version": "1.2.0",
            "_view_name": "StyleView",
            "description_width": ""
          }
        },
        "50647ea200b34737a5f2e514ac875c4b": {
          "model_module": "@jupyter-widgets/base",
          "model_name": "LayoutModel",
          "model_module_version": "1.2.0",
          "state": {
            "_model_module": "@jupyter-widgets/base",
            "_model_module_version": "1.2.0",
            "_model_name": "LayoutModel",
            "_view_count": null,
            "_view_module": "@jupyter-widgets/base",
            "_view_module_version": "1.2.0",
            "_view_name": "LayoutView",
            "align_content": null,
            "align_items": null,
            "align_self": null,
            "border": null,
            "bottom": null,
            "display": null,
            "flex": null,
            "flex_flow": null,
            "grid_area": null,
            "grid_auto_columns": null,
            "grid_auto_flow": null,
            "grid_auto_rows": null,
            "grid_column": null,
            "grid_gap": null,
            "grid_row": null,
            "grid_template_areas": null,
            "grid_template_columns": null,
            "grid_template_rows": null,
            "height": null,
            "justify_content": null,
            "justify_items": null,
            "left": null,
            "margin": null,
            "max_height": null,
            "max_width": null,
            "min_height": null,
            "min_width": null,
            "object_fit": null,
            "object_position": null,
            "order": null,
            "overflow": null,
            "overflow_x": null,
            "overflow_y": null,
            "padding": null,
            "right": null,
            "top": null,
            "visibility": null,
            "width": null
          }
        },
        "ecdb564eaaa14c58980f67f759caca79": {
          "model_module": "@jupyter-widgets/controls",
          "model_name": "ProgressStyleModel",
          "model_module_version": "1.5.0",
          "state": {
            "_model_module": "@jupyter-widgets/controls",
            "_model_module_version": "1.5.0",
            "_model_name": "ProgressStyleModel",
            "_view_count": null,
            "_view_module": "@jupyter-widgets/base",
            "_view_module_version": "1.2.0",
            "_view_name": "StyleView",
            "bar_color": null,
            "description_width": ""
          }
        },
        "08cddd10f91d4c99af8037f2e3d9f0e1": {
          "model_module": "@jupyter-widgets/base",
          "model_name": "LayoutModel",
          "model_module_version": "1.2.0",
          "state": {
            "_model_module": "@jupyter-widgets/base",
            "_model_module_version": "1.2.0",
            "_model_name": "LayoutModel",
            "_view_count": null,
            "_view_module": "@jupyter-widgets/base",
            "_view_module_version": "1.2.0",
            "_view_name": "LayoutView",
            "align_content": null,
            "align_items": null,
            "align_self": null,
            "border": null,
            "bottom": null,
            "display": null,
            "flex": null,
            "flex_flow": null,
            "grid_area": null,
            "grid_auto_columns": null,
            "grid_auto_flow": null,
            "grid_auto_rows": null,
            "grid_column": null,
            "grid_gap": null,
            "grid_row": null,
            "grid_template_areas": null,
            "grid_template_columns": null,
            "grid_template_rows": null,
            "height": null,
            "justify_content": null,
            "justify_items": null,
            "left": null,
            "margin": null,
            "max_height": null,
            "max_width": null,
            "min_height": null,
            "min_width": null,
            "object_fit": null,
            "object_position": null,
            "order": null,
            "overflow": null,
            "overflow_x": null,
            "overflow_y": null,
            "padding": null,
            "right": null,
            "top": null,
            "visibility": null,
            "width": null
          }
        },
        "e37993afc9b5439f91f20fc311d8737d": {
          "model_module": "@jupyter-widgets/controls",
          "model_name": "DescriptionStyleModel",
          "model_module_version": "1.5.0",
          "state": {
            "_model_module": "@jupyter-widgets/controls",
            "_model_module_version": "1.5.0",
            "_model_name": "DescriptionStyleModel",
            "_view_count": null,
            "_view_module": "@jupyter-widgets/base",
            "_view_module_version": "1.2.0",
            "_view_name": "StyleView",
            "description_width": ""
          }
        },
        "05d1e07140ff43f0977b5cb4afbd8be1": {
          "model_module": "@jupyter-widgets/controls",
          "model_name": "HBoxModel",
          "model_module_version": "1.5.0",
          "state": {
            "_dom_classes": [],
            "_model_module": "@jupyter-widgets/controls",
            "_model_module_version": "1.5.0",
            "_model_name": "HBoxModel",
            "_view_count": null,
            "_view_module": "@jupyter-widgets/controls",
            "_view_module_version": "1.5.0",
            "_view_name": "HBoxView",
            "box_style": "",
            "children": [
              "IPY_MODEL_294733cbb9544e78a2b696fb0e7c94a9",
              "IPY_MODEL_5c2a083fe864458dbd0404d569f710c9",
              "IPY_MODEL_86b8fa233bc64d92833754c8bbf3ca90"
            ],
            "layout": "IPY_MODEL_1a447a26f4c948468186797a6ad91267"
          }
        },
        "294733cbb9544e78a2b696fb0e7c94a9": {
          "model_module": "@jupyter-widgets/controls",
          "model_name": "HTMLModel",
          "model_module_version": "1.5.0",
          "state": {
            "_dom_classes": [],
            "_model_module": "@jupyter-widgets/controls",
            "_model_module_version": "1.5.0",
            "_model_name": "HTMLModel",
            "_view_count": null,
            "_view_module": "@jupyter-widgets/controls",
            "_view_module_version": "1.5.0",
            "_view_name": "HTMLView",
            "description": "",
            "description_tooltip": null,
            "layout": "IPY_MODEL_89268a8095fe4437a103a734ad8918c0",
            "placeholder": "​",
            "style": "IPY_MODEL_f8d7f86d727e4246853d7edc9dde1729",
            "value": "100%"
          }
        },
        "5c2a083fe864458dbd0404d569f710c9": {
          "model_module": "@jupyter-widgets/controls",
          "model_name": "FloatProgressModel",
          "model_module_version": "1.5.0",
          "state": {
            "_dom_classes": [],
            "_model_module": "@jupyter-widgets/controls",
            "_model_module_version": "1.5.0",
            "_model_name": "FloatProgressModel",
            "_view_count": null,
            "_view_module": "@jupyter-widgets/controls",
            "_view_module_version": "1.5.0",
            "_view_name": "ProgressView",
            "bar_style": "success",
            "description": "",
            "description_tooltip": null,
            "layout": "IPY_MODEL_ad81c9f655c044a2b2a4e0df3f58f0d5",
            "max": 868655,
            "min": 0,
            "orientation": "horizontal",
            "style": "IPY_MODEL_7f9993ffeb66491281ee2c522e9c02da",
            "value": 868655
          }
        },
        "86b8fa233bc64d92833754c8bbf3ca90": {
          "model_module": "@jupyter-widgets/controls",
          "model_name": "HTMLModel",
          "model_module_version": "1.5.0",
          "state": {
            "_dom_classes": [],
            "_model_module": "@jupyter-widgets/controls",
            "_model_module_version": "1.5.0",
            "_model_name": "HTMLModel",
            "_view_count": null,
            "_view_module": "@jupyter-widgets/controls",
            "_view_module_version": "1.5.0",
            "_view_name": "HTMLView",
            "description": "",
            "description_tooltip": null,
            "layout": "IPY_MODEL_456f52d8e7c843dca541189c54e1dc88",
            "placeholder": "​",
            "style": "IPY_MODEL_064b28b155314eb09e467bf4b7b70111",
            "value": " 868655/868655 [03:15&lt;00:00, 2201.39it/s]"
          }
        },
        "1a447a26f4c948468186797a6ad91267": {
          "model_module": "@jupyter-widgets/base",
          "model_name": "LayoutModel",
          "model_module_version": "1.2.0",
          "state": {
            "_model_module": "@jupyter-widgets/base",
            "_model_module_version": "1.2.0",
            "_model_name": "LayoutModel",
            "_view_count": null,
            "_view_module": "@jupyter-widgets/base",
            "_view_module_version": "1.2.0",
            "_view_name": "LayoutView",
            "align_content": null,
            "align_items": null,
            "align_self": null,
            "border": null,
            "bottom": null,
            "display": null,
            "flex": null,
            "flex_flow": null,
            "grid_area": null,
            "grid_auto_columns": null,
            "grid_auto_flow": null,
            "grid_auto_rows": null,
            "grid_column": null,
            "grid_gap": null,
            "grid_row": null,
            "grid_template_areas": null,
            "grid_template_columns": null,
            "grid_template_rows": null,
            "height": null,
            "justify_content": null,
            "justify_items": null,
            "left": null,
            "margin": null,
            "max_height": null,
            "max_width": null,
            "min_height": null,
            "min_width": null,
            "object_fit": null,
            "object_position": null,
            "order": null,
            "overflow": null,
            "overflow_x": null,
            "overflow_y": null,
            "padding": null,
            "right": null,
            "top": null,
            "visibility": null,
            "width": null
          }
        },
        "89268a8095fe4437a103a734ad8918c0": {
          "model_module": "@jupyter-widgets/base",
          "model_name": "LayoutModel",
          "model_module_version": "1.2.0",
          "state": {
            "_model_module": "@jupyter-widgets/base",
            "_model_module_version": "1.2.0",
            "_model_name": "LayoutModel",
            "_view_count": null,
            "_view_module": "@jupyter-widgets/base",
            "_view_module_version": "1.2.0",
            "_view_name": "LayoutView",
            "align_content": null,
            "align_items": null,
            "align_self": null,
            "border": null,
            "bottom": null,
            "display": null,
            "flex": null,
            "flex_flow": null,
            "grid_area": null,
            "grid_auto_columns": null,
            "grid_auto_flow": null,
            "grid_auto_rows": null,
            "grid_column": null,
            "grid_gap": null,
            "grid_row": null,
            "grid_template_areas": null,
            "grid_template_columns": null,
            "grid_template_rows": null,
            "height": null,
            "justify_content": null,
            "justify_items": null,
            "left": null,
            "margin": null,
            "max_height": null,
            "max_width": null,
            "min_height": null,
            "min_width": null,
            "object_fit": null,
            "object_position": null,
            "order": null,
            "overflow": null,
            "overflow_x": null,
            "overflow_y": null,
            "padding": null,
            "right": null,
            "top": null,
            "visibility": null,
            "width": null
          }
        },
        "f8d7f86d727e4246853d7edc9dde1729": {
          "model_module": "@jupyter-widgets/controls",
          "model_name": "DescriptionStyleModel",
          "model_module_version": "1.5.0",
          "state": {
            "_model_module": "@jupyter-widgets/controls",
            "_model_module_version": "1.5.0",
            "_model_name": "DescriptionStyleModel",
            "_view_count": null,
            "_view_module": "@jupyter-widgets/base",
            "_view_module_version": "1.2.0",
            "_view_name": "StyleView",
            "description_width": ""
          }
        },
        "ad81c9f655c044a2b2a4e0df3f58f0d5": {
          "model_module": "@jupyter-widgets/base",
          "model_name": "LayoutModel",
          "model_module_version": "1.2.0",
          "state": {
            "_model_module": "@jupyter-widgets/base",
            "_model_module_version": "1.2.0",
            "_model_name": "LayoutModel",
            "_view_count": null,
            "_view_module": "@jupyter-widgets/base",
            "_view_module_version": "1.2.0",
            "_view_name": "LayoutView",
            "align_content": null,
            "align_items": null,
            "align_self": null,
            "border": null,
            "bottom": null,
            "display": null,
            "flex": null,
            "flex_flow": null,
            "grid_area": null,
            "grid_auto_columns": null,
            "grid_auto_flow": null,
            "grid_auto_rows": null,
            "grid_column": null,
            "grid_gap": null,
            "grid_row": null,
            "grid_template_areas": null,
            "grid_template_columns": null,
            "grid_template_rows": null,
            "height": null,
            "justify_content": null,
            "justify_items": null,
            "left": null,
            "margin": null,
            "max_height": null,
            "max_width": null,
            "min_height": null,
            "min_width": null,
            "object_fit": null,
            "object_position": null,
            "order": null,
            "overflow": null,
            "overflow_x": null,
            "overflow_y": null,
            "padding": null,
            "right": null,
            "top": null,
            "visibility": null,
            "width": null
          }
        },
        "7f9993ffeb66491281ee2c522e9c02da": {
          "model_module": "@jupyter-widgets/controls",
          "model_name": "ProgressStyleModel",
          "model_module_version": "1.5.0",
          "state": {
            "_model_module": "@jupyter-widgets/controls",
            "_model_module_version": "1.5.0",
            "_model_name": "ProgressStyleModel",
            "_view_count": null,
            "_view_module": "@jupyter-widgets/base",
            "_view_module_version": "1.2.0",
            "_view_name": "StyleView",
            "bar_color": null,
            "description_width": ""
          }
        },
        "456f52d8e7c843dca541189c54e1dc88": {
          "model_module": "@jupyter-widgets/base",
          "model_name": "LayoutModel",
          "model_module_version": "1.2.0",
          "state": {
            "_model_module": "@jupyter-widgets/base",
            "_model_module_version": "1.2.0",
            "_model_name": "LayoutModel",
            "_view_count": null,
            "_view_module": "@jupyter-widgets/base",
            "_view_module_version": "1.2.0",
            "_view_name": "LayoutView",
            "align_content": null,
            "align_items": null,
            "align_self": null,
            "border": null,
            "bottom": null,
            "display": null,
            "flex": null,
            "flex_flow": null,
            "grid_area": null,
            "grid_auto_columns": null,
            "grid_auto_flow": null,
            "grid_auto_rows": null,
            "grid_column": null,
            "grid_gap": null,
            "grid_row": null,
            "grid_template_areas": null,
            "grid_template_columns": null,
            "grid_template_rows": null,
            "height": null,
            "justify_content": null,
            "justify_items": null,
            "left": null,
            "margin": null,
            "max_height": null,
            "max_width": null,
            "min_height": null,
            "min_width": null,
            "object_fit": null,
            "object_position": null,
            "order": null,
            "overflow": null,
            "overflow_x": null,
            "overflow_y": null,
            "padding": null,
            "right": null,
            "top": null,
            "visibility": null,
            "width": null
          }
        },
        "064b28b155314eb09e467bf4b7b70111": {
          "model_module": "@jupyter-widgets/controls",
          "model_name": "DescriptionStyleModel",
          "model_module_version": "1.5.0",
          "state": {
            "_model_module": "@jupyter-widgets/controls",
            "_model_module_version": "1.5.0",
            "_model_name": "DescriptionStyleModel",
            "_view_count": null,
            "_view_module": "@jupyter-widgets/base",
            "_view_module_version": "1.2.0",
            "_view_name": "StyleView",
            "description_width": ""
          }
        },
        "2141abf143a943a9b99eb3b84a7fe208": {
          "model_module": "@jupyter-widgets/controls",
          "model_name": "HBoxModel",
          "model_module_version": "1.5.0",
          "state": {
            "_dom_classes": [],
            "_model_module": "@jupyter-widgets/controls",
            "_model_module_version": "1.5.0",
            "_model_name": "HBoxModel",
            "_view_count": null,
            "_view_module": "@jupyter-widgets/controls",
            "_view_module_version": "1.5.0",
            "_view_name": "HBoxView",
            "box_style": "",
            "children": [
              "IPY_MODEL_5ea0dc01e7104144a591936ebd462b04",
              "IPY_MODEL_b40c38c9c7b64ace9ca58bfb62a6e6a4",
              "IPY_MODEL_bd671f20cfd3414b878eacdaca64dd1b"
            ],
            "layout": "IPY_MODEL_79febe29234b4af3884f51700106f6be"
          }
        },
        "5ea0dc01e7104144a591936ebd462b04": {
          "model_module": "@jupyter-widgets/controls",
          "model_name": "HTMLModel",
          "model_module_version": "1.5.0",
          "state": {
            "_dom_classes": [],
            "_model_module": "@jupyter-widgets/controls",
            "_model_module_version": "1.5.0",
            "_model_name": "HTMLModel",
            "_view_count": null,
            "_view_module": "@jupyter-widgets/controls",
            "_view_module_version": "1.5.0",
            "_view_name": "HTMLView",
            "description": "",
            "description_tooltip": null,
            "layout": "IPY_MODEL_049d90c45ca54ea5a1a6ca78bd2aeacc",
            "placeholder": "​",
            "style": "IPY_MODEL_ae378b4f7e864b6e81e46f66410ca9da",
            "value": "100%"
          }
        },
        "b40c38c9c7b64ace9ca58bfb62a6e6a4": {
          "model_module": "@jupyter-widgets/controls",
          "model_name": "FloatProgressModel",
          "model_module_version": "1.5.0",
          "state": {
            "_dom_classes": [],
            "_model_module": "@jupyter-widgets/controls",
            "_model_module_version": "1.5.0",
            "_model_name": "FloatProgressModel",
            "_view_count": null,
            "_view_module": "@jupyter-widgets/controls",
            "_view_module_version": "1.5.0",
            "_view_name": "ProgressView",
            "bar_style": "success",
            "description": "",
            "description_tooltip": null,
            "layout": "IPY_MODEL_429711c917e04839afb88545aafac619",
            "max": 868655,
            "min": 0,
            "orientation": "horizontal",
            "style": "IPY_MODEL_428a5ee8ef5b4467a376cd67fdab6e83",
            "value": 868655
          }
        },
        "bd671f20cfd3414b878eacdaca64dd1b": {
          "model_module": "@jupyter-widgets/controls",
          "model_name": "HTMLModel",
          "model_module_version": "1.5.0",
          "state": {
            "_dom_classes": [],
            "_model_module": "@jupyter-widgets/controls",
            "_model_module_version": "1.5.0",
            "_model_name": "HTMLModel",
            "_view_count": null,
            "_view_module": "@jupyter-widgets/controls",
            "_view_module_version": "1.5.0",
            "_view_name": "HTMLView",
            "description": "",
            "description_tooltip": null,
            "layout": "IPY_MODEL_b83e079216ca4308998f85c9c04d755c",
            "placeholder": "​",
            "style": "IPY_MODEL_ddaf92e2828f4d6c8d7c06fb85b603eb",
            "value": " 868655/868655 [3:09:56&lt;00:00, 77.30it/s]"
          }
        },
        "79febe29234b4af3884f51700106f6be": {
          "model_module": "@jupyter-widgets/base",
          "model_name": "LayoutModel",
          "model_module_version": "1.2.0",
          "state": {
            "_model_module": "@jupyter-widgets/base",
            "_model_module_version": "1.2.0",
            "_model_name": "LayoutModel",
            "_view_count": null,
            "_view_module": "@jupyter-widgets/base",
            "_view_module_version": "1.2.0",
            "_view_name": "LayoutView",
            "align_content": null,
            "align_items": null,
            "align_self": null,
            "border": null,
            "bottom": null,
            "display": null,
            "flex": null,
            "flex_flow": null,
            "grid_area": null,
            "grid_auto_columns": null,
            "grid_auto_flow": null,
            "grid_auto_rows": null,
            "grid_column": null,
            "grid_gap": null,
            "grid_row": null,
            "grid_template_areas": null,
            "grid_template_columns": null,
            "grid_template_rows": null,
            "height": null,
            "justify_content": null,
            "justify_items": null,
            "left": null,
            "margin": null,
            "max_height": null,
            "max_width": null,
            "min_height": null,
            "min_width": null,
            "object_fit": null,
            "object_position": null,
            "order": null,
            "overflow": null,
            "overflow_x": null,
            "overflow_y": null,
            "padding": null,
            "right": null,
            "top": null,
            "visibility": null,
            "width": null
          }
        },
        "049d90c45ca54ea5a1a6ca78bd2aeacc": {
          "model_module": "@jupyter-widgets/base",
          "model_name": "LayoutModel",
          "model_module_version": "1.2.0",
          "state": {
            "_model_module": "@jupyter-widgets/base",
            "_model_module_version": "1.2.0",
            "_model_name": "LayoutModel",
            "_view_count": null,
            "_view_module": "@jupyter-widgets/base",
            "_view_module_version": "1.2.0",
            "_view_name": "LayoutView",
            "align_content": null,
            "align_items": null,
            "align_self": null,
            "border": null,
            "bottom": null,
            "display": null,
            "flex": null,
            "flex_flow": null,
            "grid_area": null,
            "grid_auto_columns": null,
            "grid_auto_flow": null,
            "grid_auto_rows": null,
            "grid_column": null,
            "grid_gap": null,
            "grid_row": null,
            "grid_template_areas": null,
            "grid_template_columns": null,
            "grid_template_rows": null,
            "height": null,
            "justify_content": null,
            "justify_items": null,
            "left": null,
            "margin": null,
            "max_height": null,
            "max_width": null,
            "min_height": null,
            "min_width": null,
            "object_fit": null,
            "object_position": null,
            "order": null,
            "overflow": null,
            "overflow_x": null,
            "overflow_y": null,
            "padding": null,
            "right": null,
            "top": null,
            "visibility": null,
            "width": null
          }
        },
        "ae378b4f7e864b6e81e46f66410ca9da": {
          "model_module": "@jupyter-widgets/controls",
          "model_name": "DescriptionStyleModel",
          "model_module_version": "1.5.0",
          "state": {
            "_model_module": "@jupyter-widgets/controls",
            "_model_module_version": "1.5.0",
            "_model_name": "DescriptionStyleModel",
            "_view_count": null,
            "_view_module": "@jupyter-widgets/base",
            "_view_module_version": "1.2.0",
            "_view_name": "StyleView",
            "description_width": ""
          }
        },
        "429711c917e04839afb88545aafac619": {
          "model_module": "@jupyter-widgets/base",
          "model_name": "LayoutModel",
          "model_module_version": "1.2.0",
          "state": {
            "_model_module": "@jupyter-widgets/base",
            "_model_module_version": "1.2.0",
            "_model_name": "LayoutModel",
            "_view_count": null,
            "_view_module": "@jupyter-widgets/base",
            "_view_module_version": "1.2.0",
            "_view_name": "LayoutView",
            "align_content": null,
            "align_items": null,
            "align_self": null,
            "border": null,
            "bottom": null,
            "display": null,
            "flex": null,
            "flex_flow": null,
            "grid_area": null,
            "grid_auto_columns": null,
            "grid_auto_flow": null,
            "grid_auto_rows": null,
            "grid_column": null,
            "grid_gap": null,
            "grid_row": null,
            "grid_template_areas": null,
            "grid_template_columns": null,
            "grid_template_rows": null,
            "height": null,
            "justify_content": null,
            "justify_items": null,
            "left": null,
            "margin": null,
            "max_height": null,
            "max_width": null,
            "min_height": null,
            "min_width": null,
            "object_fit": null,
            "object_position": null,
            "order": null,
            "overflow": null,
            "overflow_x": null,
            "overflow_y": null,
            "padding": null,
            "right": null,
            "top": null,
            "visibility": null,
            "width": null
          }
        },
        "428a5ee8ef5b4467a376cd67fdab6e83": {
          "model_module": "@jupyter-widgets/controls",
          "model_name": "ProgressStyleModel",
          "model_module_version": "1.5.0",
          "state": {
            "_model_module": "@jupyter-widgets/controls",
            "_model_module_version": "1.5.0",
            "_model_name": "ProgressStyleModel",
            "_view_count": null,
            "_view_module": "@jupyter-widgets/base",
            "_view_module_version": "1.2.0",
            "_view_name": "StyleView",
            "bar_color": null,
            "description_width": ""
          }
        },
        "b83e079216ca4308998f85c9c04d755c": {
          "model_module": "@jupyter-widgets/base",
          "model_name": "LayoutModel",
          "model_module_version": "1.2.0",
          "state": {
            "_model_module": "@jupyter-widgets/base",
            "_model_module_version": "1.2.0",
            "_model_name": "LayoutModel",
            "_view_count": null,
            "_view_module": "@jupyter-widgets/base",
            "_view_module_version": "1.2.0",
            "_view_name": "LayoutView",
            "align_content": null,
            "align_items": null,
            "align_self": null,
            "border": null,
            "bottom": null,
            "display": null,
            "flex": null,
            "flex_flow": null,
            "grid_area": null,
            "grid_auto_columns": null,
            "grid_auto_flow": null,
            "grid_auto_rows": null,
            "grid_column": null,
            "grid_gap": null,
            "grid_row": null,
            "grid_template_areas": null,
            "grid_template_columns": null,
            "grid_template_rows": null,
            "height": null,
            "justify_content": null,
            "justify_items": null,
            "left": null,
            "margin": null,
            "max_height": null,
            "max_width": null,
            "min_height": null,
            "min_width": null,
            "object_fit": null,
            "object_position": null,
            "order": null,
            "overflow": null,
            "overflow_x": null,
            "overflow_y": null,
            "padding": null,
            "right": null,
            "top": null,
            "visibility": null,
            "width": null
          }
        },
        "ddaf92e2828f4d6c8d7c06fb85b603eb": {
          "model_module": "@jupyter-widgets/controls",
          "model_name": "DescriptionStyleModel",
          "model_module_version": "1.5.0",
          "state": {
            "_model_module": "@jupyter-widgets/controls",
            "_model_module_version": "1.5.0",
            "_model_name": "DescriptionStyleModel",
            "_view_count": null,
            "_view_module": "@jupyter-widgets/base",
            "_view_module_version": "1.2.0",
            "_view_name": "StyleView",
            "description_width": ""
          }
        }
      }
    }
  },
  "nbformat": 4,
  "nbformat_minor": 0
}