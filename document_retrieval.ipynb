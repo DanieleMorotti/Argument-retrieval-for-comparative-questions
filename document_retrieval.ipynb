{
  "cells": [
    {
      "cell_type": "markdown",
      "metadata": {
        "id": "NqL8WcUVaozw"
      },
      "source": [
        "# Document retrieval"
      ]
    },
    {
      "cell_type": "code",
      "execution_count": 1,
      "metadata": {
        "id": "-8k-JaQS2HKz"
      },
      "outputs": [],
      "source": [
        "%load_ext autoreload\n",
        "%autoreload 2"
      ]
    },
    {
      "cell_type": "code",
      "execution_count": 3,
      "metadata": {
        "id": "CerxDpDb2HK3"
      },
      "outputs": [],
      "source": [
        "import os\n",
        "import re\n",
        "\n",
        "import matplotlib.pyplot as plt\n",
        "import numpy as np\n",
        "import pandas as pd\n",
        "\n",
        "import xml.etree.ElementTree as ET\n",
        "\n",
        "import utils.manage_files"
      ]
    },
    {
      "cell_type": "markdown",
      "metadata": {
        "id": "Ih1r3OhnaluW"
      },
      "source": [
        "## Download datasets"
      ]
    },
    {
      "cell_type": "markdown",
      "metadata": {
        "id": "-ZgAMxoJThhV"
      },
      "source": [
        "### Download and exlore the corpus\n",
        "We can dowload as first thing the corpus that we need to use for the task."
      ]
    },
    {
      "cell_type": "code",
      "execution_count": 6,
      "metadata": {
        "colab": {
          "base_uri": "https://localhost:8080/"
        },
        "id": "N7s1OqZ3KzQv",
        "outputId": "2593364c-72c1-417d-8449-0d704aa37d33"
      },
      "outputs": [
        {
          "name": "stderr",
          "output_type": "stream",
          "text": [
            "Downloading file: 100%|██████████| 286M/286M [03:28<00:00, 1.37MB/s]\n"
          ]
        },
        {
          "name": "stdout",
          "output_type": "stream",
          "text": [
            "'/content/downloads/zips/corpus.jsonl.gz' unzipped in '/content/downloads/corpus.jsonl'\n"
          ]
        }
      ],
      "source": [
        "url_corpus = \"https://zenodo.org/record/6802592/files/touche-task2-passages-version-002.jsonl.gz?download=1\"\n",
        "zip_path_corpus = \"corpus.jsonl.gz\"\n",
        "file_path_corpus = \"corpus.jsonl\"\n",
        "\n",
        "download_corpus = utils.manage_files.DownloadFile(file_path_corpus, zip_path_corpus, url_corpus)\n",
        "download_corpus()"
      ]
    },
    {
      "cell_type": "code",
      "execution_count": 7,
      "metadata": {
        "colab": {
          "base_uri": "https://localhost:8080/",
          "height": 206
        },
        "id": "ri_nMZfHUfjd",
        "outputId": "fcde9afd-532b-4b06-dd83-e38c8307a981"
      },
      "outputs": [
        {
          "data": {
            "text/html": [
              "\n",
              "  <div id=\"df-83b97b57-f102-4bc9-be4e-ecf74df3d976\">\n",
              "    <div class=\"colab-df-container\">\n",
              "      <div>\n",
              "<style scoped>\n",
              "    .dataframe tbody tr th:only-of-type {\n",
              "        vertical-align: middle;\n",
              "    }\n",
              "\n",
              "    .dataframe tbody tr th {\n",
              "        vertical-align: top;\n",
              "    }\n",
              "\n",
              "    .dataframe thead th {\n",
              "        text-align: right;\n",
              "    }\n",
              "</style>\n",
              "<table border=\"1\" class=\"dataframe\">\n",
              "  <thead>\n",
              "    <tr style=\"text-align: right;\">\n",
              "      <th></th>\n",
              "      <th>id</th>\n",
              "      <th>contents</th>\n",
              "      <th>chatNoirUrl</th>\n",
              "    </tr>\n",
              "  </thead>\n",
              "  <tbody>\n",
              "    <tr>\n",
              "      <th>0</th>\n",
              "      <td>clueweb12-0000tw-14-21168___1</td>\n",
              "      <td>Shuga: Love, Sex, Money MTV Shuga Home Swag Bl...</td>\n",
              "      <td>https://chatnoir.eu/cache?uuid=f338e91e-a3e9-5...</td>\n",
              "    </tr>\n",
              "    <tr>\n",
              "      <th>1</th>\n",
              "      <td>clueweb12-0000tw-14-21168___2</td>\n",
              "      <td>We LOVE sending #TeamShuga the exclusives. Ban...</td>\n",
              "      <td>https://chatnoir.eu/cache?uuid=f338e91e-a3e9-5...</td>\n",
              "    </tr>\n",
              "    <tr>\n",
              "      <th>2</th>\n",
              "      <td>clueweb12-0000tw-14-21168___3</td>\n",
              "      <td>Now take note.. because you will be seeing a w...</td>\n",
              "      <td>https://chatnoir.eu/cache?uuid=f338e91e-a3e9-5...</td>\n",
              "    </tr>\n",
              "    <tr>\n",
              "      <th>3</th>\n",
              "      <td>clueweb12-0000tw-22-19226___1</td>\n",
              "      <td>Sex and love: The modern matchmakers | The Eco...</td>\n",
              "      <td>https://chatnoir.eu/cache?uuid=2bf4b08d-2f65-5...</td>\n",
              "    </tr>\n",
              "    <tr>\n",
              "      <th>4</th>\n",
              "      <td>clueweb12-0000tw-22-19226___2</td>\n",
              "      <td>But have they? Feb 11th 2012 | from the print ...</td>\n",
              "      <td>https://chatnoir.eu/cache?uuid=2bf4b08d-2f65-5...</td>\n",
              "    </tr>\n",
              "  </tbody>\n",
              "</table>\n",
              "</div>\n",
              "      <button class=\"colab-df-convert\" onclick=\"convertToInteractive('df-83b97b57-f102-4bc9-be4e-ecf74df3d976')\"\n",
              "              title=\"Convert this dataframe to an interactive table.\"\n",
              "              style=\"display:none;\">\n",
              "        \n",
              "  <svg xmlns=\"http://www.w3.org/2000/svg\" height=\"24px\"viewBox=\"0 0 24 24\"\n",
              "       width=\"24px\">\n",
              "    <path d=\"M0 0h24v24H0V0z\" fill=\"none\"/>\n",
              "    <path d=\"M18.56 5.44l.94 2.06.94-2.06 2.06-.94-2.06-.94-.94-2.06-.94 2.06-2.06.94zm-11 1L8.5 8.5l.94-2.06 2.06-.94-2.06-.94L8.5 2.5l-.94 2.06-2.06.94zm10 10l.94 2.06.94-2.06 2.06-.94-2.06-.94-.94-2.06-.94 2.06-2.06.94z\"/><path d=\"M17.41 7.96l-1.37-1.37c-.4-.4-.92-.59-1.43-.59-.52 0-1.04.2-1.43.59L10.3 9.45l-7.72 7.72c-.78.78-.78 2.05 0 2.83L4 21.41c.39.39.9.59 1.41.59.51 0 1.02-.2 1.41-.59l7.78-7.78 2.81-2.81c.8-.78.8-2.07 0-2.86zM5.41 20L4 18.59l7.72-7.72 1.47 1.35L5.41 20z\"/>\n",
              "  </svg>\n",
              "      </button>\n",
              "      \n",
              "  <style>\n",
              "    .colab-df-container {\n",
              "      display:flex;\n",
              "      flex-wrap:wrap;\n",
              "      gap: 12px;\n",
              "    }\n",
              "\n",
              "    .colab-df-convert {\n",
              "      background-color: #E8F0FE;\n",
              "      border: none;\n",
              "      border-radius: 50%;\n",
              "      cursor: pointer;\n",
              "      display: none;\n",
              "      fill: #1967D2;\n",
              "      height: 32px;\n",
              "      padding: 0 0 0 0;\n",
              "      width: 32px;\n",
              "    }\n",
              "\n",
              "    .colab-df-convert:hover {\n",
              "      background-color: #E2EBFA;\n",
              "      box-shadow: 0px 1px 2px rgba(60, 64, 67, 0.3), 0px 1px 3px 1px rgba(60, 64, 67, 0.15);\n",
              "      fill: #174EA6;\n",
              "    }\n",
              "\n",
              "    [theme=dark] .colab-df-convert {\n",
              "      background-color: #3B4455;\n",
              "      fill: #D2E3FC;\n",
              "    }\n",
              "\n",
              "    [theme=dark] .colab-df-convert:hover {\n",
              "      background-color: #434B5C;\n",
              "      box-shadow: 0px 1px 3px 1px rgba(0, 0, 0, 0.15);\n",
              "      filter: drop-shadow(0px 1px 2px rgba(0, 0, 0, 0.3));\n",
              "      fill: #FFFFFF;\n",
              "    }\n",
              "  </style>\n",
              "\n",
              "      <script>\n",
              "        const buttonEl =\n",
              "          document.querySelector('#df-83b97b57-f102-4bc9-be4e-ecf74df3d976 button.colab-df-convert');\n",
              "        buttonEl.style.display =\n",
              "          google.colab.kernel.accessAllowed ? 'block' : 'none';\n",
              "\n",
              "        async function convertToInteractive(key) {\n",
              "          const element = document.querySelector('#df-83b97b57-f102-4bc9-be4e-ecf74df3d976');\n",
              "          const dataTable =\n",
              "            await google.colab.kernel.invokeFunction('convertToInteractive',\n",
              "                                                     [key], {});\n",
              "          if (!dataTable) return;\n",
              "\n",
              "          const docLinkHtml = 'Like what you see? Visit the ' +\n",
              "            '<a target=\"_blank\" href=https://colab.research.google.com/notebooks/data_table.ipynb>data table notebook</a>'\n",
              "            + ' to learn more about interactive tables.';\n",
              "          element.innerHTML = '';\n",
              "          dataTable['output_type'] = 'display_data';\n",
              "          await google.colab.output.renderOutput(dataTable, element);\n",
              "          const docLink = document.createElement('div');\n",
              "          docLink.innerHTML = docLinkHtml;\n",
              "          element.appendChild(docLink);\n",
              "        }\n",
              "      </script>\n",
              "    </div>\n",
              "  </div>\n",
              "  "
            ],
            "text/plain": [
              "                              id  \\\n",
              "0  clueweb12-0000tw-14-21168___1   \n",
              "1  clueweb12-0000tw-14-21168___2   \n",
              "2  clueweb12-0000tw-14-21168___3   \n",
              "3  clueweb12-0000tw-22-19226___1   \n",
              "4  clueweb12-0000tw-22-19226___2   \n",
              "\n",
              "                                            contents  \\\n",
              "0  Shuga: Love, Sex, Money MTV Shuga Home Swag Bl...   \n",
              "1  We LOVE sending #TeamShuga the exclusives. Ban...   \n",
              "2  Now take note.. because you will be seeing a w...   \n",
              "3  Sex and love: The modern matchmakers | The Eco...   \n",
              "4  But have they? Feb 11th 2012 | from the print ...   \n",
              "\n",
              "                                         chatNoirUrl  \n",
              "0  https://chatnoir.eu/cache?uuid=f338e91e-a3e9-5...  \n",
              "1  https://chatnoir.eu/cache?uuid=f338e91e-a3e9-5...  \n",
              "2  https://chatnoir.eu/cache?uuid=f338e91e-a3e9-5...  \n",
              "3  https://chatnoir.eu/cache?uuid=2bf4b08d-2f65-5...  \n",
              "4  https://chatnoir.eu/cache?uuid=2bf4b08d-2f65-5...  "
            ]
          },
          "execution_count": 7,
          "metadata": {},
          "output_type": "execute_result"
        }
      ],
      "source": [
        "corpus_df = pd.read_json(download_corpus.file_name, lines=True)\n",
        "corpus_df.head()"
      ]
    },
    {
      "cell_type": "markdown",
      "metadata": {
        "id": "nfe-OtFNa4IY"
      },
      "source": [
        "### Download other datasets"
      ]
    },
    {
      "cell_type": "markdown",
      "metadata": {
        "id": "qO6Rnxe7VGuy"
      },
      "source": [
        "At this point we can download:\n",
        "- the list of topics to retrieve all the titles;\n",
        "- the relevance qrels file;\n",
        "- the quality qrels file.\n",
        "\n",
        "The last 2 files contain a relevance and quality scores, associated to a list of documents, with respect to a certain topic.\n",
        "\n",
        "The structure of a .qrels file is:   \n",
        "TOPIC 0 DOC_ID SCORE\n",
        "\n",
        "We can use these data to train our document retrieval model on labeled data from past years."
      ]
    },
    {
      "cell_type": "markdown",
      "metadata": {
        "id": "-ePDrcVma8Vn"
      },
      "source": [
        "#### Topics"
      ]
    },
    {
      "cell_type": "code",
      "execution_count": 10,
      "metadata": {
        "colab": {
          "base_uri": "https://localhost:8080/"
        },
        "id": "Qm7ZqmKIUeWC",
        "outputId": "58ca476c-f695-49ad-8409-350043855c14"
      },
      "outputs": [
        {
          "name": "stdout",
          "output_type": "stream",
          "text": [
            "'/content/downloads/topics-task-2-50' already present\n",
            "'/content/downloads/topics-task-2-100' already present\n"
          ]
        }
      ],
      "source": [
        "# Download and parse the xml file of the topics\n",
        "url_topics_50 = \"https://zenodo.org/record/6873559/files/topics-task-2.zip?download=1\"\n",
        "zip_path_topics_50 = \"topics-task-2-50.zip\"\n",
        "file_path_topics_50 = \"topics-task-2-50\"\n",
        "\n",
        "url_topics_100 = \"https://zenodo.org/record/6873565/files/topics-task-2-2021.zip?download=1\"\n",
        "zip_path_topics_100 = \"topics-task-2-100.zip\"\n",
        "file_path_topics_100 = \"topics-task-2-100\"\n",
        "\n",
        "download_topics_50 = utils.manage_files.DownloadFile(file_path_topics_50, zip_path_topics_50, url_topics_50)\n",
        "download_topics_50()\n",
        "\n",
        "download_topics_100 = utils.manage_files.DownloadFile(file_path_topics_100, zip_path_topics_100, url_topics_100)\n",
        "download_topics_100()\n",
        "\n",
        "# First 50 topics\n",
        "mytree = ET.parse(f\"{download_topics_50.file_name}/topics-task-2.xml\")\n",
        "myroot = mytree.getroot()\n",
        "topics = list()\n",
        "for item in myroot:\n",
        "    for x in item:        \n",
        "        if x.tag == \"title\": # Specify the field, e.g., title\n",
        "            topics.append(x.text.strip())\n",
        "\n",
        "# Last 50 topics\n",
        "mytree = ET.parse(f\"{download_topics_100.file_name}/topics-task2-51-100.xml\")\n",
        "myroot = mytree.getroot()\n",
        "for item in myroot:\n",
        "    for x in item:        \n",
        "        if x.tag == \"title\": # Specify the field, e.g., title\n",
        "            topics.append(x.text.strip())"
      ]
    },
    {
      "cell_type": "code",
      "execution_count": 11,
      "metadata": {
        "colab": {
          "base_uri": "https://localhost:8080/"
        },
        "id": "XfeEREZBK4zT",
        "outputId": "e72f460e-e816-4055-fb36-54b6de70a8d9"
      },
      "outputs": [
        {
          "name": "stdout",
          "output_type": "stream",
          "text": [
            "There are 100 topics.\n",
            "['What is the difference between sex and love?', 'Which is better, a laptop or a desktop?', 'Which is better, Canon or Nikon?', 'What are the best dish detergents?', 'What are the best cities to live in?', 'What is the longest river in the U.S.?', 'Which is healthiest: coffee, green tea or black tea and why?', 'What are the advantages and disadvantages of PHP over Python and vice versa?', 'Why is Linux better than Windows?', 'How to sleep better?', 'Should I buy an LCD TV or a plasma TV?', 'Train or plane? Which is the better choice?', 'What is the highest mountain on Earth?', 'Should one prefer Chinese medicine or Western medicine?', 'What are the best washing machine brands?', 'Should I buy or rent?', 'Do you prefer cats or dogs, and why?', 'What is the better way to grill outdoors: gas or charcoal?', 'Which is better, MAC or PC?', 'What is better: to use a brush or a sponge?', 'Which is better, Linux or Microsoft?', 'Which is better, Pepsi or Coke?', 'What is better, Google search or Yahoo search?', 'Which one is better, Netflix or Blockbuster?', 'Which browser is better, Internet Explorer or Firefox?', 'Which is a better vehicle: BMW or Audi?', 'Which one is better, an electric stove or a gas stove?', 'What planes are best, Boeing or Airbus?', 'Which is better, Disneyland or Disney World?', 'Should I buy an Xbox or a PlayStation?', 'Which has more caffeine, coffee or tea?', 'Which is better, LED or LCD Reception Displays?', 'What is better: ASP or PHP?', 'What is better for the environment, a real or a fake Christmas tree?', 'Do you prefer tampons or pads?', 'What IDE is better for Java: NetBeans or Eclipse?', 'Is OpenGL better than Direct3D in terms of portability to different platforms?', 'What are the differences between MySQL and PostgreSQL in performance?', 'Is Java code more readable than code written in Scala?', 'Which operating system has better performance: Windows 7 or Windows 8?', 'Which smartphone has a better battery life: Xperia or iPhone?', 'Which four wheel truck is better: Ford or Toyota?', 'Should I prefer a Leica camera over Nikon for portrait photographs?', 'Which company has a larger capitalization: Apple or Microsoft?', 'Which laptop has a better durability: HP or Dell?', 'Which beverage has more calories per glass: beer or cider?', 'Is admission rate in Stanford higher than that of MIT?', 'Is pasta healthier than pizza?', 'Which city is more expensive to live in: San Francisco or New York?', 'Whose salary is higher: basketball or soccer players?', 'What is better at reducing fever in children, Ibuprofen or Aspirin?', 'What are the best rice cookers?', 'Should I buy steel or ceramic knives?', 'Is morning or afternoon sun the best for fruit trees?', 'What is better for back pain, chiropractic therapy or physical therapy?', 'Is Kenya or Tanzania better for a safari?', \"How is a Master's degree different from a Bachelor's degree?\", 'Which is better, Family Guy or The Simpsons?', 'Which is more difficult, skiing or snowboarding?', 'Why is basketball better than football?', 'Who is stronger, Hulk or Superman?', 'Plastic pots or ceramic pots, which is better in terms of plant health?', 'What is the coldest temperature ever recorded on Earth, and where?', 'What is the most popular beer in Australia?', 'Are dogs better than humans?', 'What diet gives the best result to lose weight?', 'Should I take the IELTS or the TOEFL?', 'Are online courses better than physical classrooms?', 'Who was a better boxer, Muhammad Ali or Joe Frazier?', \"Which technology performs better: Apple's or Google's?\", 'Is gold equal to platinum?', 'Who is better at learning a foreign language, kids or adults?', \"What's the difference between coffee, espresso, cappuccino, and latte?\", 'Which city is better, London or Paris?', 'What is better, a conditioner or a moisturizer?', 'Are artificial sweeteners better than white sugar?', 'Is it healthier to bake than to fry food?', 'Which algorithm is better, quicksort or merge sort?', 'What is more interesting, computer science or computer engineering?', 'What is the difference between a vegan and a vegetarian?', 'Does unpasteurized cheese taste better than pasteurized cheese?', 'Which light bulb is better, incandescent or fluorescent?', 'What is the difference between quantum physics and quantum mechanics?', 'What is better, cow milk or goat milk?', 'Psoriasis vs Eczema: What is the difference?', 'I am planning to buy sneakers: Which are better, Adidas or Nike?', 'Is Obamacare really any better than Medicare?', 'Should I major in philosophy or psychology?', 'What are the differences between biodegradable and non-biodegradable wastes?', 'What are good business books to read?', 'When are random forest classifiers better than decision trees?', 'What are the pros and cons of wood vs. stone mulch?', 'Is rain water better than tap water for plants?', 'Suitcases: hard or soft?', 'Which is more environmentally friendly, a hybrid or a diesel?', 'Which is healthier to wear, boxers or briefs?', 'What is the difference between a blender vs a food processor?', 'Which is better, rock or rap?', 'Do you think imagination is better than knowledge?', 'Should I learn Python or R for data analysis?']\n"
          ]
        }
      ],
      "source": [
        "# We have the 50 topics pre-selected from the team\n",
        "print(f\"There are {len(topics)} topics.\\n{topics}\")"
      ]
    },
    {
      "cell_type": "markdown",
      "metadata": {
        "id": "HgxWH2KYa-3G"
      },
      "source": [
        "#### Documents relevance for each topic"
      ]
    },
    {
      "cell_type": "code",
      "execution_count": 14,
      "metadata": {
        "colab": {
          "base_uri": "https://localhost:8080/"
        },
        "id": "LZ4WfkcIZeiF",
        "outputId": "4c706e01-46cd-4db6-d705-31ab47e13e74"
      },
      "outputs": [
        {
          "name": "stdout",
          "output_type": "stream",
          "text": [
            "'/content/downloads/relevance-50.qrels' already present\n",
            "'/content/downloads/relevance-100.qrels' already present\n"
          ]
        }
      ],
      "source": [
        "# Download relevance qrels first 50 topics\n",
        "url_relevance_50 = \"https://zenodo.org/record/6873567/files/touche-task2-2022-relevance.qrels?download=1\"\n",
        "file_path_rel_50 = \"relevance-50.qrels\"\n",
        "\n",
        "download_relevance_50 = utils.manage_files.DownloadFile(file_path_rel_50, url=url_relevance_50)\n",
        "download_relevance_50()\n",
        "\n",
        "# Download relevance qrels last 50 topics\n",
        "url_relevance_100 = \"https://zenodo.org/record/6873565/files/touche-task2-51-100-relevance.qrels?download=1\"\n",
        "file_path_rel_100 = \"relevance-100.qrels\"\n",
        "\n",
        "download_relevance_100 = utils.manage_files.DownloadFile(file_path_rel_100, url=url_relevance_100)\n",
        "download_relevance_100()"
      ]
    },
    {
      "cell_type": "code",
      "execution_count": 35,
      "metadata": {
        "colab": {
          "base_uri": "https://localhost:8080/",
          "height": 206
        },
        "id": "dsHzZAOxUScD",
        "outputId": "f87d1701-3d4f-4ba2-eb05-b6f06e2fdf9e"
      },
      "outputs": [
        {
          "data": {
            "text/html": [
              "\n",
              "  <div id=\"df-64a788f7-cb4f-4de8-8013-b4a4ddb45618\">\n",
              "    <div class=\"colab-df-container\">\n",
              "      <div>\n",
              "<style scoped>\n",
              "    .dataframe tbody tr th:only-of-type {\n",
              "        vertical-align: middle;\n",
              "    }\n",
              "\n",
              "    .dataframe tbody tr th {\n",
              "        vertical-align: top;\n",
              "    }\n",
              "\n",
              "    .dataframe thead th {\n",
              "        text-align: right;\n",
              "    }\n",
              "</style>\n",
              "<table border=\"1\" class=\"dataframe\">\n",
              "  <thead>\n",
              "    <tr style=\"text-align: right;\">\n",
              "      <th></th>\n",
              "      <th>topic</th>\n",
              "      <th>doc_id</th>\n",
              "      <th>relevance</th>\n",
              "    </tr>\n",
              "  </thead>\n",
              "  <tbody>\n",
              "    <tr>\n",
              "      <th>0</th>\n",
              "      <td>12</td>\n",
              "      <td>clueweb12-0002wb-18-34442___2</td>\n",
              "      <td>0</td>\n",
              "    </tr>\n",
              "    <tr>\n",
              "      <th>1</th>\n",
              "      <td>12</td>\n",
              "      <td>clueweb12-0004wb-69-30215___112</td>\n",
              "      <td>0</td>\n",
              "    </tr>\n",
              "    <tr>\n",
              "      <th>2</th>\n",
              "      <td>12</td>\n",
              "      <td>clueweb12-0004wb-78-20304___1</td>\n",
              "      <td>1</td>\n",
              "    </tr>\n",
              "    <tr>\n",
              "      <th>3</th>\n",
              "      <td>12</td>\n",
              "      <td>clueweb12-0004wb-78-20304___11</td>\n",
              "      <td>2</td>\n",
              "    </tr>\n",
              "    <tr>\n",
              "      <th>4</th>\n",
              "      <td>12</td>\n",
              "      <td>clueweb12-0008wb-62-05967___1</td>\n",
              "      <td>0</td>\n",
              "    </tr>\n",
              "  </tbody>\n",
              "</table>\n",
              "</div>\n",
              "      <button class=\"colab-df-convert\" onclick=\"convertToInteractive('df-64a788f7-cb4f-4de8-8013-b4a4ddb45618')\"\n",
              "              title=\"Convert this dataframe to an interactive table.\"\n",
              "              style=\"display:none;\">\n",
              "        \n",
              "  <svg xmlns=\"http://www.w3.org/2000/svg\" height=\"24px\"viewBox=\"0 0 24 24\"\n",
              "       width=\"24px\">\n",
              "    <path d=\"M0 0h24v24H0V0z\" fill=\"none\"/>\n",
              "    <path d=\"M18.56 5.44l.94 2.06.94-2.06 2.06-.94-2.06-.94-.94-2.06-.94 2.06-2.06.94zm-11 1L8.5 8.5l.94-2.06 2.06-.94-2.06-.94L8.5 2.5l-.94 2.06-2.06.94zm10 10l.94 2.06.94-2.06 2.06-.94-2.06-.94-.94-2.06-.94 2.06-2.06.94z\"/><path d=\"M17.41 7.96l-1.37-1.37c-.4-.4-.92-.59-1.43-.59-.52 0-1.04.2-1.43.59L10.3 9.45l-7.72 7.72c-.78.78-.78 2.05 0 2.83L4 21.41c.39.39.9.59 1.41.59.51 0 1.02-.2 1.41-.59l7.78-7.78 2.81-2.81c.8-.78.8-2.07 0-2.86zM5.41 20L4 18.59l7.72-7.72 1.47 1.35L5.41 20z\"/>\n",
              "  </svg>\n",
              "      </button>\n",
              "      \n",
              "  <style>\n",
              "    .colab-df-container {\n",
              "      display:flex;\n",
              "      flex-wrap:wrap;\n",
              "      gap: 12px;\n",
              "    }\n",
              "\n",
              "    .colab-df-convert {\n",
              "      background-color: #E8F0FE;\n",
              "      border: none;\n",
              "      border-radius: 50%;\n",
              "      cursor: pointer;\n",
              "      display: none;\n",
              "      fill: #1967D2;\n",
              "      height: 32px;\n",
              "      padding: 0 0 0 0;\n",
              "      width: 32px;\n",
              "    }\n",
              "\n",
              "    .colab-df-convert:hover {\n",
              "      background-color: #E2EBFA;\n",
              "      box-shadow: 0px 1px 2px rgba(60, 64, 67, 0.3), 0px 1px 3px 1px rgba(60, 64, 67, 0.15);\n",
              "      fill: #174EA6;\n",
              "    }\n",
              "\n",
              "    [theme=dark] .colab-df-convert {\n",
              "      background-color: #3B4455;\n",
              "      fill: #D2E3FC;\n",
              "    }\n",
              "\n",
              "    [theme=dark] .colab-df-convert:hover {\n",
              "      background-color: #434B5C;\n",
              "      box-shadow: 0px 1px 3px 1px rgba(0, 0, 0, 0.15);\n",
              "      filter: drop-shadow(0px 1px 2px rgba(0, 0, 0, 0.3));\n",
              "      fill: #FFFFFF;\n",
              "    }\n",
              "  </style>\n",
              "\n",
              "      <script>\n",
              "        const buttonEl =\n",
              "          document.querySelector('#df-64a788f7-cb4f-4de8-8013-b4a4ddb45618 button.colab-df-convert');\n",
              "        buttonEl.style.display =\n",
              "          google.colab.kernel.accessAllowed ? 'block' : 'none';\n",
              "\n",
              "        async function convertToInteractive(key) {\n",
              "          const element = document.querySelector('#df-64a788f7-cb4f-4de8-8013-b4a4ddb45618');\n",
              "          const dataTable =\n",
              "            await google.colab.kernel.invokeFunction('convertToInteractive',\n",
              "                                                     [key], {});\n",
              "          if (!dataTable) return;\n",
              "\n",
              "          const docLinkHtml = 'Like what you see? Visit the ' +\n",
              "            '<a target=\"_blank\" href=https://colab.research.google.com/notebooks/data_table.ipynb>data table notebook</a>'\n",
              "            + ' to learn more about interactive tables.';\n",
              "          element.innerHTML = '';\n",
              "          dataTable['output_type'] = 'display_data';\n",
              "          await google.colab.output.renderOutput(dataTable, element);\n",
              "          const docLink = document.createElement('div');\n",
              "          docLink.innerHTML = docLinkHtml;\n",
              "          element.appendChild(docLink);\n",
              "        }\n",
              "      </script>\n",
              "    </div>\n",
              "  </div>\n",
              "  "
            ],
            "text/plain": [
              "   topic                           doc_id  relevance\n",
              "0     12    clueweb12-0002wb-18-34442___2          0\n",
              "1     12  clueweb12-0004wb-69-30215___112          0\n",
              "2     12    clueweb12-0004wb-78-20304___1          1\n",
              "3     12   clueweb12-0004wb-78-20304___11          2\n",
              "4     12    clueweb12-0008wb-62-05967___1          0"
            ]
          },
          "execution_count": 35,
          "metadata": {},
          "output_type": "execute_result"
        }
      ],
      "source": [
        "rel_1 = pd.read_csv(download_relevance_50.file_name, index_col=None, \n",
        "                    names=[\"topic\", \"0\", \"doc_id\", \"relevance\"], sep=\" \")\n",
        "rel_2 = pd.read_csv(download_relevance_100.file_name, index_col=None, \n",
        "                    names=[\"topic\", \"0\", \"doc_id\", \"relevance\"], sep=\" \")\n",
        "\n",
        "relevance_df = pd.concat([rel_1, rel_2], axis=0, ignore_index=True) \\\n",
        "                .drop_duplicates('doc_id') \\\n",
        "                .reset_index(drop=True) \\\n",
        "                .drop('0', axis=1)\n",
        "\n",
        "relevance_df.head()"
      ]
    },
    {
      "cell_type": "markdown",
      "metadata": {
        "id": "HIGPvzcZbFZW"
      },
      "source": [
        "#### Documents quality for each topic"
      ]
    },
    {
      "cell_type": "code",
      "execution_count": 31,
      "metadata": {
        "colab": {
          "base_uri": "https://localhost:8080/"
        },
        "id": "rQxLoLPpbOgD",
        "outputId": "3a50488d-5849-4e80-f49d-067f83e98e06"
      },
      "outputs": [
        {
          "name": "stderr",
          "output_type": "stream",
          "text": [
            "Downloading file: 100%|██████████| 78.4k/78.4k [00:00<00:00, 511kB/s]\n",
            "Downloading file: 100%|██████████| 68.5k/68.5k [00:00<00:00, 450kB/s]\n"
          ]
        }
      ],
      "source": [
        "# Download relevance qrels first 50 topics\n",
        "url_quality_50 = \"https://zenodo.org/record/6873567/files/touche-task2-2022-quality.qrels?download=1\"\n",
        "file_path_qual_50 = \"quality-50.qrels\"\n",
        "\n",
        "download_quality_50 = utils.manage_files.DownloadFile(file_path_qual_50, url=url_quality_50)\n",
        "download_quality_50()\n",
        "\n",
        "# Download relevance qrels first 50 topics\n",
        "url_quality_100 = \"https://zenodo.org/record/6873565/files/touche-task2-51-100-quality.qrels?download=1\"\n",
        "file_path_qual_100 = \"quality-100.qrels\"\n",
        "\n",
        "download_quality_100 = utils.manage_files.DownloadFile(file_path_qual_100, url=url_quality_100)\n",
        "download_quality_100()"
      ]
    },
    {
      "cell_type": "code",
      "execution_count": 36,
      "metadata": {
        "colab": {
          "base_uri": "https://localhost:8080/",
          "height": 206
        },
        "id": "HnOhnBQKbQzK",
        "outputId": "d0591c31-8b48-4957-c6c1-54ea837bbfeb"
      },
      "outputs": [
        {
          "data": {
            "text/html": [
              "\n",
              "  <div id=\"df-9dbee35d-c155-4816-b272-7d5c14ab4a95\">\n",
              "    <div class=\"colab-df-container\">\n",
              "      <div>\n",
              "<style scoped>\n",
              "    .dataframe tbody tr th:only-of-type {\n",
              "        vertical-align: middle;\n",
              "    }\n",
              "\n",
              "    .dataframe tbody tr th {\n",
              "        vertical-align: top;\n",
              "    }\n",
              "\n",
              "    .dataframe thead th {\n",
              "        text-align: right;\n",
              "    }\n",
              "</style>\n",
              "<table border=\"1\" class=\"dataframe\">\n",
              "  <thead>\n",
              "    <tr style=\"text-align: right;\">\n",
              "      <th></th>\n",
              "      <th>topic</th>\n",
              "      <th>doc_id</th>\n",
              "      <th>quality</th>\n",
              "    </tr>\n",
              "  </thead>\n",
              "  <tbody>\n",
              "    <tr>\n",
              "      <th>0</th>\n",
              "      <td>12</td>\n",
              "      <td>clueweb12-0002wb-18-34442___2</td>\n",
              "      <td>2</td>\n",
              "    </tr>\n",
              "    <tr>\n",
              "      <th>1</th>\n",
              "      <td>12</td>\n",
              "      <td>clueweb12-0004wb-69-30215___112</td>\n",
              "      <td>2</td>\n",
              "    </tr>\n",
              "    <tr>\n",
              "      <th>2</th>\n",
              "      <td>12</td>\n",
              "      <td>clueweb12-0004wb-78-20304___1</td>\n",
              "      <td>2</td>\n",
              "    </tr>\n",
              "    <tr>\n",
              "      <th>3</th>\n",
              "      <td>12</td>\n",
              "      <td>clueweb12-0004wb-78-20304___11</td>\n",
              "      <td>2</td>\n",
              "    </tr>\n",
              "    <tr>\n",
              "      <th>4</th>\n",
              "      <td>12</td>\n",
              "      <td>clueweb12-0008wb-62-05967___1</td>\n",
              "      <td>0</td>\n",
              "    </tr>\n",
              "  </tbody>\n",
              "</table>\n",
              "</div>\n",
              "      <button class=\"colab-df-convert\" onclick=\"convertToInteractive('df-9dbee35d-c155-4816-b272-7d5c14ab4a95')\"\n",
              "              title=\"Convert this dataframe to an interactive table.\"\n",
              "              style=\"display:none;\">\n",
              "        \n",
              "  <svg xmlns=\"http://www.w3.org/2000/svg\" height=\"24px\"viewBox=\"0 0 24 24\"\n",
              "       width=\"24px\">\n",
              "    <path d=\"M0 0h24v24H0V0z\" fill=\"none\"/>\n",
              "    <path d=\"M18.56 5.44l.94 2.06.94-2.06 2.06-.94-2.06-.94-.94-2.06-.94 2.06-2.06.94zm-11 1L8.5 8.5l.94-2.06 2.06-.94-2.06-.94L8.5 2.5l-.94 2.06-2.06.94zm10 10l.94 2.06.94-2.06 2.06-.94-2.06-.94-.94-2.06-.94 2.06-2.06.94z\"/><path d=\"M17.41 7.96l-1.37-1.37c-.4-.4-.92-.59-1.43-.59-.52 0-1.04.2-1.43.59L10.3 9.45l-7.72 7.72c-.78.78-.78 2.05 0 2.83L4 21.41c.39.39.9.59 1.41.59.51 0 1.02-.2 1.41-.59l7.78-7.78 2.81-2.81c.8-.78.8-2.07 0-2.86zM5.41 20L4 18.59l7.72-7.72 1.47 1.35L5.41 20z\"/>\n",
              "  </svg>\n",
              "      </button>\n",
              "      \n",
              "  <style>\n",
              "    .colab-df-container {\n",
              "      display:flex;\n",
              "      flex-wrap:wrap;\n",
              "      gap: 12px;\n",
              "    }\n",
              "\n",
              "    .colab-df-convert {\n",
              "      background-color: #E8F0FE;\n",
              "      border: none;\n",
              "      border-radius: 50%;\n",
              "      cursor: pointer;\n",
              "      display: none;\n",
              "      fill: #1967D2;\n",
              "      height: 32px;\n",
              "      padding: 0 0 0 0;\n",
              "      width: 32px;\n",
              "    }\n",
              "\n",
              "    .colab-df-convert:hover {\n",
              "      background-color: #E2EBFA;\n",
              "      box-shadow: 0px 1px 2px rgba(60, 64, 67, 0.3), 0px 1px 3px 1px rgba(60, 64, 67, 0.15);\n",
              "      fill: #174EA6;\n",
              "    }\n",
              "\n",
              "    [theme=dark] .colab-df-convert {\n",
              "      background-color: #3B4455;\n",
              "      fill: #D2E3FC;\n",
              "    }\n",
              "\n",
              "    [theme=dark] .colab-df-convert:hover {\n",
              "      background-color: #434B5C;\n",
              "      box-shadow: 0px 1px 3px 1px rgba(0, 0, 0, 0.15);\n",
              "      filter: drop-shadow(0px 1px 2px rgba(0, 0, 0, 0.3));\n",
              "      fill: #FFFFFF;\n",
              "    }\n",
              "  </style>\n",
              "\n",
              "      <script>\n",
              "        const buttonEl =\n",
              "          document.querySelector('#df-9dbee35d-c155-4816-b272-7d5c14ab4a95 button.colab-df-convert');\n",
              "        buttonEl.style.display =\n",
              "          google.colab.kernel.accessAllowed ? 'block' : 'none';\n",
              "\n",
              "        async function convertToInteractive(key) {\n",
              "          const element = document.querySelector('#df-9dbee35d-c155-4816-b272-7d5c14ab4a95');\n",
              "          const dataTable =\n",
              "            await google.colab.kernel.invokeFunction('convertToInteractive',\n",
              "                                                     [key], {});\n",
              "          if (!dataTable) return;\n",
              "\n",
              "          const docLinkHtml = 'Like what you see? Visit the ' +\n",
              "            '<a target=\"_blank\" href=https://colab.research.google.com/notebooks/data_table.ipynb>data table notebook</a>'\n",
              "            + ' to learn more about interactive tables.';\n",
              "          element.innerHTML = '';\n",
              "          dataTable['output_type'] = 'display_data';\n",
              "          await google.colab.output.renderOutput(dataTable, element);\n",
              "          const docLink = document.createElement('div');\n",
              "          docLink.innerHTML = docLinkHtml;\n",
              "          element.appendChild(docLink);\n",
              "        }\n",
              "      </script>\n",
              "    </div>\n",
              "  </div>\n",
              "  "
            ],
            "text/plain": [
              "   topic                           doc_id  quality\n",
              "0     12    clueweb12-0002wb-18-34442___2        2\n",
              "1     12  clueweb12-0004wb-69-30215___112        2\n",
              "2     12    clueweb12-0004wb-78-20304___1        2\n",
              "3     12   clueweb12-0004wb-78-20304___11        2\n",
              "4     12    clueweb12-0008wb-62-05967___1        0"
            ]
          },
          "execution_count": 36,
          "metadata": {},
          "output_type": "execute_result"
        }
      ],
      "source": [
        "qual_1 = pd.read_csv(download_quality_50.file_name, index_col=None, \n",
        "                    names=[\"topic\", \"0\", \"doc_id\", \"quality\"], sep=\" \")\n",
        "qual_2 = pd.read_csv(download_quality_100.file_name, index_col=None, \n",
        "                    names=[\"topic\", \"0\", \"doc_id\", \"quality\"], sep=\" \")\n",
        "\n",
        "quality_df = pd.concat([qual_1, qual_2], axis=0, ignore_index=True) \\\n",
        "                .drop_duplicates('doc_id') \\\n",
        "                .reset_index(drop=True) \\\n",
        "                .drop('0', axis=1)\n",
        "\n",
        "quality_df.head()"
      ]
    },
    {
      "cell_type": "markdown",
      "metadata": {
        "id": "7xmUW0NoXRZd"
      },
      "source": [
        "#### Merge data"
      ]
    },
    {
      "cell_type": "markdown",
      "metadata": {
        "id": "sUk7cp4gZgDd"
      },
      "source": [
        "Now we want to merge the data in order to have the relevance and quality score in the same dataframe."
      ]
    },
    {
      "cell_type": "code",
      "execution_count": 42,
      "metadata": {
        "colab": {
          "base_uri": "https://localhost:8080/",
          "height": 206
        },
        "id": "bjx5ST00XVxs",
        "outputId": "dddbb02c-e16a-447e-d870-4b3dc245bd7a"
      },
      "outputs": [
        {
          "data": {
            "text/html": [
              "\n",
              "  <div id=\"df-54b9631f-2c67-479b-9704-f3b955112789\">\n",
              "    <div class=\"colab-df-container\">\n",
              "      <div>\n",
              "<style scoped>\n",
              "    .dataframe tbody tr th:only-of-type {\n",
              "        vertical-align: middle;\n",
              "    }\n",
              "\n",
              "    .dataframe tbody tr th {\n",
              "        vertical-align: top;\n",
              "    }\n",
              "\n",
              "    .dataframe thead th {\n",
              "        text-align: right;\n",
              "    }\n",
              "</style>\n",
              "<table border=\"1\" class=\"dataframe\">\n",
              "  <thead>\n",
              "    <tr style=\"text-align: right;\">\n",
              "      <th></th>\n",
              "      <th>topic</th>\n",
              "      <th>doc_id</th>\n",
              "      <th>relevance</th>\n",
              "      <th>quality</th>\n",
              "    </tr>\n",
              "  </thead>\n",
              "  <tbody>\n",
              "    <tr>\n",
              "      <th>0</th>\n",
              "      <td>12</td>\n",
              "      <td>clueweb12-0002wb-18-34442___2</td>\n",
              "      <td>0</td>\n",
              "      <td>2</td>\n",
              "    </tr>\n",
              "    <tr>\n",
              "      <th>1</th>\n",
              "      <td>12</td>\n",
              "      <td>clueweb12-0004wb-69-30215___112</td>\n",
              "      <td>0</td>\n",
              "      <td>2</td>\n",
              "    </tr>\n",
              "    <tr>\n",
              "      <th>2</th>\n",
              "      <td>12</td>\n",
              "      <td>clueweb12-0004wb-78-20304___1</td>\n",
              "      <td>1</td>\n",
              "      <td>2</td>\n",
              "    </tr>\n",
              "    <tr>\n",
              "      <th>3</th>\n",
              "      <td>12</td>\n",
              "      <td>clueweb12-0004wb-78-20304___11</td>\n",
              "      <td>2</td>\n",
              "      <td>2</td>\n",
              "    </tr>\n",
              "    <tr>\n",
              "      <th>4</th>\n",
              "      <td>12</td>\n",
              "      <td>clueweb12-0008wb-62-05967___1</td>\n",
              "      <td>0</td>\n",
              "      <td>0</td>\n",
              "    </tr>\n",
              "  </tbody>\n",
              "</table>\n",
              "</div>\n",
              "      <button class=\"colab-df-convert\" onclick=\"convertToInteractive('df-54b9631f-2c67-479b-9704-f3b955112789')\"\n",
              "              title=\"Convert this dataframe to an interactive table.\"\n",
              "              style=\"display:none;\">\n",
              "        \n",
              "  <svg xmlns=\"http://www.w3.org/2000/svg\" height=\"24px\"viewBox=\"0 0 24 24\"\n",
              "       width=\"24px\">\n",
              "    <path d=\"M0 0h24v24H0V0z\" fill=\"none\"/>\n",
              "    <path d=\"M18.56 5.44l.94 2.06.94-2.06 2.06-.94-2.06-.94-.94-2.06-.94 2.06-2.06.94zm-11 1L8.5 8.5l.94-2.06 2.06-.94-2.06-.94L8.5 2.5l-.94 2.06-2.06.94zm10 10l.94 2.06.94-2.06 2.06-.94-2.06-.94-.94-2.06-.94 2.06-2.06.94z\"/><path d=\"M17.41 7.96l-1.37-1.37c-.4-.4-.92-.59-1.43-.59-.52 0-1.04.2-1.43.59L10.3 9.45l-7.72 7.72c-.78.78-.78 2.05 0 2.83L4 21.41c.39.39.9.59 1.41.59.51 0 1.02-.2 1.41-.59l7.78-7.78 2.81-2.81c.8-.78.8-2.07 0-2.86zM5.41 20L4 18.59l7.72-7.72 1.47 1.35L5.41 20z\"/>\n",
              "  </svg>\n",
              "      </button>\n",
              "      \n",
              "  <style>\n",
              "    .colab-df-container {\n",
              "      display:flex;\n",
              "      flex-wrap:wrap;\n",
              "      gap: 12px;\n",
              "    }\n",
              "\n",
              "    .colab-df-convert {\n",
              "      background-color: #E8F0FE;\n",
              "      border: none;\n",
              "      border-radius: 50%;\n",
              "      cursor: pointer;\n",
              "      display: none;\n",
              "      fill: #1967D2;\n",
              "      height: 32px;\n",
              "      padding: 0 0 0 0;\n",
              "      width: 32px;\n",
              "    }\n",
              "\n",
              "    .colab-df-convert:hover {\n",
              "      background-color: #E2EBFA;\n",
              "      box-shadow: 0px 1px 2px rgba(60, 64, 67, 0.3), 0px 1px 3px 1px rgba(60, 64, 67, 0.15);\n",
              "      fill: #174EA6;\n",
              "    }\n",
              "\n",
              "    [theme=dark] .colab-df-convert {\n",
              "      background-color: #3B4455;\n",
              "      fill: #D2E3FC;\n",
              "    }\n",
              "\n",
              "    [theme=dark] .colab-df-convert:hover {\n",
              "      background-color: #434B5C;\n",
              "      box-shadow: 0px 1px 3px 1px rgba(0, 0, 0, 0.15);\n",
              "      filter: drop-shadow(0px 1px 2px rgba(0, 0, 0, 0.3));\n",
              "      fill: #FFFFFF;\n",
              "    }\n",
              "  </style>\n",
              "\n",
              "      <script>\n",
              "        const buttonEl =\n",
              "          document.querySelector('#df-54b9631f-2c67-479b-9704-f3b955112789 button.colab-df-convert');\n",
              "        buttonEl.style.display =\n",
              "          google.colab.kernel.accessAllowed ? 'block' : 'none';\n",
              "\n",
              "        async function convertToInteractive(key) {\n",
              "          const element = document.querySelector('#df-54b9631f-2c67-479b-9704-f3b955112789');\n",
              "          const dataTable =\n",
              "            await google.colab.kernel.invokeFunction('convertToInteractive',\n",
              "                                                     [key], {});\n",
              "          if (!dataTable) return;\n",
              "\n",
              "          const docLinkHtml = 'Like what you see? Visit the ' +\n",
              "            '<a target=\"_blank\" href=https://colab.research.google.com/notebooks/data_table.ipynb>data table notebook</a>'\n",
              "            + ' to learn more about interactive tables.';\n",
              "          element.innerHTML = '';\n",
              "          dataTable['output_type'] = 'display_data';\n",
              "          await google.colab.output.renderOutput(dataTable, element);\n",
              "          const docLink = document.createElement('div');\n",
              "          docLink.innerHTML = docLinkHtml;\n",
              "          element.appendChild(docLink);\n",
              "        }\n",
              "      </script>\n",
              "    </div>\n",
              "  </div>\n",
              "  "
            ],
            "text/plain": [
              "   topic                           doc_id  relevance  quality\n",
              "0     12    clueweb12-0002wb-18-34442___2          0        2\n",
              "1     12  clueweb12-0004wb-69-30215___112          0        2\n",
              "2     12    clueweb12-0004wb-78-20304___1          1        2\n",
              "3     12   clueweb12-0004wb-78-20304___11          2        2\n",
              "4     12    clueweb12-0008wb-62-05967___1          0        0"
            ]
          },
          "execution_count": 42,
          "metadata": {},
          "output_type": "execute_result"
        }
      ],
      "source": [
        "det_df = relevance_df.merge(quality_df, on=['doc_id', 'topic'])\n",
        "det_df.head()"
      ]
    },
    {
      "cell_type": "markdown",
      "metadata": {
        "id": "PNsNSRSUcgC7"
      },
      "source": [
        "### Example to test our comprehension of the datasets"
      ]
    },
    {
      "cell_type": "code",
      "execution_count": 76,
      "metadata": {
        "id": "uf6prYO3nO_y"
      },
      "outputs": [],
      "source": [
        "def retrieve_doc_url(topic, relevance, det_df, corp_df):\n",
        "    print(f\"Topic: {topic} - Relevance: {relevance}\")\n",
        "    id_list = det_df[(det_df['topic']==topic) & (det_df['relevance']==relevance)]['doc_id']\n",
        "    url_list = []\n",
        "    for doc in id_list:\n",
        "        if doc in corp_df.id.values:\n",
        "            url_list.append(corp_df[corp_df['id']==doc]['chatNoirUrl'].item()) \n",
        "    return url_list"
      ]
    },
    {
      "cell_type": "code",
      "execution_count": 46,
      "metadata": {
        "colab": {
          "base_uri": "https://localhost:8080/"
        },
        "id": "GaPzv-48j4xs",
        "outputId": "65cb712b-8671-4337-8e8b-fb87e5506051"
      },
      "outputs": [
        {
          "data": {
            "text/plain": [
              "array([  2,   3,   8,   9,  12,  14,  17,  18,  19,  22,  23,  25,  26,\n",
              "        27,  28,  30,  33,  34,  36,  37,  42,  43,  48,  51,  52,  53,\n",
              "        54,  55,  56,  57,  58,  59,  60,  61,  62,  63,  64,  65,  66,\n",
              "        67,  68,  69,  70,  71,  72,  73,  74,  75,  76,  77,  78,  79,\n",
              "        80,  81,  82,  83,  84,  85,  86,  87,  88,  89,  90,  91,  92,\n",
              "        93,  94,  95,  96,  97,  98,  99, 100])"
            ]
          },
          "execution_count": 46,
          "metadata": {},
          "output_type": "execute_result"
        }
      ],
      "source": [
        "# List of topics taken from qrels files.\n",
        "np.sort(det_df.topic.unique())"
      ]
    },
    {
      "cell_type": "markdown",
      "metadata": {
        "id": "EFY_BhuPt6Qt"
      },
      "source": [
        "In this example we retrieve the documents that tell about coke and pepsi and it's perfectly linked with the corrispondent element in the topics list."
      ]
    },
    {
      "cell_type": "code",
      "execution_count": 88,
      "metadata": {
        "colab": {
          "base_uri": "https://localhost:8080/"
        },
        "id": "x5JoxwBkhoKW",
        "outputId": "4149f116-672e-4f84-e40f-cdf4c7e2a697"
      },
      "outputs": [
        {
          "name": "stdout",
          "output_type": "stream",
          "text": [
            "Topic: 55 - Relevance: 2\n"
          ]
        },
        {
          "data": {
            "text/plain": [
              "['https://chatnoir.eu/cache?uuid=00c926b3-aea6-5676-a05b-631183bc16d6&index=cw12&raw&plain',\n",
              " 'https://chatnoir.eu/cache?uuid=3ba792cf-65e0-50a7-8d2a-29dfe3450844&index=cw12&raw&plain',\n",
              " 'https://chatnoir.eu/cache?uuid=0cbebae4-a185-5630-9bbf-9df00049ff6d&index=cw12&raw&plain',\n",
              " 'https://chatnoir.eu/cache?uuid=0cbebae4-a185-5630-9bbf-9df00049ff6d&index=cw12&raw&plain',\n",
              " 'https://chatnoir.eu/cache?uuid=0cbebae4-a185-5630-9bbf-9df00049ff6d&index=cw12&raw&plain',\n",
              " 'https://chatnoir.eu/cache?uuid=0cbebae4-a185-5630-9bbf-9df00049ff6d&index=cw12&raw&plain',\n",
              " 'https://chatnoir.eu/cache?uuid=d09e9ab3-a8b4-5800-b926-52ae7e625e4c&index=cw12&raw&plain']"
            ]
          },
          "execution_count": 88,
          "metadata": {},
          "output_type": "execute_result"
        }
      ],
      "source": [
        "example_topic = 55\n",
        "retrieve_doc_url(example_topic, 2, det_df, corpus_df)"
      ]
    },
    {
      "cell_type": "code",
      "execution_count": 89,
      "metadata": {
        "colab": {
          "base_uri": "https://localhost:8080/",
          "height": 36
        },
        "id": "2iUqHyYcl3eh",
        "outputId": "84809d17-b724-4a57-b6ab-db803e2d4ef2"
      },
      "outputs": [
        {
          "data": {
            "application/vnd.google.colaboratory.intrinsic+json": {
              "type": "string"
            },
            "text/plain": [
              "'What is better for back pain, chiropractic therapy or physical therapy?'"
            ]
          },
          "execution_count": 89,
          "metadata": {},
          "output_type": "execute_result"
        }
      ],
      "source": [
        "topics[example_topic-1]"
      ]
    }
  ],
  "metadata": {
    "colab": {
      "collapsed_sections": [
        "-ZgAMxoJThhV",
        "nfe-OtFNa4IY",
        "-ePDrcVma8Vn",
        "HgxWH2KYa-3G",
        "HIGPvzcZbFZW",
        "PNsNSRSUcgC7",
        "HtBfsOG4uVJB"
      ],
      "provenance": []
    },
    "kernelspec": {
      "display_name": "pysci",
      "language": "python",
      "name": "python3"
    },
    "language_info": {
      "codemirror_mode": {
        "name": "ipython",
        "version": 3
      },
      "file_extension": ".py",
      "mimetype": "text/x-python",
      "name": "python",
      "nbconvert_exporter": "python",
      "pygments_lexer": "ipython3",
      "version": "3.10.6"
    },
    "orig_nbformat": 4,
    "vscode": {
      "interpreter": {
        "hash": "bd4d4dc071430cb7377eda019ca70777a2da1723ff9a3eacefae41ce5c18d4b7"
      }
    }
  },
  "nbformat": 4,
  "nbformat_minor": 0
}
