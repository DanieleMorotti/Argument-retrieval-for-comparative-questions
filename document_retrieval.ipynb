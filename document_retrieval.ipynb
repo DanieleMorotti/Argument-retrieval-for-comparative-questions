{
  "cells": [
    {
      "cell_type": "markdown",
      "source": [
        "# Document retrieval"
      ],
      "metadata": {
        "id": "NqL8WcUVaozw"
      }
    },
    {
      "cell_type": "code",
      "execution_count": 1,
      "metadata": {
        "id": "-8k-JaQS2HKz"
      },
      "outputs": [],
      "source": [
        "%load_ext autoreload\n",
        "%autoreload 2"
      ]
    },
    {
      "cell_type": "code",
      "execution_count": 3,
      "metadata": {
        "id": "CerxDpDb2HK3"
      },
      "outputs": [],
      "source": [
        "import os\n",
        "import re\n",
        "\n",
        "import matplotlib.pyplot as plt\n",
        "import numpy as np\n",
        "import pandas as pd\n",
        "\n",
        "import xml.etree.ElementTree as ET\n",
        "\n",
        "import utils.manage_files"
      ]
    },
    {
      "cell_type": "markdown",
      "source": [
        "## Download datasets"
      ],
      "metadata": {
        "id": "Ih1r3OhnaluW"
      }
    },
    {
      "cell_type": "markdown",
      "source": [
        "### Download and exlore the corpus\n",
        "We can dowload as first thing the corpus that we need to use for the task."
      ],
      "metadata": {
        "id": "-ZgAMxoJThhV"
      }
    },
    {
      "cell_type": "code",
      "source": [
        "url_corpus = \"https://zenodo.org/record/6802592/files/touche-task2-passages-version-002.jsonl.gz?download=1\"\n",
        "zip_path_corpus = \"corpus.jsonl.gz\"\n",
        "file_path_corpus = \"corpus.jsonl\"\n",
        "\n",
        "download_corpus = utils.manage_files.DownloadFile(file_path_corpus, zip_path_corpus, url_corpus)\n",
        "download_corpus()"
      ],
      "metadata": {
        "id": "N7s1OqZ3KzQv",
        "colab": {
          "base_uri": "https://localhost:8080/"
        },
        "outputId": "f0248e1e-9e30-47e2-8f12-4af7bbf9d30b"
      },
      "execution_count": 4,
      "outputs": [
        {
          "output_type": "stream",
          "name": "stderr",
          "text": [
            "Downloading file: 100%|██████████| 286M/286M [00:17<00:00, 16.3MB/s]\n"
          ]
        },
        {
          "output_type": "stream",
          "name": "stdout",
          "text": [
            "'/content/downloads/zips/corpus.jsonl.gz' unzipped in '/content/downloads/corpus.jsonl'\n"
          ]
        }
      ]
    },
    {
      "cell_type": "code",
      "source": [
        "corpus_df = pd.read_json(download_corpus.file_name, lines=True)\n",
        "corpus_df.head()"
      ],
      "metadata": {
        "colab": {
          "base_uri": "https://localhost:8080/",
          "height": 206
        },
        "id": "ri_nMZfHUfjd",
        "outputId": "ebc03c48-85ae-4760-cd9c-7adad3339532"
      },
      "execution_count": 6,
      "outputs": [
        {
          "output_type": "execute_result",
          "data": {
            "text/plain": [
              "                              id  \\\n",
              "0  clueweb12-0000tw-14-21168___1   \n",
              "1  clueweb12-0000tw-14-21168___2   \n",
              "2  clueweb12-0000tw-14-21168___3   \n",
              "3  clueweb12-0000tw-22-19226___1   \n",
              "4  clueweb12-0000tw-22-19226___2   \n",
              "\n",
              "                                            contents  \\\n",
              "0  Shuga: Love, Sex, Money MTV Shuga Home Swag Bl...   \n",
              "1  We LOVE sending #TeamShuga the exclusives. Ban...   \n",
              "2  Now take note.. because you will be seeing a w...   \n",
              "3  Sex and love: The modern matchmakers | The Eco...   \n",
              "4  But have they? Feb 11th 2012 | from the print ...   \n",
              "\n",
              "                                         chatNoirUrl  \n",
              "0  https://chatnoir.eu/cache?uuid=f338e91e-a3e9-5...  \n",
              "1  https://chatnoir.eu/cache?uuid=f338e91e-a3e9-5...  \n",
              "2  https://chatnoir.eu/cache?uuid=f338e91e-a3e9-5...  \n",
              "3  https://chatnoir.eu/cache?uuid=2bf4b08d-2f65-5...  \n",
              "4  https://chatnoir.eu/cache?uuid=2bf4b08d-2f65-5...  "
            ],
            "text/html": [
              "\n",
              "  <div id=\"df-7d38bb9a-b8f2-4a9d-9459-82c572a08b9a\">\n",
              "    <div class=\"colab-df-container\">\n",
              "      <div>\n",
              "<style scoped>\n",
              "    .dataframe tbody tr th:only-of-type {\n",
              "        vertical-align: middle;\n",
              "    }\n",
              "\n",
              "    .dataframe tbody tr th {\n",
              "        vertical-align: top;\n",
              "    }\n",
              "\n",
              "    .dataframe thead th {\n",
              "        text-align: right;\n",
              "    }\n",
              "</style>\n",
              "<table border=\"1\" class=\"dataframe\">\n",
              "  <thead>\n",
              "    <tr style=\"text-align: right;\">\n",
              "      <th></th>\n",
              "      <th>id</th>\n",
              "      <th>contents</th>\n",
              "      <th>chatNoirUrl</th>\n",
              "    </tr>\n",
              "  </thead>\n",
              "  <tbody>\n",
              "    <tr>\n",
              "      <th>0</th>\n",
              "      <td>clueweb12-0000tw-14-21168___1</td>\n",
              "      <td>Shuga: Love, Sex, Money MTV Shuga Home Swag Bl...</td>\n",
              "      <td>https://chatnoir.eu/cache?uuid=f338e91e-a3e9-5...</td>\n",
              "    </tr>\n",
              "    <tr>\n",
              "      <th>1</th>\n",
              "      <td>clueweb12-0000tw-14-21168___2</td>\n",
              "      <td>We LOVE sending #TeamShuga the exclusives. Ban...</td>\n",
              "      <td>https://chatnoir.eu/cache?uuid=f338e91e-a3e9-5...</td>\n",
              "    </tr>\n",
              "    <tr>\n",
              "      <th>2</th>\n",
              "      <td>clueweb12-0000tw-14-21168___3</td>\n",
              "      <td>Now take note.. because you will be seeing a w...</td>\n",
              "      <td>https://chatnoir.eu/cache?uuid=f338e91e-a3e9-5...</td>\n",
              "    </tr>\n",
              "    <tr>\n",
              "      <th>3</th>\n",
              "      <td>clueweb12-0000tw-22-19226___1</td>\n",
              "      <td>Sex and love: The modern matchmakers | The Eco...</td>\n",
              "      <td>https://chatnoir.eu/cache?uuid=2bf4b08d-2f65-5...</td>\n",
              "    </tr>\n",
              "    <tr>\n",
              "      <th>4</th>\n",
              "      <td>clueweb12-0000tw-22-19226___2</td>\n",
              "      <td>But have they? Feb 11th 2012 | from the print ...</td>\n",
              "      <td>https://chatnoir.eu/cache?uuid=2bf4b08d-2f65-5...</td>\n",
              "    </tr>\n",
              "  </tbody>\n",
              "</table>\n",
              "</div>\n",
              "      <button class=\"colab-df-convert\" onclick=\"convertToInteractive('df-7d38bb9a-b8f2-4a9d-9459-82c572a08b9a')\"\n",
              "              title=\"Convert this dataframe to an interactive table.\"\n",
              "              style=\"display:none;\">\n",
              "        \n",
              "  <svg xmlns=\"http://www.w3.org/2000/svg\" height=\"24px\"viewBox=\"0 0 24 24\"\n",
              "       width=\"24px\">\n",
              "    <path d=\"M0 0h24v24H0V0z\" fill=\"none\"/>\n",
              "    <path d=\"M18.56 5.44l.94 2.06.94-2.06 2.06-.94-2.06-.94-.94-2.06-.94 2.06-2.06.94zm-11 1L8.5 8.5l.94-2.06 2.06-.94-2.06-.94L8.5 2.5l-.94 2.06-2.06.94zm10 10l.94 2.06.94-2.06 2.06-.94-2.06-.94-.94-2.06-.94 2.06-2.06.94z\"/><path d=\"M17.41 7.96l-1.37-1.37c-.4-.4-.92-.59-1.43-.59-.52 0-1.04.2-1.43.59L10.3 9.45l-7.72 7.72c-.78.78-.78 2.05 0 2.83L4 21.41c.39.39.9.59 1.41.59.51 0 1.02-.2 1.41-.59l7.78-7.78 2.81-2.81c.8-.78.8-2.07 0-2.86zM5.41 20L4 18.59l7.72-7.72 1.47 1.35L5.41 20z\"/>\n",
              "  </svg>\n",
              "      </button>\n",
              "      \n",
              "  <style>\n",
              "    .colab-df-container {\n",
              "      display:flex;\n",
              "      flex-wrap:wrap;\n",
              "      gap: 12px;\n",
              "    }\n",
              "\n",
              "    .colab-df-convert {\n",
              "      background-color: #E8F0FE;\n",
              "      border: none;\n",
              "      border-radius: 50%;\n",
              "      cursor: pointer;\n",
              "      display: none;\n",
              "      fill: #1967D2;\n",
              "      height: 32px;\n",
              "      padding: 0 0 0 0;\n",
              "      width: 32px;\n",
              "    }\n",
              "\n",
              "    .colab-df-convert:hover {\n",
              "      background-color: #E2EBFA;\n",
              "      box-shadow: 0px 1px 2px rgba(60, 64, 67, 0.3), 0px 1px 3px 1px rgba(60, 64, 67, 0.15);\n",
              "      fill: #174EA6;\n",
              "    }\n",
              "\n",
              "    [theme=dark] .colab-df-convert {\n",
              "      background-color: #3B4455;\n",
              "      fill: #D2E3FC;\n",
              "    }\n",
              "\n",
              "    [theme=dark] .colab-df-convert:hover {\n",
              "      background-color: #434B5C;\n",
              "      box-shadow: 0px 1px 3px 1px rgba(0, 0, 0, 0.15);\n",
              "      filter: drop-shadow(0px 1px 2px rgba(0, 0, 0, 0.3));\n",
              "      fill: #FFFFFF;\n",
              "    }\n",
              "  </style>\n",
              "\n",
              "      <script>\n",
              "        const buttonEl =\n",
              "          document.querySelector('#df-7d38bb9a-b8f2-4a9d-9459-82c572a08b9a button.colab-df-convert');\n",
              "        buttonEl.style.display =\n",
              "          google.colab.kernel.accessAllowed ? 'block' : 'none';\n",
              "\n",
              "        async function convertToInteractive(key) {\n",
              "          const element = document.querySelector('#df-7d38bb9a-b8f2-4a9d-9459-82c572a08b9a');\n",
              "          const dataTable =\n",
              "            await google.colab.kernel.invokeFunction('convertToInteractive',\n",
              "                                                     [key], {});\n",
              "          if (!dataTable) return;\n",
              "\n",
              "          const docLinkHtml = 'Like what you see? Visit the ' +\n",
              "            '<a target=\"_blank\" href=https://colab.research.google.com/notebooks/data_table.ipynb>data table notebook</a>'\n",
              "            + ' to learn more about interactive tables.';\n",
              "          element.innerHTML = '';\n",
              "          dataTable['output_type'] = 'display_data';\n",
              "          await google.colab.output.renderOutput(dataTable, element);\n",
              "          const docLink = document.createElement('div');\n",
              "          docLink.innerHTML = docLinkHtml;\n",
              "          element.appendChild(docLink);\n",
              "        }\n",
              "      </script>\n",
              "    </div>\n",
              "  </div>\n",
              "  "
            ]
          },
          "metadata": {},
          "execution_count": 6
        }
      ]
    },
    {
      "cell_type": "markdown",
      "source": [
        "### Download other datasets"
      ],
      "metadata": {
        "id": "nfe-OtFNa4IY"
      }
    },
    {
      "cell_type": "markdown",
      "source": [
        "At this point we can download:\n",
        "- the list of topics to retrieve all the titles;\n",
        "- the relevance qrels file;\n",
        "- the quality qrels file.\n",
        "\n",
        "The last 2 files contain a relevance and quality scores, associated to a list of documents, with respect to a certain topic.\n",
        "\n",
        "The structure of a .qrels file is:   \n",
        "TOPIC 0 DOC_ID SCORE"
      ],
      "metadata": {
        "id": "qO6Rnxe7VGuy"
      }
    },
    {
      "cell_type": "markdown",
      "source": [
        "#### Topics"
      ],
      "metadata": {
        "id": "-ePDrcVma8Vn"
      }
    },
    {
      "cell_type": "code",
      "source": [
        "# Download and parse the xml file of the topics\n",
        "url_topics = \"https://zenodo.org/record/6873559/files/topics-task-2.zip?download=1\"\n",
        "zip_path_topics = \"topics-task-2.zip\"\n",
        "file_path_topics = \"topics-task-2\"\n",
        "\n",
        "download_topics = utils.manage_files.DownloadFile(file_path_topics, zip_path_topics, url_topics)\n",
        "download_topics()\n",
        "\n",
        "mytree = ET.parse(f\"{download_topics.file_name}/topics-task-2.xml\")\n",
        "myroot = mytree.getroot()\n",
        "\n",
        "topics = list()\n",
        "for item in myroot:\n",
        "    for x in item:        \n",
        "        if x.tag == \"title\": # Specify the field, e.g., title\n",
        "            topics.append(x.text.strip())"
      ],
      "metadata": {
        "colab": {
          "base_uri": "https://localhost:8080/"
        },
        "id": "Qm7ZqmKIUeWC",
        "outputId": "ae5d2420-26cc-47f3-9d48-2a471a339f06"
      },
      "execution_count": 74,
      "outputs": [
        {
          "output_type": "stream",
          "name": "stdout",
          "text": [
            "'/content/downloads/topics-task-2' already present\n"
          ]
        }
      ]
    },
    {
      "cell_type": "code",
      "source": [
        "# We have the 50 topics pre-selected from the team\n",
        "print(f\"There are {len(topics)} topics.\\n{topics}\")"
      ],
      "metadata": {
        "id": "XfeEREZBK4zT",
        "colab": {
          "base_uri": "https://localhost:8080/"
        },
        "outputId": "ca350c57-717b-4499-eafd-aa86f50b5c10"
      },
      "execution_count": 75,
      "outputs": [
        {
          "output_type": "stream",
          "name": "stdout",
          "text": [
            "There are 50 topics.\n",
            "['What is the difference between sex and love?', 'Which is better, a laptop or a desktop?', 'Which is better, Canon or Nikon?', 'What are the best dish detergents?', 'What are the best cities to live in?', 'What is the longest river in the U.S.?', 'Which is healthiest: coffee, green tea or black tea and why?', 'What are the advantages and disadvantages of PHP over Python and vice versa?', 'Why is Linux better than Windows?', 'How to sleep better?', 'Should I buy an LCD TV or a plasma TV?', 'Train or plane? Which is the better choice?', 'What is the highest mountain on Earth?', 'Should one prefer Chinese medicine or Western medicine?', 'What are the best washing machine brands?', 'Should I buy or rent?', 'Do you prefer cats or dogs, and why?', 'What is the better way to grill outdoors: gas or charcoal?', 'Which is better, MAC or PC?', 'What is better: to use a brush or a sponge?', 'Which is better, Linux or Microsoft?', 'Which is better, Pepsi or Coke?', 'What is better, Google search or Yahoo search?', 'Which one is better, Netflix or Blockbuster?', 'Which browser is better, Internet Explorer or Firefox?', 'Which is a better vehicle: BMW or Audi?', 'Which one is better, an electric stove or a gas stove?', 'What planes are best, Boeing or Airbus?', 'Which is better, Disneyland or Disney World?', 'Should I buy an Xbox or a PlayStation?', 'Which has more caffeine, coffee or tea?', 'Which is better, LED or LCD Reception Displays?', 'What is better: ASP or PHP?', 'What is better for the environment, a real or a fake Christmas tree?', 'Do you prefer tampons or pads?', 'What IDE is better for Java: NetBeans or Eclipse?', 'Is OpenGL better than Direct3D in terms of portability to different platforms?', 'What are the differences between MySQL and PostgreSQL in performance?', 'Is Java code more readable than code written in Scala?', 'Which operating system has better performance: Windows 7 or Windows 8?', 'Which smartphone has a better battery life: Xperia or iPhone?', 'Which four wheel truck is better: Ford or Toyota?', 'Should I prefer a Leica camera over Nikon for portrait photographs?', 'Which company has a larger capitalization: Apple or Microsoft?', 'Which laptop has a better durability: HP or Dell?', 'Which beverage has more calories per glass: beer or cider?', 'Is admission rate in Stanford higher than that of MIT?', 'Is pasta healthier than pizza?', 'Which city is more expensive to live in: San Francisco or New York?', 'Whose salary is higher: basketball or soccer players?']\n"
          ]
        }
      ]
    },
    {
      "cell_type": "markdown",
      "source": [
        "#### Documents relevance for each topic"
      ],
      "metadata": {
        "id": "HgxWH2KYa-3G"
      }
    },
    {
      "cell_type": "code",
      "source": [
        "# Download relevance qrels\n",
        "url_relevance = \"https://zenodo.org/record/6873567/files/touche-task2-2022-relevance.qrels?download=1\"\n",
        "file_path_rel = \"relevance.qrels\"\n",
        "\n",
        "download_relevance = utils.manage_files.DownloadFile(file_path_rel, url=url_relevance)\n",
        "download_relevance()"
      ],
      "metadata": {
        "colab": {
          "base_uri": "https://localhost:8080/"
        },
        "id": "LZ4WfkcIZeiF",
        "outputId": "a24e878a-b85a-45fc-b362-0a76f6d274dc"
      },
      "execution_count": 28,
      "outputs": [
        {
          "output_type": "stream",
          "name": "stderr",
          "text": [
            "Downloading file: 100%|██████████| 78.4k/78.4k [00:00<00:00, 512kB/s]\n"
          ]
        }
      ]
    },
    {
      "cell_type": "code",
      "source": [
        "relevance_df = pd.read_csv(download_relevance.file_name, \n",
        "                           names=[\"topic\", \"0\", \"doc_id\", \"relevance\"], sep=\" \")\n",
        "\n",
        "relevance_df.head()"
      ],
      "metadata": {
        "colab": {
          "base_uri": "https://localhost:8080/",
          "height": 206
        },
        "id": "dLizuc6CaF_J",
        "outputId": "c54a5c38-9a0f-4aee-c8ab-ed8a04adcd86"
      },
      "execution_count": 29,
      "outputs": [
        {
          "output_type": "execute_result",
          "data": {
            "text/plain": [
              "   topic  0                           doc_id  relevance\n",
              "0     12  0    clueweb12-0002wb-18-34442___2          0\n",
              "1     12  0  clueweb12-0004wb-69-30215___112          0\n",
              "2     12  0    clueweb12-0004wb-78-20304___1          1\n",
              "3     12  0   clueweb12-0004wb-78-20304___11          2\n",
              "4     12  0    clueweb12-0008wb-62-05967___1          0"
            ],
            "text/html": [
              "\n",
              "  <div id=\"df-93fdef16-14cc-4670-b3a7-e0f9d47ec509\">\n",
              "    <div class=\"colab-df-container\">\n",
              "      <div>\n",
              "<style scoped>\n",
              "    .dataframe tbody tr th:only-of-type {\n",
              "        vertical-align: middle;\n",
              "    }\n",
              "\n",
              "    .dataframe tbody tr th {\n",
              "        vertical-align: top;\n",
              "    }\n",
              "\n",
              "    .dataframe thead th {\n",
              "        text-align: right;\n",
              "    }\n",
              "</style>\n",
              "<table border=\"1\" class=\"dataframe\">\n",
              "  <thead>\n",
              "    <tr style=\"text-align: right;\">\n",
              "      <th></th>\n",
              "      <th>topic</th>\n",
              "      <th>0</th>\n",
              "      <th>doc_id</th>\n",
              "      <th>relevance</th>\n",
              "    </tr>\n",
              "  </thead>\n",
              "  <tbody>\n",
              "    <tr>\n",
              "      <th>0</th>\n",
              "      <td>12</td>\n",
              "      <td>0</td>\n",
              "      <td>clueweb12-0002wb-18-34442___2</td>\n",
              "      <td>0</td>\n",
              "    </tr>\n",
              "    <tr>\n",
              "      <th>1</th>\n",
              "      <td>12</td>\n",
              "      <td>0</td>\n",
              "      <td>clueweb12-0004wb-69-30215___112</td>\n",
              "      <td>0</td>\n",
              "    </tr>\n",
              "    <tr>\n",
              "      <th>2</th>\n",
              "      <td>12</td>\n",
              "      <td>0</td>\n",
              "      <td>clueweb12-0004wb-78-20304___1</td>\n",
              "      <td>1</td>\n",
              "    </tr>\n",
              "    <tr>\n",
              "      <th>3</th>\n",
              "      <td>12</td>\n",
              "      <td>0</td>\n",
              "      <td>clueweb12-0004wb-78-20304___11</td>\n",
              "      <td>2</td>\n",
              "    </tr>\n",
              "    <tr>\n",
              "      <th>4</th>\n",
              "      <td>12</td>\n",
              "      <td>0</td>\n",
              "      <td>clueweb12-0008wb-62-05967___1</td>\n",
              "      <td>0</td>\n",
              "    </tr>\n",
              "  </tbody>\n",
              "</table>\n",
              "</div>\n",
              "      <button class=\"colab-df-convert\" onclick=\"convertToInteractive('df-93fdef16-14cc-4670-b3a7-e0f9d47ec509')\"\n",
              "              title=\"Convert this dataframe to an interactive table.\"\n",
              "              style=\"display:none;\">\n",
              "        \n",
              "  <svg xmlns=\"http://www.w3.org/2000/svg\" height=\"24px\"viewBox=\"0 0 24 24\"\n",
              "       width=\"24px\">\n",
              "    <path d=\"M0 0h24v24H0V0z\" fill=\"none\"/>\n",
              "    <path d=\"M18.56 5.44l.94 2.06.94-2.06 2.06-.94-2.06-.94-.94-2.06-.94 2.06-2.06.94zm-11 1L8.5 8.5l.94-2.06 2.06-.94-2.06-.94L8.5 2.5l-.94 2.06-2.06.94zm10 10l.94 2.06.94-2.06 2.06-.94-2.06-.94-.94-2.06-.94 2.06-2.06.94z\"/><path d=\"M17.41 7.96l-1.37-1.37c-.4-.4-.92-.59-1.43-.59-.52 0-1.04.2-1.43.59L10.3 9.45l-7.72 7.72c-.78.78-.78 2.05 0 2.83L4 21.41c.39.39.9.59 1.41.59.51 0 1.02-.2 1.41-.59l7.78-7.78 2.81-2.81c.8-.78.8-2.07 0-2.86zM5.41 20L4 18.59l7.72-7.72 1.47 1.35L5.41 20z\"/>\n",
              "  </svg>\n",
              "      </button>\n",
              "      \n",
              "  <style>\n",
              "    .colab-df-container {\n",
              "      display:flex;\n",
              "      flex-wrap:wrap;\n",
              "      gap: 12px;\n",
              "    }\n",
              "\n",
              "    .colab-df-convert {\n",
              "      background-color: #E8F0FE;\n",
              "      border: none;\n",
              "      border-radius: 50%;\n",
              "      cursor: pointer;\n",
              "      display: none;\n",
              "      fill: #1967D2;\n",
              "      height: 32px;\n",
              "      padding: 0 0 0 0;\n",
              "      width: 32px;\n",
              "    }\n",
              "\n",
              "    .colab-df-convert:hover {\n",
              "      background-color: #E2EBFA;\n",
              "      box-shadow: 0px 1px 2px rgba(60, 64, 67, 0.3), 0px 1px 3px 1px rgba(60, 64, 67, 0.15);\n",
              "      fill: #174EA6;\n",
              "    }\n",
              "\n",
              "    [theme=dark] .colab-df-convert {\n",
              "      background-color: #3B4455;\n",
              "      fill: #D2E3FC;\n",
              "    }\n",
              "\n",
              "    [theme=dark] .colab-df-convert:hover {\n",
              "      background-color: #434B5C;\n",
              "      box-shadow: 0px 1px 3px 1px rgba(0, 0, 0, 0.15);\n",
              "      filter: drop-shadow(0px 1px 2px rgba(0, 0, 0, 0.3));\n",
              "      fill: #FFFFFF;\n",
              "    }\n",
              "  </style>\n",
              "\n",
              "      <script>\n",
              "        const buttonEl =\n",
              "          document.querySelector('#df-93fdef16-14cc-4670-b3a7-e0f9d47ec509 button.colab-df-convert');\n",
              "        buttonEl.style.display =\n",
              "          google.colab.kernel.accessAllowed ? 'block' : 'none';\n",
              "\n",
              "        async function convertToInteractive(key) {\n",
              "          const element = document.querySelector('#df-93fdef16-14cc-4670-b3a7-e0f9d47ec509');\n",
              "          const dataTable =\n",
              "            await google.colab.kernel.invokeFunction('convertToInteractive',\n",
              "                                                     [key], {});\n",
              "          if (!dataTable) return;\n",
              "\n",
              "          const docLinkHtml = 'Like what you see? Visit the ' +\n",
              "            '<a target=\"_blank\" href=https://colab.research.google.com/notebooks/data_table.ipynb>data table notebook</a>'\n",
              "            + ' to learn more about interactive tables.';\n",
              "          element.innerHTML = '';\n",
              "          dataTable['output_type'] = 'display_data';\n",
              "          await google.colab.output.renderOutput(dataTable, element);\n",
              "          const docLink = document.createElement('div');\n",
              "          docLink.innerHTML = docLinkHtml;\n",
              "          element.appendChild(docLink);\n",
              "        }\n",
              "      </script>\n",
              "    </div>\n",
              "  </div>\n",
              "  "
            ]
          },
          "metadata": {},
          "execution_count": 29
        }
      ]
    },
    {
      "cell_type": "markdown",
      "source": [
        "#### Documents quality for each topic"
      ],
      "metadata": {
        "id": "HIGPvzcZbFZW"
      }
    },
    {
      "cell_type": "code",
      "source": [
        "# Download relevance qrels\n",
        "url_quality = \"https://zenodo.org/record/6873567/files/touche-task2-2022-quality.qrels?download=1\"\n",
        "file_path_qual = \"quality.qrels\"\n",
        "\n",
        "download_quality = utils.manage_files.DownloadFile(file_path_qual, url=url_quality)\n",
        "download_quality()"
      ],
      "metadata": {
        "colab": {
          "base_uri": "https://localhost:8080/"
        },
        "id": "rQxLoLPpbOgD",
        "outputId": "224bfa73-f7f1-42d3-9e91-bb975b191cbe"
      },
      "execution_count": 30,
      "outputs": [
        {
          "output_type": "stream",
          "name": "stderr",
          "text": [
            "Downloading file: 100%|██████████| 78.4k/78.4k [00:00<00:00, 493kB/s]\n"
          ]
        }
      ]
    },
    {
      "cell_type": "code",
      "source": [
        "quality_df = pd.read_csv(download_quality.file_name, \n",
        "                           names=[\"topic\", \"0\", \"doc_id\", \"quality\"], sep=\" \")\n",
        "\n",
        "quality_df.head()"
      ],
      "metadata": {
        "colab": {
          "base_uri": "https://localhost:8080/",
          "height": 206
        },
        "id": "HnOhnBQKbQzK",
        "outputId": "fd40c4ae-bb8d-4af4-b001-2d19cbf3997e"
      },
      "execution_count": 32,
      "outputs": [
        {
          "output_type": "execute_result",
          "data": {
            "text/plain": [
              "   topic  0                           doc_id  quality\n",
              "0     12  0    clueweb12-0002wb-18-34442___2        2\n",
              "1     12  0  clueweb12-0004wb-69-30215___112        2\n",
              "2     12  0    clueweb12-0004wb-78-20304___1        2\n",
              "3     12  0   clueweb12-0004wb-78-20304___11        2\n",
              "4     12  0    clueweb12-0008wb-62-05967___1        0"
            ],
            "text/html": [
              "\n",
              "  <div id=\"df-0a928d88-99c5-433b-8fc8-3c56a33615f3\">\n",
              "    <div class=\"colab-df-container\">\n",
              "      <div>\n",
              "<style scoped>\n",
              "    .dataframe tbody tr th:only-of-type {\n",
              "        vertical-align: middle;\n",
              "    }\n",
              "\n",
              "    .dataframe tbody tr th {\n",
              "        vertical-align: top;\n",
              "    }\n",
              "\n",
              "    .dataframe thead th {\n",
              "        text-align: right;\n",
              "    }\n",
              "</style>\n",
              "<table border=\"1\" class=\"dataframe\">\n",
              "  <thead>\n",
              "    <tr style=\"text-align: right;\">\n",
              "      <th></th>\n",
              "      <th>topic</th>\n",
              "      <th>0</th>\n",
              "      <th>doc_id</th>\n",
              "      <th>quality</th>\n",
              "    </tr>\n",
              "  </thead>\n",
              "  <tbody>\n",
              "    <tr>\n",
              "      <th>0</th>\n",
              "      <td>12</td>\n",
              "      <td>0</td>\n",
              "      <td>clueweb12-0002wb-18-34442___2</td>\n",
              "      <td>2</td>\n",
              "    </tr>\n",
              "    <tr>\n",
              "      <th>1</th>\n",
              "      <td>12</td>\n",
              "      <td>0</td>\n",
              "      <td>clueweb12-0004wb-69-30215___112</td>\n",
              "      <td>2</td>\n",
              "    </tr>\n",
              "    <tr>\n",
              "      <th>2</th>\n",
              "      <td>12</td>\n",
              "      <td>0</td>\n",
              "      <td>clueweb12-0004wb-78-20304___1</td>\n",
              "      <td>2</td>\n",
              "    </tr>\n",
              "    <tr>\n",
              "      <th>3</th>\n",
              "      <td>12</td>\n",
              "      <td>0</td>\n",
              "      <td>clueweb12-0004wb-78-20304___11</td>\n",
              "      <td>2</td>\n",
              "    </tr>\n",
              "    <tr>\n",
              "      <th>4</th>\n",
              "      <td>12</td>\n",
              "      <td>0</td>\n",
              "      <td>clueweb12-0008wb-62-05967___1</td>\n",
              "      <td>0</td>\n",
              "    </tr>\n",
              "  </tbody>\n",
              "</table>\n",
              "</div>\n",
              "      <button class=\"colab-df-convert\" onclick=\"convertToInteractive('df-0a928d88-99c5-433b-8fc8-3c56a33615f3')\"\n",
              "              title=\"Convert this dataframe to an interactive table.\"\n",
              "              style=\"display:none;\">\n",
              "        \n",
              "  <svg xmlns=\"http://www.w3.org/2000/svg\" height=\"24px\"viewBox=\"0 0 24 24\"\n",
              "       width=\"24px\">\n",
              "    <path d=\"M0 0h24v24H0V0z\" fill=\"none\"/>\n",
              "    <path d=\"M18.56 5.44l.94 2.06.94-2.06 2.06-.94-2.06-.94-.94-2.06-.94 2.06-2.06.94zm-11 1L8.5 8.5l.94-2.06 2.06-.94-2.06-.94L8.5 2.5l-.94 2.06-2.06.94zm10 10l.94 2.06.94-2.06 2.06-.94-2.06-.94-.94-2.06-.94 2.06-2.06.94z\"/><path d=\"M17.41 7.96l-1.37-1.37c-.4-.4-.92-.59-1.43-.59-.52 0-1.04.2-1.43.59L10.3 9.45l-7.72 7.72c-.78.78-.78 2.05 0 2.83L4 21.41c.39.39.9.59 1.41.59.51 0 1.02-.2 1.41-.59l7.78-7.78 2.81-2.81c.8-.78.8-2.07 0-2.86zM5.41 20L4 18.59l7.72-7.72 1.47 1.35L5.41 20z\"/>\n",
              "  </svg>\n",
              "      </button>\n",
              "      \n",
              "  <style>\n",
              "    .colab-df-container {\n",
              "      display:flex;\n",
              "      flex-wrap:wrap;\n",
              "      gap: 12px;\n",
              "    }\n",
              "\n",
              "    .colab-df-convert {\n",
              "      background-color: #E8F0FE;\n",
              "      border: none;\n",
              "      border-radius: 50%;\n",
              "      cursor: pointer;\n",
              "      display: none;\n",
              "      fill: #1967D2;\n",
              "      height: 32px;\n",
              "      padding: 0 0 0 0;\n",
              "      width: 32px;\n",
              "    }\n",
              "\n",
              "    .colab-df-convert:hover {\n",
              "      background-color: #E2EBFA;\n",
              "      box-shadow: 0px 1px 2px rgba(60, 64, 67, 0.3), 0px 1px 3px 1px rgba(60, 64, 67, 0.15);\n",
              "      fill: #174EA6;\n",
              "    }\n",
              "\n",
              "    [theme=dark] .colab-df-convert {\n",
              "      background-color: #3B4455;\n",
              "      fill: #D2E3FC;\n",
              "    }\n",
              "\n",
              "    [theme=dark] .colab-df-convert:hover {\n",
              "      background-color: #434B5C;\n",
              "      box-shadow: 0px 1px 3px 1px rgba(0, 0, 0, 0.15);\n",
              "      filter: drop-shadow(0px 1px 2px rgba(0, 0, 0, 0.3));\n",
              "      fill: #FFFFFF;\n",
              "    }\n",
              "  </style>\n",
              "\n",
              "      <script>\n",
              "        const buttonEl =\n",
              "          document.querySelector('#df-0a928d88-99c5-433b-8fc8-3c56a33615f3 button.colab-df-convert');\n",
              "        buttonEl.style.display =\n",
              "          google.colab.kernel.accessAllowed ? 'block' : 'none';\n",
              "\n",
              "        async function convertToInteractive(key) {\n",
              "          const element = document.querySelector('#df-0a928d88-99c5-433b-8fc8-3c56a33615f3');\n",
              "          const dataTable =\n",
              "            await google.colab.kernel.invokeFunction('convertToInteractive',\n",
              "                                                     [key], {});\n",
              "          if (!dataTable) return;\n",
              "\n",
              "          const docLinkHtml = 'Like what you see? Visit the ' +\n",
              "            '<a target=\"_blank\" href=https://colab.research.google.com/notebooks/data_table.ipynb>data table notebook</a>'\n",
              "            + ' to learn more about interactive tables.';\n",
              "          element.innerHTML = '';\n",
              "          dataTable['output_type'] = 'display_data';\n",
              "          await google.colab.output.renderOutput(dataTable, element);\n",
              "          const docLink = document.createElement('div');\n",
              "          docLink.innerHTML = docLinkHtml;\n",
              "          element.appendChild(docLink);\n",
              "        }\n",
              "      </script>\n",
              "    </div>\n",
              "  </div>\n",
              "  "
            ]
          },
          "metadata": {},
          "execution_count": 32
        }
      ]
    },
    {
      "cell_type": "markdown",
      "source": [
        "### Example to test our comprehension of the datasets"
      ],
      "metadata": {
        "id": "PNsNSRSUcgC7"
      }
    },
    {
      "cell_type": "code",
      "source": [
        "def retrieve_doc_url(topic, relevance, rel_df, corp_df):\n",
        "    print(f\"Topic: {topic} - Relevance: {relevance}\")\n",
        "    id_list = rel_df[(rel_df['topic']==topic) & (rel_df['relevance']==relevance)]['doc_id']\n",
        "    \n",
        "    url_list = [corp_df[corp_df['id']==doc]['chatNoirUrl'].item() for doc in id_list]\n",
        "    return url_list"
      ],
      "metadata": {
        "id": "uf6prYO3nO_y"
      },
      "execution_count": 99,
      "outputs": []
    },
    {
      "cell_type": "code",
      "source": [
        "# List of topics taken from qrels files.\n",
        "np.sort(relevance_df.topic.unique())"
      ],
      "metadata": {
        "colab": {
          "base_uri": "https://localhost:8080/"
        },
        "id": "GaPzv-48j4xs",
        "outputId": "99e58fcc-ca0f-4607-c974-ee4044a1dd69"
      },
      "execution_count": 106,
      "outputs": [
        {
          "output_type": "execute_result",
          "data": {
            "text/plain": [
              "array([  2,   3,   8,   9,  12,  14,  17,  18,  19,  22,  23,  25,  26,\n",
              "        27,  28,  30,  33,  34,  36,  37,  42,  43,  48,  51,  53,  54,\n",
              "        55,  56,  58,  59,  60,  61,  62,  67,  68,  69,  70,  72,  74,\n",
              "        76,  77,  78,  84,  86,  88,  91,  92,  93,  95, 100])"
            ]
          },
          "metadata": {},
          "execution_count": 106
        }
      ]
    },
    {
      "cell_type": "markdown",
      "source": [
        "In this example we retrieve the documents that tell about coke and pepsi and it's perfectly linked with the corrispondent element in the topics list."
      ],
      "metadata": {
        "id": "EFY_BhuPt6Qt"
      }
    },
    {
      "cell_type": "code",
      "source": [
        "retrieve_doc_url(22, 2, relevance_df, corpus_df)"
      ],
      "metadata": {
        "colab": {
          "base_uri": "https://localhost:8080/"
        },
        "id": "x5JoxwBkhoKW",
        "outputId": "7b06ae80-720a-4610-ce47-6e63d63ad03d"
      },
      "execution_count": 114,
      "outputs": [
        {
          "output_type": "stream",
          "name": "stdout",
          "text": [
            "Topic: 22 - Relevance: 2\n"
          ]
        },
        {
          "output_type": "execute_result",
          "data": {
            "text/plain": [
              "['https://chatnoir.eu/cache?uuid=3bc329ee-561c-57a5-b3f8-aafeaedd8f2e&index=cw12&raw&plain',\n",
              " 'https://chatnoir.eu/cache?uuid=3bc329ee-561c-57a5-b3f8-aafeaedd8f2e&index=cw12&raw&plain',\n",
              " 'https://chatnoir.eu/cache?uuid=c025fcf1-a94c-527b-b1d4-6cc611158db7&index=cw12&raw&plain',\n",
              " 'https://chatnoir.eu/cache?uuid=866c99ee-bd46-5785-9adc-8ff91a461c97&index=cw12&raw&plain',\n",
              " 'https://chatnoir.eu/cache?uuid=7e56edda-fae8-5204-8405-bf82671782c8&index=cw12&raw&plain',\n",
              " 'https://chatnoir.eu/cache?uuid=c4bf5091-a6db-5e5d-9ed6-43328bd6451c&index=cw12&raw&plain',\n",
              " 'https://chatnoir.eu/cache?uuid=ce4a164e-d16b-5eb4-9316-2f0bab2b67b1&index=cw12&raw&plain',\n",
              " 'https://chatnoir.eu/cache?uuid=ce4a164e-d16b-5eb4-9316-2f0bab2b67b1&index=cw12&raw&plain',\n",
              " 'https://chatnoir.eu/cache?uuid=4ed41510-6cca-5c6b-a35c-d00d267a7c61&index=cw12&raw&plain']"
            ]
          },
          "metadata": {},
          "execution_count": 114
        }
      ]
    },
    {
      "cell_type": "code",
      "source": [
        "topics[21]"
      ],
      "metadata": {
        "colab": {
          "base_uri": "https://localhost:8080/",
          "height": 36
        },
        "id": "2iUqHyYcl3eh",
        "outputId": "8c69f030-8876-4916-9312-4f5d3a248efc"
      },
      "execution_count": 116,
      "outputs": [
        {
          "output_type": "execute_result",
          "data": {
            "text/plain": [
              "'Which is better, Pepsi or Coke?'"
            ],
            "application/vnd.google.colaboratory.intrinsic+json": {
              "type": "string"
            }
          },
          "metadata": {},
          "execution_count": 116
        }
      ]
    },
    {
      "cell_type": "markdown",
      "source": [
        "But if we take an index greater than 50, we cannot find the relative argument in the list of topics."
      ],
      "metadata": {
        "id": "vgT4V0SPuKAZ"
      }
    },
    {
      "cell_type": "code",
      "source": [
        "retrieve_doc_url(68, 2, relevance_df, corpus_df)"
      ],
      "metadata": {
        "colab": {
          "base_uri": "https://localhost:8080/"
        },
        "id": "l_LCllc_uQ-q",
        "outputId": "7af25831-a72f-4fd6-b91e-b7742d7f57b9"
      },
      "execution_count": 117,
      "outputs": [
        {
          "output_type": "stream",
          "name": "stdout",
          "text": [
            "Topic: 68 - Relevance: 2\n"
          ]
        },
        {
          "output_type": "execute_result",
          "data": {
            "text/plain": [
              "['https://chatnoir.eu/cache?uuid=276071f3-3a6f-5c94-a9de-243e56c9020f&index=cw12&raw&plain',\n",
              " 'https://chatnoir.eu/cache?uuid=6919863e-05fa-587e-9fd9-1d1d3e450c40&index=cw12&raw&plain',\n",
              " 'https://chatnoir.eu/cache?uuid=af291c09-2f4e-546e-b78f-59d88645eb93&index=cw12&raw&plain',\n",
              " 'https://chatnoir.eu/cache?uuid=af291c09-2f4e-546e-b78f-59d88645eb93&index=cw12&raw&plain',\n",
              " 'https://chatnoir.eu/cache?uuid=6ce714c4-771b-545b-bba9-e9af68224de8&index=cw12&raw&plain',\n",
              " 'https://chatnoir.eu/cache?uuid=e6992587-24fb-5ebd-a534-b8d534b27bf1&index=cw12&raw&plain',\n",
              " 'https://chatnoir.eu/cache?uuid=810d0f49-ef8f-5f49-9961-4cf6832ac580&index=cw12&raw&plain',\n",
              " 'https://chatnoir.eu/cache?uuid=810d0f49-ef8f-5f49-9961-4cf6832ac580&index=cw12&raw&plain',\n",
              " 'https://chatnoir.eu/cache?uuid=2ed4492d-48ff-56bc-a5d8-de36d4e45f5e&index=cw12&raw&plain',\n",
              " 'https://chatnoir.eu/cache?uuid=2ed4492d-48ff-56bc-a5d8-de36d4e45f5e&index=cw12&raw&plain',\n",
              " 'https://chatnoir.eu/cache?uuid=0ea29b80-b1cb-5454-b6e3-be769f9a90b9&index=cw12&raw&plain']"
            ]
          },
          "metadata": {},
          "execution_count": 117
        }
      ]
    }
  ],
  "metadata": {
    "kernelspec": {
      "display_name": "pysci",
      "language": "python",
      "name": "python3"
    },
    "language_info": {
      "codemirror_mode": {
        "name": "ipython",
        "version": 3
      },
      "file_extension": ".py",
      "mimetype": "text/x-python",
      "name": "python",
      "nbconvert_exporter": "python",
      "pygments_lexer": "ipython3",
      "version": "3.10.6"
    },
    "orig_nbformat": 4,
    "vscode": {
      "interpreter": {
        "hash": "bd4d4dc071430cb7377eda019ca70777a2da1723ff9a3eacefae41ce5c18d4b7"
      }
    },
    "colab": {
      "provenance": [],
      "collapsed_sections": [
        "-ZgAMxoJThhV",
        "-ePDrcVma8Vn",
        "HgxWH2KYa-3G",
        "HIGPvzcZbFZW"
      ]
    }
  },
  "nbformat": 4,
  "nbformat_minor": 0
}