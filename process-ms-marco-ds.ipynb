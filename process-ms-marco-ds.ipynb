{
 "cells": [
  {
   "cell_type": "code",
   "execution_count": 1,
   "metadata": {},
   "outputs": [],
   "source": [
    "%load_ext autoreload\n",
    "%autoreload 2"
   ]
  },
  {
   "cell_type": "code",
   "execution_count": 6,
   "metadata": {},
   "outputs": [],
   "source": [
    "import os\n",
    "import re\n",
    "\n",
    "import matplotlib.pyplot as plt\n",
    "import numpy as np\n",
    "import pandas as pd\n",
    "\n",
    "import utils.manage_files"
   ]
  },
  {
   "attachments": {},
   "cell_type": "markdown",
   "metadata": {},
   "source": [
    "# MS-Marco dataset\n"
   ]
  },
  {
   "cell_type": "code",
   "execution_count": 8,
   "metadata": {},
   "outputs": [
    {
     "name": "stderr",
     "output_type": "stream",
     "text": [
      "Downloading file: 100%|██████████| 190M/190M [00:28<00:00, 6.59MB/s] \n"
     ]
    }
   ],
   "source": [
    "url = \"https://zenodo.org/record/6873567/files/marco_comp_all_fields.tsv?download=1\"\n",
    "file_name = \"marco_comp_all_fields.tsv\"\n",
    "\n",
    "download_file = utils.manage_files.DownloadFile(file_name, url=url)\n",
    "download_file()"
   ]
  },
  {
   "cell_type": "code",
   "execution_count": 2,
   "metadata": {},
   "outputs": [],
   "source": [
    "class StringParser:\n",
    "    def __init__(self):\n",
    "        docs_str = r\"\"\"\n",
    "            # e.g. 'is_selected': 0\n",
    "            {(?P<quotesel>\\\"|')is_selected(?P=quotesel):\\s(?P<sel>0|1),\\s\n",
    "\n",
    "            # e.g. 'passage_text': 'hello world'\n",
    "            (?P<quotetext>\\\"|')passage_text(?P=quotetext):\\s(?P<quotetext2>\\\"|')(?P<text>.*?)(?P=quotetext2),\\s\n",
    "\n",
    "            # e.g. 'url': 'http://foo.bar.com'\n",
    "            (?P<quoteurl>\\\"|')url(?P=quoteurl):\\s(?P<quoteurl2>\\\"|')(?P<url>.*?)(?P=quoteurl2)}\n",
    "        \"\"\"\n",
    "        self.PASSAGE = re.compile(docs_str, re.VERBOSE)\n",
    "        self.ANSWER = re.compile(r\"(?P<quote>\\\"|')(?P<text>.*?)(?P=quote)\")\n",
    "\n",
    "    def parse_passages(self, s: str):\n",
    "        return [\n",
    "            {\n",
    "                \"is_selected\": int(m.group(\"sel\")),\n",
    "                \"passage_text\": m.group(\"text\"),\n",
    "                \"url\": m.group(\"url\"),\n",
    "            }\n",
    "            for m in self.PASSAGE.finditer(s)\n",
    "        ]\n",
    "\n",
    "    def parse_answers(self, s: str):\n",
    "        return [m.group(\"text\") for m in self.ANSWER.finditer(s)]\n",
    "\n",
    "\n",
    "string_parser = StringParser()\n"
   ]
  },
  {
   "attachments": {},
   "cell_type": "markdown",
   "metadata": {},
   "source": [
    "Dataset read.\n"
   ]
  },
  {
   "cell_type": "code",
   "execution_count": 9,
   "metadata": {},
   "outputs": [
    {
     "data": {
      "text/html": [
       "<div>\n",
       "<style scoped>\n",
       "    .dataframe tbody tr th:only-of-type {\n",
       "        vertical-align: middle;\n",
       "    }\n",
       "\n",
       "    .dataframe tbody tr th {\n",
       "        vertical-align: top;\n",
       "    }\n",
       "\n",
       "    .dataframe thead th {\n",
       "        text-align: right;\n",
       "    }\n",
       "</style>\n",
       "<table border=\"1\" class=\"dataframe\">\n",
       "  <thead>\n",
       "    <tr style=\"text-align: right;\">\n",
       "      <th></th>\n",
       "      <th>question</th>\n",
       "      <th>query_id</th>\n",
       "      <th>wellFormedAnswers</th>\n",
       "      <th>passages</th>\n",
       "      <th>answers</th>\n",
       "      <th>query_type</th>\n",
       "    </tr>\n",
       "  </thead>\n",
       "  <tbody>\n",
       "    <tr>\n",
       "      <th>0</th>\n",
       "      <td>is the atlanta airport the busiest in the world</td>\n",
       "      <td>1174762</td>\n",
       "      <td>[]</td>\n",
       "      <td>[{'is_selected': 0, 'passage_text': 'While Chi...</td>\n",
       "      <td>['No Answer Present.']</td>\n",
       "      <td>LOCATION</td>\n",
       "    </tr>\n",
       "    <tr>\n",
       "      <th>1</th>\n",
       "      <td>most romantic hotels in bahamas</td>\n",
       "      <td>459200</td>\n",
       "      <td>[]</td>\n",
       "      <td>[{'is_selected': 0, 'passage_text': \"Thank You...</td>\n",
       "      <td>['No Answer Present.']</td>\n",
       "      <td>PERSON</td>\n",
       "    </tr>\n",
       "    <tr>\n",
       "      <th>2</th>\n",
       "      <td>benefits of a weaker dollar</td>\n",
       "      <td>50251</td>\n",
       "      <td>[]</td>\n",
       "      <td>[{'is_selected': 1, 'passage_text': 'The Benef...</td>\n",
       "      <td>['The Benefits of a Weak Dollar Despite expres...</td>\n",
       "      <td>DESCRIPTION</td>\n",
       "    </tr>\n",
       "    <tr>\n",
       "      <th>3</th>\n",
       "      <td>what distinguishes a macronutrient from a micr...</td>\n",
       "      <td>621519</td>\n",
       "      <td>['The difference between a macronutrient and a...</td>\n",
       "      <td>[{'is_selected': 1, 'passage_text': \"Macronutr...</td>\n",
       "      <td>['Macronutrients mainly include carbohydrates,...</td>\n",
       "      <td>DESCRIPTION</td>\n",
       "    </tr>\n",
       "    <tr>\n",
       "      <th>4</th>\n",
       "      <td>united states postal service roseburg or</td>\n",
       "      <td>532464</td>\n",
       "      <td>[]</td>\n",
       "      <td>[{'is_selected': 0, 'passage_text': 'United St...</td>\n",
       "      <td>['It is located at the address 1304 Ne Cedar S...</td>\n",
       "      <td>DESCRIPTION</td>\n",
       "    </tr>\n",
       "  </tbody>\n",
       "</table>\n",
       "</div>"
      ],
      "text/plain": [
       "                                            question  query_id  \\\n",
       "0    is the atlanta airport the busiest in the world   1174762   \n",
       "1                    most romantic hotels in bahamas    459200   \n",
       "2                        benefits of a weaker dollar     50251   \n",
       "3  what distinguishes a macronutrient from a micr...    621519   \n",
       "4           united states postal service roseburg or    532464   \n",
       "\n",
       "                                   wellFormedAnswers  \\\n",
       "0                                                 []   \n",
       "1                                                 []   \n",
       "2                                                 []   \n",
       "3  ['The difference between a macronutrient and a...   \n",
       "4                                                 []   \n",
       "\n",
       "                                            passages  \\\n",
       "0  [{'is_selected': 0, 'passage_text': 'While Chi...   \n",
       "1  [{'is_selected': 0, 'passage_text': \"Thank You...   \n",
       "2  [{'is_selected': 1, 'passage_text': 'The Benef...   \n",
       "3  [{'is_selected': 1, 'passage_text': \"Macronutr...   \n",
       "4  [{'is_selected': 0, 'passage_text': 'United St...   \n",
       "\n",
       "                                             answers   query_type  \n",
       "0                             ['No Answer Present.']     LOCATION  \n",
       "1                             ['No Answer Present.']       PERSON  \n",
       "2  ['The Benefits of a Weak Dollar Despite expres...  DESCRIPTION  \n",
       "3  ['Macronutrients mainly include carbohydrates,...  DESCRIPTION  \n",
       "4  ['It is located at the address 1304 Ne Cedar S...  DESCRIPTION  "
      ]
     },
     "execution_count": 9,
     "metadata": {},
     "output_type": "execute_result"
    }
   ],
   "source": [
    "df = pd.read_csv(download_file.file_name, sep=\"\\t\")\n",
    "df.head()"
   ]
  },
  {
   "attachments": {},
   "cell_type": "markdown",
   "metadata": {},
   "source": [
    "## Observe data\n"
   ]
  },
  {
   "attachments": {},
   "cell_type": "markdown",
   "metadata": {},
   "source": [
    "### Well-formed answers\n",
    "\n",
    "Well-formed answers are more relevant for generative models, i.e. the answer is generated rather than being extracted from the available texts. Our goal is toward a retrieval model, hence we are not interested in this type of answers.\n"
   ]
  },
  {
   "attachments": {},
   "cell_type": "markdown",
   "metadata": {},
   "source": [
    "There are 7217 well-formed answers in the dataset.\n"
   ]
  },
  {
   "cell_type": "code",
   "execution_count": 4,
   "metadata": {},
   "outputs": [
    {
     "name": "stdout",
     "output_type": "stream",
     "text": [
      "Numer of rows: 7217\n"
     ]
    }
   ],
   "source": [
    "df_wf = df[df[\"wellFormedAnswers\"].map(len) > 2]\n",
    "\n",
    "print(f\"Numer of rows: {df_wf.shape[0]}\")\n"
   ]
  },
  {
   "attachments": {},
   "cell_type": "markdown",
   "metadata": {},
   "source": [
    "Difference between a well-formed answer and a retrieved one. The former is not extracted directly from the passage text, but it's generated.\n"
   ]
  },
  {
   "cell_type": "code",
   "execution_count": 5,
   "metadata": {},
   "outputs": [
    {
     "name": "stdout",
     "output_type": "stream",
     "text": [
      "Question: what distinguishes a macronutrient from a micronutrient\n",
      "\n",
      "Well-formed answer: ['The difference between a macronutrient and a micronutrient, macronutrients mainly include carbohydrates, proteins and fats and also water which are required in large quantities whereas, micronutrients mainly comprise vitamins and minerals which are required in minute quantities.']\n",
      "\n",
      "Retrived answer: ['Macronutrients mainly include carbohydrates, proteins and fats and also water which are required in large quantities and their main function being the release of energy in body.Whereas, micronutrients mainly comprise vitamins and minerals which are required in minute quantities.']\n"
     ]
    }
   ],
   "source": [
    "idx = 0\n",
    "row = df_wf.iloc[idx]\n",
    "print(f\"Question: {row.question}\", end=\"\\n\\n\")\n",
    "print(\n",
    "    f\"Well-formed answer: {string_parser.parse_answers(row.wellFormedAnswers)}\",\n",
    "    end=\"\\n\\n\",\n",
    ")\n",
    "print(f\"Retrived answer: {string_parser.parse_answers(row.answers)}\")\n"
   ]
  },
  {
   "attachments": {},
   "cell_type": "markdown",
   "metadata": {},
   "source": [
    "However, for this task well-formed answer are excluded because we are interested only in retrieved answers, in this way the classification is for span texts.\n"
   ]
  },
  {
   "attachments": {},
   "cell_type": "markdown",
   "metadata": {},
   "source": [
    "### Number of answers\n",
    "\n",
    "The number of answers for the majority of questions is one. However, some questions have more than an answer, but we are not interested in those questions because our model would be too complicated.\n"
   ]
  },
  {
   "attachments": {},
   "cell_type": "markdown",
   "metadata": {},
   "source": [
    "How many answers in the column 'answers'. We should expect only 1 answer.\n"
   ]
  },
  {
   "cell_type": "code",
   "execution_count": 6,
   "metadata": {},
   "outputs": [
    {
     "name": "stdout",
     "output_type": "stream",
     "text": [
      "Number of answers for the same question: [1, 2, 3]\n"
     ]
    }
   ],
   "source": [
    "answers_length = df.answers.apply(lambda x: len(string_parser.parse_answers(x)))\n",
    "print(f\"Number of answers for the same question: {sorted(answers_length.unique())}\")\n"
   ]
  },
  {
   "attachments": {},
   "cell_type": "markdown",
   "metadata": {},
   "source": [
    "However, some questions have two answers, while only two has three answers. Fortunately, these numbers are small compared to the size of the dataset, in fact the majority of questions have only one answer.\n",
    "\n",
    "- 1 answer: 39818\n",
    "- 2 answers: 614\n",
    "- 3 answers: 2\n"
   ]
  },
  {
   "cell_type": "code",
   "execution_count": 7,
   "metadata": {},
   "outputs": [
    {
     "data": {
      "text/plain": [
       "1    39818\n",
       "2      614\n",
       "3        2\n",
       "Name: answers, dtype: int64"
      ]
     },
     "execution_count": 7,
     "metadata": {},
     "output_type": "execute_result"
    }
   ],
   "source": [
    "answers_length.value_counts()\n"
   ]
  },
  {
   "attachments": {},
   "cell_type": "markdown",
   "metadata": {},
   "source": [
    "#### Question with two answers.\n"
   ]
  },
  {
   "cell_type": "code",
   "execution_count": 44,
   "metadata": {},
   "outputs": [
    {
     "data": {
      "text/html": [
       "<div>\n",
       "<style scoped>\n",
       "    .dataframe tbody tr th:only-of-type {\n",
       "        vertical-align: middle;\n",
       "    }\n",
       "\n",
       "    .dataframe tbody tr th {\n",
       "        vertical-align: top;\n",
       "    }\n",
       "\n",
       "    .dataframe thead th {\n",
       "        text-align: right;\n",
       "    }\n",
       "</style>\n",
       "<table border=\"1\" class=\"dataframe\">\n",
       "  <thead>\n",
       "    <tr style=\"text-align: right;\">\n",
       "      <th></th>\n",
       "      <th>question</th>\n",
       "      <th>query_id</th>\n",
       "      <th>wellFormedAnswers</th>\n",
       "      <th>passages</th>\n",
       "      <th>answers</th>\n",
       "      <th>query_type</th>\n",
       "    </tr>\n",
       "  </thead>\n",
       "  <tbody>\n",
       "    <tr>\n",
       "      <th>71</th>\n",
       "      <td>how much water should i drink each day?</td>\n",
       "      <td>330247</td>\n",
       "      <td>[]</td>\n",
       "      <td>[{'is_selected': 1, 'passage_text': 'The Harva...</td>\n",
       "      <td>['A 132-pound women needs to drink 41 ounces o...</td>\n",
       "      <td>NUMERIC</td>\n",
       "    </tr>\n",
       "    <tr>\n",
       "      <th>107</th>\n",
       "      <td>cost of shiplap compared to drywall</td>\n",
       "      <td>107016</td>\n",
       "      <td>['The cost of shiplap is between $25 and $50 p...</td>\n",
       "      <td>[{'is_selected': 1, 'passage_text': 'Shiplap s...</td>\n",
       "      <td>['$25 and $50 per hour', 'Shilpa boards cost $...</td>\n",
       "      <td>NUMERIC</td>\n",
       "    </tr>\n",
       "    <tr>\n",
       "      <th>129</th>\n",
       "      <td>is it ct or cst</td>\n",
       "      <td>413658</td>\n",
       "      <td>[]</td>\n",
       "      <td>[{'is_selected': 1, 'passage_text': 'The curre...</td>\n",
       "      <td>['Central Time is denote the local time in are...</td>\n",
       "      <td>DESCRIPTION</td>\n",
       "    </tr>\n",
       "    <tr>\n",
       "      <th>172</th>\n",
       "      <td>most advanced naval ships in the world</td>\n",
       "      <td>456321</td>\n",
       "      <td>['The Astute class submarine is the most advan...</td>\n",
       "      <td>[{'is_selected': 1, 'passage_text': 'Astute-cl...</td>\n",
       "      <td>['Astute-class submarines', 'Astute-class subm...</td>\n",
       "      <td>ENTITY</td>\n",
       "    </tr>\n",
       "    <tr>\n",
       "      <th>174</th>\n",
       "      <td>what foods are good for tonsillitis</td>\n",
       "      <td>660946</td>\n",
       "      <td>['Soft, bland foods such as pudding, applesauc...</td>\n",
       "      <td>[{'is_selected': 0, 'passage_text': 'Chilled d...</td>\n",
       "      <td>['Soft, bland foods such as pudding, applesauc...</td>\n",
       "      <td>ENTITY</td>\n",
       "    </tr>\n",
       "  </tbody>\n",
       "</table>\n",
       "</div>"
      ],
      "text/plain": [
       "                                    question  query_id  \\\n",
       "71   how much water should i drink each day?    330247   \n",
       "107      cost of shiplap compared to drywall    107016   \n",
       "129                          is it ct or cst    413658   \n",
       "172   most advanced naval ships in the world    456321   \n",
       "174      what foods are good for tonsillitis    660946   \n",
       "\n",
       "                                     wellFormedAnswers  \\\n",
       "71                                                  []   \n",
       "107  ['The cost of shiplap is between $25 and $50 p...   \n",
       "129                                                 []   \n",
       "172  ['The Astute class submarine is the most advan...   \n",
       "174  ['Soft, bland foods such as pudding, applesauc...   \n",
       "\n",
       "                                              passages  \\\n",
       "71   [{'is_selected': 1, 'passage_text': 'The Harva...   \n",
       "107  [{'is_selected': 1, 'passage_text': 'Shiplap s...   \n",
       "129  [{'is_selected': 1, 'passage_text': 'The curre...   \n",
       "172  [{'is_selected': 1, 'passage_text': 'Astute-cl...   \n",
       "174  [{'is_selected': 0, 'passage_text': 'Chilled d...   \n",
       "\n",
       "                                               answers   query_type  \n",
       "71   ['A 132-pound women needs to drink 41 ounces o...      NUMERIC  \n",
       "107  ['$25 and $50 per hour', 'Shilpa boards cost $...      NUMERIC  \n",
       "129  ['Central Time is denote the local time in are...  DESCRIPTION  \n",
       "172  ['Astute-class submarines', 'Astute-class subm...       ENTITY  \n",
       "174  ['Soft, bland foods such as pudding, applesauc...       ENTITY  "
      ]
     },
     "execution_count": 44,
     "metadata": {},
     "output_type": "execute_result"
    }
   ],
   "source": [
    "df_two = df[answers_length == 2]\n",
    "df_two.head()\n"
   ]
  },
  {
   "cell_type": "code",
   "execution_count": 45,
   "metadata": {},
   "outputs": [
    {
     "data": {
      "text/plain": [
       "['A 132-pound women needs to drink 41 ounces of water a day.',\n",
       " '8-ounce glasses']"
      ]
     },
     "execution_count": 45,
     "metadata": {},
     "output_type": "execute_result"
    }
   ],
   "source": [
    "string_parser.parse_answers(df.iloc[71].answers)\n"
   ]
  },
  {
   "attachments": {},
   "cell_type": "markdown",
   "metadata": {},
   "source": [
    "#### Question with three answers.\n",
    "\n",
    "Answers are not retrieved from the same passage text. In addition, the first answer refers to two different passage texts, while the other two answers aren't even retrieved from texts but are generated.\n"
   ]
  },
  {
   "cell_type": "code",
   "execution_count": 46,
   "metadata": {},
   "outputs": [
    {
     "data": {
      "text/html": [
       "<div>\n",
       "<style scoped>\n",
       "    .dataframe tbody tr th:only-of-type {\n",
       "        vertical-align: middle;\n",
       "    }\n",
       "\n",
       "    .dataframe tbody tr th {\n",
       "        vertical-align: top;\n",
       "    }\n",
       "\n",
       "    .dataframe thead th {\n",
       "        text-align: right;\n",
       "    }\n",
       "</style>\n",
       "<table border=\"1\" class=\"dataframe\">\n",
       "  <thead>\n",
       "    <tr style=\"text-align: right;\">\n",
       "      <th></th>\n",
       "      <th>question</th>\n",
       "      <th>query_id</th>\n",
       "      <th>wellFormedAnswers</th>\n",
       "      <th>passages</th>\n",
       "      <th>answers</th>\n",
       "      <th>query_type</th>\n",
       "    </tr>\n",
       "  </thead>\n",
       "  <tbody>\n",
       "    <tr>\n",
       "      <th>35043</th>\n",
       "      <td>benefits of cucumber and lemon water</td>\n",
       "      <td>50550</td>\n",
       "      <td>[]</td>\n",
       "      <td>[{'is_selected': 1, 'passage_text': 'As part o...</td>\n",
       "      <td>['Fights chronic diseases, such as coronary ar...</td>\n",
       "      <td>DESCRIPTION</td>\n",
       "    </tr>\n",
       "    <tr>\n",
       "      <th>38409</th>\n",
       "      <td>is flip or flop renewed</td>\n",
       "      <td>410309</td>\n",
       "      <td>[]</td>\n",
       "      <td>[{'is_selected': 0, 'passage_text': 'Flip or F...</td>\n",
       "      <td>['Yes, Flip or Flop Returns for Season.', 'Yes...</td>\n",
       "      <td>DESCRIPTION</td>\n",
       "    </tr>\n",
       "  </tbody>\n",
       "</table>\n",
       "</div>"
      ],
      "text/plain": [
       "                                   question  query_id wellFormedAnswers  \\\n",
       "35043  benefits of cucumber and lemon water     50550                []   \n",
       "38409               is flip or flop renewed    410309                []   \n",
       "\n",
       "                                                passages  \\\n",
       "35043  [{'is_selected': 1, 'passage_text': 'As part o...   \n",
       "38409  [{'is_selected': 0, 'passage_text': 'Flip or F...   \n",
       "\n",
       "                                                 answers   query_type  \n",
       "35043  ['Fights chronic diseases, such as coronary ar...  DESCRIPTION  \n",
       "38409  ['Yes, Flip or Flop Returns for Season.', 'Yes...  DESCRIPTION  "
      ]
     },
     "execution_count": 46,
     "metadata": {},
     "output_type": "execute_result"
    }
   ],
   "source": [
    "df_three = df[answers_length == 3]\n",
    "df_three.head()\n"
   ]
  },
  {
   "cell_type": "code",
   "execution_count": 47,
   "metadata": {},
   "outputs": [
    {
     "data": {
      "text/plain": [
       "['Fights chronic diseases, such as coronary artery disease. Supports brain cell communication, boosts collagen production to strengthen your tissues and also helps your body process cholesterol.',\n",
       " 'cucumber increase your vitamin K intake and Lemon water makes for a powerful detox drink.lemon juice helps to cleanse and alkalize the body.',\n",
       " 'Fights chronic diseases, increase your vitamin K,it providing a significant amount of pantothenic acid, also called vitamin B-5.']"
      ]
     },
     "execution_count": 47,
     "metadata": {},
     "output_type": "execute_result"
    }
   ],
   "source": [
    "string_parser.parse_answers(df.iloc[35043].answers)\n"
   ]
  },
  {
   "cell_type": "code",
   "execution_count": 48,
   "metadata": {},
   "outputs": [
    {
     "data": {
      "text/plain": [
       "['Yes, Flip or Flop Returns for Season.',\n",
       " 'Yes',\n",
       " \"Yes,HGTV has renewed its popular 'Flip or Flop' series.\"]"
      ]
     },
     "execution_count": 48,
     "metadata": {},
     "output_type": "execute_result"
    }
   ],
   "source": [
    "string_parser.parse_answers(df.iloc[38409].answers)\n"
   ]
  },
  {
   "attachments": {},
   "cell_type": "markdown",
   "metadata": {},
   "source": [
    "### Number of passages selected\n"
   ]
  },
  {
   "cell_type": "code",
   "execution_count": 8,
   "metadata": {},
   "outputs": [
    {
     "data": {
      "text/html": [
       "<div>\n",
       "<style scoped>\n",
       "    .dataframe tbody tr th:only-of-type {\n",
       "        vertical-align: middle;\n",
       "    }\n",
       "\n",
       "    .dataframe tbody tr th {\n",
       "        vertical-align: top;\n",
       "    }\n",
       "\n",
       "    .dataframe thead th {\n",
       "        text-align: right;\n",
       "    }\n",
       "</style>\n",
       "<table border=\"1\" class=\"dataframe\">\n",
       "  <thead>\n",
       "    <tr style=\"text-align: right;\">\n",
       "      <th></th>\n",
       "      <th>question</th>\n",
       "      <th>passages</th>\n",
       "      <th>answers</th>\n",
       "      <th>query_type</th>\n",
       "    </tr>\n",
       "  </thead>\n",
       "  <tbody>\n",
       "    <tr>\n",
       "      <th>0</th>\n",
       "      <td>is the atlanta airport the busiest in the world</td>\n",
       "      <td>0</td>\n",
       "      <td>['No Answer Present.']</td>\n",
       "      <td>LOCATION</td>\n",
       "    </tr>\n",
       "    <tr>\n",
       "      <th>1</th>\n",
       "      <td>most romantic hotels in bahamas</td>\n",
       "      <td>0</td>\n",
       "      <td>['No Answer Present.']</td>\n",
       "      <td>PERSON</td>\n",
       "    </tr>\n",
       "    <tr>\n",
       "      <th>2</th>\n",
       "      <td>benefits of a weaker dollar</td>\n",
       "      <td>1</td>\n",
       "      <td>['The Benefits of a Weak Dollar Despite expres...</td>\n",
       "      <td>DESCRIPTION</td>\n",
       "    </tr>\n",
       "    <tr>\n",
       "      <th>3</th>\n",
       "      <td>what distinguishes a macronutrient from a micr...</td>\n",
       "      <td>1</td>\n",
       "      <td>['Macronutrients mainly include carbohydrates,...</td>\n",
       "      <td>DESCRIPTION</td>\n",
       "    </tr>\n",
       "    <tr>\n",
       "      <th>4</th>\n",
       "      <td>united states postal service roseburg or</td>\n",
       "      <td>1</td>\n",
       "      <td>['It is located at the address 1304 Ne Cedar S...</td>\n",
       "      <td>DESCRIPTION</td>\n",
       "    </tr>\n",
       "  </tbody>\n",
       "</table>\n",
       "</div>"
      ],
      "text/plain": [
       "                                            question  passages  \\\n",
       "0    is the atlanta airport the busiest in the world         0   \n",
       "1                    most romantic hotels in bahamas         0   \n",
       "2                        benefits of a weaker dollar         1   \n",
       "3  what distinguishes a macronutrient from a micr...         1   \n",
       "4           united states postal service roseburg or         1   \n",
       "\n",
       "                                             answers   query_type  \n",
       "0                             ['No Answer Present.']     LOCATION  \n",
       "1                             ['No Answer Present.']       PERSON  \n",
       "2  ['The Benefits of a Weak Dollar Despite expres...  DESCRIPTION  \n",
       "3  ['Macronutrients mainly include carbohydrates,...  DESCRIPTION  \n",
       "4  ['It is located at the address 1304 Ne Cedar S...  DESCRIPTION  "
      ]
     },
     "execution_count": 8,
     "metadata": {},
     "output_type": "execute_result"
    }
   ],
   "source": [
    "def length_passages_sel(s: str, s_parser: StringParser):\n",
    "    dict_passages = s_parser.parse_passages(s)\n",
    "    return sum([p[\"is_selected\"] for p in dict_passages])\n",
    "\n",
    "\n",
    "df_copy = df.copy().drop(columns=[\"wellFormedAnswers\", \"query_id\"])\n",
    "df_copy.passages = df.passages.apply(lambda x: length_passages_sel(x, string_parser))\n",
    "df_copy.head()\n"
   ]
  },
  {
   "cell_type": "code",
   "execution_count": 9,
   "metadata": {},
   "outputs": [
    {
     "data": {
      "text/plain": [
       "passages\n",
       "1    20879\n",
       "0    16571\n",
       "2     2504\n",
       "3      365\n",
       "4       95\n",
       "5       15\n",
       "6        3\n",
       "7        2\n",
       "dtype: int64"
      ]
     },
     "execution_count": 9,
     "metadata": {},
     "output_type": "execute_result"
    }
   ],
   "source": [
    "df_copy.value_counts(subset=\"passages\")\n"
   ]
  },
  {
   "attachments": {},
   "cell_type": "markdown",
   "metadata": {},
   "source": [
    "### No answer present\n"
   ]
  },
  {
   "cell_type": "code",
   "execution_count": 10,
   "metadata": {},
   "outputs": [
    {
     "data": {
      "text/html": [
       "<div>\n",
       "<style scoped>\n",
       "    .dataframe tbody tr th:only-of-type {\n",
       "        vertical-align: middle;\n",
       "    }\n",
       "\n",
       "    .dataframe tbody tr th {\n",
       "        vertical-align: top;\n",
       "    }\n",
       "\n",
       "    .dataframe thead th {\n",
       "        text-align: right;\n",
       "    }\n",
       "</style>\n",
       "<table border=\"1\" class=\"dataframe\">\n",
       "  <thead>\n",
       "    <tr style=\"text-align: right;\">\n",
       "      <th></th>\n",
       "      <th>question</th>\n",
       "      <th>passages</th>\n",
       "      <th>answers</th>\n",
       "      <th>query_type</th>\n",
       "    </tr>\n",
       "  </thead>\n",
       "  <tbody>\n",
       "    <tr>\n",
       "      <th>0</th>\n",
       "      <td>is the atlanta airport the busiest in the world</td>\n",
       "      <td>True</td>\n",
       "      <td>True</td>\n",
       "      <td>LOCATION</td>\n",
       "    </tr>\n",
       "    <tr>\n",
       "      <th>1</th>\n",
       "      <td>most romantic hotels in bahamas</td>\n",
       "      <td>True</td>\n",
       "      <td>True</td>\n",
       "      <td>PERSON</td>\n",
       "    </tr>\n",
       "    <tr>\n",
       "      <th>2</th>\n",
       "      <td>benefits of a weaker dollar</td>\n",
       "      <td>False</td>\n",
       "      <td>False</td>\n",
       "      <td>DESCRIPTION</td>\n",
       "    </tr>\n",
       "    <tr>\n",
       "      <th>3</th>\n",
       "      <td>what distinguishes a macronutrient from a micr...</td>\n",
       "      <td>False</td>\n",
       "      <td>False</td>\n",
       "      <td>DESCRIPTION</td>\n",
       "    </tr>\n",
       "    <tr>\n",
       "      <th>4</th>\n",
       "      <td>united states postal service roseburg or</td>\n",
       "      <td>False</td>\n",
       "      <td>False</td>\n",
       "      <td>DESCRIPTION</td>\n",
       "    </tr>\n",
       "  </tbody>\n",
       "</table>\n",
       "</div>"
      ],
      "text/plain": [
       "                                            question  passages  answers  \\\n",
       "0    is the atlanta airport the busiest in the world      True     True   \n",
       "1                    most romantic hotels in bahamas      True     True   \n",
       "2                        benefits of a weaker dollar     False    False   \n",
       "3  what distinguishes a macronutrient from a micr...     False    False   \n",
       "4           united states postal service roseburg or     False    False   \n",
       "\n",
       "    query_type  \n",
       "0     LOCATION  \n",
       "1       PERSON  \n",
       "2  DESCRIPTION  \n",
       "3  DESCRIPTION  \n",
       "4  DESCRIPTION  "
      ]
     },
     "execution_count": 10,
     "metadata": {},
     "output_type": "execute_result"
    }
   ],
   "source": [
    "def no_answer_present(s: str, s_parser: StringParser):\n",
    "    list_answ = s_parser.parse_answers(s)\n",
    "    return len(list_answ) == 1 and (\n",
    "        list_answ[0] == \"No Answer Present.\" or len(list_answ[0]) == 0\n",
    "    )\n",
    "\n",
    "\n",
    "df_copy.passages = df_copy.passages.apply(lambda x: x == 0)\n",
    "df_copy.answers = df.answers.apply(lambda x: no_answer_present(x, string_parser))\n",
    "df_copy.head()\n"
   ]
  },
  {
   "attachments": {},
   "cell_type": "markdown",
   "metadata": {},
   "source": [
    "There are 23862 questions with an answer, while there are 16572 questions without an answer. The latter reflects a similar number of zero-passages questions (16571), the only difference is one question. This depicts that whenever none passages are selected then answers are not present.\n"
   ]
  },
  {
   "cell_type": "code",
   "execution_count": 11,
   "metadata": {},
   "outputs": [
    {
     "data": {
      "text/plain": [
       "False    23862\n",
       "True     16572\n",
       "Name: answers, dtype: int64"
      ]
     },
     "execution_count": 11,
     "metadata": {},
     "output_type": "execute_result"
    }
   ],
   "source": [
    "df_copy.answers.value_counts()\n"
   ]
  },
  {
   "attachments": {},
   "cell_type": "markdown",
   "metadata": {},
   "source": [
    "However, only one questions has a strange behaviour, i.e. it doesn't reflect that either passages selected and answers are zero or both are greater or equal than one.\n"
   ]
  },
  {
   "cell_type": "code",
   "execution_count": 12,
   "metadata": {},
   "outputs": [
    {
     "data": {
      "text/plain": [
       "True     40433\n",
       "False        1\n",
       "dtype: int64"
      ]
     },
     "execution_count": 12,
     "metadata": {},
     "output_type": "execute_result"
    }
   ],
   "source": [
    "# xor operation\n",
    "no_answer_passages = df_copy.apply(lambda x: not (x.passages ^ x.answers), axis=1)\n",
    "no_answer_passages.value_counts()\n"
   ]
  },
  {
   "attachments": {},
   "cell_type": "markdown",
   "metadata": {},
   "source": [
    "It is the question 28271. A passage is selected but no answer is present.\n"
   ]
  },
  {
   "cell_type": "code",
   "execution_count": 13,
   "metadata": {},
   "outputs": [
    {
     "data": {
      "text/plain": [
       "question                         best way to set up duvet cover on bed\n",
       "query_id                                                         52374\n",
       "wellFormedAnswers                                                   []\n",
       "passages             [{'is_selected': 0, 'passage_text': 'This beau...\n",
       "answers                                                           ['']\n",
       "Name: 28271, dtype: object"
      ]
     },
     "metadata": {},
     "output_type": "display_data"
    },
    {
     "name": "stdout",
     "output_type": "stream",
     "text": [
      "Question: best way to set up duvet cover on bed\n",
      "Passages selected: 1\n",
      "Answer: ['']\n"
     ]
    }
   ],
   "source": [
    "row = df.iloc[28271]\n",
    "display(row.head())\n",
    "\n",
    "print(f\"Question: {row.question}\")\n",
    "print(f\"Passages selected: {length_passages_sel(row.passages, string_parser)}\")\n",
    "print(f\"Answer: {string_parser.parse_answers(row.answers)}\")\n"
   ]
  },
  {
   "attachments": {},
   "cell_type": "markdown",
   "metadata": {},
   "source": [
    "### Selected passages w.r.t number of answers\n"
   ]
  },
  {
   "cell_type": "code",
   "execution_count": 14,
   "metadata": {},
   "outputs": [
    {
     "data": {
      "text/html": [
       "<div>\n",
       "<style scoped>\n",
       "    .dataframe tbody tr th:only-of-type {\n",
       "        vertical-align: middle;\n",
       "    }\n",
       "\n",
       "    .dataframe tbody tr th {\n",
       "        vertical-align: top;\n",
       "    }\n",
       "\n",
       "    .dataframe thead th {\n",
       "        text-align: right;\n",
       "    }\n",
       "</style>\n",
       "<table border=\"1\" class=\"dataframe\">\n",
       "  <thead>\n",
       "    <tr style=\"text-align: right;\">\n",
       "      <th></th>\n",
       "      <th>question</th>\n",
       "      <th>query_id</th>\n",
       "      <th>passages</th>\n",
       "      <th>answers</th>\n",
       "    </tr>\n",
       "  </thead>\n",
       "  <tbody>\n",
       "    <tr>\n",
       "      <th>0</th>\n",
       "      <td>is the atlanta airport the busiest in the world</td>\n",
       "      <td>1174762</td>\n",
       "      <td>0</td>\n",
       "      <td>0</td>\n",
       "    </tr>\n",
       "    <tr>\n",
       "      <th>1</th>\n",
       "      <td>most romantic hotels in bahamas</td>\n",
       "      <td>459200</td>\n",
       "      <td>0</td>\n",
       "      <td>0</td>\n",
       "    </tr>\n",
       "    <tr>\n",
       "      <th>2</th>\n",
       "      <td>benefits of a weaker dollar</td>\n",
       "      <td>50251</td>\n",
       "      <td>1</td>\n",
       "      <td>1</td>\n",
       "    </tr>\n",
       "    <tr>\n",
       "      <th>3</th>\n",
       "      <td>what distinguishes a macronutrient from a micr...</td>\n",
       "      <td>621519</td>\n",
       "      <td>1</td>\n",
       "      <td>1</td>\n",
       "    </tr>\n",
       "    <tr>\n",
       "      <th>4</th>\n",
       "      <td>united states postal service roseburg or</td>\n",
       "      <td>532464</td>\n",
       "      <td>1</td>\n",
       "      <td>1</td>\n",
       "    </tr>\n",
       "  </tbody>\n",
       "</table>\n",
       "</div>"
      ],
      "text/plain": [
       "                                            question  query_id  passages  \\\n",
       "0    is the atlanta airport the busiest in the world   1174762         0   \n",
       "1                    most romantic hotels in bahamas    459200         0   \n",
       "2                        benefits of a weaker dollar     50251         1   \n",
       "3  what distinguishes a macronutrient from a micr...    621519         1   \n",
       "4           united states postal service roseburg or    532464         1   \n",
       "\n",
       "   answers  \n",
       "0        0  \n",
       "1        0  \n",
       "2        1  \n",
       "3        1  \n",
       "4        1  "
      ]
     },
     "execution_count": 14,
     "metadata": {},
     "output_type": "execute_result"
    }
   ],
   "source": [
    "def number_of_answers(s: str, s_parser: StringParser):\n",
    "    list_answ = s_parser.parse_answers(s)\n",
    "    return (\n",
    "        0\n",
    "        if (list_answ[0] == \"No Answer Present.\" or len(list_answ[0]) == 0)\n",
    "        else len(list_answ)\n",
    "    )\n",
    "\n",
    "\n",
    "df_copy = df.copy().drop(columns=[\"wellFormedAnswers\", \"query_type\"])\n",
    "df_copy.passages = df.passages.apply(lambda x: length_passages_sel(x, string_parser))\n",
    "df_copy.answers = df.answers.apply(lambda x: number_of_answers(x, string_parser))\n",
    "\n",
    "df_copy.head()\n"
   ]
  },
  {
   "attachments": {},
   "cell_type": "markdown",
   "metadata": {},
   "source": [
    "Some questions have a different number of selected passages and number of answers. Maybe, some answers, even though they are in the same string, might belong to different passages.\n"
   ]
  },
  {
   "cell_type": "code",
   "execution_count": 15,
   "metadata": {},
   "outputs": [
    {
     "data": {
      "text/plain": [
       "True     37588\n",
       "False     2846\n",
       "dtype: int64"
      ]
     },
     "execution_count": 15,
     "metadata": {},
     "output_type": "execute_result"
    }
   ],
   "source": [
    "match_pas_answ = df_copy.apply(lambda x: x.passages == x.answers, axis=1)\n",
    "match_pas_answ.value_counts()\n"
   ]
  },
  {
   "attachments": {},
   "cell_type": "markdown",
   "metadata": {},
   "source": [
    "Inspect only the questions with one answer and see how many relevant passages are selected. Questions with only one passage selected are retrieved.\n"
   ]
  },
  {
   "cell_type": "code",
   "execution_count": 16,
   "metadata": {},
   "outputs": [
    {
     "data": {
      "text/plain": [
       "True     20674\n",
       "False     2572\n",
       "dtype: int64"
      ]
     },
     "execution_count": 16,
     "metadata": {},
     "output_type": "execute_result"
    }
   ],
   "source": [
    "match_pas_answ_1 = df_copy[df_copy.answers == 1].apply(\n",
    "    lambda x: x.passages == x.answers, axis=1\n",
    ")\n",
    "match_pas_answ_1.value_counts()\n"
   ]
  },
  {
   "attachments": {},
   "cell_type": "markdown",
   "metadata": {},
   "source": [
    "## Extract span texts\n"
   ]
  },
  {
   "cell_type": "code",
   "execution_count": 4,
   "metadata": {},
   "outputs": [
    {
     "data": {
      "text/html": [
       "<div>\n",
       "<style scoped>\n",
       "    .dataframe tbody tr th:only-of-type {\n",
       "        vertical-align: middle;\n",
       "    }\n",
       "\n",
       "    .dataframe tbody tr th {\n",
       "        vertical-align: top;\n",
       "    }\n",
       "\n",
       "    .dataframe thead th {\n",
       "        text-align: right;\n",
       "    }\n",
       "</style>\n",
       "<table border=\"1\" class=\"dataframe\">\n",
       "  <thead>\n",
       "    <tr style=\"text-align: right;\">\n",
       "      <th></th>\n",
       "      <th>question</th>\n",
       "      <th>query_id</th>\n",
       "      <th>passages</th>\n",
       "      <th>answers</th>\n",
       "      <th>query_type</th>\n",
       "    </tr>\n",
       "  </thead>\n",
       "  <tbody>\n",
       "    <tr>\n",
       "      <th>0</th>\n",
       "      <td>is the atlanta airport the busiest in the world</td>\n",
       "      <td>1174762</td>\n",
       "      <td>[{'is_selected': 0, 'passage_text': 'While Chi...</td>\n",
       "      <td>[]</td>\n",
       "      <td>LOCATION</td>\n",
       "    </tr>\n",
       "    <tr>\n",
       "      <th>1</th>\n",
       "      <td>most romantic hotels in bahamas</td>\n",
       "      <td>459200</td>\n",
       "      <td>[{'is_selected': 0, 'passage_text': 'Thank You...</td>\n",
       "      <td>[]</td>\n",
       "      <td>PERSON</td>\n",
       "    </tr>\n",
       "    <tr>\n",
       "      <th>2</th>\n",
       "      <td>time difference between finland and new york</td>\n",
       "      <td>520825</td>\n",
       "      <td>[{'is_selected': 0, 'passage_text': 'TURN ON T...</td>\n",
       "      <td>[]</td>\n",
       "      <td>DESCRIPTION</td>\n",
       "    </tr>\n",
       "    <tr>\n",
       "      <th>3</th>\n",
       "      <td>what are the different types of structural steel</td>\n",
       "      <td>569093</td>\n",
       "      <td>[{'is_selected': 0, 'passage_text': 'There are...</td>\n",
       "      <td>[]</td>\n",
       "      <td>DESCRIPTION</td>\n",
       "    </tr>\n",
       "    <tr>\n",
       "      <th>4</th>\n",
       "      <td>what are the two most common minerals located ...</td>\n",
       "      <td>575166</td>\n",
       "      <td>[{'is_selected': 0, 'passage_text': 'hey bro S...</td>\n",
       "      <td>[]</td>\n",
       "      <td>ENTITY</td>\n",
       "    </tr>\n",
       "  </tbody>\n",
       "</table>\n",
       "</div>"
      ],
      "text/plain": [
       "                                            question  query_id  \\\n",
       "0    is the atlanta airport the busiest in the world   1174762   \n",
       "1                    most romantic hotels in bahamas    459200   \n",
       "2       time difference between finland and new york    520825   \n",
       "3   what are the different types of structural steel    569093   \n",
       "4  what are the two most common minerals located ...    575166   \n",
       "\n",
       "                                            passages answers   query_type  \n",
       "0  [{'is_selected': 0, 'passage_text': 'While Chi...      []     LOCATION  \n",
       "1  [{'is_selected': 0, 'passage_text': 'Thank You...      []       PERSON  \n",
       "2  [{'is_selected': 0, 'passage_text': 'TURN ON T...      []  DESCRIPTION  \n",
       "3  [{'is_selected': 0, 'passage_text': 'There are...      []  DESCRIPTION  \n",
       "4  [{'is_selected': 0, 'passage_text': 'hey bro S...      []       ENTITY  "
      ]
     },
     "execution_count": 4,
     "metadata": {},
     "output_type": "execute_result"
    }
   ],
   "source": [
    "def pre_processing(df: pd.DataFrame, s_parser: StringParser):\n",
    "    # remove wellFormedAnswers column\n",
    "    df = df.drop(columns=[\"wellFormedAnswers\"])\n",
    "    # parsing of passages\n",
    "    df.passages = df.passages.apply(s_parser.parse_passages)\n",
    "    df.answers = df.answers.apply(s_parser.parse_answers)\n",
    "\n",
    "    selected_passages = df.passages.apply(\n",
    "        lambda x: sum([passage[\"is_selected\"] for passage in x])\n",
    "    )\n",
    "    n_answers = df.answers.apply(\n",
    "        lambda x: 0 if (x[0] == \"No Answer Present.\" or len(x[0]) == 0) else len(x)\n",
    "    )\n",
    "\n",
    "    df_zero = df[(n_answers == 0) & (selected_passages == 0)].copy()\n",
    "    df_ones = df[(n_answers == 1) & (selected_passages == 1)].copy()\n",
    "\n",
    "    # make no answer questions empty\n",
    "    df_zero.answers = df_zero.answers.apply(lambda x: [])\n",
    "    # kept only questions with same number of answers and selected passages (limited to 0, 1)\n",
    "    df = pd.concat([df_zero, df_ones], axis=0, ignore_index=True)\n",
    "\n",
    "    # removed rows where there are selected passages but no answers (or vice versa)\n",
    "    # df = df[~((selected_passages == 0) ^ (n_answers == 0))]\n",
    "    return df\n",
    "\n",
    "\n",
    "df_proc = pre_processing(df, string_parser)\n",
    "df_proc.head()\n"
   ]
  },
  {
   "cell_type": "code",
   "execution_count": 6,
   "metadata": {},
   "outputs": [
    {
     "data": {
      "text/plain": [
       "1    20674\n",
       "0    16571\n",
       "Name: answers, dtype: int64"
      ]
     },
     "execution_count": 6,
     "metadata": {},
     "output_type": "execute_result"
    }
   ],
   "source": [
    "df_proc.answers.map(len).value_counts()\n"
   ]
  },
  {
   "attachments": {},
   "cell_type": "markdown",
   "metadata": {},
   "source": [
    "There are 37245 rows.\n"
   ]
  },
  {
   "cell_type": "code",
   "execution_count": 7,
   "metadata": {},
   "outputs": [
    {
     "data": {
      "text/plain": [
       "question      37245\n",
       "query_id      37245\n",
       "passages      37245\n",
       "answers       37245\n",
       "query_type    37245\n",
       "dtype: int64"
      ]
     },
     "execution_count": 7,
     "metadata": {},
     "output_type": "execute_result"
    }
   ],
   "source": [
    "df_proc.count()\n"
   ]
  },
  {
   "attachments": {},
   "cell_type": "markdown",
   "metadata": {},
   "source": [
    "Distinct query types.\n"
   ]
  },
  {
   "cell_type": "code",
   "execution_count": 8,
   "metadata": {},
   "outputs": [
    {
     "data": {
      "text/plain": [
       "DESCRIPTION    18681\n",
       "ENTITY          8317\n",
       "NUMERIC         3840\n",
       "PERSON          3530\n",
       "LOCATION        2877\n",
       "Name: query_type, dtype: int64"
      ]
     },
     "execution_count": 8,
     "metadata": {},
     "output_type": "execute_result"
    }
   ],
   "source": [
    "df_proc.query_type.value_counts()\n"
   ]
  },
  {
   "attachments": {},
   "cell_type": "markdown",
   "metadata": {},
   "source": [
    "Look at passages.\n",
    "\n",
    "The retrieved answer is extracted from the selected passage, usually in the first position in the list of passages.\n"
   ]
  },
  {
   "cell_type": "code",
   "execution_count": 10,
   "metadata": {},
   "outputs": [
    {
     "name": "stdout",
     "output_type": "stream",
     "text": [
      "Question\n",
      "what animal undertakes the world's longest migration each year?\n",
      "\n",
      "Selected passages\n",
      "['The land animal that migrates the longest is the caribou, which travels about 700 miles. List of Animals that Migrate, Animal Migration List. African Elephant: It migrates to find food during the wet and drys seasons. American Buffalo: The American Buffalo is the heaviest land animal in North America. American Golden Plover: The American Golden Plover is a medium-sized shorebird.']\n",
      "\n",
      "Answers\n",
      "[\"Caribou animal undertakes the world's longest migration each year.\"]\n"
     ]
    }
   ],
   "source": [
    "idx = 18000\n",
    "\n",
    "print(\"Question\", df_proc.question[idx], sep=\"\\n\", end=\"\\n\\n\")\n",
    "print(\n",
    "    \"Selected passages\",\n",
    "    [p[\"passage_text\"] for p in df_proc.passages[idx] if p[\"is_selected\"]],\n",
    "    sep=\"\\n\",\n",
    "    end=\"\\n\\n\",\n",
    ")\n",
    "print(\"Answers\", df_proc.answers[idx], sep=\"\\n\")\n"
   ]
  },
  {
   "attachments": {},
   "cell_type": "markdown",
   "metadata": {},
   "source": [
    "To extract spans start/end, the retrieved answer is\n"
   ]
  },
  {
   "cell_type": "code",
   "execution_count": 168,
   "metadata": {},
   "outputs": [],
   "source": [
    "def get_span_text(answer: str, passage: str):\n",
    "    prog = re.compile(re.escape(answer))\n",
    "    res = prog.search(passage)\n",
    "\n",
    "    if res is not None:\n",
    "        start, end = res.start(), res.end()\n",
    "        assert passage[start:end] == answer\n",
    "        return (start, end)\n",
    "    return None\n",
    "\n",
    "\n",
    "def extract_spans(ser: pd.Series):\n",
    "    answers = ser.answers\n",
    "    passages = [p[\"passage_text\"] for p in ser.passages if p[\"is_selected\"]]\n",
    "\n",
    "    if len(passages) > 0:\n",
    "        assert len(passages) == 1\n",
    "\n",
    "        answer, passage = answers[0].lower(), passages[0].lower()\n",
    "        spans = get_span_text(answer, passage)\n",
    "        if spans is not None:\n",
    "            return [spans]\n",
    "        else:\n",
    "            multi_spans = list()\n",
    "            for ans in answer.split(\".\"):\n",
    "                if len(ans) > 0:\n",
    "                    start_i = multi_spans[-1][1] if len(multi_spans) > 0 else 0\n",
    "                    spans = get_span_text(ans, passage[start_i:])\n",
    "                    if spans is not None:\n",
    "                        multi_spans.append((start_i + spans[0], start_i + spans[1]))\n",
    "            return multi_spans if len(multi_spans) > 0 else None\n",
    "\n",
    "    return None\n"
   ]
  },
  {
   "cell_type": "code",
   "execution_count": 169,
   "metadata": {},
   "outputs": [
    {
     "data": {
      "text/html": [
       "<div>\n",
       "<style scoped>\n",
       "    .dataframe tbody tr th:only-of-type {\n",
       "        vertical-align: middle;\n",
       "    }\n",
       "\n",
       "    .dataframe tbody tr th {\n",
       "        vertical-align: top;\n",
       "    }\n",
       "\n",
       "    .dataframe thead th {\n",
       "        text-align: right;\n",
       "    }\n",
       "</style>\n",
       "<table border=\"1\" class=\"dataframe\">\n",
       "  <thead>\n",
       "    <tr style=\"text-align: right;\">\n",
       "      <th></th>\n",
       "      <th>question</th>\n",
       "      <th>query_id</th>\n",
       "      <th>passages</th>\n",
       "      <th>answers</th>\n",
       "      <th>query_type</th>\n",
       "      <th>spans</th>\n",
       "    </tr>\n",
       "  </thead>\n",
       "  <tbody>\n",
       "    <tr>\n",
       "      <th>0</th>\n",
       "      <td>is the atlanta airport the busiest in the world</td>\n",
       "      <td>1174762</td>\n",
       "      <td>[{'is_selected': 0, 'passage_text': 'While Chi...</td>\n",
       "      <td>[]</td>\n",
       "      <td>LOCATION</td>\n",
       "      <td>None</td>\n",
       "    </tr>\n",
       "    <tr>\n",
       "      <th>1</th>\n",
       "      <td>most romantic hotels in bahamas</td>\n",
       "      <td>459200</td>\n",
       "      <td>[{'is_selected': 0, 'passage_text': 'Thank You...</td>\n",
       "      <td>[]</td>\n",
       "      <td>PERSON</td>\n",
       "      <td>None</td>\n",
       "    </tr>\n",
       "    <tr>\n",
       "      <th>2</th>\n",
       "      <td>time difference between finland and new york</td>\n",
       "      <td>520825</td>\n",
       "      <td>[{'is_selected': 0, 'passage_text': 'TURN ON T...</td>\n",
       "      <td>[]</td>\n",
       "      <td>DESCRIPTION</td>\n",
       "      <td>None</td>\n",
       "    </tr>\n",
       "    <tr>\n",
       "      <th>3</th>\n",
       "      <td>what are the different types of structural steel</td>\n",
       "      <td>569093</td>\n",
       "      <td>[{'is_selected': 0, 'passage_text': 'There are...</td>\n",
       "      <td>[]</td>\n",
       "      <td>DESCRIPTION</td>\n",
       "      <td>None</td>\n",
       "    </tr>\n",
       "    <tr>\n",
       "      <th>4</th>\n",
       "      <td>what are the two most common minerals located ...</td>\n",
       "      <td>575166</td>\n",
       "      <td>[{'is_selected': 0, 'passage_text': 'hey bro S...</td>\n",
       "      <td>[]</td>\n",
       "      <td>ENTITY</td>\n",
       "      <td>None</td>\n",
       "    </tr>\n",
       "  </tbody>\n",
       "</table>\n",
       "</div>"
      ],
      "text/plain": [
       "                                            question  query_id  \\\n",
       "0    is the atlanta airport the busiest in the world   1174762   \n",
       "1                    most romantic hotels in bahamas    459200   \n",
       "2       time difference between finland and new york    520825   \n",
       "3   what are the different types of structural steel    569093   \n",
       "4  what are the two most common minerals located ...    575166   \n",
       "\n",
       "                                            passages answers   query_type  \\\n",
       "0  [{'is_selected': 0, 'passage_text': 'While Chi...      []     LOCATION   \n",
       "1  [{'is_selected': 0, 'passage_text': 'Thank You...      []       PERSON   \n",
       "2  [{'is_selected': 0, 'passage_text': 'TURN ON T...      []  DESCRIPTION   \n",
       "3  [{'is_selected': 0, 'passage_text': 'There are...      []  DESCRIPTION   \n",
       "4  [{'is_selected': 0, 'passage_text': 'hey bro S...      []       ENTITY   \n",
       "\n",
       "  spans  \n",
       "0  None  \n",
       "1  None  \n",
       "2  None  \n",
       "3  None  \n",
       "4  None  "
      ]
     },
     "execution_count": 169,
     "metadata": {},
     "output_type": "execute_result"
    }
   ],
   "source": [
    "df_proc = df_proc.assign(spans=None)\n",
    "df_proc.spans = df_proc.apply(extract_spans, axis=1)\n",
    "\n",
    "df_proc.head()"
   ]
  },
  {
   "attachments": {},
   "cell_type": "markdown",
   "metadata": {},
   "source": [
    "Spans extracted, they are 14841 out of ~20K\n"
   ]
  },
  {
   "cell_type": "code",
   "execution_count": 170,
   "metadata": {},
   "outputs": [
    {
     "data": {
      "text/html": [
       "<div>\n",
       "<style scoped>\n",
       "    .dataframe tbody tr th:only-of-type {\n",
       "        vertical-align: middle;\n",
       "    }\n",
       "\n",
       "    .dataframe tbody tr th {\n",
       "        vertical-align: top;\n",
       "    }\n",
       "\n",
       "    .dataframe thead th {\n",
       "        text-align: right;\n",
       "    }\n",
       "</style>\n",
       "<table border=\"1\" class=\"dataframe\">\n",
       "  <thead>\n",
       "    <tr style=\"text-align: right;\">\n",
       "      <th></th>\n",
       "      <th>question</th>\n",
       "      <th>query_id</th>\n",
       "      <th>passages</th>\n",
       "      <th>answers</th>\n",
       "      <th>query_type</th>\n",
       "      <th>spans</th>\n",
       "    </tr>\n",
       "  </thead>\n",
       "  <tbody>\n",
       "    <tr>\n",
       "      <th>16571</th>\n",
       "      <td>benefits of a weaker dollar</td>\n",
       "      <td>50251</td>\n",
       "      <td>[{'is_selected': 1, 'passage_text': 'The Benef...</td>\n",
       "      <td>[The Benefits of a Weak Dollar Despite express...</td>\n",
       "      <td>DESCRIPTION</td>\n",
       "      <td>[(0, 178)]</td>\n",
       "    </tr>\n",
       "    <tr>\n",
       "      <th>16572</th>\n",
       "      <td>what distinguishes a macronutrient from a micr...</td>\n",
       "      <td>621519</td>\n",
       "      <td>[{'is_selected': 1, 'passage_text': 'Macronutr...</td>\n",
       "      <td>[Macronutrients mainly include carbohydrates, ...</td>\n",
       "      <td>DESCRIPTION</td>\n",
       "      <td>[(199, 478)]</td>\n",
       "    </tr>\n",
       "    <tr>\n",
       "      <th>16574</th>\n",
       "      <td>what are the most common geriatric illness</td>\n",
       "      <td>571722</td>\n",
       "      <td>[{'is_selected': 0, 'passage_text': 'Often goi...</td>\n",
       "      <td>[Heart disease, stroke, cancer, and diabetes.]</td>\n",
       "      <td>ENTITY</td>\n",
       "      <td>[(170, 213)]</td>\n",
       "    </tr>\n",
       "    <tr>\n",
       "      <th>16575</th>\n",
       "      <td>what boundaries have the most earthquakes</td>\n",
       "      <td>579741</td>\n",
       "      <td>[{'is_selected': 0, 'passage_text': 'As the pl...</td>\n",
       "      <td>[Plate boundaries]</td>\n",
       "      <td>DESCRIPTION</td>\n",
       "      <td>[(26, 42)]</td>\n",
       "    </tr>\n",
       "    <tr>\n",
       "      <th>16576</th>\n",
       "      <td>are neurons or neuroglia bigger</td>\n",
       "      <td>23875</td>\n",
       "      <td>[{'is_selected': 1, 'passage_text': 'Glial cel...</td>\n",
       "      <td>[Neurons]</td>\n",
       "      <td>DESCRIPTION</td>\n",
       "      <td>[(231, 238)]</td>\n",
       "    </tr>\n",
       "    <tr>\n",
       "      <th>...</th>\n",
       "      <td>...</td>\n",
       "      <td>...</td>\n",
       "      <td>...</td>\n",
       "      <td>...</td>\n",
       "      <td>...</td>\n",
       "      <td>...</td>\n",
       "    </tr>\n",
       "    <tr>\n",
       "      <th>37234</th>\n",
       "      <td>biggest origami in the world</td>\n",
       "      <td>53335</td>\n",
       "      <td>[{'is_selected': 0, 'passage_text': '32 Record...</td>\n",
       "      <td>[Ninja Star Camden Scobey Camden S.]</td>\n",
       "      <td>DESCRIPTION</td>\n",
       "      <td>[(16, 50)]</td>\n",
       "    </tr>\n",
       "    <tr>\n",
       "      <th>37236</th>\n",
       "      <td>benefits of glucocil</td>\n",
       "      <td>50810</td>\n",
       "      <td>[{'is_selected': 0, 'passage_text': 'Sometimes...</td>\n",
       "      <td>[Glucocil works by reducing glucose production...</td>\n",
       "      <td>DESCRIPTION</td>\n",
       "      <td>[(0, 163)]</td>\n",
       "    </tr>\n",
       "    <tr>\n",
       "      <th>37242</th>\n",
       "      <td>difference between simple regression and multi...</td>\n",
       "      <td>148708</td>\n",
       "      <td>[{'is_selected': 0, 'passage_text': 'Let's exa...</td>\n",
       "      <td>[In simple linear regression a single independ...</td>\n",
       "      <td>DESCRIPTION</td>\n",
       "      <td>[(0, 230)]</td>\n",
       "    </tr>\n",
       "    <tr>\n",
       "      <th>37243</th>\n",
       "      <td>difference between longitudinal waves and tran...</td>\n",
       "      <td>147826</td>\n",
       "      <td>[{'is_selected': 0, 'passage_text': 'In a long...</td>\n",
       "      <td>[The difference between transverse and longitu...</td>\n",
       "      <td>DESCRIPTION</td>\n",
       "      <td>[(244, 329)]</td>\n",
       "    </tr>\n",
       "    <tr>\n",
       "      <th>37244</th>\n",
       "      <td>difference between discrete and process manufa...</td>\n",
       "      <td>147073</td>\n",
       "      <td>[{'is_selected': 0, 'passage_text': 'Needless ...</td>\n",
       "      <td>[Discrete manufacturing uses Complex Multileve...</td>\n",
       "      <td>DESCRIPTION</td>\n",
       "      <td>[(142, 257)]</td>\n",
       "    </tr>\n",
       "  </tbody>\n",
       "</table>\n",
       "<p>14841 rows × 6 columns</p>\n",
       "</div>"
      ],
      "text/plain": [
       "                                                question  query_id  \\\n",
       "16571                        benefits of a weaker dollar     50251   \n",
       "16572  what distinguishes a macronutrient from a micr...    621519   \n",
       "16574         what are the most common geriatric illness    571722   \n",
       "16575          what boundaries have the most earthquakes    579741   \n",
       "16576                    are neurons or neuroglia bigger     23875   \n",
       "...                                                  ...       ...   \n",
       "37234                       biggest origami in the world     53335   \n",
       "37236                               benefits of glucocil     50810   \n",
       "37242  difference between simple regression and multi...    148708   \n",
       "37243  difference between longitudinal waves and tran...    147826   \n",
       "37244  difference between discrete and process manufa...    147073   \n",
       "\n",
       "                                                passages  \\\n",
       "16571  [{'is_selected': 1, 'passage_text': 'The Benef...   \n",
       "16572  [{'is_selected': 1, 'passage_text': 'Macronutr...   \n",
       "16574  [{'is_selected': 0, 'passage_text': 'Often goi...   \n",
       "16575  [{'is_selected': 0, 'passage_text': 'As the pl...   \n",
       "16576  [{'is_selected': 1, 'passage_text': 'Glial cel...   \n",
       "...                                                  ...   \n",
       "37234  [{'is_selected': 0, 'passage_text': '32 Record...   \n",
       "37236  [{'is_selected': 0, 'passage_text': 'Sometimes...   \n",
       "37242  [{'is_selected': 0, 'passage_text': 'Let's exa...   \n",
       "37243  [{'is_selected': 0, 'passage_text': 'In a long...   \n",
       "37244  [{'is_selected': 0, 'passage_text': 'Needless ...   \n",
       "\n",
       "                                                 answers   query_type  \\\n",
       "16571  [The Benefits of a Weak Dollar Despite express...  DESCRIPTION   \n",
       "16572  [Macronutrients mainly include carbohydrates, ...  DESCRIPTION   \n",
       "16574     [Heart disease, stroke, cancer, and diabetes.]       ENTITY   \n",
       "16575                                 [Plate boundaries]  DESCRIPTION   \n",
       "16576                                          [Neurons]  DESCRIPTION   \n",
       "...                                                  ...          ...   \n",
       "37234               [Ninja Star Camden Scobey Camden S.]  DESCRIPTION   \n",
       "37236  [Glucocil works by reducing glucose production...  DESCRIPTION   \n",
       "37242  [In simple linear regression a single independ...  DESCRIPTION   \n",
       "37243  [The difference between transverse and longitu...  DESCRIPTION   \n",
       "37244  [Discrete manufacturing uses Complex Multileve...  DESCRIPTION   \n",
       "\n",
       "              spans  \n",
       "16571    [(0, 178)]  \n",
       "16572  [(199, 478)]  \n",
       "16574  [(170, 213)]  \n",
       "16575    [(26, 42)]  \n",
       "16576  [(231, 238)]  \n",
       "...             ...  \n",
       "37234    [(16, 50)]  \n",
       "37236    [(0, 163)]  \n",
       "37242    [(0, 230)]  \n",
       "37243  [(244, 329)]  \n",
       "37244  [(142, 257)]  \n",
       "\n",
       "[14841 rows x 6 columns]"
      ]
     },
     "execution_count": 170,
     "metadata": {},
     "output_type": "execute_result"
    }
   ],
   "source": [
    "df_proc[~df_proc.spans.isna()]"
   ]
  },
  {
   "attachments": {},
   "cell_type": "markdown",
   "metadata": {},
   "source": [
    "Questions where the answer is generated rather than being extracted as it is from the passage text. They can be dropped."
   ]
  },
  {
   "cell_type": "code",
   "execution_count": 171,
   "metadata": {},
   "outputs": [
    {
     "data": {
      "text/html": [
       "<div>\n",
       "<style scoped>\n",
       "    .dataframe tbody tr th:only-of-type {\n",
       "        vertical-align: middle;\n",
       "    }\n",
       "\n",
       "    .dataframe tbody tr th {\n",
       "        vertical-align: top;\n",
       "    }\n",
       "\n",
       "    .dataframe thead th {\n",
       "        text-align: right;\n",
       "    }\n",
       "</style>\n",
       "<table border=\"1\" class=\"dataframe\">\n",
       "  <thead>\n",
       "    <tr style=\"text-align: right;\">\n",
       "      <th></th>\n",
       "      <th>question</th>\n",
       "      <th>query_id</th>\n",
       "      <th>passages</th>\n",
       "      <th>answers</th>\n",
       "      <th>query_type</th>\n",
       "      <th>spans</th>\n",
       "    </tr>\n",
       "  </thead>\n",
       "  <tbody>\n",
       "    <tr>\n",
       "      <th>16573</th>\n",
       "      <td>united states postal service roseburg or</td>\n",
       "      <td>532464</td>\n",
       "      <td>[{'is_selected': 0, 'passage_text': 'United St...</td>\n",
       "      <td>[It is located at the address 1304 Ne Cedar St...</td>\n",
       "      <td>DESCRIPTION</td>\n",
       "      <td>None</td>\n",
       "    </tr>\n",
       "    <tr>\n",
       "      <th>16577</th>\n",
       "      <td>most reliable wifi router</td>\n",
       "      <td>459165</td>\n",
       "      <td>[{'is_selected': 0, 'passage_text': 'The Best ...</td>\n",
       "      <td>[Asus RT-AC3200 is the most reliable wifi rout...</td>\n",
       "      <td>DESCRIPTION</td>\n",
       "      <td>None</td>\n",
       "    </tr>\n",
       "    <tr>\n",
       "      <th>16580</th>\n",
       "      <td>benefits of salt water gargle</td>\n",
       "      <td>51196</td>\n",
       "      <td>[{'is_selected': 0, 'passage_text': 'A simple ...</td>\n",
       "      <td>[Salt water gargle may loosen thick mucus and ...</td>\n",
       "      <td>DESCRIPTION</td>\n",
       "      <td>None</td>\n",
       "    </tr>\n",
       "    <tr>\n",
       "      <th>16584</th>\n",
       "      <td>what is a good healthy seafood to eat?</td>\n",
       "      <td>685219</td>\n",
       "      <td>[{'is_selected': 0, 'passage_text': 'Dietary f...</td>\n",
       "      <td>[Shrimp, canned light tuna, salmon, pollock, o...</td>\n",
       "      <td>ENTITY</td>\n",
       "      <td>None</td>\n",
       "    </tr>\n",
       "    <tr>\n",
       "      <th>16585</th>\n",
       "      <td>is there a difference between a boil and an ab...</td>\n",
       "      <td>1174706</td>\n",
       "      <td>[{'is_selected': 0, 'passage_text': 'This is t...</td>\n",
       "      <td>[Yes, there is a difference between a boil and...</td>\n",
       "      <td>DESCRIPTION</td>\n",
       "      <td>None</td>\n",
       "    </tr>\n",
       "    <tr>\n",
       "      <th>...</th>\n",
       "      <td>...</td>\n",
       "      <td>...</td>\n",
       "      <td>...</td>\n",
       "      <td>...</td>\n",
       "      <td>...</td>\n",
       "      <td>...</td>\n",
       "    </tr>\n",
       "    <tr>\n",
       "      <th>37237</th>\n",
       "      <td>benefits of moringa ginger tea</td>\n",
       "      <td>51022</td>\n",
       "      <td>[{'is_selected': 0, 'passage_text': 'Organic M...</td>\n",
       "      <td>[It helps to soothe and calm your stomach and ...</td>\n",
       "      <td>DESCRIPTION</td>\n",
       "      <td>None</td>\n",
       "    </tr>\n",
       "    <tr>\n",
       "      <th>37238</th>\n",
       "      <td>biggest life insurance company in asia</td>\n",
       "      <td>53217</td>\n",
       "      <td>[{'is_selected': 0, 'passage_text': 'Top 10 Be...</td>\n",
       "      <td>[Japan Post Insurance company is the leading c...</td>\n",
       "      <td>PERSON</td>\n",
       "      <td>None</td>\n",
       "    </tr>\n",
       "    <tr>\n",
       "      <th>37239</th>\n",
       "      <td>are beignets the most famous product in new or...</td>\n",
       "      <td>21171</td>\n",
       "      <td>[{'is_selected': 0, 'passage_text': 'Cafe café...</td>\n",
       "      <td>[Yes]</td>\n",
       "      <td>DESCRIPTION</td>\n",
       "      <td>None</td>\n",
       "    </tr>\n",
       "    <tr>\n",
       "      <th>37240</th>\n",
       "      <td>do male jaguar cubs grow faster than females?</td>\n",
       "      <td>1101282</td>\n",
       "      <td>[{'is_selected': 0, 'passage_text': 'Jaguars a...</td>\n",
       "      <td>[Yes, male jaguar cubs grow faster than females.]</td>\n",
       "      <td>DESCRIPTION</td>\n",
       "      <td>None</td>\n",
       "    </tr>\n",
       "    <tr>\n",
       "      <th>37241</th>\n",
       "      <td>best clp for gun cleaning</td>\n",
       "      <td>51663</td>\n",
       "      <td>[{'is_selected': 0, 'passage_text': 'Breakfree...</td>\n",
       "      <td>[Oil,Ace Silicone Grease,Archoil AR4200,ATF – ...</td>\n",
       "      <td>DESCRIPTION</td>\n",
       "      <td>None</td>\n",
       "    </tr>\n",
       "  </tbody>\n",
       "</table>\n",
       "<p>5833 rows × 6 columns</p>\n",
       "</div>"
      ],
      "text/plain": [
       "                                                question  query_id  \\\n",
       "16573           united states postal service roseburg or    532464   \n",
       "16577                          most reliable wifi router    459165   \n",
       "16580                      benefits of salt water gargle     51196   \n",
       "16584             what is a good healthy seafood to eat?    685219   \n",
       "16585  is there a difference between a boil and an ab...   1174706   \n",
       "...                                                  ...       ...   \n",
       "37237                     benefits of moringa ginger tea     51022   \n",
       "37238             biggest life insurance company in asia     53217   \n",
       "37239  are beignets the most famous product in new or...     21171   \n",
       "37240      do male jaguar cubs grow faster than females?   1101282   \n",
       "37241                          best clp for gun cleaning     51663   \n",
       "\n",
       "                                                passages  \\\n",
       "16573  [{'is_selected': 0, 'passage_text': 'United St...   \n",
       "16577  [{'is_selected': 0, 'passage_text': 'The Best ...   \n",
       "16580  [{'is_selected': 0, 'passage_text': 'A simple ...   \n",
       "16584  [{'is_selected': 0, 'passage_text': 'Dietary f...   \n",
       "16585  [{'is_selected': 0, 'passage_text': 'This is t...   \n",
       "...                                                  ...   \n",
       "37237  [{'is_selected': 0, 'passage_text': 'Organic M...   \n",
       "37238  [{'is_selected': 0, 'passage_text': 'Top 10 Be...   \n",
       "37239  [{'is_selected': 0, 'passage_text': 'Cafe café...   \n",
       "37240  [{'is_selected': 0, 'passage_text': 'Jaguars a...   \n",
       "37241  [{'is_selected': 0, 'passage_text': 'Breakfree...   \n",
       "\n",
       "                                                 answers   query_type spans  \n",
       "16573  [It is located at the address 1304 Ne Cedar St...  DESCRIPTION  None  \n",
       "16577  [Asus RT-AC3200 is the most reliable wifi rout...  DESCRIPTION  None  \n",
       "16580  [Salt water gargle may loosen thick mucus and ...  DESCRIPTION  None  \n",
       "16584  [Shrimp, canned light tuna, salmon, pollock, o...       ENTITY  None  \n",
       "16585  [Yes, there is a difference between a boil and...  DESCRIPTION  None  \n",
       "...                                                  ...          ...   ...  \n",
       "37237  [It helps to soothe and calm your stomach and ...  DESCRIPTION  None  \n",
       "37238  [Japan Post Insurance company is the leading c...       PERSON  None  \n",
       "37239                                              [Yes]  DESCRIPTION  None  \n",
       "37240  [Yes, male jaguar cubs grow faster than females.]  DESCRIPTION  None  \n",
       "37241  [Oil,Ace Silicone Grease,Archoil AR4200,ATF – ...  DESCRIPTION  None  \n",
       "\n",
       "[5833 rows x 6 columns]"
      ]
     },
     "execution_count": 171,
     "metadata": {},
     "output_type": "execute_result"
    }
   ],
   "source": [
    "df_proc[(df_proc.spans.isna()) & (df_proc.answers.map(len) > 0)]"
   ]
  },
  {
   "attachments": {},
   "cell_type": "markdown",
   "metadata": {},
   "source": [
    "Questions with more than one answer retrieved from the same document. They are 733 out of 14841."
   ]
  },
  {
   "cell_type": "code",
   "execution_count": 172,
   "metadata": {},
   "outputs": [
    {
     "data": {
      "text/html": [
       "<div>\n",
       "<style scoped>\n",
       "    .dataframe tbody tr th:only-of-type {\n",
       "        vertical-align: middle;\n",
       "    }\n",
       "\n",
       "    .dataframe tbody tr th {\n",
       "        vertical-align: top;\n",
       "    }\n",
       "\n",
       "    .dataframe thead th {\n",
       "        text-align: right;\n",
       "    }\n",
       "</style>\n",
       "<table border=\"1\" class=\"dataframe\">\n",
       "  <thead>\n",
       "    <tr style=\"text-align: right;\">\n",
       "      <th></th>\n",
       "      <th>question</th>\n",
       "      <th>query_id</th>\n",
       "      <th>passages</th>\n",
       "      <th>answers</th>\n",
       "      <th>query_type</th>\n",
       "      <th>spans</th>\n",
       "    </tr>\n",
       "  </thead>\n",
       "  <tbody>\n",
       "    <tr>\n",
       "      <th>16581</th>\n",
       "      <td>what are lpns vs rn</td>\n",
       "      <td>561290</td>\n",
       "      <td>[{'is_selected': 0, 'passage_text': 'The argum...</td>\n",
       "      <td>[RNs tend to have more responsibilities and in...</td>\n",
       "      <td>DESCRIPTION</td>\n",
       "      <td>[(15, 97), (101, 151), (155, 211), (213, 245)]</td>\n",
       "    </tr>\n",
       "    <tr>\n",
       "      <th>16661</th>\n",
       "      <td>carbon has 3 isotopes with mass numbers of 12,...</td>\n",
       "      <td>82557</td>\n",
       "      <td>[{'is_selected': 0, 'passage_text': 'The numbe...</td>\n",
       "      <td>[Carbon-12 is the most common isotope of carbo...</td>\n",
       "      <td>DESCRIPTION</td>\n",
       "      <td>[(0, 46), (47, 86), (87, 153)]</td>\n",
       "    </tr>\n",
       "    <tr>\n",
       "      <th>16669</th>\n",
       "      <td>how big is the biggest gorilla</td>\n",
       "      <td>209354</td>\n",
       "      <td>[{'is_selected': 0, 'passage_text': 'He weighe...</td>\n",
       "      <td>[The maximum size of a male gorilla can be ove...</td>\n",
       "      <td>NUMERIC</td>\n",
       "      <td>[(46, 114), (115, 138)]</td>\n",
       "    </tr>\n",
       "    <tr>\n",
       "      <th>16671</th>\n",
       "      <td>least amount of taper is</td>\n",
       "      <td>1174212</td>\n",
       "      <td>[{'is_selected': 1, 'passage_text': 'Not all 9...</td>\n",
       "      <td>[The least amount of average taper was 0.0065-...</td>\n",
       "      <td>NUMERIC</td>\n",
       "      <td>[(345, 384), (385, 415)]</td>\n",
       "    </tr>\n",
       "    <tr>\n",
       "      <th>16708</th>\n",
       "      <td>what is difference between a lander and rover</td>\n",
       "      <td>739379</td>\n",
       "      <td>[{'is_selected': 0, 'passage_text': 'Spacecraf...</td>\n",
       "      <td>[The lander is the part of the craft that brea...</td>\n",
       "      <td>DESCRIPTION</td>\n",
       "      <td>[(14, 108), (192, 246)]</td>\n",
       "    </tr>\n",
       "    <tr>\n",
       "      <th>...</th>\n",
       "      <td>...</td>\n",
       "      <td>...</td>\n",
       "      <td>...</td>\n",
       "      <td>...</td>\n",
       "      <td>...</td>\n",
       "      <td>...</td>\n",
       "    </tr>\n",
       "    <tr>\n",
       "      <th>37065</th>\n",
       "      <td>when to use ellipses correctly</td>\n",
       "      <td>956159</td>\n",
       "      <td>[{'is_selected': 0, 'passage_text': '2. When p...</td>\n",
       "      <td>[Use an ellipsis when omitting a word, phrase,...</td>\n",
       "      <td>DESCRIPTION</td>\n",
       "      <td>[(91, 183), (247, 321)]</td>\n",
       "    </tr>\n",
       "    <tr>\n",
       "      <th>37085</th>\n",
       "      <td>what's the difference between freeways and hig...</td>\n",
       "      <td>931710</td>\n",
       "      <td>[{'is_selected': 0, 'passage_text': 'Freeway i...</td>\n",
       "      <td>[A highway is a major road, paved, and most of...</td>\n",
       "      <td>DESCRIPTION</td>\n",
       "      <td>[(0, 97), (98, 131)]</td>\n",
       "    </tr>\n",
       "    <tr>\n",
       "      <th>37102</th>\n",
       "      <td>where is the greatest firefly display</td>\n",
       "      <td>995856</td>\n",
       "      <td>[{'is_selected': 0, 'passage_text': 'The night...</td>\n",
       "      <td>[In desert regions. They are most common in wa...</td>\n",
       "      <td>LOCATION</td>\n",
       "      <td>[(41, 58), (120, 214)]</td>\n",
       "    </tr>\n",
       "    <tr>\n",
       "      <th>37129</th>\n",
       "      <td>what is the ideal ph for carrots</td>\n",
       "      <td>825523</td>\n",
       "      <td>[{'is_selected': 0, 'passage_text': 'Urine pH ...</td>\n",
       "      <td>[The ideal ph for carrots is between 6.2 and 6...</td>\n",
       "      <td>NUMERIC</td>\n",
       "      <td>[(104, 111), (112, 113)]</td>\n",
       "    </tr>\n",
       "    <tr>\n",
       "      <th>37224</th>\n",
       "      <td>difference between static and dynamic</td>\n",
       "      <td>148799</td>\n",
       "      <td>[{'is_selected': 0, 'passage_text': 'In brief:...</td>\n",
       "      <td>[In physics, equilibrium refers to the state o...</td>\n",
       "      <td>DESCRIPTION</td>\n",
       "      <td>[(66, 201), (202, 273)]</td>\n",
       "    </tr>\n",
       "  </tbody>\n",
       "</table>\n",
       "<p>728 rows × 6 columns</p>\n",
       "</div>"
      ],
      "text/plain": [
       "                                                question  query_id  \\\n",
       "16581                                what are lpns vs rn    561290   \n",
       "16661  carbon has 3 isotopes with mass numbers of 12,...     82557   \n",
       "16669                     how big is the biggest gorilla    209354   \n",
       "16671                           least amount of taper is   1174212   \n",
       "16708      what is difference between a lander and rover    739379   \n",
       "...                                                  ...       ...   \n",
       "37065                     when to use ellipses correctly    956159   \n",
       "37085  what's the difference between freeways and hig...    931710   \n",
       "37102              where is the greatest firefly display    995856   \n",
       "37129                   what is the ideal ph for carrots    825523   \n",
       "37224              difference between static and dynamic    148799   \n",
       "\n",
       "                                                passages  \\\n",
       "16581  [{'is_selected': 0, 'passage_text': 'The argum...   \n",
       "16661  [{'is_selected': 0, 'passage_text': 'The numbe...   \n",
       "16669  [{'is_selected': 0, 'passage_text': 'He weighe...   \n",
       "16671  [{'is_selected': 1, 'passage_text': 'Not all 9...   \n",
       "16708  [{'is_selected': 0, 'passage_text': 'Spacecraf...   \n",
       "...                                                  ...   \n",
       "37065  [{'is_selected': 0, 'passage_text': '2. When p...   \n",
       "37085  [{'is_selected': 0, 'passage_text': 'Freeway i...   \n",
       "37102  [{'is_selected': 0, 'passage_text': 'The night...   \n",
       "37129  [{'is_selected': 0, 'passage_text': 'Urine pH ...   \n",
       "37224  [{'is_selected': 0, 'passage_text': 'In brief:...   \n",
       "\n",
       "                                                 answers   query_type  \\\n",
       "16581  [RNs tend to have more responsibilities and in...  DESCRIPTION   \n",
       "16661  [Carbon-12 is the most common isotope of carbo...  DESCRIPTION   \n",
       "16669  [The maximum size of a male gorilla can be ove...      NUMERIC   \n",
       "16671  [The least amount of average taper was 0.0065-...      NUMERIC   \n",
       "16708  [The lander is the part of the craft that brea...  DESCRIPTION   \n",
       "...                                                  ...          ...   \n",
       "37065  [Use an ellipsis when omitting a word, phrase,...  DESCRIPTION   \n",
       "37085  [A highway is a major road, paved, and most of...  DESCRIPTION   \n",
       "37102  [In desert regions. They are most common in wa...     LOCATION   \n",
       "37129  [The ideal ph for carrots is between 6.2 and 6...      NUMERIC   \n",
       "37224  [In physics, equilibrium refers to the state o...  DESCRIPTION   \n",
       "\n",
       "                                                spans  \n",
       "16581  [(15, 97), (101, 151), (155, 211), (213, 245)]  \n",
       "16661                  [(0, 46), (47, 86), (87, 153)]  \n",
       "16669                         [(46, 114), (115, 138)]  \n",
       "16671                        [(345, 384), (385, 415)]  \n",
       "16708                         [(14, 108), (192, 246)]  \n",
       "...                                               ...  \n",
       "37065                         [(91, 183), (247, 321)]  \n",
       "37085                            [(0, 97), (98, 131)]  \n",
       "37102                          [(41, 58), (120, 214)]  \n",
       "37129                        [(104, 111), (112, 113)]  \n",
       "37224                         [(66, 201), (202, 273)]  \n",
       "\n",
       "[728 rows x 6 columns]"
      ]
     },
     "execution_count": 172,
     "metadata": {},
     "output_type": "execute_result"
    }
   ],
   "source": [
    "df_multispan = df_proc[df_proc.spans.apply(lambda x: len(x) if isinstance(x, list) else 0) > 1]\n",
    "df_multispan"
   ]
  },
  {
   "attachments": {},
   "cell_type": "markdown",
   "metadata": {},
   "source": [
    "6 questions are not retrieved from a contingous part of text, hence they are discarded."
   ]
  },
  {
   "cell_type": "code",
   "execution_count": 173,
   "metadata": {},
   "outputs": [
    {
     "data": {
      "text/html": [
       "<div>\n",
       "<style scoped>\n",
       "    .dataframe tbody tr th:only-of-type {\n",
       "        vertical-align: middle;\n",
       "    }\n",
       "\n",
       "    .dataframe tbody tr th {\n",
       "        vertical-align: top;\n",
       "    }\n",
       "\n",
       "    .dataframe thead th {\n",
       "        text-align: right;\n",
       "    }\n",
       "</style>\n",
       "<table border=\"1\" class=\"dataframe\">\n",
       "  <thead>\n",
       "    <tr style=\"text-align: right;\">\n",
       "      <th></th>\n",
       "      <th>question</th>\n",
       "      <th>query_id</th>\n",
       "      <th>passages</th>\n",
       "      <th>answers</th>\n",
       "      <th>query_type</th>\n",
       "      <th>spans</th>\n",
       "    </tr>\n",
       "  </thead>\n",
       "  <tbody>\n",
       "    <tr>\n",
       "      <th>16581</th>\n",
       "      <td>what are lpns vs rn</td>\n",
       "      <td>561290</td>\n",
       "      <td>[{'is_selected': 0, 'passage_text': 'The argum...</td>\n",
       "      <td>[RNs tend to have more responsibilities and in...</td>\n",
       "      <td>DESCRIPTION</td>\n",
       "      <td>[(15, 97), (101, 151), (155, 211), (213, 245)]</td>\n",
       "    </tr>\n",
       "    <tr>\n",
       "      <th>16661</th>\n",
       "      <td>carbon has 3 isotopes with mass numbers of 12,...</td>\n",
       "      <td>82557</td>\n",
       "      <td>[{'is_selected': 0, 'passage_text': 'The numbe...</td>\n",
       "      <td>[Carbon-12 is the most common isotope of carbo...</td>\n",
       "      <td>DESCRIPTION</td>\n",
       "      <td>[(0, 46), (47, 86), (87, 153)]</td>\n",
       "    </tr>\n",
       "    <tr>\n",
       "      <th>16669</th>\n",
       "      <td>how big is the biggest gorilla</td>\n",
       "      <td>209354</td>\n",
       "      <td>[{'is_selected': 0, 'passage_text': 'He weighe...</td>\n",
       "      <td>[The maximum size of a male gorilla can be ove...</td>\n",
       "      <td>NUMERIC</td>\n",
       "      <td>[(46, 114), (115, 138)]</td>\n",
       "    </tr>\n",
       "    <tr>\n",
       "      <th>16671</th>\n",
       "      <td>least amount of taper is</td>\n",
       "      <td>1174212</td>\n",
       "      <td>[{'is_selected': 1, 'passage_text': 'Not all 9...</td>\n",
       "      <td>[The least amount of average taper was 0.0065-...</td>\n",
       "      <td>NUMERIC</td>\n",
       "      <td>[(345, 384), (385, 415)]</td>\n",
       "    </tr>\n",
       "    <tr>\n",
       "      <th>16708</th>\n",
       "      <td>what is difference between a lander and rover</td>\n",
       "      <td>739379</td>\n",
       "      <td>[{'is_selected': 0, 'passage_text': 'Spacecraf...</td>\n",
       "      <td>[The lander is the part of the craft that brea...</td>\n",
       "      <td>DESCRIPTION</td>\n",
       "      <td>[(14, 108), (192, 246)]</td>\n",
       "    </tr>\n",
       "    <tr>\n",
       "      <th>...</th>\n",
       "      <td>...</td>\n",
       "      <td>...</td>\n",
       "      <td>...</td>\n",
       "      <td>...</td>\n",
       "      <td>...</td>\n",
       "      <td>...</td>\n",
       "    </tr>\n",
       "    <tr>\n",
       "      <th>37065</th>\n",
       "      <td>when to use ellipses correctly</td>\n",
       "      <td>956159</td>\n",
       "      <td>[{'is_selected': 0, 'passage_text': '2. When p...</td>\n",
       "      <td>[Use an ellipsis when omitting a word, phrase,...</td>\n",
       "      <td>DESCRIPTION</td>\n",
       "      <td>[(91, 183), (247, 321)]</td>\n",
       "    </tr>\n",
       "    <tr>\n",
       "      <th>37085</th>\n",
       "      <td>what's the difference between freeways and hig...</td>\n",
       "      <td>931710</td>\n",
       "      <td>[{'is_selected': 0, 'passage_text': 'Freeway i...</td>\n",
       "      <td>[A highway is a major road, paved, and most of...</td>\n",
       "      <td>DESCRIPTION</td>\n",
       "      <td>[(0, 97), (98, 131)]</td>\n",
       "    </tr>\n",
       "    <tr>\n",
       "      <th>37102</th>\n",
       "      <td>where is the greatest firefly display</td>\n",
       "      <td>995856</td>\n",
       "      <td>[{'is_selected': 0, 'passage_text': 'The night...</td>\n",
       "      <td>[In desert regions. They are most common in wa...</td>\n",
       "      <td>LOCATION</td>\n",
       "      <td>[(41, 58), (120, 214)]</td>\n",
       "    </tr>\n",
       "    <tr>\n",
       "      <th>37129</th>\n",
       "      <td>what is the ideal ph for carrots</td>\n",
       "      <td>825523</td>\n",
       "      <td>[{'is_selected': 0, 'passage_text': 'Urine pH ...</td>\n",
       "      <td>[The ideal ph for carrots is between 6.2 and 6...</td>\n",
       "      <td>NUMERIC</td>\n",
       "      <td>[(104, 111), (112, 113)]</td>\n",
       "    </tr>\n",
       "    <tr>\n",
       "      <th>37224</th>\n",
       "      <td>difference between static and dynamic</td>\n",
       "      <td>148799</td>\n",
       "      <td>[{'is_selected': 0, 'passage_text': 'In brief:...</td>\n",
       "      <td>[In physics, equilibrium refers to the state o...</td>\n",
       "      <td>DESCRIPTION</td>\n",
       "      <td>[(66, 201), (202, 273)]</td>\n",
       "    </tr>\n",
       "  </tbody>\n",
       "</table>\n",
       "<p>722 rows × 6 columns</p>\n",
       "</div>"
      ],
      "text/plain": [
       "                                                question  query_id  \\\n",
       "16581                                what are lpns vs rn    561290   \n",
       "16661  carbon has 3 isotopes with mass numbers of 12,...     82557   \n",
       "16669                     how big is the biggest gorilla    209354   \n",
       "16671                           least amount of taper is   1174212   \n",
       "16708      what is difference between a lander and rover    739379   \n",
       "...                                                  ...       ...   \n",
       "37065                     when to use ellipses correctly    956159   \n",
       "37085  what's the difference between freeways and hig...    931710   \n",
       "37102              where is the greatest firefly display    995856   \n",
       "37129                   what is the ideal ph for carrots    825523   \n",
       "37224              difference between static and dynamic    148799   \n",
       "\n",
       "                                                passages  \\\n",
       "16581  [{'is_selected': 0, 'passage_text': 'The argum...   \n",
       "16661  [{'is_selected': 0, 'passage_text': 'The numbe...   \n",
       "16669  [{'is_selected': 0, 'passage_text': 'He weighe...   \n",
       "16671  [{'is_selected': 1, 'passage_text': 'Not all 9...   \n",
       "16708  [{'is_selected': 0, 'passage_text': 'Spacecraf...   \n",
       "...                                                  ...   \n",
       "37065  [{'is_selected': 0, 'passage_text': '2. When p...   \n",
       "37085  [{'is_selected': 0, 'passage_text': 'Freeway i...   \n",
       "37102  [{'is_selected': 0, 'passage_text': 'The night...   \n",
       "37129  [{'is_selected': 0, 'passage_text': 'Urine pH ...   \n",
       "37224  [{'is_selected': 0, 'passage_text': 'In brief:...   \n",
       "\n",
       "                                                 answers   query_type  \\\n",
       "16581  [RNs tend to have more responsibilities and in...  DESCRIPTION   \n",
       "16661  [Carbon-12 is the most common isotope of carbo...  DESCRIPTION   \n",
       "16669  [The maximum size of a male gorilla can be ove...      NUMERIC   \n",
       "16671  [The least amount of average taper was 0.0065-...      NUMERIC   \n",
       "16708  [The lander is the part of the craft that brea...  DESCRIPTION   \n",
       "...                                                  ...          ...   \n",
       "37065  [Use an ellipsis when omitting a word, phrase,...  DESCRIPTION   \n",
       "37085  [A highway is a major road, paved, and most of...  DESCRIPTION   \n",
       "37102  [In desert regions. They are most common in wa...     LOCATION   \n",
       "37129  [The ideal ph for carrots is between 6.2 and 6...      NUMERIC   \n",
       "37224  [In physics, equilibrium refers to the state o...  DESCRIPTION   \n",
       "\n",
       "                                                spans  \n",
       "16581  [(15, 97), (101, 151), (155, 211), (213, 245)]  \n",
       "16661                  [(0, 46), (47, 86), (87, 153)]  \n",
       "16669                         [(46, 114), (115, 138)]  \n",
       "16671                        [(345, 384), (385, 415)]  \n",
       "16708                         [(14, 108), (192, 246)]  \n",
       "...                                               ...  \n",
       "37065                         [(91, 183), (247, 321)]  \n",
       "37085                            [(0, 97), (98, 131)]  \n",
       "37102                          [(41, 58), (120, 214)]  \n",
       "37129                        [(104, 111), (112, 113)]  \n",
       "37224                         [(66, 201), (202, 273)]  \n",
       "\n",
       "[722 rows x 6 columns]"
      ]
     },
     "execution_count": 173,
     "metadata": {},
     "output_type": "execute_result"
    }
   ],
   "source": [
    "def compute_distances(spans: list[tuple[int]]):\n",
    "    return [b[0] - a[1] for a, b in zip(spans, spans[1:])]\n",
    "\n",
    "df_multispan = df_multispan[df_multispan.spans.apply(compute_distances).apply(lambda x: all(d > 0 for d in x))]\n",
    "df_multispan"
   ]
  },
  {
   "attachments": {},
   "cell_type": "markdown",
   "metadata": {},
   "source": [
    "Average distance distribution"
   ]
  },
  {
   "cell_type": "code",
   "execution_count": 174,
   "metadata": {},
   "outputs": [
    {
     "data": {
      "text/plain": [
       "count    722.000000\n",
       "mean      33.481341\n",
       "std       59.063849\n",
       "min        1.000000\n",
       "25%        1.000000\n",
       "50%        2.800000\n",
       "75%       42.375000\n",
       "max      371.000000\n",
       "Name: spans, dtype: float64"
      ]
     },
     "execution_count": 174,
     "metadata": {},
     "output_type": "execute_result"
    }
   ],
   "source": [
    "df_multispan.spans.map(compute_distances).map(np.mean).describe()"
   ]
  },
  {
   "cell_type": "code",
   "execution_count": 175,
   "metadata": {},
   "outputs": [
    {
     "data": {
      "image/png": "[encoded data removed]",
      "text/plain": [
       "<Figure size 1200x600 with 2 Axes>"
      ]
     },
     "metadata": {},
     "output_type": "display_data"
    }
   ],
   "source": [
    "fig, axs = plt.subplots(ncols=2, figsize=(12, 6))\n",
    "\n",
    "df_multispan.spans.apply(compute_distances).apply(np.mean).plot.box(ax=axs[0])\n",
    "\n",
    "distances = df_multispan.spans.apply(compute_distances).agg(np.sum)\n",
    "axs[1].boxplot(distances)\n",
    "\n",
    "axs[0].set_title(\"Average distance\")\n",
    "axs[1].set_title(\"Distance\")\n",
    "\n",
    "fig.show()"
   ]
  },
  {
   "cell_type": "code",
   "execution_count": 158,
   "metadata": {},
   "outputs": [
    {
     "data": {
      "text/html": [
       "<div>\n",
       "<style scoped>\n",
       "    .dataframe tbody tr th:only-of-type {\n",
       "        vertical-align: middle;\n",
       "    }\n",
       "\n",
       "    .dataframe tbody tr th {\n",
       "        vertical-align: top;\n",
       "    }\n",
       "\n",
       "    .dataframe thead th {\n",
       "        text-align: right;\n",
       "    }\n",
       "</style>\n",
       "<table border=\"1\" class=\"dataframe\">\n",
       "  <thead>\n",
       "    <tr style=\"text-align: right;\">\n",
       "      <th></th>\n",
       "      <th>question</th>\n",
       "      <th>query_id</th>\n",
       "      <th>passages</th>\n",
       "      <th>answers</th>\n",
       "      <th>query_type</th>\n",
       "      <th>spans</th>\n",
       "    </tr>\n",
       "  </thead>\n",
       "  <tbody>\n",
       "    <tr>\n",
       "      <th>19352</th>\n",
       "      <td>what is a b.a. vs b.s degree</td>\n",
       "      <td>1158893</td>\n",
       "      <td>[{'is_selected': 0, 'passage_text': 'The Bache...</td>\n",
       "      <td>[B.A. means Bachelor of Arts degree and B.S. m...</td>\n",
       "      <td>DESCRIPTION</td>\n",
       "      <td>[(0, 1), (2, 3), (9, 10)]</td>\n",
       "    </tr>\n",
       "    <tr>\n",
       "      <th>21185</th>\n",
       "      <td>what is trade difference between china and us</td>\n",
       "      <td>1148399</td>\n",
       "      <td>[{'is_selected': 0, 'passage_text': 'More info...</td>\n",
       "      <td>[The U.S. trade deficit with China is $347 bil...</td>\n",
       "      <td>DESCRIPTION</td>\n",
       "      <td>[(0, 5), (6, 7)]</td>\n",
       "    </tr>\n",
       "    <tr>\n",
       "      <th>22757</th>\n",
       "      <td>who is the best dermatologist</td>\n",
       "      <td>1039448</td>\n",
       "      <td>[{'is_selected': 0, 'passage_text': 'Our derma...</td>\n",
       "      <td>[Dr. Daniel Taheri.]</td>\n",
       "      <td>PERSON</td>\n",
       "      <td>[(0, 2), (3, 17)]</td>\n",
       "    </tr>\n",
       "    <tr>\n",
       "      <th>22952</th>\n",
       "      <td>who the top urologist affiliated with morristo...</td>\n",
       "      <td>1052848</td>\n",
       "      <td>[{'is_selected': 0, 'passage_text': 'Search or...</td>\n",
       "      <td>[Dr. Philip A. Serbin MD is the top urologist ...</td>\n",
       "      <td>PERSON</td>\n",
       "      <td>[(0, 2), (3, 12)]</td>\n",
       "    </tr>\n",
       "    <tr>\n",
       "      <th>27181</th>\n",
       "      <td>what was the bloodiest one day confrontation i...</td>\n",
       "      <td>919667</td>\n",
       "      <td>[{'is_selected': 0, 'passage_text': '150 years...</td>\n",
       "      <td>[Sept.17, 1862]</td>\n",
       "      <td>DESCRIPTION</td>\n",
       "      <td>[(2, 6), (8, 16)]</td>\n",
       "    </tr>\n",
       "    <tr>\n",
       "      <th>35659</th>\n",
       "      <td>what was et's favorite candy</td>\n",
       "      <td>1012863</td>\n",
       "      <td>[{'is_selected': 0, 'passage_text': 'The film ...</td>\n",
       "      <td>[E.T.'s favorite candy was Reese's Pieces.]</td>\n",
       "      <td>ENTITY</td>\n",
       "      <td>[(1, 2), (15, 16)]</td>\n",
       "    </tr>\n",
       "  </tbody>\n",
       "</table>\n",
       "</div>"
      ],
      "text/plain": [
       "                                                question  query_id  \\\n",
       "19352                       what is a b.a. vs b.s degree   1158893   \n",
       "21185      what is trade difference between china and us   1148399   \n",
       "22757                      who is the best dermatologist   1039448   \n",
       "22952  who the top urologist affiliated with morristo...   1052848   \n",
       "27181  what was the bloodiest one day confrontation i...    919667   \n",
       "35659                       what was et's favorite candy   1012863   \n",
       "\n",
       "                                                passages  \\\n",
       "19352  [{'is_selected': 0, 'passage_text': 'The Bache...   \n",
       "21185  [{'is_selected': 0, 'passage_text': 'More info...   \n",
       "22757  [{'is_selected': 0, 'passage_text': 'Our derma...   \n",
       "22952  [{'is_selected': 0, 'passage_text': 'Search or...   \n",
       "27181  [{'is_selected': 0, 'passage_text': '150 years...   \n",
       "35659  [{'is_selected': 0, 'passage_text': 'The film ...   \n",
       "\n",
       "                                                 answers   query_type  \\\n",
       "19352  [B.A. means Bachelor of Arts degree and B.S. m...  DESCRIPTION   \n",
       "21185  [The U.S. trade deficit with China is $347 bil...  DESCRIPTION   \n",
       "22757                               [Dr. Daniel Taheri.]       PERSON   \n",
       "22952  [Dr. Philip A. Serbin MD is the top urologist ...       PERSON   \n",
       "27181                                    [Sept.17, 1862]  DESCRIPTION   \n",
       "35659        [E.T.'s favorite candy was Reese's Pieces.]       ENTITY   \n",
       "\n",
       "                           spans  \n",
       "19352  [(0, 1), (2, 3), (9, 10)]  \n",
       "21185           [(0, 5), (6, 7)]  \n",
       "22757          [(0, 2), (3, 17)]  \n",
       "22952          [(0, 2), (3, 12)]  \n",
       "27181          [(2, 6), (8, 16)]  \n",
       "35659         [(1, 2), (15, 16)]  "
      ]
     },
     "execution_count": 158,
     "metadata": {},
     "output_type": "execute_result"
    }
   ],
   "source": [
    "df_multispan[df_multispan.spans.apply(lambda x: np.mean(x) < 10)]"
   ]
  },
  {
   "attachments": {},
   "cell_type": "markdown",
   "metadata": {},
   "source": [
    "## Other\n"
   ]
  },
  {
   "attachments": {},
   "cell_type": "markdown",
   "metadata": {},
   "source": [
    "# Preprocessing pipeline\n",
    "\n",
    "- [x] Drop `wellFormedAnswers` column\n",
    "- [ ] Drop row when `len(answers)`$>1$\n",
    "- [x] Drop row when either `''` or `No Answer Present.` is the answer and there is at least one passage selected (row 28271)\n"
   ]
  },
  {
   "attachments": {},
   "cell_type": "markdown",
   "metadata": {},
   "source": [
    "TODO\n",
    "\n",
    "- [ ] \"No Answer Present\" elements\n",
    "- [ ] Number of unique \"query_type\"\n"
   ]
  }
 ],
 "metadata": {
  "kernelspec": {
   "display_name": "pysci",
   "language": "python",
   "name": "python3"
  },
  "language_info": {
   "codemirror_mode": {
    "name": "ipython",
    "version": 3
   },
   "file_extension": ".py",
   "mimetype": "text/x-python",
   "name": "python",
   "nbconvert_exporter": "python",
   "pygments_lexer": "ipython3",
   "version": "3.10.6 (main, Oct  7 2022, 20:19:58) [GCC 11.2.0]"
  },
  "orig_nbformat": 4,
  "vscode": {
   "interpreter": {
    "hash": "bd4d4dc071430cb7377eda019ca70777a2da1723ff9a3eacefae41ce5c18d4b7"
   }
  }
 },
 "nbformat": 4,
 "nbformat_minor": 2
}
